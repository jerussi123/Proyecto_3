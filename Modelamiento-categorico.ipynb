{
 "cells": [
  {
   "cell_type": "markdown",
   "metadata": {},
   "source": [
    "# Modelamiento proyecto 3"
   ]
  },
  {
   "cell_type": "markdown",
   "metadata": {},
   "source": [
    "#### Primero traemos la data ya limpia de duplicados, nulls, outliers y variables que no aportan"
   ]
  },
  {
   "cell_type": "code",
   "execution_count": 1,
   "metadata": {},
   "outputs": [
    {
     "data": {
      "text/html": [
       "<div>\n",
       "<style scoped>\n",
       "    .dataframe tbody tr th:only-of-type {\n",
       "        vertical-align: middle;\n",
       "    }\n",
       "\n",
       "    .dataframe tbody tr th {\n",
       "        vertical-align: top;\n",
       "    }\n",
       "\n",
       "    .dataframe thead th {\n",
       "        text-align: right;\n",
       "    }\n",
       "</style>\n",
       "<table border=\"1\" class=\"dataframe\">\n",
       "  <thead>\n",
       "    <tr style=\"text-align: right;\">\n",
       "      <th></th>\n",
       "      <th>periodo</th>\n",
       "      <th>cole_area_ubicacion</th>\n",
       "      <th>cole_caracter</th>\n",
       "      <th>cole_genero</th>\n",
       "      <th>cole_jornada</th>\n",
       "      <th>cole_mcpio_ubicacion</th>\n",
       "      <th>cole_naturaleza</th>\n",
       "      <th>estu_genero</th>\n",
       "      <th>estu_mcpio_presentacion</th>\n",
       "      <th>estu_mcpio_reside</th>\n",
       "      <th>...</th>\n",
       "      <th>fami_tienecomputador</th>\n",
       "      <th>fami_tieneinternet</th>\n",
       "      <th>fami_tienelavadora</th>\n",
       "      <th>desemp_ingles</th>\n",
       "      <th>punt_ingles</th>\n",
       "      <th>punt_matematicas</th>\n",
       "      <th>punt_sociales_ciudadanas</th>\n",
       "      <th>punt_c_naturales</th>\n",
       "      <th>punt_lectura_critica</th>\n",
       "      <th>punt_global</th>\n",
       "    </tr>\n",
       "  </thead>\n",
       "  <tbody>\n",
       "    <tr>\n",
       "      <th>0</th>\n",
       "      <td>20142</td>\n",
       "      <td>RURAL</td>\n",
       "      <td>TECNICO</td>\n",
       "      <td>MIXTO</td>\n",
       "      <td>MANANA</td>\n",
       "      <td>SAN CAYETANO</td>\n",
       "      <td>OFICIAL</td>\n",
       "      <td>F</td>\n",
       "      <td>CUCUTA</td>\n",
       "      <td>SAN CAYETANO</td>\n",
       "      <td>...</td>\n",
       "      <td>No</td>\n",
       "      <td>No</td>\n",
       "      <td>No</td>\n",
       "      <td>A-</td>\n",
       "      <td>36.0</td>\n",
       "      <td>44.0</td>\n",
       "      <td>51.0</td>\n",
       "      <td>37.0</td>\n",
       "      <td>37.0</td>\n",
       "      <td>209.0</td>\n",
       "    </tr>\n",
       "    <tr>\n",
       "      <th>1</th>\n",
       "      <td>20194</td>\n",
       "      <td>URBANO</td>\n",
       "      <td>TECNICO/ACADEMICO</td>\n",
       "      <td>MIXTO</td>\n",
       "      <td>TARDE</td>\n",
       "      <td>ABREGO</td>\n",
       "      <td>OFICIAL</td>\n",
       "      <td>M</td>\n",
       "      <td>ABREGO</td>\n",
       "      <td>ABREGO</td>\n",
       "      <td>...</td>\n",
       "      <td>No</td>\n",
       "      <td>No</td>\n",
       "      <td>Si</td>\n",
       "      <td>A-</td>\n",
       "      <td>42.0</td>\n",
       "      <td>41.0</td>\n",
       "      <td>39.0</td>\n",
       "      <td>40.0</td>\n",
       "      <td>54.0</td>\n",
       "      <td>217.0</td>\n",
       "    </tr>\n",
       "    <tr>\n",
       "      <th>2</th>\n",
       "      <td>20152</td>\n",
       "      <td>RURAL</td>\n",
       "      <td>ACADEMICO</td>\n",
       "      <td>MIXTO</td>\n",
       "      <td>COMPLETA</td>\n",
       "      <td>PAMPLONITA</td>\n",
       "      <td>OFICIAL</td>\n",
       "      <td>M</td>\n",
       "      <td>PAMPLONA</td>\n",
       "      <td>PAMPLONITA</td>\n",
       "      <td>...</td>\n",
       "      <td>No</td>\n",
       "      <td>No</td>\n",
       "      <td>No</td>\n",
       "      <td>A-</td>\n",
       "      <td>38.0</td>\n",
       "      <td>62.0</td>\n",
       "      <td>45.0</td>\n",
       "      <td>57.0</td>\n",
       "      <td>48.0</td>\n",
       "      <td>259.0</td>\n",
       "    </tr>\n",
       "    <tr>\n",
       "      <th>3</th>\n",
       "      <td>20142</td>\n",
       "      <td>URBANO</td>\n",
       "      <td>TECNICO</td>\n",
       "      <td>MIXTO</td>\n",
       "      <td>COMPLETA</td>\n",
       "      <td>MUTISCUA</td>\n",
       "      <td>OFICIAL</td>\n",
       "      <td>F</td>\n",
       "      <td>PAMPLONA</td>\n",
       "      <td>MUTISCUA</td>\n",
       "      <td>...</td>\n",
       "      <td>No</td>\n",
       "      <td>No</td>\n",
       "      <td>Si</td>\n",
       "      <td>A1</td>\n",
       "      <td>58.0</td>\n",
       "      <td>58.0</td>\n",
       "      <td>56.0</td>\n",
       "      <td>60.0</td>\n",
       "      <td>58.0</td>\n",
       "      <td>290.0</td>\n",
       "    </tr>\n",
       "    <tr>\n",
       "      <th>4</th>\n",
       "      <td>20152</td>\n",
       "      <td>URBANO</td>\n",
       "      <td>TECNICO/ACADEMICO</td>\n",
       "      <td>MIXTO</td>\n",
       "      <td>MANANA</td>\n",
       "      <td>CUCUTA</td>\n",
       "      <td>OFICIAL</td>\n",
       "      <td>M</td>\n",
       "      <td>CUCUTA</td>\n",
       "      <td>CUCUTA</td>\n",
       "      <td>...</td>\n",
       "      <td>No</td>\n",
       "      <td>No</td>\n",
       "      <td>No</td>\n",
       "      <td>A-</td>\n",
       "      <td>41.0</td>\n",
       "      <td>46.0</td>\n",
       "      <td>44.0</td>\n",
       "      <td>46.0</td>\n",
       "      <td>49.0</td>\n",
       "      <td>229.0</td>\n",
       "    </tr>\n",
       "  </tbody>\n",
       "</table>\n",
       "<p>5 rows × 26 columns</p>\n",
       "</div>"
      ],
      "text/plain": [
       "   periodo cole_area_ubicacion      cole_caracter cole_genero cole_jornada  \\\n",
       "0    20142               RURAL            TECNICO       MIXTO       MANANA   \n",
       "1    20194              URBANO  TECNICO/ACADEMICO       MIXTO        TARDE   \n",
       "2    20152               RURAL          ACADEMICO       MIXTO     COMPLETA   \n",
       "3    20142              URBANO            TECNICO       MIXTO     COMPLETA   \n",
       "4    20152              URBANO  TECNICO/ACADEMICO       MIXTO       MANANA   \n",
       "\n",
       "  cole_mcpio_ubicacion cole_naturaleza estu_genero estu_mcpio_presentacion  \\\n",
       "0         SAN CAYETANO         OFICIAL           F                  CUCUTA   \n",
       "1               ABREGO         OFICIAL           M                  ABREGO   \n",
       "2           PAMPLONITA         OFICIAL           M                PAMPLONA   \n",
       "3             MUTISCUA         OFICIAL           F                PAMPLONA   \n",
       "4               CUCUTA         OFICIAL           M                  CUCUTA   \n",
       "\n",
       "  estu_mcpio_reside  ... fami_tienecomputador fami_tieneinternet  \\\n",
       "0      SAN CAYETANO  ...                   No                 No   \n",
       "1            ABREGO  ...                   No                 No   \n",
       "2        PAMPLONITA  ...                   No                 No   \n",
       "3          MUTISCUA  ...                   No                 No   \n",
       "4            CUCUTA  ...                   No                 No   \n",
       "\n",
       "  fami_tienelavadora desemp_ingles punt_ingles punt_matematicas  \\\n",
       "0                 No            A-        36.0             44.0   \n",
       "1                 Si            A-        42.0             41.0   \n",
       "2                 No            A-        38.0             62.0   \n",
       "3                 Si            A1        58.0             58.0   \n",
       "4                 No            A-        41.0             46.0   \n",
       "\n",
       "  punt_sociales_ciudadanas punt_c_naturales punt_lectura_critica punt_global  \n",
       "0                     51.0             37.0                 37.0       209.0  \n",
       "1                     39.0             40.0                 54.0       217.0  \n",
       "2                     45.0             57.0                 48.0       259.0  \n",
       "3                     56.0             60.0                 58.0       290.0  \n",
       "4                     44.0             46.0                 49.0       229.0  \n",
       "\n",
       "[5 rows x 26 columns]"
      ]
     },
     "execution_count": 1,
     "metadata": {},
     "output_type": "execute_result"
    }
   ],
   "source": [
    "import pandas as pd\n",
    "\n",
    "data_completa = pd.read_csv(\"datos_limpios.csv\")\n",
    "data_completa.head()"
   ]
  },
  {
   "cell_type": "code",
   "execution_count": 2,
   "metadata": {},
   "outputs": [
    {
     "data": {
      "text/html": [
       "<div>\n",
       "<style scoped>\n",
       "    .dataframe tbody tr th:only-of-type {\n",
       "        vertical-align: middle;\n",
       "    }\n",
       "\n",
       "    .dataframe tbody tr th {\n",
       "        vertical-align: top;\n",
       "    }\n",
       "\n",
       "    .dataframe thead th {\n",
       "        text-align: right;\n",
       "    }\n",
       "</style>\n",
       "<table border=\"1\" class=\"dataframe\">\n",
       "  <thead>\n",
       "    <tr style=\"text-align: right;\">\n",
       "      <th></th>\n",
       "      <th>count</th>\n",
       "      <th>unique</th>\n",
       "      <th>top</th>\n",
       "      <th>freq</th>\n",
       "    </tr>\n",
       "  </thead>\n",
       "  <tbody>\n",
       "    <tr>\n",
       "      <th>cole_area_ubicacion</th>\n",
       "      <td>88622</td>\n",
       "      <td>2</td>\n",
       "      <td>URBANO</td>\n",
       "      <td>81243</td>\n",
       "    </tr>\n",
       "    <tr>\n",
       "      <th>cole_caracter</th>\n",
       "      <td>88622</td>\n",
       "      <td>4</td>\n",
       "      <td>TECNICO/ACADEMICO</td>\n",
       "      <td>48900</td>\n",
       "    </tr>\n",
       "    <tr>\n",
       "      <th>cole_genero</th>\n",
       "      <td>88622</td>\n",
       "      <td>3</td>\n",
       "      <td>MIXTO</td>\n",
       "      <td>82755</td>\n",
       "    </tr>\n",
       "    <tr>\n",
       "      <th>cole_jornada</th>\n",
       "      <td>88622</td>\n",
       "      <td>6</td>\n",
       "      <td>MANANA</td>\n",
       "      <td>49278</td>\n",
       "    </tr>\n",
       "    <tr>\n",
       "      <th>cole_mcpio_ubicacion</th>\n",
       "      <td>88622</td>\n",
       "      <td>39</td>\n",
       "      <td>CUCUTA</td>\n",
       "      <td>49672</td>\n",
       "    </tr>\n",
       "    <tr>\n",
       "      <th>cole_naturaleza</th>\n",
       "      <td>88622</td>\n",
       "      <td>2</td>\n",
       "      <td>OFICIAL</td>\n",
       "      <td>65877</td>\n",
       "    </tr>\n",
       "    <tr>\n",
       "      <th>estu_genero</th>\n",
       "      <td>88622</td>\n",
       "      <td>2</td>\n",
       "      <td>F</td>\n",
       "      <td>48969</td>\n",
       "    </tr>\n",
       "    <tr>\n",
       "      <th>estu_mcpio_presentacion</th>\n",
       "      <td>88622</td>\n",
       "      <td>14</td>\n",
       "      <td>CUCUTA</td>\n",
       "      <td>53692</td>\n",
       "    </tr>\n",
       "    <tr>\n",
       "      <th>estu_mcpio_reside</th>\n",
       "      <td>88622</td>\n",
       "      <td>40</td>\n",
       "      <td>CUCUTA</td>\n",
       "      <td>49474</td>\n",
       "    </tr>\n",
       "    <tr>\n",
       "      <th>fami_cuartoshogar</th>\n",
       "      <td>88622</td>\n",
       "      <td>6</td>\n",
       "      <td>3</td>\n",
       "      <td>33936</td>\n",
       "    </tr>\n",
       "    <tr>\n",
       "      <th>fami_educacionmadre</th>\n",
       "      <td>88622</td>\n",
       "      <td>12</td>\n",
       "      <td>Secundaria (Bachillerato) completa</td>\n",
       "      <td>22306</td>\n",
       "    </tr>\n",
       "    <tr>\n",
       "      <th>fami_educacionpadre</th>\n",
       "      <td>88622</td>\n",
       "      <td>12</td>\n",
       "      <td>Primaria incompleta</td>\n",
       "      <td>20337</td>\n",
       "    </tr>\n",
       "    <tr>\n",
       "      <th>fami_estratovivienda</th>\n",
       "      <td>88622</td>\n",
       "      <td>7</td>\n",
       "      <td>Estrato 1</td>\n",
       "      <td>38658</td>\n",
       "    </tr>\n",
       "    <tr>\n",
       "      <th>fami_personashogar</th>\n",
       "      <td>88622</td>\n",
       "      <td>5</td>\n",
       "      <td>3 a 4</td>\n",
       "      <td>42360</td>\n",
       "    </tr>\n",
       "    <tr>\n",
       "      <th>fami_tieneautomovil</th>\n",
       "      <td>88622</td>\n",
       "      <td>2</td>\n",
       "      <td>No</td>\n",
       "      <td>68026</td>\n",
       "    </tr>\n",
       "    <tr>\n",
       "      <th>fami_tienecomputador</th>\n",
       "      <td>88622</td>\n",
       "      <td>2</td>\n",
       "      <td>Si</td>\n",
       "      <td>45987</td>\n",
       "    </tr>\n",
       "    <tr>\n",
       "      <th>fami_tieneinternet</th>\n",
       "      <td>88622</td>\n",
       "      <td>2</td>\n",
       "      <td>Si</td>\n",
       "      <td>46741</td>\n",
       "    </tr>\n",
       "    <tr>\n",
       "      <th>fami_tienelavadora</th>\n",
       "      <td>88622</td>\n",
       "      <td>2</td>\n",
       "      <td>Si</td>\n",
       "      <td>57360</td>\n",
       "    </tr>\n",
       "    <tr>\n",
       "      <th>desemp_ingles</th>\n",
       "      <td>88622</td>\n",
       "      <td>5</td>\n",
       "      <td>A-</td>\n",
       "      <td>39598</td>\n",
       "    </tr>\n",
       "  </tbody>\n",
       "</table>\n",
       "</div>"
      ],
      "text/plain": [
       "                         count unique                                 top  \\\n",
       "cole_area_ubicacion      88622      2                              URBANO   \n",
       "cole_caracter            88622      4                   TECNICO/ACADEMICO   \n",
       "cole_genero              88622      3                               MIXTO   \n",
       "cole_jornada             88622      6                              MANANA   \n",
       "cole_mcpio_ubicacion     88622     39                              CUCUTA   \n",
       "cole_naturaleza          88622      2                             OFICIAL   \n",
       "estu_genero              88622      2                                   F   \n",
       "estu_mcpio_presentacion  88622     14                              CUCUTA   \n",
       "estu_mcpio_reside        88622     40                              CUCUTA   \n",
       "fami_cuartoshogar        88622      6                                   3   \n",
       "fami_educacionmadre      88622     12  Secundaria (Bachillerato) completa   \n",
       "fami_educacionpadre      88622     12                 Primaria incompleta   \n",
       "fami_estratovivienda     88622      7                           Estrato 1   \n",
       "fami_personashogar       88622      5                               3 a 4   \n",
       "fami_tieneautomovil      88622      2                                  No   \n",
       "fami_tienecomputador     88622      2                                  Si   \n",
       "fami_tieneinternet       88622      2                                  Si   \n",
       "fami_tienelavadora       88622      2                                  Si   \n",
       "desemp_ingles            88622      5                                  A-   \n",
       "\n",
       "                          freq  \n",
       "cole_area_ubicacion      81243  \n",
       "cole_caracter            48900  \n",
       "cole_genero              82755  \n",
       "cole_jornada             49278  \n",
       "cole_mcpio_ubicacion     49672  \n",
       "cole_naturaleza          65877  \n",
       "estu_genero              48969  \n",
       "estu_mcpio_presentacion  53692  \n",
       "estu_mcpio_reside        49474  \n",
       "fami_cuartoshogar        33936  \n",
       "fami_educacionmadre      22306  \n",
       "fami_educacionpadre      20337  \n",
       "fami_estratovivienda     38658  \n",
       "fami_personashogar       42360  \n",
       "fami_tieneautomovil      68026  \n",
       "fami_tienecomputador     45987  \n",
       "fami_tieneinternet       46741  \n",
       "fami_tienelavadora       57360  \n",
       "desemp_ingles            39598  "
      ]
     },
     "execution_count": 2,
     "metadata": {},
     "output_type": "execute_result"
    }
   ],
   "source": [
    "data_completa.describe(include='object').transpose()"
   ]
  },
  {
   "cell_type": "markdown",
   "metadata": {},
   "source": [
    "#### Generamos nuestras variables dummies, para poder trabajar estos variables categoricas:"
   ]
  },
  {
   "cell_type": "code",
   "execution_count": 3,
   "metadata": {},
   "outputs": [
    {
     "data": {
      "text/html": [
       "<div>\n",
       "<style scoped>\n",
       "    .dataframe tbody tr th:only-of-type {\n",
       "        vertical-align: middle;\n",
       "    }\n",
       "\n",
       "    .dataframe tbody tr th {\n",
       "        vertical-align: top;\n",
       "    }\n",
       "\n",
       "    .dataframe thead th {\n",
       "        text-align: right;\n",
       "    }\n",
       "</style>\n",
       "<table border=\"1\" class=\"dataframe\">\n",
       "  <thead>\n",
       "    <tr style=\"text-align: right;\">\n",
       "      <th></th>\n",
       "      <th>periodo</th>\n",
       "      <th>punt_ingles</th>\n",
       "      <th>punt_matematicas</th>\n",
       "      <th>punt_sociales_ciudadanas</th>\n",
       "      <th>punt_c_naturales</th>\n",
       "      <th>punt_lectura_critica</th>\n",
       "      <th>punt_global</th>\n",
       "      <th>cole_area_ubicacion_URBANO</th>\n",
       "      <th>cole_caracter_NO APLICA</th>\n",
       "      <th>cole_caracter_TECNICO</th>\n",
       "      <th>...</th>\n",
       "      <th>fami_personashogar_7 a 8</th>\n",
       "      <th>fami_personashogar_9 o mas</th>\n",
       "      <th>fami_tieneautomovil_Si</th>\n",
       "      <th>fami_tienecomputador_Si</th>\n",
       "      <th>fami_tieneinternet_Si</th>\n",
       "      <th>fami_tienelavadora_Si</th>\n",
       "      <th>desemp_ingles_A1</th>\n",
       "      <th>desemp_ingles_A2</th>\n",
       "      <th>desemp_ingles_B+</th>\n",
       "      <th>desemp_ingles_B1</th>\n",
       "    </tr>\n",
       "  </thead>\n",
       "  <tbody>\n",
       "    <tr>\n",
       "      <th>0</th>\n",
       "      <td>20142</td>\n",
       "      <td>36</td>\n",
       "      <td>44</td>\n",
       "      <td>51</td>\n",
       "      <td>37</td>\n",
       "      <td>37</td>\n",
       "      <td>209</td>\n",
       "      <td>0</td>\n",
       "      <td>0</td>\n",
       "      <td>1</td>\n",
       "      <td>...</td>\n",
       "      <td>0</td>\n",
       "      <td>1</td>\n",
       "      <td>0</td>\n",
       "      <td>0</td>\n",
       "      <td>0</td>\n",
       "      <td>0</td>\n",
       "      <td>0</td>\n",
       "      <td>0</td>\n",
       "      <td>0</td>\n",
       "      <td>0</td>\n",
       "    </tr>\n",
       "    <tr>\n",
       "      <th>1</th>\n",
       "      <td>20194</td>\n",
       "      <td>42</td>\n",
       "      <td>41</td>\n",
       "      <td>39</td>\n",
       "      <td>40</td>\n",
       "      <td>54</td>\n",
       "      <td>217</td>\n",
       "      <td>1</td>\n",
       "      <td>0</td>\n",
       "      <td>0</td>\n",
       "      <td>...</td>\n",
       "      <td>0</td>\n",
       "      <td>0</td>\n",
       "      <td>1</td>\n",
       "      <td>0</td>\n",
       "      <td>0</td>\n",
       "      <td>1</td>\n",
       "      <td>0</td>\n",
       "      <td>0</td>\n",
       "      <td>0</td>\n",
       "      <td>0</td>\n",
       "    </tr>\n",
       "    <tr>\n",
       "      <th>2</th>\n",
       "      <td>20152</td>\n",
       "      <td>38</td>\n",
       "      <td>62</td>\n",
       "      <td>45</td>\n",
       "      <td>57</td>\n",
       "      <td>48</td>\n",
       "      <td>259</td>\n",
       "      <td>0</td>\n",
       "      <td>0</td>\n",
       "      <td>0</td>\n",
       "      <td>...</td>\n",
       "      <td>0</td>\n",
       "      <td>0</td>\n",
       "      <td>0</td>\n",
       "      <td>0</td>\n",
       "      <td>0</td>\n",
       "      <td>0</td>\n",
       "      <td>0</td>\n",
       "      <td>0</td>\n",
       "      <td>0</td>\n",
       "      <td>0</td>\n",
       "    </tr>\n",
       "    <tr>\n",
       "      <th>3</th>\n",
       "      <td>20142</td>\n",
       "      <td>58</td>\n",
       "      <td>58</td>\n",
       "      <td>56</td>\n",
       "      <td>60</td>\n",
       "      <td>58</td>\n",
       "      <td>290</td>\n",
       "      <td>1</td>\n",
       "      <td>0</td>\n",
       "      <td>1</td>\n",
       "      <td>...</td>\n",
       "      <td>0</td>\n",
       "      <td>0</td>\n",
       "      <td>1</td>\n",
       "      <td>0</td>\n",
       "      <td>0</td>\n",
       "      <td>1</td>\n",
       "      <td>1</td>\n",
       "      <td>0</td>\n",
       "      <td>0</td>\n",
       "      <td>0</td>\n",
       "    </tr>\n",
       "    <tr>\n",
       "      <th>4</th>\n",
       "      <td>20152</td>\n",
       "      <td>41</td>\n",
       "      <td>46</td>\n",
       "      <td>44</td>\n",
       "      <td>46</td>\n",
       "      <td>49</td>\n",
       "      <td>229</td>\n",
       "      <td>1</td>\n",
       "      <td>0</td>\n",
       "      <td>0</td>\n",
       "      <td>...</td>\n",
       "      <td>0</td>\n",
       "      <td>1</td>\n",
       "      <td>0</td>\n",
       "      <td>0</td>\n",
       "      <td>0</td>\n",
       "      <td>0</td>\n",
       "      <td>0</td>\n",
       "      <td>0</td>\n",
       "      <td>0</td>\n",
       "      <td>0</td>\n",
       "    </tr>\n",
       "    <tr>\n",
       "      <th>...</th>\n",
       "      <td>...</td>\n",
       "      <td>...</td>\n",
       "      <td>...</td>\n",
       "      <td>...</td>\n",
       "      <td>...</td>\n",
       "      <td>...</td>\n",
       "      <td>...</td>\n",
       "      <td>...</td>\n",
       "      <td>...</td>\n",
       "      <td>...</td>\n",
       "      <td>...</td>\n",
       "      <td>...</td>\n",
       "      <td>...</td>\n",
       "      <td>...</td>\n",
       "      <td>...</td>\n",
       "      <td>...</td>\n",
       "      <td>...</td>\n",
       "      <td>...</td>\n",
       "      <td>...</td>\n",
       "      <td>...</td>\n",
       "      <td>...</td>\n",
       "    </tr>\n",
       "    <tr>\n",
       "      <th>88617</th>\n",
       "      <td>20194</td>\n",
       "      <td>45</td>\n",
       "      <td>43</td>\n",
       "      <td>44</td>\n",
       "      <td>42</td>\n",
       "      <td>47</td>\n",
       "      <td>220</td>\n",
       "      <td>1</td>\n",
       "      <td>0</td>\n",
       "      <td>0</td>\n",
       "      <td>...</td>\n",
       "      <td>0</td>\n",
       "      <td>0</td>\n",
       "      <td>0</td>\n",
       "      <td>0</td>\n",
       "      <td>0</td>\n",
       "      <td>1</td>\n",
       "      <td>0</td>\n",
       "      <td>0</td>\n",
       "      <td>0</td>\n",
       "      <td>0</td>\n",
       "    </tr>\n",
       "    <tr>\n",
       "      <th>88618</th>\n",
       "      <td>20152</td>\n",
       "      <td>60</td>\n",
       "      <td>77</td>\n",
       "      <td>68</td>\n",
       "      <td>77</td>\n",
       "      <td>62</td>\n",
       "      <td>351</td>\n",
       "      <td>1</td>\n",
       "      <td>0</td>\n",
       "      <td>0</td>\n",
       "      <td>...</td>\n",
       "      <td>0</td>\n",
       "      <td>0</td>\n",
       "      <td>1</td>\n",
       "      <td>1</td>\n",
       "      <td>1</td>\n",
       "      <td>1</td>\n",
       "      <td>0</td>\n",
       "      <td>1</td>\n",
       "      <td>0</td>\n",
       "      <td>0</td>\n",
       "    </tr>\n",
       "    <tr>\n",
       "      <th>88619</th>\n",
       "      <td>20152</td>\n",
       "      <td>58</td>\n",
       "      <td>52</td>\n",
       "      <td>53</td>\n",
       "      <td>45</td>\n",
       "      <td>44</td>\n",
       "      <td>246</td>\n",
       "      <td>1</td>\n",
       "      <td>0</td>\n",
       "      <td>0</td>\n",
       "      <td>...</td>\n",
       "      <td>0</td>\n",
       "      <td>0</td>\n",
       "      <td>1</td>\n",
       "      <td>1</td>\n",
       "      <td>1</td>\n",
       "      <td>1</td>\n",
       "      <td>1</td>\n",
       "      <td>0</td>\n",
       "      <td>0</td>\n",
       "      <td>0</td>\n",
       "    </tr>\n",
       "    <tr>\n",
       "      <th>88620</th>\n",
       "      <td>20194</td>\n",
       "      <td>82</td>\n",
       "      <td>82</td>\n",
       "      <td>71</td>\n",
       "      <td>69</td>\n",
       "      <td>71</td>\n",
       "      <td>370</td>\n",
       "      <td>1</td>\n",
       "      <td>0</td>\n",
       "      <td>0</td>\n",
       "      <td>...</td>\n",
       "      <td>1</td>\n",
       "      <td>0</td>\n",
       "      <td>0</td>\n",
       "      <td>1</td>\n",
       "      <td>1</td>\n",
       "      <td>1</td>\n",
       "      <td>0</td>\n",
       "      <td>0</td>\n",
       "      <td>1</td>\n",
       "      <td>0</td>\n",
       "    </tr>\n",
       "    <tr>\n",
       "      <th>88621</th>\n",
       "      <td>20211</td>\n",
       "      <td>44</td>\n",
       "      <td>62</td>\n",
       "      <td>53</td>\n",
       "      <td>58</td>\n",
       "      <td>55</td>\n",
       "      <td>280</td>\n",
       "      <td>1</td>\n",
       "      <td>0</td>\n",
       "      <td>0</td>\n",
       "      <td>...</td>\n",
       "      <td>0</td>\n",
       "      <td>0</td>\n",
       "      <td>0</td>\n",
       "      <td>1</td>\n",
       "      <td>1</td>\n",
       "      <td>1</td>\n",
       "      <td>0</td>\n",
       "      <td>0</td>\n",
       "      <td>0</td>\n",
       "      <td>0</td>\n",
       "    </tr>\n",
       "  </tbody>\n",
       "</table>\n",
       "<p>88622 rows × 155 columns</p>\n",
       "</div>"
      ],
      "text/plain": [
       "       periodo  punt_ingles  punt_matematicas  punt_sociales_ciudadanas  \\\n",
       "0        20142           36                44                        51   \n",
       "1        20194           42                41                        39   \n",
       "2        20152           38                62                        45   \n",
       "3        20142           58                58                        56   \n",
       "4        20152           41                46                        44   \n",
       "...        ...          ...               ...                       ...   \n",
       "88617    20194           45                43                        44   \n",
       "88618    20152           60                77                        68   \n",
       "88619    20152           58                52                        53   \n",
       "88620    20194           82                82                        71   \n",
       "88621    20211           44                62                        53   \n",
       "\n",
       "       punt_c_naturales  punt_lectura_critica  punt_global  \\\n",
       "0                    37                    37          209   \n",
       "1                    40                    54          217   \n",
       "2                    57                    48          259   \n",
       "3                    60                    58          290   \n",
       "4                    46                    49          229   \n",
       "...                 ...                   ...          ...   \n",
       "88617                42                    47          220   \n",
       "88618                77                    62          351   \n",
       "88619                45                    44          246   \n",
       "88620                69                    71          370   \n",
       "88621                58                    55          280   \n",
       "\n",
       "       cole_area_ubicacion_URBANO  cole_caracter_NO APLICA  \\\n",
       "0                               0                        0   \n",
       "1                               1                        0   \n",
       "2                               0                        0   \n",
       "3                               1                        0   \n",
       "4                               1                        0   \n",
       "...                           ...                      ...   \n",
       "88617                           1                        0   \n",
       "88618                           1                        0   \n",
       "88619                           1                        0   \n",
       "88620                           1                        0   \n",
       "88621                           1                        0   \n",
       "\n",
       "       cole_caracter_TECNICO  ...  fami_personashogar_7 a 8  \\\n",
       "0                          1  ...                         0   \n",
       "1                          0  ...                         0   \n",
       "2                          0  ...                         0   \n",
       "3                          1  ...                         0   \n",
       "4                          0  ...                         0   \n",
       "...                      ...  ...                       ...   \n",
       "88617                      0  ...                         0   \n",
       "88618                      0  ...                         0   \n",
       "88619                      0  ...                         0   \n",
       "88620                      0  ...                         1   \n",
       "88621                      0  ...                         0   \n",
       "\n",
       "       fami_personashogar_9 o mas  fami_tieneautomovil_Si  \\\n",
       "0                               1                       0   \n",
       "1                               0                       1   \n",
       "2                               0                       0   \n",
       "3                               0                       1   \n",
       "4                               1                       0   \n",
       "...                           ...                     ...   \n",
       "88617                           0                       0   \n",
       "88618                           0                       1   \n",
       "88619                           0                       1   \n",
       "88620                           0                       0   \n",
       "88621                           0                       0   \n",
       "\n",
       "       fami_tienecomputador_Si  fami_tieneinternet_Si  fami_tienelavadora_Si  \\\n",
       "0                            0                      0                      0   \n",
       "1                            0                      0                      1   \n",
       "2                            0                      0                      0   \n",
       "3                            0                      0                      1   \n",
       "4                            0                      0                      0   \n",
       "...                        ...                    ...                    ...   \n",
       "88617                        0                      0                      1   \n",
       "88618                        1                      1                      1   \n",
       "88619                        1                      1                      1   \n",
       "88620                        1                      1                      1   \n",
       "88621                        1                      1                      1   \n",
       "\n",
       "       desemp_ingles_A1  desemp_ingles_A2  desemp_ingles_B+  desemp_ingles_B1  \n",
       "0                     0                 0                 0                 0  \n",
       "1                     0                 0                 0                 0  \n",
       "2                     0                 0                 0                 0  \n",
       "3                     1                 0                 0                 0  \n",
       "4                     0                 0                 0                 0  \n",
       "...                 ...               ...               ...               ...  \n",
       "88617                 0                 0                 0                 0  \n",
       "88618                 0                 1                 0                 0  \n",
       "88619                 1                 0                 0                 0  \n",
       "88620                 0                 0                 1                 0  \n",
       "88621                 0                 0                 0                 0  \n",
       "\n",
       "[88622 rows x 155 columns]"
      ]
     },
     "execution_count": 3,
     "metadata": {},
     "output_type": "execute_result"
    }
   ],
   "source": [
    "data_encoded = pd.get_dummies(data_completa, columns=['cole_area_ubicacion', 'cole_caracter', 'cole_genero', 'cole_jornada', 'cole_mcpio_ubicacion', \n",
    "                                                      'cole_naturaleza', 'estu_genero', 'estu_mcpio_presentacion', 'estu_mcpio_reside',\n",
    "                                                      'fami_cuartoshogar', 'fami_educacionmadre', 'fami_educacionpadre', 'fami_estratovivienda', \n",
    "                                                      'fami_personashogar', 'fami_tieneautomovil', 'fami_tienecomputador', 'fami_tieneinternet', \n",
    "                                                      'fami_tienelavadora', 'desemp_ingles'], drop_first=True)\n",
    "data_encoded = data_encoded.astype(int)\n",
    "data_encoded"
   ]
  },
  {
   "cell_type": "markdown",
   "metadata": {},
   "source": [
    "#### Generamos nuestro set de X y Y, sacamos las otras variables de salida que no usaremos para este modelo y tambien sacamos la variable de entrada periodo al ser una variable de tiempo"
   ]
  },
  {
   "cell_type": "code",
   "execution_count": 4,
   "metadata": {},
   "outputs": [
    {
     "name": "stdout",
     "output_type": "stream",
     "text": [
      "(88622, 148)\n",
      "(88622,)\n"
     ]
    },
    {
     "data": {
      "text/plain": [
       "0        0\n",
       "1        0\n",
       "2        1\n",
       "3        1\n",
       "4        0\n",
       "        ..\n",
       "88617    0\n",
       "88618    1\n",
       "88619    0\n",
       "88620    1\n",
       "88621    1\n",
       "Name: punt_global, Length: 88622, dtype: int32"
      ]
     },
     "execution_count": 4,
     "metadata": {},
     "output_type": "execute_result"
    }
   ],
   "source": [
    "data_x = data_encoded.drop(['periodo', 'punt_ingles', 'punt_matematicas', 'punt_sociales_ciudadanas', 'punt_c_naturales', 'punt_lectura_critica',\n",
    "                            'punt_global'], axis=1)\n",
    "#data_y = data_encoded['punt_global']\n",
    "data_y = (data_encoded['punt_global'] >= 250).astype(int)\n",
    "\n",
    "print(data_x.shape)\n",
    "print(data_y.shape)\n",
    "data_y"
   ]
  },
  {
   "cell_type": "markdown",
   "metadata": {},
   "source": [
    "#### Revisamos que las categorias esten balanceadas"
   ]
  },
  {
   "cell_type": "code",
   "execution_count": 5,
   "metadata": {},
   "outputs": [
    {
     "data": {
      "text/plain": [
       "0.5442779445284467"
      ]
     },
     "execution_count": 5,
     "metadata": {},
     "output_type": "execute_result"
    }
   ],
   "source": [
    "count_ones = (data_y == 1).sum()\n",
    "proporcion = count_ones / data_y.count()\n",
    "proporcion"
   ]
  },
  {
   "cell_type": "markdown",
   "metadata": {},
   "source": [
    "#### Generamos nuestro set de train, validation y test"
   ]
  },
  {
   "cell_type": "code",
   "execution_count": 6,
   "metadata": {},
   "outputs": [
    {
     "name": "stdout",
     "output_type": "stream",
     "text": [
      "(56717, 148)\n",
      "(14180, 148)\n",
      "(17725, 148)\n"
     ]
    }
   ],
   "source": [
    "import sklearn\n",
    "from sklearn.model_selection import train_test_split\n",
    "\n",
    "x_train_full, x_test, y_train_full, y_test = train_test_split(\n",
    "    data_x, data_y, test_size=0.2, random_state=42) #Dividir el conjunto de datos en entrenamiento y valaidacion, 80% entrenamiento, 20% validacion\n",
    "\n",
    "x_train, x_valid, y_train, y_valid = train_test_split(\n",
    "    x_train_full, y_train_full, test_size=0.2, random_state=42) #Dividir el conjunto en  entrenamiento\n",
    "\n",
    "print(x_train.shape)\n",
    "print(x_valid.shape)\n",
    "print(x_test.shape)"
   ]
  },
  {
   "cell_type": "markdown",
   "metadata": {},
   "source": [
    "#### Creamos un parser donde guardamos los hiperparametros con los que vamos a configurar nuestros distintos modelos"
   ]
  },
  {
   "cell_type": "code",
   "execution_count": 7,
   "metadata": {},
   "outputs": [],
   "source": [
    "# Usaremos argparse para pasarle argumentos a las funciones de entrenamiento\n",
    "import argparse\n",
    "\n",
    "parser = argparse.ArgumentParser(description='Entrenamiento de una red feed-forward para el problema de clasificación con datos MNIST en TensorFlow/Keras')\n",
    "parser.add_argument('--batch_size', '-b', type=int, default=32)\n",
    "parser.add_argument('--epochs', '-e', type=int, default=40)\n",
    "parser.add_argument('--learning_rate', '-l', type=float, default=0.001)\n",
    "parser.add_argument('--num_hidden_units', '-n', type=int, default=128)\n",
    "parser.add_argument('--num_hidden_layers', '-N', type=int, default=2)\n",
    "parser.add_argument('--regularizers', '-r', type=float, default=0.01)\n",
    "parser.add_argument('--dropout', '-d', type=float, default=0.20)\n",
    "parser.add_argument('--activation', '-a', type=str, default='relu')\n",
    "parser.add_argument('--same_neurons', '-s', type=int, default=0)\n",
    "parser.add_argument('--normalization', '-t', type=int, default=0)\n",
    "args = parser.parse_args([])"
   ]
  },
  {
   "cell_type": "markdown",
   "metadata": {},
   "source": [
    "#### Generamos una funcion con la cual llamamos un optimizador"
   ]
  },
  {
   "cell_type": "code",
   "execution_count": 8,
   "metadata": {},
   "outputs": [
    {
     "name": "stdout",
     "output_type": "stream",
     "text": [
      "WARNING:tensorflow:From c:\\Users\\jorru\\OneDrive - Universidad de los andes\\Maestria\\Analítica_computacional\\Proyecto_3\\.venv\\Lib\\site-packages\\keras\\src\\losses.py:2976: The name tf.losses.sparse_softmax_cross_entropy is deprecated. Please use tf.compat.v1.losses.sparse_softmax_cross_entropy instead.\n",
      "\n"
     ]
    }
   ],
   "source": [
    "import mlflow \n",
    "import mlflow.keras\n",
    "import keras\n",
    "import tensorflow as tf\n",
    "import tensorflow.keras as tk\n",
    "from keras import models\n",
    "from keras import layers\n",
    "from keras import regularizers\n",
    "\n",
    "def get_optimizer():\n",
    "    \"\"\"\n",
    "    :return: Keras optimizer\n",
    "    \"\"\"\n",
    "    optimizer=tf.keras.optimizers.Adam(learning_rate=args.learning_rate)\n",
    "    return optimizer"
   ]
  },
  {
   "cell_type": "markdown",
   "metadata": {},
   "source": [
    "### Generamos una funcion la cual corre Mflow, inicializa el modelo y lo corre con base a los parametros de \"args\""
   ]
  },
  {
   "cell_type": "code",
   "execution_count": 9,
   "metadata": {},
   "outputs": [],
   "source": [
    "# Esta función define una corrida del modelo, con entrenamiento y \n",
    "# registro en MLflow\n",
    "def run_mlflow(run_name=\"proyecto_3_regresion_model\"):\n",
    "    # Iniciamos una corrida de MLflow\n",
    "    mlflow.start_run(run_name=run_name)\n",
    "    run = mlflow.active_run()\n",
    "    # MLflow asigna un ID al experimento y a la corrida\n",
    "    experimentID = run.info.experiment_id\n",
    "    runID = run.info.run_uuid\n",
    "    # reistro automáticos de las métricas de keras\n",
    "    mlflow.keras.autolog()\n",
    "    \n",
    "    if args.activation == 'relu':\n",
    "        act_func = tf.nn.relu\n",
    "    elif args.activation == 'tanh':\n",
    "        act_func = tf.nn.tanh\n",
    "    elif args.activation == 'prelu':\n",
    "        act_func = layers.PReLU()\n",
    "\n",
    "    # definimos la capa de entrada\n",
    "    input_layer = layers.Input(shape=(148,))  # 148 variables de entrada\n",
    "    x = input_layer\n",
    "\n",
    "    neurons = [0] * 4\n",
    "    # Agregamos capas ocultas a la red\n",
    "    for n in range(0, args.num_hidden_layers):\n",
    "        if args.normalization == 0:\n",
    "            if args.same_neurons == 0:\n",
    "                neurons[n] = args.num_hidden_units\n",
    "                # agregamos una capa densa (completamente conectada)\n",
    "                x = layers.Dense(neurons[n], activation=act_func,kernel_regularizer=regularizers.l2(args.regularizers))(x)\n",
    "                # agregamos dropout o normalizacion como método de regularización para aleatoriamente descartar una capa si los gradientes son muy pequeños\n",
    "                # x = layers.Dropout(args.dropout)(x)\n",
    "                x = layers.BatchNormalization()(x)\n",
    "            else: \n",
    "                neurons[n] = args.num_hidden_units/(2 ** (n - 1))\n",
    "                # agregamos una capa densa (completamente conectada)\n",
    "                x = layers.Dense(neurons[n], activation=act_func,kernel_regularizer=regularizers.l2(args.regularizers))(x)\n",
    "                # agregamos dropout o normalizacion como método de regularización para aleatoriamente descartar una capa si los gradientes son muy pequeños\n",
    "                # x = layers.Dropout(args.dropout)(x)\n",
    "                x = layers.BatchNormalization()(x)\n",
    "        else:\n",
    "            if args.same_neurons == 0:\n",
    "                neurons[n] = args.num_hidden_units\n",
    "                # agregamos una capa densa (completamente conectada)\n",
    "                x = layers.Dense(neurons[n], activation=act_func)(x)\n",
    "                # agregamos dropout o normalizacion como método de regularización para aleatoriamente descartar una capa si los gradientes son muy pequeños\n",
    "                x = layers.Dropout(args.dropout)(x)\n",
    "                # x = layers.BatchNormalization()(x)\n",
    "            else: \n",
    "                neurons[n] = args.num_hidden_units/(2 ** (n - 1))\n",
    "                # agregamos una capa densa (completamente conectada)\n",
    "                x = layers.Dense(neurons[n], activation=act_func)(x)\n",
    "                # agregamos dropout o normalizacion como método de regularización para aleatoriamente descartar una capa si los gradientes son muy pequeños\n",
    "                x = layers.Dropout(args.dropout)(x)\n",
    "                # x = layers.BatchNormalization()(x)\n",
    "\n",
    "    # capa final con 1 nodo de salida y sin activacion por lo que es de regresion\n",
    "    output_layer = layers.Dense(1, activation='sigmoid')(x)\n",
    "    \n",
    "    # Se arma el modelo:\n",
    "    model = keras.Model(input_layer, output_layer)\n",
    "    # https://keras.io/optimizers/\n",
    "    optimizer = get_optimizer()\n",
    "\n",
    "    # compilamos el modelo y definimos la función de pérdida  \n",
    "    # otras funciones de pérdida comunes para problemas de clasificación\n",
    "    # 1. sparse_categorical_crossentropy\n",
    "    # 2. binary_crossentropy\n",
    "    model.compile(optimizer=optimizer,\n",
    "                 loss='binary_crossentropy',\n",
    "                 metrics=['accuracy',keras.metrics.AUC()])\n",
    "\n",
    "    # entrenamos el modelo\n",
    "    print(\"-\" * 100)\n",
    "    model.fit(x_train, y_train, epochs=args.epochs, batch_size=args.batch_size, validation_data=(x_valid, y_valid))\n",
    "\n",
    "    # evaluamos el modelo\n",
    "    test_loss, test_acurracy, test_auc = model.evaluate(x_test, y_test, verbose=2)\n",
    "\n",
    "    # Alistamos algunos parametros\n",
    "    hidden_layers = args.num_hidden_layers\n",
    "    activation_funtion = args.activation\n",
    "    \n",
    "    # Metemos los parametros en Mlflow\n",
    "    mlflow.log_param('Capas ocultas', hidden_layers)\n",
    "    mlflow.log_param('Neuronas', neurons)\n",
    "    mlflow.log_param('Funcion de activacion', activation_funtion)\n",
    "\n",
    "    # Metemos las metricas de test en Mlflow\n",
    "    mlflow.log_metric('test_loss', test_loss)\n",
    "    mlflow.log_metric('test_acurracy', test_acurracy)\n",
    "    mlflow.log_metric('test_auc', test_auc)\n",
    "\n",
    "    mlflow.end_run(status='FINISHED')\n",
    "    return (experimentID, runID)"
   ]
  },
  {
   "cell_type": "markdown",
   "metadata": {},
   "source": [
    "#### Hacemos una primer corrida (entrenada) de modelo con las parametros base"
   ]
  },
  {
   "cell_type": "code",
   "execution_count": 10,
   "metadata": {},
   "outputs": [
    {
     "name": "stdout",
     "output_type": "stream",
     "text": [
      "WARNING:tensorflow:From c:\\Users\\jorru\\OneDrive - Universidad de los andes\\Maestria\\Analítica_computacional\\Proyecto_3\\.venv\\Lib\\site-packages\\keras\\src\\backend.py:1398: The name tf.executing_eagerly_outside_functions is deprecated. Please use tf.compat.v1.executing_eagerly_outside_functions instead.\n",
      "\n"
     ]
    },
    {
     "name": "stderr",
     "output_type": "stream",
     "text": [
      "2024/12/05 20:36:13 WARNING mlflow.tensorflow: Unrecognized dataset type <class 'pandas.core.frame.DataFrame'>. Dataset logging skipped.\n",
      "2024/12/05 20:36:13 WARNING mlflow.tensorflow: Failed to log training dataset information to MLflow Tracking. Reason: 'DataFrame' object has no attribute 'flatten'\n"
     ]
    },
    {
     "name": "stdout",
     "output_type": "stream",
     "text": [
      "----------------------------------------------------------------------------------------------------\n"
     ]
    },
    {
     "name": "stderr",
     "output_type": "stream",
     "text": [
      "2024/12/05 20:36:13 WARNING mlflow.utils.autologging_utils: Encountered unexpected error during autologging: When an mlflow-artifacts URI was supplied, the tracking URI must be a valid http or https URI, but it was currently set to file:///c:/Users/jorru/OneDrive%20-%20Universidad%20de%20los%20andes/Maestria/Anal%C3%ADtica_computacional/Proyecto_3/mlruns. Perhaps you forgot to set the tracking URI to the running MLflow server. To set the tracking URI, use either of the following methods:\n",
      "1. Set the MLFLOW_TRACKING_URI environment variable to the desired tracking URI. `export MLFLOW_TRACKING_URI=http://localhost:5000`\n",
      "2. Set the tracking URI programmatically by calling `mlflow.set_tracking_uri`. `mlflow.set_tracking_uri('http://localhost:5000')`\n"
     ]
    },
    {
     "name": "stdout",
     "output_type": "stream",
     "text": [
      "Epoch 1/30\n",
      "WARNING:tensorflow:From c:\\Users\\jorru\\OneDrive - Universidad de los andes\\Maestria\\Analítica_computacional\\Proyecto_3\\.venv\\Lib\\site-packages\\keras\\src\\utils\\tf_utils.py:492: The name tf.ragged.RaggedTensorValue is deprecated. Please use tf.compat.v1.ragged.RaggedTensorValue instead.\n",
      "\n",
      "WARNING:tensorflow:From c:\\Users\\jorru\\OneDrive - Universidad de los andes\\Maestria\\Analítica_computacional\\Proyecto_3\\.venv\\Lib\\site-packages\\keras\\src\\engine\\base_layer_utils.py:384: The name tf.executing_eagerly_outside_functions is deprecated. Please use tf.compat.v1.executing_eagerly_outside_functions instead.\n",
      "\n",
      "  1/222 [..............................] - ETA: 3:50 - loss: 3.7030 - accuracy: 0.4180 - auc: 0.4362WARNING:tensorflow:Callback method `on_train_batch_end` is slow compared to the batch time (batch time: 0.0017s vs `on_train_batch_end` time: 0.0041s). Check your callbacks.\n",
      "222/222 [==============================] - ETA: 0s - loss: 1.6467 - accuracy: 0.7389 - auc: 0.8123"
     ]
    },
    {
     "name": "stderr",
     "output_type": "stream",
     "text": [
      "2024/12/05 20:36:15 WARNING mlflow.utils.autologging_utils: Encountered unexpected error during autologging: When an mlflow-artifacts URI was supplied, the tracking URI must be a valid http or https URI, but it was currently set to file:///c:/Users/jorru/OneDrive%20-%20Universidad%20de%20los%20andes/Maestria/Anal%C3%ADtica_computacional/Proyecto_3/mlruns. Perhaps you forgot to set the tracking URI to the running MLflow server. To set the tracking URI, use either of the following methods:\n",
      "1. Set the MLFLOW_TRACKING_URI environment variable to the desired tracking URI. `export MLFLOW_TRACKING_URI=http://localhost:5000`\n",
      "2. Set the tracking URI programmatically by calling `mlflow.set_tracking_uri`. `mlflow.set_tracking_uri('http://localhost:5000')`\n"
     ]
    },
    {
     "name": "stdout",
     "output_type": "stream",
     "text": [
      "222/222 [==============================] - 2s 4ms/step - loss: 1.6467 - accuracy: 0.7389 - auc: 0.8123 - val_loss: 0.9840 - val_accuracy: 0.6317 - val_auc: 0.8345\n",
      "Epoch 2/30\n",
      "206/222 [==========================>...] - ETA: 0s - loss: 0.7239 - accuracy: 0.7585 - auc: 0.8364"
     ]
    },
    {
     "name": "stderr",
     "output_type": "stream",
     "text": [
      "2024/12/05 20:36:15 WARNING mlflow.utils.autologging_utils: Encountered unexpected error during autologging: When an mlflow-artifacts URI was supplied, the tracking URI must be a valid http or https URI, but it was currently set to file:///c:/Users/jorru/OneDrive%20-%20Universidad%20de%20los%20andes/Maestria/Anal%C3%ADtica_computacional/Proyecto_3/mlruns. Perhaps you forgot to set the tracking URI to the running MLflow server. To set the tracking URI, use either of the following methods:\n",
      "1. Set the MLFLOW_TRACKING_URI environment variable to the desired tracking URI. `export MLFLOW_TRACKING_URI=http://localhost:5000`\n",
      "2. Set the tracking URI programmatically by calling `mlflow.set_tracking_uri`. `mlflow.set_tracking_uri('http://localhost:5000')`\n"
     ]
    },
    {
     "name": "stdout",
     "output_type": "stream",
     "text": [
      "222/222 [==============================] - 1s 3ms/step - loss: 0.7166 - accuracy: 0.7587 - auc: 0.8366 - val_loss: 0.6529 - val_accuracy: 0.7602 - val_auc: 0.8402\n",
      "Epoch 3/30\n",
      "209/222 [===========================>..] - ETA: 0s - loss: 0.5739 - accuracy: 0.7623 - auc: 0.8390"
     ]
    },
    {
     "name": "stderr",
     "output_type": "stream",
     "text": [
      "2024/12/05 20:36:16 WARNING mlflow.utils.autologging_utils: Encountered unexpected error during autologging: When an mlflow-artifacts URI was supplied, the tracking URI must be a valid http or https URI, but it was currently set to file:///c:/Users/jorru/OneDrive%20-%20Universidad%20de%20los%20andes/Maestria/Anal%C3%ADtica_computacional/Proyecto_3/mlruns. Perhaps you forgot to set the tracking URI to the running MLflow server. To set the tracking URI, use either of the following methods:\n",
      "1. Set the MLFLOW_TRACKING_URI environment variable to the desired tracking URI. `export MLFLOW_TRACKING_URI=http://localhost:5000`\n",
      "2. Set the tracking URI programmatically by calling `mlflow.set_tracking_uri`. `mlflow.set_tracking_uri('http://localhost:5000')`\n"
     ]
    },
    {
     "name": "stdout",
     "output_type": "stream",
     "text": [
      "222/222 [==============================] - 1s 4ms/step - loss: 0.5725 - accuracy: 0.7623 - auc: 0.8389 - val_loss: 0.5427 - val_accuracy: 0.7664 - val_auc: 0.8423\n",
      "Epoch 4/30\n",
      "211/222 [===========================>..] - ETA: 0s - loss: 0.5276 - accuracy: 0.7645 - auc: 0.8410"
     ]
    },
    {
     "name": "stderr",
     "output_type": "stream",
     "text": [
      "2024/12/05 20:36:17 WARNING mlflow.utils.autologging_utils: Encountered unexpected error during autologging: When an mlflow-artifacts URI was supplied, the tracking URI must be a valid http or https URI, but it was currently set to file:///c:/Users/jorru/OneDrive%20-%20Universidad%20de%20los%20andes/Maestria/Anal%C3%ADtica_computacional/Proyecto_3/mlruns. Perhaps you forgot to set the tracking URI to the running MLflow server. To set the tracking URI, use either of the following methods:\n",
      "1. Set the MLFLOW_TRACKING_URI environment variable to the desired tracking URI. `export MLFLOW_TRACKING_URI=http://localhost:5000`\n",
      "2. Set the tracking URI programmatically by calling `mlflow.set_tracking_uri`. `mlflow.set_tracking_uri('http://localhost:5000')`\n"
     ]
    },
    {
     "name": "stdout",
     "output_type": "stream",
     "text": [
      "222/222 [==============================] - 1s 4ms/step - loss: 0.5274 - accuracy: 0.7645 - auc: 0.8410 - val_loss: 0.5153 - val_accuracy: 0.7657 - val_auc: 0.8441\n",
      "Epoch 5/30\n",
      "208/222 [===========================>..] - ETA: 0s - loss: 0.5106 - accuracy: 0.7646 - auc: 0.8411"
     ]
    },
    {
     "name": "stderr",
     "output_type": "stream",
     "text": [
      "2024/12/05 20:36:18 WARNING mlflow.utils.autologging_utils: Encountered unexpected error during autologging: When an mlflow-artifacts URI was supplied, the tracking URI must be a valid http or https URI, but it was currently set to file:///c:/Users/jorru/OneDrive%20-%20Universidad%20de%20los%20andes/Maestria/Anal%C3%ADtica_computacional/Proyecto_3/mlruns. Perhaps you forgot to set the tracking URI to the running MLflow server. To set the tracking URI, use either of the following methods:\n",
      "1. Set the MLFLOW_TRACKING_URI environment variable to the desired tracking URI. `export MLFLOW_TRACKING_URI=http://localhost:5000`\n",
      "2. Set the tracking URI programmatically by calling `mlflow.set_tracking_uri`. `mlflow.set_tracking_uri('http://localhost:5000')`\n"
     ]
    },
    {
     "name": "stdout",
     "output_type": "stream",
     "text": [
      "222/222 [==============================] - 1s 4ms/step - loss: 0.5104 - accuracy: 0.7648 - auc: 0.8411 - val_loss: 0.5110 - val_accuracy: 0.7622 - val_auc: 0.8449\n",
      "Epoch 6/30\n",
      "206/222 [==========================>...] - ETA: 0s - loss: 0.5019 - accuracy: 0.7664 - auc: 0.8424"
     ]
    },
    {
     "name": "stderr",
     "output_type": "stream",
     "text": [
      "2024/12/05 20:36:19 WARNING mlflow.utils.autologging_utils: Encountered unexpected error during autologging: When an mlflow-artifacts URI was supplied, the tracking URI must be a valid http or https URI, but it was currently set to file:///c:/Users/jorru/OneDrive%20-%20Universidad%20de%20los%20andes/Maestria/Anal%C3%ADtica_computacional/Proyecto_3/mlruns. Perhaps you forgot to set the tracking URI to the running MLflow server. To set the tracking URI, use either of the following methods:\n",
      "1. Set the MLFLOW_TRACKING_URI environment variable to the desired tracking URI. `export MLFLOW_TRACKING_URI=http://localhost:5000`\n",
      "2. Set the tracking URI programmatically by calling `mlflow.set_tracking_uri`. `mlflow.set_tracking_uri('http://localhost:5000')`\n"
     ]
    },
    {
     "name": "stdout",
     "output_type": "stream",
     "text": [
      "222/222 [==============================] - 1s 3ms/step - loss: 0.5026 - accuracy: 0.7656 - auc: 0.8418 - val_loss: 0.4985 - val_accuracy: 0.7688 - val_auc: 0.8468\n",
      "Epoch 7/30\n",
      "222/222 [==============================] - ETA: 0s - loss: 0.4981 - accuracy: 0.7662 - auc: 0.8423"
     ]
    },
    {
     "name": "stderr",
     "output_type": "stream",
     "text": [
      "2024/12/05 20:36:19 WARNING mlflow.utils.autologging_utils: Encountered unexpected error during autologging: When an mlflow-artifacts URI was supplied, the tracking URI must be a valid http or https URI, but it was currently set to file:///c:/Users/jorru/OneDrive%20-%20Universidad%20de%20los%20andes/Maestria/Anal%C3%ADtica_computacional/Proyecto_3/mlruns. Perhaps you forgot to set the tracking URI to the running MLflow server. To set the tracking URI, use either of the following methods:\n",
      "1. Set the MLFLOW_TRACKING_URI environment variable to the desired tracking URI. `export MLFLOW_TRACKING_URI=http://localhost:5000`\n",
      "2. Set the tracking URI programmatically by calling `mlflow.set_tracking_uri`. `mlflow.set_tracking_uri('http://localhost:5000')`\n"
     ]
    },
    {
     "name": "stdout",
     "output_type": "stream",
     "text": [
      "222/222 [==============================] - 1s 3ms/step - loss: 0.4981 - accuracy: 0.7662 - auc: 0.8423 - val_loss: 0.4967 - val_accuracy: 0.7638 - val_auc: 0.8449\n",
      "Epoch 8/30\n",
      "222/222 [==============================] - 1s 3ms/step - loss: 0.4957 - accuracy: 0.7661 - auc: 0.8424 - val_loss: 0.4977 - val_accuracy: 0.7599 - val_auc: 0.8456\n",
      "Epoch 9/30\n",
      "218/222 [============================>.] - ETA: 0s - loss: 0.4942 - accuracy: 0.7675 - auc: 0.8426"
     ]
    },
    {
     "name": "stderr",
     "output_type": "stream",
     "text": [
      "2024/12/05 20:36:21 WARNING mlflow.utils.autologging_utils: Encountered unexpected error during autologging: When an mlflow-artifacts URI was supplied, the tracking URI must be a valid http or https URI, but it was currently set to file:///c:/Users/jorru/OneDrive%20-%20Universidad%20de%20los%20andes/Maestria/Anal%C3%ADtica_computacional/Proyecto_3/mlruns. Perhaps you forgot to set the tracking URI to the running MLflow server. To set the tracking URI, use either of the following methods:\n",
      "1. Set the MLFLOW_TRACKING_URI environment variable to the desired tracking URI. `export MLFLOW_TRACKING_URI=http://localhost:5000`\n",
      "2. Set the tracking URI programmatically by calling `mlflow.set_tracking_uri`. `mlflow.set_tracking_uri('http://localhost:5000')`\n"
     ]
    },
    {
     "name": "stdout",
     "output_type": "stream",
     "text": [
      "222/222 [==============================] - 1s 3ms/step - loss: 0.4941 - accuracy: 0.7675 - auc: 0.8427 - val_loss: 0.4924 - val_accuracy: 0.7697 - val_auc: 0.8460\n",
      "Epoch 10/30\n",
      "212/222 [===========================>..] - ETA: 0s - loss: 0.4921 - accuracy: 0.7674 - auc: 0.8433"
     ]
    },
    {
     "name": "stderr",
     "output_type": "stream",
     "text": [
      "2024/12/05 20:36:22 WARNING mlflow.utils.autologging_utils: Encountered unexpected error during autologging: When an mlflow-artifacts URI was supplied, the tracking URI must be a valid http or https URI, but it was currently set to file:///c:/Users/jorru/OneDrive%20-%20Universidad%20de%20los%20andes/Maestria/Anal%C3%ADtica_computacional/Proyecto_3/mlruns. Perhaps you forgot to set the tracking URI to the running MLflow server. To set the tracking URI, use either of the following methods:\n",
      "1. Set the MLFLOW_TRACKING_URI environment variable to the desired tracking URI. `export MLFLOW_TRACKING_URI=http://localhost:5000`\n",
      "2. Set the tracking URI programmatically by calling `mlflow.set_tracking_uri`. `mlflow.set_tracking_uri('http://localhost:5000')`\n"
     ]
    },
    {
     "name": "stdout",
     "output_type": "stream",
     "text": [
      "222/222 [==============================] - 1s 4ms/step - loss: 0.4923 - accuracy: 0.7672 - auc: 0.8433 - val_loss: 0.4919 - val_accuracy: 0.7681 - val_auc: 0.8457\n",
      "Epoch 11/30\n",
      "216/222 [============================>.] - ETA: 0s - loss: 0.4926 - accuracy: 0.7665 - auc: 0.8434"
     ]
    },
    {
     "name": "stderr",
     "output_type": "stream",
     "text": [
      "2024/12/05 20:36:22 WARNING mlflow.utils.autologging_utils: Encountered unexpected error during autologging: When an mlflow-artifacts URI was supplied, the tracking URI must be a valid http or https URI, but it was currently set to file:///c:/Users/jorru/OneDrive%20-%20Universidad%20de%20los%20andes/Maestria/Anal%C3%ADtica_computacional/Proyecto_3/mlruns. Perhaps you forgot to set the tracking URI to the running MLflow server. To set the tracking URI, use either of the following methods:\n",
      "1. Set the MLFLOW_TRACKING_URI environment variable to the desired tracking URI. `export MLFLOW_TRACKING_URI=http://localhost:5000`\n",
      "2. Set the tracking URI programmatically by calling `mlflow.set_tracking_uri`. `mlflow.set_tracking_uri('http://localhost:5000')`\n"
     ]
    },
    {
     "name": "stdout",
     "output_type": "stream",
     "text": [
      "222/222 [==============================] - 1s 3ms/step - loss: 0.4926 - accuracy: 0.7663 - auc: 0.8432 - val_loss: 0.4897 - val_accuracy: 0.7690 - val_auc: 0.8478\n",
      "Epoch 12/30\n",
      "222/222 [==============================] - 1s 3ms/step - loss: 0.4903 - accuracy: 0.7684 - auc: 0.8444 - val_loss: 0.4968 - val_accuracy: 0.7647 - val_auc: 0.8441\n",
      "Epoch 13/30\n",
      "204/222 [==========================>...] - ETA: 0s - loss: 0.4907 - accuracy: 0.7685 - auc: 0.8440"
     ]
    },
    {
     "name": "stderr",
     "output_type": "stream",
     "text": [
      "2024/12/05 20:36:24 WARNING mlflow.utils.autologging_utils: Encountered unexpected error during autologging: When an mlflow-artifacts URI was supplied, the tracking URI must be a valid http or https URI, but it was currently set to file:///c:/Users/jorru/OneDrive%20-%20Universidad%20de%20los%20andes/Maestria/Anal%C3%ADtica_computacional/Proyecto_3/mlruns. Perhaps you forgot to set the tracking URI to the running MLflow server. To set the tracking URI, use either of the following methods:\n",
      "1. Set the MLFLOW_TRACKING_URI environment variable to the desired tracking URI. `export MLFLOW_TRACKING_URI=http://localhost:5000`\n",
      "2. Set the tracking URI programmatically by calling `mlflow.set_tracking_uri`. `mlflow.set_tracking_uri('http://localhost:5000')`\n"
     ]
    },
    {
     "name": "stdout",
     "output_type": "stream",
     "text": [
      "222/222 [==============================] - 1s 3ms/step - loss: 0.4908 - accuracy: 0.7677 - auc: 0.8439 - val_loss: 0.4883 - val_accuracy: 0.7679 - val_auc: 0.8479\n",
      "Epoch 14/30\n",
      "216/222 [============================>.] - ETA: 0s - loss: 0.4892 - accuracy: 0.7674 - auc: 0.8449"
     ]
    },
    {
     "name": "stderr",
     "output_type": "stream",
     "text": [
      "2024/12/05 20:36:24 WARNING mlflow.utils.autologging_utils: Encountered unexpected error during autologging: When an mlflow-artifacts URI was supplied, the tracking URI must be a valid http or https URI, but it was currently set to file:///c:/Users/jorru/OneDrive%20-%20Universidad%20de%20los%20andes/Maestria/Anal%C3%ADtica_computacional/Proyecto_3/mlruns. Perhaps you forgot to set the tracking URI to the running MLflow server. To set the tracking URI, use either of the following methods:\n",
      "1. Set the MLFLOW_TRACKING_URI environment variable to the desired tracking URI. `export MLFLOW_TRACKING_URI=http://localhost:5000`\n",
      "2. Set the tracking URI programmatically by calling `mlflow.set_tracking_uri`. `mlflow.set_tracking_uri('http://localhost:5000')`\n"
     ]
    },
    {
     "name": "stdout",
     "output_type": "stream",
     "text": [
      "222/222 [==============================] - 1s 3ms/step - loss: 0.4896 - accuracy: 0.7676 - auc: 0.8446 - val_loss: 0.4880 - val_accuracy: 0.7709 - val_auc: 0.8477\n",
      "Epoch 15/30\n",
      "222/222 [==============================] - 1s 3ms/step - loss: 0.4890 - accuracy: 0.7668 - auc: 0.8446 - val_loss: 0.4900 - val_accuracy: 0.7693 - val_auc: 0.8481\n",
      "Epoch 16/30\n",
      "218/222 [============================>.] - ETA: 0s - loss: 0.4886 - accuracy: 0.7681 - auc: 0.8445"
     ]
    },
    {
     "name": "stderr",
     "output_type": "stream",
     "text": [
      "2024/12/05 20:36:26 WARNING mlflow.utils.autologging_utils: Encountered unexpected error during autologging: When an mlflow-artifacts URI was supplied, the tracking URI must be a valid http or https URI, but it was currently set to file:///c:/Users/jorru/OneDrive%20-%20Universidad%20de%20los%20andes/Maestria/Anal%C3%ADtica_computacional/Proyecto_3/mlruns. Perhaps you forgot to set the tracking URI to the running MLflow server. To set the tracking URI, use either of the following methods:\n",
      "1. Set the MLFLOW_TRACKING_URI environment variable to the desired tracking URI. `export MLFLOW_TRACKING_URI=http://localhost:5000`\n",
      "2. Set the tracking URI programmatically by calling `mlflow.set_tracking_uri`. `mlflow.set_tracking_uri('http://localhost:5000')`\n"
     ]
    },
    {
     "name": "stdout",
     "output_type": "stream",
     "text": [
      "222/222 [==============================] - 1s 3ms/step - loss: 0.4883 - accuracy: 0.7683 - auc: 0.8447 - val_loss: 0.4867 - val_accuracy: 0.7676 - val_auc: 0.8482\n",
      "Epoch 17/30\n",
      "222/222 [==============================] - 1s 3ms/step - loss: 0.4875 - accuracy: 0.7680 - auc: 0.8452 - val_loss: 0.4947 - val_accuracy: 0.7689 - val_auc: 0.8460\n",
      "Epoch 18/30\n",
      "214/222 [===========================>..] - ETA: 0s - loss: 0.4874 - accuracy: 0.7683 - auc: 0.8447"
     ]
    },
    {
     "name": "stderr",
     "output_type": "stream",
     "text": [
      "2024/12/05 20:36:27 WARNING mlflow.utils.autologging_utils: Encountered unexpected error during autologging: When an mlflow-artifacts URI was supplied, the tracking URI must be a valid http or https URI, but it was currently set to file:///c:/Users/jorru/OneDrive%20-%20Universidad%20de%20los%20andes/Maestria/Anal%C3%ADtica_computacional/Proyecto_3/mlruns. Perhaps you forgot to set the tracking URI to the running MLflow server. To set the tracking URI, use either of the following methods:\n",
      "1. Set the MLFLOW_TRACKING_URI environment variable to the desired tracking URI. `export MLFLOW_TRACKING_URI=http://localhost:5000`\n",
      "2. Set the tracking URI programmatically by calling `mlflow.set_tracking_uri`. `mlflow.set_tracking_uri('http://localhost:5000')`\n"
     ]
    },
    {
     "name": "stdout",
     "output_type": "stream",
     "text": [
      "222/222 [==============================] - 1s 4ms/step - loss: 0.4877 - accuracy: 0.7684 - auc: 0.8447 - val_loss: 0.4850 - val_accuracy: 0.7666 - val_auc: 0.8481\n",
      "Epoch 19/30\n",
      "215/222 [============================>.] - ETA: 0s - loss: 0.4862 - accuracy: 0.7683 - auc: 0.8458"
     ]
    },
    {
     "name": "stderr",
     "output_type": "stream",
     "text": [
      "2024/12/05 20:36:28 WARNING mlflow.utils.autologging_utils: Encountered unexpected error during autologging: When an mlflow-artifacts URI was supplied, the tracking URI must be a valid http or https URI, but it was currently set to file:///c:/Users/jorru/OneDrive%20-%20Universidad%20de%20los%20andes/Maestria/Anal%C3%ADtica_computacional/Proyecto_3/mlruns. Perhaps you forgot to set the tracking URI to the running MLflow server. To set the tracking URI, use either of the following methods:\n",
      "1. Set the MLFLOW_TRACKING_URI environment variable to the desired tracking URI. `export MLFLOW_TRACKING_URI=http://localhost:5000`\n",
      "2. Set the tracking URI programmatically by calling `mlflow.set_tracking_uri`. `mlflow.set_tracking_uri('http://localhost:5000')`\n"
     ]
    },
    {
     "name": "stdout",
     "output_type": "stream",
     "text": [
      "222/222 [==============================] - 1s 4ms/step - loss: 0.4863 - accuracy: 0.7681 - auc: 0.8457 - val_loss: 0.4836 - val_accuracy: 0.7715 - val_auc: 0.8485\n",
      "Epoch 20/30\n",
      "222/222 [==============================] - 1s 4ms/step - loss: 0.4861 - accuracy: 0.7684 - auc: 0.8456 - val_loss: 0.4857 - val_accuracy: 0.7704 - val_auc: 0.8486\n",
      "Epoch 21/30\n",
      "222/222 [==============================] - 1s 3ms/step - loss: 0.4865 - accuracy: 0.7680 - auc: 0.8453 - val_loss: 0.4915 - val_accuracy: 0.7703 - val_auc: 0.8488\n",
      "Epoch 22/30\n",
      "222/222 [==============================] - 1s 4ms/step - loss: 0.4852 - accuracy: 0.7690 - auc: 0.8463 - val_loss: 0.4853 - val_accuracy: 0.7700 - val_auc: 0.8483\n",
      "Epoch 23/30\n",
      "222/222 [==============================] - 1s 4ms/step - loss: 0.4848 - accuracy: 0.7686 - auc: 0.8462 - val_loss: 0.4888 - val_accuracy: 0.7682 - val_auc: 0.8489\n",
      "Epoch 24/30\n",
      "222/222 [==============================] - 1s 4ms/step - loss: 0.4851 - accuracy: 0.7677 - auc: 0.8459 - val_loss: 0.4844 - val_accuracy: 0.7712 - val_auc: 0.8497\n",
      "Epoch 25/30\n",
      "222/222 [==============================] - 1s 3ms/step - loss: 0.4852 - accuracy: 0.7682 - auc: 0.8459 - val_loss: 0.4837 - val_accuracy: 0.7697 - val_auc: 0.8489\n",
      "Epoch 26/30\n",
      "218/222 [============================>.] - ETA: 0s - loss: 0.4850 - accuracy: 0.7684 - auc: 0.8460"
     ]
    },
    {
     "name": "stderr",
     "output_type": "stream",
     "text": [
      "2024/12/05 20:36:34 WARNING mlflow.utils.autologging_utils: Encountered unexpected error during autologging: When an mlflow-artifacts URI was supplied, the tracking URI must be a valid http or https URI, but it was currently set to file:///c:/Users/jorru/OneDrive%20-%20Universidad%20de%20los%20andes/Maestria/Anal%C3%ADtica_computacional/Proyecto_3/mlruns. Perhaps you forgot to set the tracking URI to the running MLflow server. To set the tracking URI, use either of the following methods:\n",
      "1. Set the MLFLOW_TRACKING_URI environment variable to the desired tracking URI. `export MLFLOW_TRACKING_URI=http://localhost:5000`\n",
      "2. Set the tracking URI programmatically by calling `mlflow.set_tracking_uri`. `mlflow.set_tracking_uri('http://localhost:5000')`\n"
     ]
    },
    {
     "name": "stdout",
     "output_type": "stream",
     "text": [
      "222/222 [==============================] - 1s 3ms/step - loss: 0.4848 - accuracy: 0.7683 - auc: 0.8461 - val_loss: 0.4834 - val_accuracy: 0.7702 - val_auc: 0.8490\n",
      "Epoch 27/30\n",
      "222/222 [==============================] - 1s 4ms/step - loss: 0.4849 - accuracy: 0.7690 - auc: 0.8459 - val_loss: 0.4837 - val_accuracy: 0.7695 - val_auc: 0.8482\n",
      "Epoch 28/30\n",
      "222/222 [==============================] - 1s 4ms/step - loss: 0.4841 - accuracy: 0.7687 - auc: 0.8466 - val_loss: 0.4862 - val_accuracy: 0.7696 - val_auc: 0.8488\n",
      "Epoch 29/30\n",
      "222/222 [==============================] - 1s 3ms/step - loss: 0.4845 - accuracy: 0.7681 - auc: 0.8464 - val_loss: 0.4863 - val_accuracy: 0.7682 - val_auc: 0.8484\n",
      "Epoch 30/30\n",
      "222/222 [==============================] - 1s 4ms/step - loss: 0.4844 - accuracy: 0.7690 - auc: 0.8464 - val_loss: 0.4844 - val_accuracy: 0.7697 - val_auc: 0.8477\n"
     ]
    },
    {
     "name": "stderr",
     "output_type": "stream",
     "text": [
      "2024/12/05 20:36:37 WARNING mlflow.tensorflow: Failed to infer model signature: could not sample data to infer model signature: Cannot log input example or model signature for input with type <class 'pandas.core.frame.DataFrame'>. TensorFlow Keras autologging can only log input examples and model signatures for the following input types: numpy.ndarray, dict[string -> numpy.ndarray], tensorflow.keras.utils.Sequence, and tensorflow.data.Dataset (TensorFlow >= 2.1.0 required)\n",
      "2024/12/05 20:36:37 WARNING mlflow.tensorflow: You are saving a TensorFlow Core model or Keras model without a signature. Inference with mlflow.pyfunc.spark_udf() will not work unless the model's pyfunc representation accepts pandas DataFrames as inference inputs.\n"
     ]
    },
    {
     "name": "stdout",
     "output_type": "stream",
     "text": [
      "INFO:tensorflow:Assets written to: C:\\Users\\jorru\\AppData\\Local\\Temp\\tmpdxfm2q55\\model\\data\\model\\assets\n"
     ]
    },
    {
     "name": "stderr",
     "output_type": "stream",
     "text": [
      "INFO:tensorflow:Assets written to: C:\\Users\\jorru\\AppData\\Local\\Temp\\tmpdxfm2q55\\model\\data\\model\\assets\n",
      "2024/12/05 20:36:48 WARNING mlflow.models.model: Model logged without a signature and input example. Please set `input_example` parameter when logging the model to auto infer the model signature.\n",
      "2024/12/05 20:36:48 WARNING mlflow.utils.autologging_utils: Encountered unexpected error during tensorflow autologging: When an mlflow-artifacts URI was supplied, the tracking URI must be a valid http or https URI, but it was currently set to file:///c:/Users/jorru/OneDrive%20-%20Universidad%20de%20los%20andes/Maestria/Anal%C3%ADtica_computacional/Proyecto_3/mlruns. Perhaps you forgot to set the tracking URI to the running MLflow server. To set the tracking URI, use either of the following methods:\n",
      "1. Set the MLFLOW_TRACKING_URI environment variable to the desired tracking URI. `export MLFLOW_TRACKING_URI=http://localhost:5000`\n",
      "2. Set the tracking URI programmatically by calling `mlflow.set_tracking_uri`. `mlflow.set_tracking_uri('http://localhost:5000')`\n"
     ]
    },
    {
     "name": "stdout",
     "output_type": "stream",
     "text": [
      "554/554 - 1s - loss: 0.4946 - accuracy: 0.7621 - auc: 0.8400 - 738ms/epoch - 1ms/step\n",
      "MLflow Run completed with run_id 029d6984eed4468194e0ec388406de1b and experiment_id 0\n",
      "2.15.0\n"
     ]
    }
   ],
   "source": [
    "args = parser.parse_args([\"--batch_size\", '256', \"--epochs\", '30'])\n",
    "\n",
    "(experimentID, runID) = run_mlflow(run_name=\"Prueba_modelo_base\")\n",
    "print(\"MLflow Run completed with run_id {} and experiment_id {}\".format(runID, experimentID))\n",
    "print(tf.__version__)"
   ]
  },
  {
   "cell_type": "code",
   "execution_count": 11,
   "metadata": {},
   "outputs": [
    {
     "name": "stderr",
     "output_type": "stream",
     "text": [
      "2024/12/05 20:36:49 WARNING mlflow.tensorflow: Unrecognized dataset type <class 'pandas.core.frame.DataFrame'>. Dataset logging skipped.\n",
      "2024/12/05 20:36:49 WARNING mlflow.tensorflow: Failed to log training dataset information to MLflow Tracking. Reason: 'DataFrame' object has no attribute 'flatten'\n"
     ]
    },
    {
     "name": "stdout",
     "output_type": "stream",
     "text": [
      "----------------------------------------------------------------------------------------------------\n"
     ]
    },
    {
     "name": "stderr",
     "output_type": "stream",
     "text": [
      "2024/12/05 20:36:49 WARNING mlflow.utils.autologging_utils: Encountered unexpected error during autologging: When an mlflow-artifacts URI was supplied, the tracking URI must be a valid http or https URI, but it was currently set to file:///c:/Users/jorru/OneDrive%20-%20Universidad%20de%20los%20andes/Maestria/Anal%C3%ADtica_computacional/Proyecto_3/mlruns. Perhaps you forgot to set the tracking URI to the running MLflow server. To set the tracking URI, use either of the following methods:\n",
      "1. Set the MLFLOW_TRACKING_URI environment variable to the desired tracking URI. `export MLFLOW_TRACKING_URI=http://localhost:5000`\n",
      "2. Set the tracking URI programmatically by calling `mlflow.set_tracking_uri`. `mlflow.set_tracking_uri('http://localhost:5000')`\n"
     ]
    },
    {
     "name": "stdout",
     "output_type": "stream",
     "text": [
      "Epoch 1/30\n",
      "209/222 [===========================>..] - ETA: 0s - loss: 0.5359 - accuracy: 0.7286 - auc_1: 0.8032"
     ]
    },
    {
     "name": "stderr",
     "output_type": "stream",
     "text": [
      "2024/12/05 20:36:51 WARNING mlflow.utils.autologging_utils: Encountered unexpected error during autologging: When an mlflow-artifacts URI was supplied, the tracking URI must be a valid http or https URI, but it was currently set to file:///c:/Users/jorru/OneDrive%20-%20Universidad%20de%20los%20andes/Maestria/Anal%C3%ADtica_computacional/Proyecto_3/mlruns. Perhaps you forgot to set the tracking URI to the running MLflow server. To set the tracking URI, use either of the following methods:\n",
      "1. Set the MLFLOW_TRACKING_URI environment variable to the desired tracking URI. `export MLFLOW_TRACKING_URI=http://localhost:5000`\n",
      "2. Set the tracking URI programmatically by calling `mlflow.set_tracking_uri`. `mlflow.set_tracking_uri('http://localhost:5000')`\n"
     ]
    },
    {
     "name": "stdout",
     "output_type": "stream",
     "text": [
      "222/222 [==============================] - 2s 5ms/step - loss: 0.5338 - accuracy: 0.7304 - auc_1: 0.8049 - val_loss: 0.4830 - val_accuracy: 0.7672 - val_auc_1: 0.8449\n",
      "Epoch 2/30\n",
      "215/222 [============================>.] - ETA: 0s - loss: 0.4887 - accuracy: 0.7626 - auc_1: 0.8384"
     ]
    },
    {
     "name": "stderr",
     "output_type": "stream",
     "text": [
      "2024/12/05 20:36:52 WARNING mlflow.utils.autologging_utils: Encountered unexpected error during autologging: When an mlflow-artifacts URI was supplied, the tracking URI must be a valid http or https URI, but it was currently set to file:///c:/Users/jorru/OneDrive%20-%20Universidad%20de%20los%20andes/Maestria/Anal%C3%ADtica_computacional/Proyecto_3/mlruns. Perhaps you forgot to set the tracking URI to the running MLflow server. To set the tracking URI, use either of the following methods:\n",
      "1. Set the MLFLOW_TRACKING_URI environment variable to the desired tracking URI. `export MLFLOW_TRACKING_URI=http://localhost:5000`\n",
      "2. Set the tracking URI programmatically by calling `mlflow.set_tracking_uri`. `mlflow.set_tracking_uri('http://localhost:5000')`\n"
     ]
    },
    {
     "name": "stdout",
     "output_type": "stream",
     "text": [
      "222/222 [==============================] - 1s 4ms/step - loss: 0.4888 - accuracy: 0.7624 - auc_1: 0.8383 - val_loss: 0.4801 - val_accuracy: 0.7694 - val_auc_1: 0.8477\n",
      "Epoch 3/30\n",
      "212/222 [===========================>..] - ETA: 0s - loss: 0.4811 - accuracy: 0.7666 - auc_1: 0.8436"
     ]
    },
    {
     "name": "stderr",
     "output_type": "stream",
     "text": [
      "2024/12/05 20:36:53 WARNING mlflow.utils.autologging_utils: Encountered unexpected error during autologging: When an mlflow-artifacts URI was supplied, the tracking URI must be a valid http or https URI, but it was currently set to file:///c:/Users/jorru/OneDrive%20-%20Universidad%20de%20los%20andes/Maestria/Anal%C3%ADtica_computacional/Proyecto_3/mlruns. Perhaps you forgot to set the tracking URI to the running MLflow server. To set the tracking URI, use either of the following methods:\n",
      "1. Set the MLFLOW_TRACKING_URI environment variable to the desired tracking URI. `export MLFLOW_TRACKING_URI=http://localhost:5000`\n",
      "2. Set the tracking URI programmatically by calling `mlflow.set_tracking_uri`. `mlflow.set_tracking_uri('http://localhost:5000')`\n"
     ]
    },
    {
     "name": "stdout",
     "output_type": "stream",
     "text": [
      "222/222 [==============================] - 1s 4ms/step - loss: 0.4809 - accuracy: 0.7668 - auc_1: 0.8437 - val_loss: 0.4741 - val_accuracy: 0.7705 - val_auc_1: 0.8497\n",
      "Epoch 4/30\n",
      "222/222 [==============================] - 1s 4ms/step - loss: 0.4776 - accuracy: 0.7678 - auc_1: 0.8460 - val_loss: 0.4753 - val_accuracy: 0.7705 - val_auc_1: 0.8492\n",
      "Epoch 5/30\n",
      "222/222 [==============================] - 1s 4ms/step - loss: 0.4741 - accuracy: 0.7706 - auc_1: 0.8490 - val_loss: 0.4745 - val_accuracy: 0.7736 - val_auc_1: 0.8499\n",
      "Epoch 6/30\n",
      "214/222 [===========================>..] - ETA: 0s - loss: 0.4717 - accuracy: 0.7711 - auc_1: 0.8503"
     ]
    },
    {
     "name": "stderr",
     "output_type": "stream",
     "text": [
      "2024/12/05 20:36:56 WARNING mlflow.utils.autologging_utils: Encountered unexpected error during autologging: When an mlflow-artifacts URI was supplied, the tracking URI must be a valid http or https URI, but it was currently set to file:///c:/Users/jorru/OneDrive%20-%20Universidad%20de%20los%20andes/Maestria/Anal%C3%ADtica_computacional/Proyecto_3/mlruns. Perhaps you forgot to set the tracking URI to the running MLflow server. To set the tracking URI, use either of the following methods:\n",
      "1. Set the MLFLOW_TRACKING_URI environment variable to the desired tracking URI. `export MLFLOW_TRACKING_URI=http://localhost:5000`\n",
      "2. Set the tracking URI programmatically by calling `mlflow.set_tracking_uri`. `mlflow.set_tracking_uri('http://localhost:5000')`\n"
     ]
    },
    {
     "name": "stdout",
     "output_type": "stream",
     "text": [
      "222/222 [==============================] - 1s 4ms/step - loss: 0.4718 - accuracy: 0.7713 - auc_1: 0.8504 - val_loss: 0.4733 - val_accuracy: 0.7711 - val_auc_1: 0.8496\n",
      "Epoch 7/30\n",
      "222/222 [==============================] - 1s 4ms/step - loss: 0.4693 - accuracy: 0.7724 - auc_1: 0.8523 - val_loss: 0.4743 - val_accuracy: 0.7705 - val_auc_1: 0.8498\n",
      "Epoch 8/30\n",
      "222/222 [==============================] - 1s 4ms/step - loss: 0.4673 - accuracy: 0.7728 - auc_1: 0.8535 - val_loss: 0.4747 - val_accuracy: 0.7707 - val_auc_1: 0.8493\n",
      "Epoch 9/30\n",
      "222/222 [==============================] - 1s 4ms/step - loss: 0.4656 - accuracy: 0.7743 - auc_1: 0.8549 - val_loss: 0.4758 - val_accuracy: 0.7700 - val_auc_1: 0.8491\n",
      "Epoch 10/30\n",
      "222/222 [==============================] - 1s 4ms/step - loss: 0.4626 - accuracy: 0.7766 - auc_1: 0.8569 - val_loss: 0.4776 - val_accuracy: 0.7694 - val_auc_1: 0.8475\n",
      "Epoch 11/30\n",
      "222/222 [==============================] - 1s 4ms/step - loss: 0.4614 - accuracy: 0.7760 - auc_1: 0.8578 - val_loss: 0.4770 - val_accuracy: 0.7698 - val_auc_1: 0.8473\n",
      "Epoch 12/30\n",
      "222/222 [==============================] - 1s 4ms/step - loss: 0.4604 - accuracy: 0.7758 - auc_1: 0.8586 - val_loss: 0.4777 - val_accuracy: 0.7700 - val_auc_1: 0.8471\n",
      "Epoch 13/30\n",
      "222/222 [==============================] - 1s 4ms/step - loss: 0.4580 - accuracy: 0.7774 - auc_1: 0.8601 - val_loss: 0.4789 - val_accuracy: 0.7679 - val_auc_1: 0.8466\n",
      "Epoch 14/30\n",
      "222/222 [==============================] - 1s 4ms/step - loss: 0.4555 - accuracy: 0.7786 - auc_1: 0.8615 - val_loss: 0.4782 - val_accuracy: 0.7704 - val_auc_1: 0.8472\n",
      "Epoch 15/30\n",
      "222/222 [==============================] - 1s 4ms/step - loss: 0.4535 - accuracy: 0.7802 - auc_1: 0.8628 - val_loss: 0.4800 - val_accuracy: 0.7695 - val_auc_1: 0.8462\n",
      "Epoch 16/30\n",
      "222/222 [==============================] - 1s 4ms/step - loss: 0.4520 - accuracy: 0.7803 - auc_1: 0.8641 - val_loss: 0.4812 - val_accuracy: 0.7678 - val_auc_1: 0.8463\n",
      "Epoch 17/30\n",
      "222/222 [==============================] - 1s 4ms/step - loss: 0.4517 - accuracy: 0.7804 - auc_1: 0.8640 - val_loss: 0.4810 - val_accuracy: 0.7683 - val_auc_1: 0.8452\n",
      "Epoch 18/30\n",
      "222/222 [==============================] - 1s 4ms/step - loss: 0.4495 - accuracy: 0.7816 - auc_1: 0.8657 - val_loss: 0.4864 - val_accuracy: 0.7681 - val_auc_1: 0.8441\n",
      "Epoch 19/30\n",
      "222/222 [==============================] - 1s 4ms/step - loss: 0.4471 - accuracy: 0.7834 - auc_1: 0.8672 - val_loss: 0.4853 - val_accuracy: 0.7676 - val_auc_1: 0.8432\n",
      "Epoch 20/30\n",
      "222/222 [==============================] - 1s 4ms/step - loss: 0.4462 - accuracy: 0.7836 - auc_1: 0.8678 - val_loss: 0.4858 - val_accuracy: 0.7667 - val_auc_1: 0.8444\n",
      "Epoch 21/30\n",
      "222/222 [==============================] - 1s 4ms/step - loss: 0.4442 - accuracy: 0.7858 - auc_1: 0.8692 - val_loss: 0.4872 - val_accuracy: 0.7678 - val_auc_1: 0.8435\n",
      "Epoch 22/30\n",
      "222/222 [==============================] - 1s 4ms/step - loss: 0.4437 - accuracy: 0.7853 - auc_1: 0.8693 - val_loss: 0.4862 - val_accuracy: 0.7665 - val_auc_1: 0.8433\n",
      "Epoch 23/30\n",
      "222/222 [==============================] - 1s 4ms/step - loss: 0.4411 - accuracy: 0.7867 - auc_1: 0.8708 - val_loss: 0.4865 - val_accuracy: 0.7671 - val_auc_1: 0.8433\n",
      "Epoch 24/30\n",
      "222/222 [==============================] - 1s 4ms/step - loss: 0.4400 - accuracy: 0.7875 - auc_1: 0.8718 - val_loss: 0.4910 - val_accuracy: 0.7655 - val_auc_1: 0.8425\n",
      "Epoch 25/30\n",
      "222/222 [==============================] - 1s 4ms/step - loss: 0.4397 - accuracy: 0.7874 - auc_1: 0.8719 - val_loss: 0.4892 - val_accuracy: 0.7650 - val_auc_1: 0.8420\n",
      "Epoch 26/30\n",
      "222/222 [==============================] - 1s 4ms/step - loss: 0.4369 - accuracy: 0.7879 - auc_1: 0.8736 - val_loss: 0.4880 - val_accuracy: 0.7652 - val_auc_1: 0.8422\n",
      "Epoch 27/30\n",
      "222/222 [==============================] - 1s 5ms/step - loss: 0.4348 - accuracy: 0.7897 - auc_1: 0.8749 - val_loss: 0.4930 - val_accuracy: 0.7645 - val_auc_1: 0.8414\n",
      "Epoch 28/30\n",
      "222/222 [==============================] - 1s 5ms/step - loss: 0.4346 - accuracy: 0.7889 - auc_1: 0.8748 - val_loss: 0.4919 - val_accuracy: 0.7660 - val_auc_1: 0.8410\n",
      "Epoch 29/30\n",
      "222/222 [==============================] - 1s 4ms/step - loss: 0.4327 - accuracy: 0.7904 - auc_1: 0.8762 - val_loss: 0.4934 - val_accuracy: 0.7654 - val_auc_1: 0.8403\n",
      "Epoch 30/30\n",
      "222/222 [==============================] - 1s 4ms/step - loss: 0.4322 - accuracy: 0.7902 - auc_1: 0.8765 - val_loss: 0.4938 - val_accuracy: 0.7642 - val_auc_1: 0.8399\n"
     ]
    },
    {
     "name": "stderr",
     "output_type": "stream",
     "text": [
      "2024/12/05 20:37:19 WARNING mlflow.tensorflow: Failed to infer model signature: could not sample data to infer model signature: Cannot log input example or model signature for input with type <class 'pandas.core.frame.DataFrame'>. TensorFlow Keras autologging can only log input examples and model signatures for the following input types: numpy.ndarray, dict[string -> numpy.ndarray], tensorflow.keras.utils.Sequence, and tensorflow.data.Dataset (TensorFlow >= 2.1.0 required)\n",
      "2024/12/05 20:37:19 WARNING mlflow.tensorflow: You are saving a TensorFlow Core model or Keras model without a signature. Inference with mlflow.pyfunc.spark_udf() will not work unless the model's pyfunc representation accepts pandas DataFrames as inference inputs.\n"
     ]
    },
    {
     "name": "stdout",
     "output_type": "stream",
     "text": [
      "INFO:tensorflow:Assets written to: C:\\Users\\jorru\\AppData\\Local\\Temp\\tmpnqypp5mg\\model\\data\\model\\assets\n"
     ]
    },
    {
     "name": "stderr",
     "output_type": "stream",
     "text": [
      "INFO:tensorflow:Assets written to: C:\\Users\\jorru\\AppData\\Local\\Temp\\tmpnqypp5mg\\model\\data\\model\\assets\n",
      "2024/12/05 20:37:27 WARNING mlflow.models.model: Model logged without a signature and input example. Please set `input_example` parameter when logging the model to auto infer the model signature.\n",
      "2024/12/05 20:37:27 WARNING mlflow.utils.autologging_utils: Encountered unexpected error during tensorflow autologging: When an mlflow-artifacts URI was supplied, the tracking URI must be a valid http or https URI, but it was currently set to file:///c:/Users/jorru/OneDrive%20-%20Universidad%20de%20los%20andes/Maestria/Anal%C3%ADtica_computacional/Proyecto_3/mlruns. Perhaps you forgot to set the tracking URI to the running MLflow server. To set the tracking URI, use either of the following methods:\n",
      "1. Set the MLFLOW_TRACKING_URI environment variable to the desired tracking URI. `export MLFLOW_TRACKING_URI=http://localhost:5000`\n",
      "2. Set the tracking URI programmatically by calling `mlflow.set_tracking_uri`. `mlflow.set_tracking_uri('http://localhost:5000')`\n"
     ]
    },
    {
     "name": "stdout",
     "output_type": "stream",
     "text": [
      "554/554 - 1s - loss: 0.5083 - accuracy: 0.7571 - auc_1: 0.8318 - 667ms/epoch - 1ms/step\n",
      "MLflow Run completed with run_id b6a95af9a4254dae807acf07af99f06c and experiment_id 0\n",
      "2.15.0\n"
     ]
    }
   ],
   "source": [
    "args = parser.parse_args([\"--batch_size\", '256', \"--epochs\", '30', \"--normalization\", '1'])\n",
    "\n",
    "(experimentID, runID) = run_mlflow(run_name=\"Prueba_modelo_base_con_dropout\")\n",
    "print(\"MLflow Run completed with run_id {} and experiment_id {}\".format(runID, experimentID))\n",
    "print(tf.__version__)"
   ]
  },
  {
   "cell_type": "markdown",
   "metadata": {},
   "source": [
    "### Iteramos sobre los hiper-parametros de: capas y neuronas\n",
    "#### Primero hacemos esta iteracion manteniendo en todas las capas la misma cantidad de neuronas"
   ]
  },
  {
   "cell_type": "code",
   "execution_count": 12,
   "metadata": {},
   "outputs": [
    {
     "name": "stderr",
     "output_type": "stream",
     "text": [
      "2024/12/05 20:37:29 WARNING mlflow.tensorflow: Unrecognized dataset type <class 'pandas.core.frame.DataFrame'>. Dataset logging skipped.\n",
      "2024/12/05 20:37:29 WARNING mlflow.tensorflow: Failed to log training dataset information to MLflow Tracking. Reason: 'DataFrame' object has no attribute 'flatten'\n",
      "2024/12/05 20:37:29 WARNING mlflow.utils.autologging_utils: Encountered unexpected error during autologging: When an mlflow-artifacts URI was supplied, the tracking URI must be a valid http or https URI, but it was currently set to file:///c:/Users/jorru/OneDrive%20-%20Universidad%20de%20los%20andes/Maestria/Anal%C3%ADtica_computacional/Proyecto_3/mlruns. Perhaps you forgot to set the tracking URI to the running MLflow server. To set the tracking URI, use either of the following methods:\n",
      "1. Set the MLFLOW_TRACKING_URI environment variable to the desired tracking URI. `export MLFLOW_TRACKING_URI=http://localhost:5000`\n",
      "2. Set the tracking URI programmatically by calling `mlflow.set_tracking_uri`. `mlflow.set_tracking_uri('http://localhost:5000')`\n"
     ]
    },
    {
     "name": "stdout",
     "output_type": "stream",
     "text": [
      "----------------------------------------------------------------------------------------------------\n",
      "Epoch 1/30\n",
      "  1/222 [..............................] - ETA: 2:04 - loss: 0.6900 - accuracy: 0.5859 - auc_2: 0.4470WARNING:tensorflow:Callback method `on_train_batch_end` is slow compared to the batch time (batch time: 0.0006s vs `on_train_batch_end` time: 0.0036s). Check your callbacks.\n"
     ]
    },
    {
     "name": "stderr",
     "output_type": "stream",
     "text": [
      "WARNING:tensorflow:Callback method `on_train_batch_end` is slow compared to the batch time (batch time: 0.0006s vs `on_train_batch_end` time: 0.0036s). Check your callbacks.\n"
     ]
    },
    {
     "name": "stdout",
     "output_type": "stream",
     "text": [
      "221/222 [============================>.] - ETA: 0s - loss: 0.5588 - accuracy: 0.7087 - auc_2: 0.7814"
     ]
    },
    {
     "name": "stderr",
     "output_type": "stream",
     "text": [
      "2024/12/05 20:37:30 WARNING mlflow.utils.autologging_utils: Encountered unexpected error during autologging: When an mlflow-artifacts URI was supplied, the tracking URI must be a valid http or https URI, but it was currently set to file:///c:/Users/jorru/OneDrive%20-%20Universidad%20de%20los%20andes/Maestria/Anal%C3%ADtica_computacional/Proyecto_3/mlruns. Perhaps you forgot to set the tracking URI to the running MLflow server. To set the tracking URI, use either of the following methods:\n",
      "1. Set the MLFLOW_TRACKING_URI environment variable to the desired tracking URI. `export MLFLOW_TRACKING_URI=http://localhost:5000`\n",
      "2. Set the tracking URI programmatically by calling `mlflow.set_tracking_uri`. `mlflow.set_tracking_uri('http://localhost:5000')`\n"
     ]
    },
    {
     "name": "stdout",
     "output_type": "stream",
     "text": [
      "222/222 [==============================] - 1s 4ms/step - loss: 0.5586 - accuracy: 0.7089 - auc_2: 0.7816 - val_loss: 0.4865 - val_accuracy: 0.7656 - val_auc_2: 0.8426\n",
      "Epoch 2/30\n",
      "205/222 [==========================>...] - ETA: 0s - loss: 0.4945 - accuracy: 0.7595 - auc_2: 0.8345"
     ]
    },
    {
     "name": "stderr",
     "output_type": "stream",
     "text": [
      "2024/12/05 20:37:31 WARNING mlflow.utils.autologging_utils: Encountered unexpected error during autologging: When an mlflow-artifacts URI was supplied, the tracking URI must be a valid http or https URI, but it was currently set to file:///c:/Users/jorru/OneDrive%20-%20Universidad%20de%20los%20andes/Maestria/Anal%C3%ADtica_computacional/Proyecto_3/mlruns. Perhaps you forgot to set the tracking URI to the running MLflow server. To set the tracking URI, use either of the following methods:\n",
      "1. Set the MLFLOW_TRACKING_URI environment variable to the desired tracking URI. `export MLFLOW_TRACKING_URI=http://localhost:5000`\n",
      "2. Set the tracking URI programmatically by calling `mlflow.set_tracking_uri`. `mlflow.set_tracking_uri('http://localhost:5000')`\n"
     ]
    },
    {
     "name": "stdout",
     "output_type": "stream",
     "text": [
      "222/222 [==============================] - 1s 3ms/step - loss: 0.4940 - accuracy: 0.7596 - auc_2: 0.8349 - val_loss: 0.4785 - val_accuracy: 0.7686 - val_auc_2: 0.8480\n",
      "Epoch 3/30\n",
      "217/222 [============================>.] - ETA: 0s - loss: 0.4864 - accuracy: 0.7648 - auc_2: 0.8400"
     ]
    },
    {
     "name": "stderr",
     "output_type": "stream",
     "text": [
      "2024/12/05 20:37:32 WARNING mlflow.utils.autologging_utils: Encountered unexpected error during autologging: When an mlflow-artifacts URI was supplied, the tracking URI must be a valid http or https URI, but it was currently set to file:///c:/Users/jorru/OneDrive%20-%20Universidad%20de%20los%20andes/Maestria/Anal%C3%ADtica_computacional/Proyecto_3/mlruns. Perhaps you forgot to set the tracking URI to the running MLflow server. To set the tracking URI, use either of the following methods:\n",
      "1. Set the MLFLOW_TRACKING_URI environment variable to the desired tracking URI. `export MLFLOW_TRACKING_URI=http://localhost:5000`\n",
      "2. Set the tracking URI programmatically by calling `mlflow.set_tracking_uri`. `mlflow.set_tracking_uri('http://localhost:5000')`\n"
     ]
    },
    {
     "name": "stdout",
     "output_type": "stream",
     "text": [
      "222/222 [==============================] - 1s 3ms/step - loss: 0.4864 - accuracy: 0.7647 - auc_2: 0.8399 - val_loss: 0.4762 - val_accuracy: 0.7698 - val_auc_2: 0.8489\n",
      "Epoch 4/30\n",
      "218/222 [============================>.] - ETA: 0s - loss: 0.4823 - accuracy: 0.7672 - auc_2: 0.8430"
     ]
    },
    {
     "name": "stderr",
     "output_type": "stream",
     "text": [
      "2024/12/05 20:37:32 WARNING mlflow.utils.autologging_utils: Encountered unexpected error during autologging: When an mlflow-artifacts URI was supplied, the tracking URI must be a valid http or https URI, but it was currently set to file:///c:/Users/jorru/OneDrive%20-%20Universidad%20de%20los%20andes/Maestria/Anal%C3%ADtica_computacional/Proyecto_3/mlruns. Perhaps you forgot to set the tracking URI to the running MLflow server. To set the tracking URI, use either of the following methods:\n",
      "1. Set the MLFLOW_TRACKING_URI environment variable to the desired tracking URI. `export MLFLOW_TRACKING_URI=http://localhost:5000`\n",
      "2. Set the tracking URI programmatically by calling `mlflow.set_tracking_uri`. `mlflow.set_tracking_uri('http://localhost:5000')`\n"
     ]
    },
    {
     "name": "stdout",
     "output_type": "stream",
     "text": [
      "222/222 [==============================] - 1s 3ms/step - loss: 0.4822 - accuracy: 0.7671 - auc_2: 0.8430 - val_loss: 0.4748 - val_accuracy: 0.7706 - val_auc_2: 0.8490\n",
      "Epoch 5/30\n",
      "219/222 [============================>.] - ETA: 0s - loss: 0.4787 - accuracy: 0.7677 - auc_2: 0.8454"
     ]
    },
    {
     "name": "stderr",
     "output_type": "stream",
     "text": [
      "2024/12/05 20:37:33 WARNING mlflow.utils.autologging_utils: Encountered unexpected error during autologging: When an mlflow-artifacts URI was supplied, the tracking URI must be a valid http or https URI, but it was currently set to file:///c:/Users/jorru/OneDrive%20-%20Universidad%20de%20los%20andes/Maestria/Anal%C3%ADtica_computacional/Proyecto_3/mlruns. Perhaps you forgot to set the tracking URI to the running MLflow server. To set the tracking URI, use either of the following methods:\n",
      "1. Set the MLFLOW_TRACKING_URI environment variable to the desired tracking URI. `export MLFLOW_TRACKING_URI=http://localhost:5000`\n",
      "2. Set the tracking URI programmatically by calling `mlflow.set_tracking_uri`. `mlflow.set_tracking_uri('http://localhost:5000')`\n"
     ]
    },
    {
     "name": "stdout",
     "output_type": "stream",
     "text": [
      "222/222 [==============================] - 1s 3ms/step - loss: 0.4790 - accuracy: 0.7676 - auc_2: 0.8452 - val_loss: 0.4742 - val_accuracy: 0.7696 - val_auc_2: 0.8492\n",
      "Epoch 6/30\n",
      "205/222 [==========================>...] - ETA: 0s - loss: 0.4767 - accuracy: 0.7697 - auc_2: 0.8471"
     ]
    },
    {
     "name": "stderr",
     "output_type": "stream",
     "text": [
      "2024/12/05 20:37:34 WARNING mlflow.utils.autologging_utils: Encountered unexpected error during autologging: When an mlflow-artifacts URI was supplied, the tracking URI must be a valid http or https URI, but it was currently set to file:///c:/Users/jorru/OneDrive%20-%20Universidad%20de%20los%20andes/Maestria/Anal%C3%ADtica_computacional/Proyecto_3/mlruns. Perhaps you forgot to set the tracking URI to the running MLflow server. To set the tracking URI, use either of the following methods:\n",
      "1. Set the MLFLOW_TRACKING_URI environment variable to the desired tracking URI. `export MLFLOW_TRACKING_URI=http://localhost:5000`\n",
      "2. Set the tracking URI programmatically by calling `mlflow.set_tracking_uri`. `mlflow.set_tracking_uri('http://localhost:5000')`\n"
     ]
    },
    {
     "name": "stdout",
     "output_type": "stream",
     "text": [
      "222/222 [==============================] - 1s 3ms/step - loss: 0.4771 - accuracy: 0.7692 - auc_2: 0.8467 - val_loss: 0.4734 - val_accuracy: 0.7712 - val_auc_2: 0.8501\n",
      "Epoch 7/30\n",
      "222/222 [==============================] - 1s 3ms/step - loss: 0.4753 - accuracy: 0.7708 - auc_2: 0.8479 - val_loss: 0.4747 - val_accuracy: 0.7719 - val_auc_2: 0.8491\n",
      "Epoch 8/30\n",
      "222/222 [==============================] - 1s 3ms/step - loss: 0.4740 - accuracy: 0.7700 - auc_2: 0.8492 - val_loss: 0.4743 - val_accuracy: 0.7698 - val_auc_2: 0.8493\n",
      "Epoch 9/30\n",
      "222/222 [==============================] - 1s 3ms/step - loss: 0.4726 - accuracy: 0.7712 - auc_2: 0.8502 - val_loss: 0.4744 - val_accuracy: 0.7697 - val_auc_2: 0.8491\n",
      "Epoch 10/30\n",
      "208/222 [===========================>..] - ETA: 0s - loss: 0.4712 - accuracy: 0.7740 - auc_2: 0.8512"
     ]
    },
    {
     "name": "stderr",
     "output_type": "stream",
     "text": [
      "2024/12/05 20:37:36 WARNING mlflow.utils.autologging_utils: Encountered unexpected error during autologging: When an mlflow-artifacts URI was supplied, the tracking URI must be a valid http or https URI, but it was currently set to file:///c:/Users/jorru/OneDrive%20-%20Universidad%20de%20los%20andes/Maestria/Anal%C3%ADtica_computacional/Proyecto_3/mlruns. Perhaps you forgot to set the tracking URI to the running MLflow server. To set the tracking URI, use either of the following methods:\n",
      "1. Set the MLFLOW_TRACKING_URI environment variable to the desired tracking URI. `export MLFLOW_TRACKING_URI=http://localhost:5000`\n",
      "2. Set the tracking URI programmatically by calling `mlflow.set_tracking_uri`. `mlflow.set_tracking_uri('http://localhost:5000')`\n"
     ]
    },
    {
     "name": "stdout",
     "output_type": "stream",
     "text": [
      "222/222 [==============================] - 1s 3ms/step - loss: 0.4713 - accuracy: 0.7738 - auc_2: 0.8509 - val_loss: 0.4730 - val_accuracy: 0.7713 - val_auc_2: 0.8503\n",
      "Epoch 11/30\n",
      "222/222 [==============================] - 1s 3ms/step - loss: 0.4689 - accuracy: 0.7737 - auc_2: 0.8528 - val_loss: 0.4744 - val_accuracy: 0.7702 - val_auc_2: 0.8497\n",
      "Epoch 12/30\n",
      "222/222 [==============================] - 1s 3ms/step - loss: 0.4678 - accuracy: 0.7742 - auc_2: 0.8535 - val_loss: 0.4738 - val_accuracy: 0.7712 - val_auc_2: 0.8498\n",
      "Epoch 13/30\n",
      "222/222 [==============================] - 1s 3ms/step - loss: 0.4667 - accuracy: 0.7745 - auc_2: 0.8541 - val_loss: 0.4739 - val_accuracy: 0.7704 - val_auc_2: 0.8501\n",
      "Epoch 14/30\n",
      "222/222 [==============================] - 1s 3ms/step - loss: 0.4657 - accuracy: 0.7747 - auc_2: 0.8550 - val_loss: 0.4746 - val_accuracy: 0.7707 - val_auc_2: 0.8493\n",
      "Epoch 15/30\n",
      "222/222 [==============================] - 1s 3ms/step - loss: 0.4651 - accuracy: 0.7758 - auc_2: 0.8556 - val_loss: 0.4744 - val_accuracy: 0.7709 - val_auc_2: 0.8493\n",
      "Epoch 16/30\n",
      "222/222 [==============================] - 1s 3ms/step - loss: 0.4637 - accuracy: 0.7755 - auc_2: 0.8562 - val_loss: 0.4742 - val_accuracy: 0.7720 - val_auc_2: 0.8497\n",
      "Epoch 17/30\n",
      "222/222 [==============================] - 1s 3ms/step - loss: 0.4631 - accuracy: 0.7766 - auc_2: 0.8565 - val_loss: 0.4740 - val_accuracy: 0.7697 - val_auc_2: 0.8497\n",
      "Epoch 18/30\n",
      "222/222 [==============================] - 1s 3ms/step - loss: 0.4611 - accuracy: 0.7776 - auc_2: 0.8581 - val_loss: 0.4759 - val_accuracy: 0.7702 - val_auc_2: 0.8489\n",
      "Epoch 19/30\n",
      "222/222 [==============================] - 1s 3ms/step - loss: 0.4613 - accuracy: 0.7778 - auc_2: 0.8580 - val_loss: 0.4759 - val_accuracy: 0.7695 - val_auc_2: 0.8486\n",
      "Epoch 20/30\n",
      "222/222 [==============================] - 1s 3ms/step - loss: 0.4595 - accuracy: 0.7779 - auc_2: 0.8591 - val_loss: 0.4763 - val_accuracy: 0.7700 - val_auc_2: 0.8481\n",
      "Epoch 21/30\n",
      "222/222 [==============================] - 1s 3ms/step - loss: 0.4595 - accuracy: 0.7771 - auc_2: 0.8593 - val_loss: 0.4799 - val_accuracy: 0.7669 - val_auc_2: 0.8477\n",
      "Epoch 22/30\n",
      "222/222 [==============================] - 1s 3ms/step - loss: 0.4601 - accuracy: 0.7778 - auc_2: 0.8589 - val_loss: 0.4776 - val_accuracy: 0.7693 - val_auc_2: 0.8476\n",
      "Epoch 23/30\n",
      "222/222 [==============================] - 1s 3ms/step - loss: 0.4577 - accuracy: 0.7786 - auc_2: 0.8604 - val_loss: 0.4789 - val_accuracy: 0.7671 - val_auc_2: 0.8480\n",
      "Epoch 24/30\n",
      "222/222 [==============================] - 1s 3ms/step - loss: 0.4576 - accuracy: 0.7785 - auc_2: 0.8608 - val_loss: 0.4771 - val_accuracy: 0.7673 - val_auc_2: 0.8479\n",
      "Epoch 25/30\n",
      "222/222 [==============================] - 1s 3ms/step - loss: 0.4566 - accuracy: 0.7809 - auc_2: 0.8610 - val_loss: 0.4783 - val_accuracy: 0.7678 - val_auc_2: 0.8474\n",
      "Epoch 26/30\n",
      "222/222 [==============================] - 1s 3ms/step - loss: 0.4562 - accuracy: 0.7802 - auc_2: 0.8615 - val_loss: 0.4789 - val_accuracy: 0.7673 - val_auc_2: 0.8470\n",
      "Epoch 27/30\n",
      "222/222 [==============================] - 1s 3ms/step - loss: 0.4556 - accuracy: 0.7792 - auc_2: 0.8621 - val_loss: 0.4785 - val_accuracy: 0.7673 - val_auc_2: 0.8469\n",
      "Epoch 28/30\n",
      "222/222 [==============================] - 1s 3ms/step - loss: 0.4539 - accuracy: 0.7817 - auc_2: 0.8628 - val_loss: 0.4792 - val_accuracy: 0.7652 - val_auc_2: 0.8469\n",
      "Epoch 29/30\n",
      "222/222 [==============================] - 1s 3ms/step - loss: 0.4535 - accuracy: 0.7809 - auc_2: 0.8630 - val_loss: 0.4795 - val_accuracy: 0.7666 - val_auc_2: 0.8468\n",
      "Epoch 30/30\n",
      "222/222 [==============================] - 1s 3ms/step - loss: 0.4524 - accuracy: 0.7805 - auc_2: 0.8638 - val_loss: 0.4794 - val_accuracy: 0.7673 - val_auc_2: 0.8474\n"
     ]
    },
    {
     "name": "stderr",
     "output_type": "stream",
     "text": [
      "2024/12/05 20:37:50 WARNING mlflow.tensorflow: Failed to infer model signature: could not sample data to infer model signature: Cannot log input example or model signature for input with type <class 'pandas.core.frame.DataFrame'>. TensorFlow Keras autologging can only log input examples and model signatures for the following input types: numpy.ndarray, dict[string -> numpy.ndarray], tensorflow.keras.utils.Sequence, and tensorflow.data.Dataset (TensorFlow >= 2.1.0 required)\n",
      "2024/12/05 20:37:50 WARNING mlflow.tensorflow: You are saving a TensorFlow Core model or Keras model without a signature. Inference with mlflow.pyfunc.spark_udf() will not work unless the model's pyfunc representation accepts pandas DataFrames as inference inputs.\n"
     ]
    },
    {
     "name": "stdout",
     "output_type": "stream",
     "text": [
      "INFO:tensorflow:Assets written to: C:\\Users\\jorru\\AppData\\Local\\Temp\\tmplthibqsm\\model\\data\\model\\assets\n"
     ]
    },
    {
     "name": "stderr",
     "output_type": "stream",
     "text": [
      "INFO:tensorflow:Assets written to: C:\\Users\\jorru\\AppData\\Local\\Temp\\tmplthibqsm\\model\\data\\model\\assets\n",
      "2024/12/05 20:37:58 WARNING mlflow.models.model: Model logged without a signature and input example. Please set `input_example` parameter when logging the model to auto infer the model signature.\n",
      "2024/12/05 20:37:58 WARNING mlflow.utils.autologging_utils: Encountered unexpected error during tensorflow autologging: When an mlflow-artifacts URI was supplied, the tracking URI must be a valid http or https URI, but it was currently set to file:///c:/Users/jorru/OneDrive%20-%20Universidad%20de%20los%20andes/Maestria/Anal%C3%ADtica_computacional/Proyecto_3/mlruns. Perhaps you forgot to set the tracking URI to the running MLflow server. To set the tracking URI, use either of the following methods:\n",
      "1. Set the MLFLOW_TRACKING_URI environment variable to the desired tracking URI. `export MLFLOW_TRACKING_URI=http://localhost:5000`\n",
      "2. Set the tracking URI programmatically by calling `mlflow.set_tracking_uri`. `mlflow.set_tracking_uri('http://localhost:5000')`\n"
     ]
    },
    {
     "name": "stdout",
     "output_type": "stream",
     "text": [
      "554/554 - 1s - loss: 0.4941 - accuracy: 0.7604 - auc_2: 0.8379 - 733ms/epoch - 1ms/step\n"
     ]
    },
    {
     "name": "stderr",
     "output_type": "stream",
     "text": [
      "2024/12/05 20:37:59 WARNING mlflow.tensorflow: Unrecognized dataset type <class 'pandas.core.frame.DataFrame'>. Dataset logging skipped.\n",
      "2024/12/05 20:37:59 WARNING mlflow.tensorflow: Failed to log training dataset information to MLflow Tracking. Reason: 'DataFrame' object has no attribute 'flatten'\n",
      "2024/12/05 20:37:59 WARNING mlflow.utils.autologging_utils: Encountered unexpected error during autologging: When an mlflow-artifacts URI was supplied, the tracking URI must be a valid http or https URI, but it was currently set to file:///c:/Users/jorru/OneDrive%20-%20Universidad%20de%20los%20andes/Maestria/Anal%C3%ADtica_computacional/Proyecto_3/mlruns. Perhaps you forgot to set the tracking URI to the running MLflow server. To set the tracking URI, use either of the following methods:\n",
      "1. Set the MLFLOW_TRACKING_URI environment variable to the desired tracking URI. `export MLFLOW_TRACKING_URI=http://localhost:5000`\n",
      "2. Set the tracking URI programmatically by calling `mlflow.set_tracking_uri`. `mlflow.set_tracking_uri('http://localhost:5000')`\n"
     ]
    },
    {
     "name": "stdout",
     "output_type": "stream",
     "text": [
      "MLflow Run completed with run_id 5af13278ddf1451fb01e311b5c7663d9 and experiment_id 0\n",
      "2.15.0\n",
      "----------------------------------------------------------------------------------------------------\n",
      "Epoch 1/30\n",
      "  1/222 [..............................] - ETA: 2:04 - loss: 0.6921 - accuracy: 0.5117 - auc_3: 0.4998WARNING:tensorflow:Callback method `on_train_batch_end` is slow compared to the batch time (batch time: 0.0019s vs `on_train_batch_end` time: 0.0040s). Check your callbacks.\n"
     ]
    },
    {
     "name": "stderr",
     "output_type": "stream",
     "text": [
      "WARNING:tensorflow:Callback method `on_train_batch_end` is slow compared to the batch time (batch time: 0.0019s vs `on_train_batch_end` time: 0.0040s). Check your callbacks.\n"
     ]
    },
    {
     "name": "stdout",
     "output_type": "stream",
     "text": [
      "222/222 [==============================] - ETA: 0s - loss: 0.5321 - accuracy: 0.7298 - auc_3: 0.8048"
     ]
    },
    {
     "name": "stderr",
     "output_type": "stream",
     "text": [
      "2024/12/05 20:38:01 WARNING mlflow.utils.autologging_utils: Encountered unexpected error during autologging: When an mlflow-artifacts URI was supplied, the tracking URI must be a valid http or https URI, but it was currently set to file:///c:/Users/jorru/OneDrive%20-%20Universidad%20de%20los%20andes/Maestria/Anal%C3%ADtica_computacional/Proyecto_3/mlruns. Perhaps you forgot to set the tracking URI to the running MLflow server. To set the tracking URI, use either of the following methods:\n",
      "1. Set the MLFLOW_TRACKING_URI environment variable to the desired tracking URI. `export MLFLOW_TRACKING_URI=http://localhost:5000`\n",
      "2. Set the tracking URI programmatically by calling `mlflow.set_tracking_uri`. `mlflow.set_tracking_uri('http://localhost:5000')`\n"
     ]
    },
    {
     "name": "stdout",
     "output_type": "stream",
     "text": [
      "222/222 [==============================] - 2s 4ms/step - loss: 0.5321 - accuracy: 0.7298 - auc_3: 0.8048 - val_loss: 0.4823 - val_accuracy: 0.7669 - val_auc_3: 0.8435\n",
      "Epoch 2/30\n",
      "218/222 [============================>.] - ETA: 0s - loss: 0.4880 - accuracy: 0.7626 - auc_3: 0.8385"
     ]
    },
    {
     "name": "stderr",
     "output_type": "stream",
     "text": [
      "2024/12/05 20:38:02 WARNING mlflow.utils.autologging_utils: Encountered unexpected error during autologging: When an mlflow-artifacts URI was supplied, the tracking URI must be a valid http or https URI, but it was currently set to file:///c:/Users/jorru/OneDrive%20-%20Universidad%20de%20los%20andes/Maestria/Anal%C3%ADtica_computacional/Proyecto_3/mlruns. Perhaps you forgot to set the tracking URI to the running MLflow server. To set the tracking URI, use either of the following methods:\n",
      "1. Set the MLFLOW_TRACKING_URI environment variable to the desired tracking URI. `export MLFLOW_TRACKING_URI=http://localhost:5000`\n",
      "2. Set the tracking URI programmatically by calling `mlflow.set_tracking_uri`. `mlflow.set_tracking_uri('http://localhost:5000')`\n"
     ]
    },
    {
     "name": "stdout",
     "output_type": "stream",
     "text": [
      "222/222 [==============================] - 1s 4ms/step - loss: 0.4878 - accuracy: 0.7625 - auc_3: 0.8386 - val_loss: 0.4772 - val_accuracy: 0.7709 - val_auc_3: 0.8483\n",
      "Epoch 3/30\n",
      "219/222 [============================>.] - ETA: 0s - loss: 0.4801 - accuracy: 0.7656 - auc_3: 0.8445"
     ]
    },
    {
     "name": "stderr",
     "output_type": "stream",
     "text": [
      "2024/12/05 20:38:03 WARNING mlflow.utils.autologging_utils: Encountered unexpected error during autologging: When an mlflow-artifacts URI was supplied, the tracking URI must be a valid http or https URI, but it was currently set to file:///c:/Users/jorru/OneDrive%20-%20Universidad%20de%20los%20andes/Maestria/Anal%C3%ADtica_computacional/Proyecto_3/mlruns. Perhaps you forgot to set the tracking URI to the running MLflow server. To set the tracking URI, use either of the following methods:\n",
      "1. Set the MLFLOW_TRACKING_URI environment variable to the desired tracking URI. `export MLFLOW_TRACKING_URI=http://localhost:5000`\n",
      "2. Set the tracking URI programmatically by calling `mlflow.set_tracking_uri`. `mlflow.set_tracking_uri('http://localhost:5000')`\n"
     ]
    },
    {
     "name": "stdout",
     "output_type": "stream",
     "text": [
      "222/222 [==============================] - 1s 4ms/step - loss: 0.4805 - accuracy: 0.7654 - auc_3: 0.8443 - val_loss: 0.4733 - val_accuracy: 0.7727 - val_auc_3: 0.8502\n",
      "Epoch 4/30\n",
      "222/222 [==============================] - 1s 4ms/step - loss: 0.4765 - accuracy: 0.7680 - auc_3: 0.8468 - val_loss: 0.4747 - val_accuracy: 0.7720 - val_auc_3: 0.8494\n",
      "Epoch 5/30\n",
      "222/222 [==============================] - ETA: 0s - loss: 0.4743 - accuracy: 0.7708 - auc_3: 0.8486"
     ]
    },
    {
     "name": "stderr",
     "output_type": "stream",
     "text": [
      "2024/12/05 20:38:05 WARNING mlflow.utils.autologging_utils: Encountered unexpected error during autologging: When an mlflow-artifacts URI was supplied, the tracking URI must be a valid http or https URI, but it was currently set to file:///c:/Users/jorru/OneDrive%20-%20Universidad%20de%20los%20andes/Maestria/Anal%C3%ADtica_computacional/Proyecto_3/mlruns. Perhaps you forgot to set the tracking URI to the running MLflow server. To set the tracking URI, use either of the following methods:\n",
      "1. Set the MLFLOW_TRACKING_URI environment variable to the desired tracking URI. `export MLFLOW_TRACKING_URI=http://localhost:5000`\n",
      "2. Set the tracking URI programmatically by calling `mlflow.set_tracking_uri`. `mlflow.set_tracking_uri('http://localhost:5000')`\n"
     ]
    },
    {
     "name": "stdout",
     "output_type": "stream",
     "text": [
      "222/222 [==============================] - 1s 4ms/step - loss: 0.4743 - accuracy: 0.7708 - auc_3: 0.8486 - val_loss: 0.4725 - val_accuracy: 0.7719 - val_auc_3: 0.8504\n",
      "Epoch 6/30\n",
      "222/222 [==============================] - 1s 4ms/step - loss: 0.4718 - accuracy: 0.7713 - auc_3: 0.8504 - val_loss: 0.4741 - val_accuracy: 0.7716 - val_auc_3: 0.8502\n",
      "Epoch 7/30\n",
      "222/222 [==============================] - 1s 5ms/step - loss: 0.4694 - accuracy: 0.7720 - auc_3: 0.8520 - val_loss: 0.4753 - val_accuracy: 0.7705 - val_auc_3: 0.8481\n",
      "Epoch 8/30\n",
      "222/222 [==============================] - 1s 4ms/step - loss: 0.4676 - accuracy: 0.7729 - auc_3: 0.8532 - val_loss: 0.4743 - val_accuracy: 0.7718 - val_auc_3: 0.8496\n",
      "Epoch 9/30\n",
      "222/222 [==============================] - 1s 4ms/step - loss: 0.4653 - accuracy: 0.7754 - auc_3: 0.8552 - val_loss: 0.4748 - val_accuracy: 0.7702 - val_auc_3: 0.8490\n",
      "Epoch 10/30\n",
      "222/222 [==============================] - 1s 4ms/step - loss: 0.4652 - accuracy: 0.7763 - auc_3: 0.8551 - val_loss: 0.4752 - val_accuracy: 0.7704 - val_auc_3: 0.8492\n",
      "Epoch 11/30\n",
      "222/222 [==============================] - 1s 4ms/step - loss: 0.4633 - accuracy: 0.7759 - auc_3: 0.8568 - val_loss: 0.4765 - val_accuracy: 0.7721 - val_auc_3: 0.8485\n",
      "Epoch 12/30\n",
      "222/222 [==============================] - 1s 4ms/step - loss: 0.4595 - accuracy: 0.7785 - auc_3: 0.8591 - val_loss: 0.4788 - val_accuracy: 0.7663 - val_auc_3: 0.8476\n",
      "Epoch 13/30\n",
      "222/222 [==============================] - 1s 4ms/step - loss: 0.4596 - accuracy: 0.7778 - auc_3: 0.8588 - val_loss: 0.4803 - val_accuracy: 0.7701 - val_auc_3: 0.8475\n",
      "Epoch 14/30\n",
      "222/222 [==============================] - 1s 4ms/step - loss: 0.4564 - accuracy: 0.7801 - auc_3: 0.8611 - val_loss: 0.4793 - val_accuracy: 0.7688 - val_auc_3: 0.8456\n",
      "Epoch 15/30\n",
      "222/222 [==============================] - 1s 4ms/step - loss: 0.4552 - accuracy: 0.7795 - auc_3: 0.8620 - val_loss: 0.4804 - val_accuracy: 0.7697 - val_auc_3: 0.8475\n",
      "Epoch 16/30\n",
      "222/222 [==============================] - 1s 4ms/step - loss: 0.4549 - accuracy: 0.7802 - auc_3: 0.8622 - val_loss: 0.4797 - val_accuracy: 0.7690 - val_auc_3: 0.8460\n",
      "Epoch 17/30\n",
      "222/222 [==============================] - 1s 5ms/step - loss: 0.4528 - accuracy: 0.7819 - auc_3: 0.8636 - val_loss: 0.4816 - val_accuracy: 0.7678 - val_auc_3: 0.8450\n",
      "Epoch 18/30\n",
      "222/222 [==============================] - 1s 4ms/step - loss: 0.4513 - accuracy: 0.7808 - auc_3: 0.8645 - val_loss: 0.4814 - val_accuracy: 0.7699 - val_auc_3: 0.8459\n",
      "Epoch 19/30\n",
      "222/222 [==============================] - 1s 4ms/step - loss: 0.4496 - accuracy: 0.7833 - auc_3: 0.8658 - val_loss: 0.4820 - val_accuracy: 0.7690 - val_auc_3: 0.8450\n",
      "Epoch 20/30\n",
      "222/222 [==============================] - 1s 4ms/step - loss: 0.4472 - accuracy: 0.7823 - auc_3: 0.8671 - val_loss: 0.4840 - val_accuracy: 0.7683 - val_auc_3: 0.8442\n",
      "Epoch 21/30\n",
      "222/222 [==============================] - 1s 4ms/step - loss: 0.4466 - accuracy: 0.7838 - auc_3: 0.8679 - val_loss: 0.4837 - val_accuracy: 0.7663 - val_auc_3: 0.8446\n",
      "Epoch 22/30\n",
      "222/222 [==============================] - 1s 4ms/step - loss: 0.4458 - accuracy: 0.7838 - auc_3: 0.8680 - val_loss: 0.4854 - val_accuracy: 0.7669 - val_auc_3: 0.8442\n",
      "Epoch 23/30\n",
      "222/222 [==============================] - 1s 4ms/step - loss: 0.4433 - accuracy: 0.7855 - auc_3: 0.8696 - val_loss: 0.4872 - val_accuracy: 0.7666 - val_auc_3: 0.8429\n",
      "Epoch 24/30\n",
      "222/222 [==============================] - 1s 4ms/step - loss: 0.4428 - accuracy: 0.7855 - auc_3: 0.8701 - val_loss: 0.4880 - val_accuracy: 0.7657 - val_auc_3: 0.8431\n",
      "Epoch 25/30\n",
      "222/222 [==============================] - 1s 4ms/step - loss: 0.4421 - accuracy: 0.7867 - auc_3: 0.8706 - val_loss: 0.4913 - val_accuracy: 0.7659 - val_auc_3: 0.8419\n",
      "Epoch 26/30\n",
      "222/222 [==============================] - 1s 4ms/step - loss: 0.4389 - accuracy: 0.7868 - auc_3: 0.8725 - val_loss: 0.4896 - val_accuracy: 0.7667 - val_auc_3: 0.8419\n",
      "Epoch 27/30\n",
      "222/222 [==============================] - 1s 4ms/step - loss: 0.4388 - accuracy: 0.7879 - auc_3: 0.8725 - val_loss: 0.4924 - val_accuracy: 0.7666 - val_auc_3: 0.8406\n",
      "Epoch 28/30\n",
      "222/222 [==============================] - 1s 4ms/step - loss: 0.4375 - accuracy: 0.7877 - auc_3: 0.8735 - val_loss: 0.4937 - val_accuracy: 0.7643 - val_auc_3: 0.8414\n",
      "Epoch 29/30\n",
      "222/222 [==============================] - 1s 4ms/step - loss: 0.4356 - accuracy: 0.7893 - auc_3: 0.8747 - val_loss: 0.4927 - val_accuracy: 0.7647 - val_auc_3: 0.8399\n",
      "Epoch 30/30\n",
      "222/222 [==============================] - 1s 4ms/step - loss: 0.4341 - accuracy: 0.7899 - auc_3: 0.8757 - val_loss: 0.4938 - val_accuracy: 0.7652 - val_auc_3: 0.8403\n"
     ]
    },
    {
     "name": "stderr",
     "output_type": "stream",
     "text": [
      "2024/12/05 20:38:28 WARNING mlflow.tensorflow: Failed to infer model signature: could not sample data to infer model signature: Cannot log input example or model signature for input with type <class 'pandas.core.frame.DataFrame'>. TensorFlow Keras autologging can only log input examples and model signatures for the following input types: numpy.ndarray, dict[string -> numpy.ndarray], tensorflow.keras.utils.Sequence, and tensorflow.data.Dataset (TensorFlow >= 2.1.0 required)\n",
      "2024/12/05 20:38:28 WARNING mlflow.tensorflow: You are saving a TensorFlow Core model or Keras model without a signature. Inference with mlflow.pyfunc.spark_udf() will not work unless the model's pyfunc representation accepts pandas DataFrames as inference inputs.\n"
     ]
    },
    {
     "name": "stdout",
     "output_type": "stream",
     "text": [
      "INFO:tensorflow:Assets written to: C:\\Users\\jorru\\AppData\\Local\\Temp\\tmpnqijhq2b\\model\\data\\model\\assets\n"
     ]
    },
    {
     "name": "stderr",
     "output_type": "stream",
     "text": [
      "INFO:tensorflow:Assets written to: C:\\Users\\jorru\\AppData\\Local\\Temp\\tmpnqijhq2b\\model\\data\\model\\assets\n",
      "2024/12/05 20:38:36 WARNING mlflow.models.model: Model logged without a signature and input example. Please set `input_example` parameter when logging the model to auto infer the model signature.\n",
      "2024/12/05 20:38:36 WARNING mlflow.utils.autologging_utils: Encountered unexpected error during tensorflow autologging: When an mlflow-artifacts URI was supplied, the tracking URI must be a valid http or https URI, but it was currently set to file:///c:/Users/jorru/OneDrive%20-%20Universidad%20de%20los%20andes/Maestria/Anal%C3%ADtica_computacional/Proyecto_3/mlruns. Perhaps you forgot to set the tracking URI to the running MLflow server. To set the tracking URI, use either of the following methods:\n",
      "1. Set the MLFLOW_TRACKING_URI environment variable to the desired tracking URI. `export MLFLOW_TRACKING_URI=http://localhost:5000`\n",
      "2. Set the tracking URI programmatically by calling `mlflow.set_tracking_uri`. `mlflow.set_tracking_uri('http://localhost:5000')`\n"
     ]
    },
    {
     "name": "stdout",
     "output_type": "stream",
     "text": [
      "554/554 - 1s - loss: 0.5061 - accuracy: 0.7581 - auc_3: 0.8334 - 516ms/epoch - 932us/step\n"
     ]
    },
    {
     "name": "stderr",
     "output_type": "stream",
     "text": [
      "2024/12/05 20:38:37 WARNING mlflow.tensorflow: Unrecognized dataset type <class 'pandas.core.frame.DataFrame'>. Dataset logging skipped.\n",
      "2024/12/05 20:38:37 WARNING mlflow.tensorflow: Failed to log training dataset information to MLflow Tracking. Reason: 'DataFrame' object has no attribute 'flatten'\n",
      "2024/12/05 20:38:37 WARNING mlflow.utils.autologging_utils: Encountered unexpected error during autologging: When an mlflow-artifacts URI was supplied, the tracking URI must be a valid http or https URI, but it was currently set to file:///c:/Users/jorru/OneDrive%20-%20Universidad%20de%20los%20andes/Maestria/Anal%C3%ADtica_computacional/Proyecto_3/mlruns. Perhaps you forgot to set the tracking URI to the running MLflow server. To set the tracking URI, use either of the following methods:\n",
      "1. Set the MLFLOW_TRACKING_URI environment variable to the desired tracking URI. `export MLFLOW_TRACKING_URI=http://localhost:5000`\n",
      "2. Set the tracking URI programmatically by calling `mlflow.set_tracking_uri`. `mlflow.set_tracking_uri('http://localhost:5000')`\n"
     ]
    },
    {
     "name": "stdout",
     "output_type": "stream",
     "text": [
      "MLflow Run completed with run_id 44a498d305ac4c2da0352bfb2eeb2bc9 and experiment_id 0\n",
      "2.15.0\n",
      "----------------------------------------------------------------------------------------------------\n",
      "Epoch 1/30\n",
      "220/222 [============================>.] - ETA: 0s - loss: 0.5196 - accuracy: 0.7381 - auc_4: 0.8154"
     ]
    },
    {
     "name": "stderr",
     "output_type": "stream",
     "text": [
      "2024/12/05 20:38:39 WARNING mlflow.utils.autologging_utils: Encountered unexpected error during autologging: When an mlflow-artifacts URI was supplied, the tracking URI must be a valid http or https URI, but it was currently set to file:///c:/Users/jorru/OneDrive%20-%20Universidad%20de%20los%20andes/Maestria/Anal%C3%ADtica_computacional/Proyecto_3/mlruns. Perhaps you forgot to set the tracking URI to the running MLflow server. To set the tracking URI, use either of the following methods:\n",
      "1. Set the MLFLOW_TRACKING_URI environment variable to the desired tracking URI. `export MLFLOW_TRACKING_URI=http://localhost:5000`\n",
      "2. Set the tracking URI programmatically by calling `mlflow.set_tracking_uri`. `mlflow.set_tracking_uri('http://localhost:5000')`\n"
     ]
    },
    {
     "name": "stdout",
     "output_type": "stream",
     "text": [
      "222/222 [==============================] - 2s 6ms/step - loss: 0.5194 - accuracy: 0.7384 - auc_4: 0.8157 - val_loss: 0.4778 - val_accuracy: 0.7694 - val_auc_4: 0.8470\n",
      "Epoch 2/30\n",
      "218/222 [============================>.] - ETA: 0s - loss: 0.4839 - accuracy: 0.7647 - auc_4: 0.8414"
     ]
    },
    {
     "name": "stderr",
     "output_type": "stream",
     "text": [
      "2024/12/05 20:38:40 WARNING mlflow.utils.autologging_utils: Encountered unexpected error during autologging: When an mlflow-artifacts URI was supplied, the tracking URI must be a valid http or https URI, but it was currently set to file:///c:/Users/jorru/OneDrive%20-%20Universidad%20de%20los%20andes/Maestria/Anal%C3%ADtica_computacional/Proyecto_3/mlruns. Perhaps you forgot to set the tracking URI to the running MLflow server. To set the tracking URI, use either of the following methods:\n",
      "1. Set the MLFLOW_TRACKING_URI environment variable to the desired tracking URI. `export MLFLOW_TRACKING_URI=http://localhost:5000`\n",
      "2. Set the tracking URI programmatically by calling `mlflow.set_tracking_uri`. `mlflow.set_tracking_uri('http://localhost:5000')`\n"
     ]
    },
    {
     "name": "stdout",
     "output_type": "stream",
     "text": [
      "222/222 [==============================] - 1s 6ms/step - loss: 0.4839 - accuracy: 0.7649 - auc_4: 0.8415 - val_loss: 0.4751 - val_accuracy: 0.7712 - val_auc_4: 0.8485\n",
      "Epoch 3/30\n",
      "213/222 [===========================>..] - ETA: 0s - loss: 0.4765 - accuracy: 0.7695 - auc_4: 0.8468"
     ]
    },
    {
     "name": "stderr",
     "output_type": "stream",
     "text": [
      "2024/12/05 20:38:42 WARNING mlflow.utils.autologging_utils: Encountered unexpected error during autologging: When an mlflow-artifacts URI was supplied, the tracking URI must be a valid http or https URI, but it was currently set to file:///c:/Users/jorru/OneDrive%20-%20Universidad%20de%20los%20andes/Maestria/Anal%C3%ADtica_computacional/Proyecto_3/mlruns. Perhaps you forgot to set the tracking URI to the running MLflow server. To set the tracking URI, use either of the following methods:\n",
      "1. Set the MLFLOW_TRACKING_URI environment variable to the desired tracking URI. `export MLFLOW_TRACKING_URI=http://localhost:5000`\n",
      "2. Set the tracking URI programmatically by calling `mlflow.set_tracking_uri`. `mlflow.set_tracking_uri('http://localhost:5000')`\n"
     ]
    },
    {
     "name": "stdout",
     "output_type": "stream",
     "text": [
      "222/222 [==============================] - 1s 6ms/step - loss: 0.4777 - accuracy: 0.7687 - auc_4: 0.8460 - val_loss: 0.4747 - val_accuracy: 0.7730 - val_auc_4: 0.8489\n",
      "Epoch 4/30\n",
      "221/222 [============================>.] - ETA: 0s - loss: 0.4732 - accuracy: 0.7700 - auc_4: 0.8492"
     ]
    },
    {
     "name": "stderr",
     "output_type": "stream",
     "text": [
      "2024/12/05 20:38:43 WARNING mlflow.utils.autologging_utils: Encountered unexpected error during autologging: When an mlflow-artifacts URI was supplied, the tracking URI must be a valid http or https URI, but it was currently set to file:///c:/Users/jorru/OneDrive%20-%20Universidad%20de%20los%20andes/Maestria/Anal%C3%ADtica_computacional/Proyecto_3/mlruns. Perhaps you forgot to set the tracking URI to the running MLflow server. To set the tracking URI, use either of the following methods:\n",
      "1. Set the MLFLOW_TRACKING_URI environment variable to the desired tracking URI. `export MLFLOW_TRACKING_URI=http://localhost:5000`\n",
      "2. Set the tracking URI programmatically by calling `mlflow.set_tracking_uri`. `mlflow.set_tracking_uri('http://localhost:5000')`\n"
     ]
    },
    {
     "name": "stdout",
     "output_type": "stream",
     "text": [
      "222/222 [==============================] - 1s 6ms/step - loss: 0.4733 - accuracy: 0.7700 - auc_4: 0.8492 - val_loss: 0.4746 - val_accuracy: 0.7712 - val_auc_4: 0.8494\n",
      "Epoch 5/30\n",
      "216/222 [============================>.] - ETA: 0s - loss: 0.4696 - accuracy: 0.7723 - auc_4: 0.8518"
     ]
    },
    {
     "name": "stderr",
     "output_type": "stream",
     "text": [
      "2024/12/05 20:38:44 WARNING mlflow.utils.autologging_utils: Encountered unexpected error during autologging: When an mlflow-artifacts URI was supplied, the tracking URI must be a valid http or https URI, but it was currently set to file:///c:/Users/jorru/OneDrive%20-%20Universidad%20de%20los%20andes/Maestria/Anal%C3%ADtica_computacional/Proyecto_3/mlruns. Perhaps you forgot to set the tracking URI to the running MLflow server. To set the tracking URI, use either of the following methods:\n",
      "1. Set the MLFLOW_TRACKING_URI environment variable to the desired tracking URI. `export MLFLOW_TRACKING_URI=http://localhost:5000`\n",
      "2. Set the tracking URI programmatically by calling `mlflow.set_tracking_uri`. `mlflow.set_tracking_uri('http://localhost:5000')`\n"
     ]
    },
    {
     "name": "stdout",
     "output_type": "stream",
     "text": [
      "222/222 [==============================] - 1s 5ms/step - loss: 0.4699 - accuracy: 0.7723 - auc_4: 0.8515 - val_loss: 0.4745 - val_accuracy: 0.7700 - val_auc_4: 0.8497\n",
      "Epoch 6/30\n",
      "222/222 [==============================] - 1s 6ms/step - loss: 0.4669 - accuracy: 0.7740 - auc_4: 0.8537 - val_loss: 0.4753 - val_accuracy: 0.7712 - val_auc_4: 0.8481\n",
      "Epoch 7/30\n",
      "222/222 [==============================] - 1s 6ms/step - loss: 0.4643 - accuracy: 0.7744 - auc_4: 0.8557 - val_loss: 0.4772 - val_accuracy: 0.7699 - val_auc_4: 0.8481\n",
      "Epoch 8/30\n",
      "222/222 [==============================] - 1s 5ms/step - loss: 0.4610 - accuracy: 0.7754 - auc_4: 0.8576 - val_loss: 0.4772 - val_accuracy: 0.7708 - val_auc_4: 0.8480\n",
      "Epoch 9/30\n",
      "222/222 [==============================] - 1s 6ms/step - loss: 0.4591 - accuracy: 0.7777 - auc_4: 0.8592 - val_loss: 0.4760 - val_accuracy: 0.7719 - val_auc_4: 0.8488\n",
      "Epoch 10/30\n",
      "222/222 [==============================] - 1s 6ms/step - loss: 0.4560 - accuracy: 0.7790 - auc_4: 0.8614 - val_loss: 0.4787 - val_accuracy: 0.7695 - val_auc_4: 0.8467\n",
      "Epoch 11/30\n",
      "222/222 [==============================] - 1s 6ms/step - loss: 0.4526 - accuracy: 0.7800 - auc_4: 0.8633 - val_loss: 0.4809 - val_accuracy: 0.7674 - val_auc_4: 0.8459\n",
      "Epoch 12/30\n",
      "222/222 [==============================] - 1s 6ms/step - loss: 0.4495 - accuracy: 0.7816 - auc_4: 0.8653 - val_loss: 0.4830 - val_accuracy: 0.7659 - val_auc_4: 0.8443\n",
      "Epoch 13/30\n",
      "222/222 [==============================] - 1s 6ms/step - loss: 0.4465 - accuracy: 0.7823 - auc_4: 0.8674 - val_loss: 0.4835 - val_accuracy: 0.7673 - val_auc_4: 0.8444\n",
      "Epoch 14/30\n",
      "222/222 [==============================] - 1s 6ms/step - loss: 0.4432 - accuracy: 0.7847 - auc_4: 0.8693 - val_loss: 0.4850 - val_accuracy: 0.7647 - val_auc_4: 0.8435\n",
      "Epoch 15/30\n",
      "222/222 [==============================] - 1s 6ms/step - loss: 0.4406 - accuracy: 0.7844 - auc_4: 0.8707 - val_loss: 0.4894 - val_accuracy: 0.7649 - val_auc_4: 0.8413\n",
      "Epoch 16/30\n",
      "222/222 [==============================] - 1s 6ms/step - loss: 0.4368 - accuracy: 0.7885 - auc_4: 0.8736 - val_loss: 0.4947 - val_accuracy: 0.7636 - val_auc_4: 0.8413\n",
      "Epoch 17/30\n",
      "222/222 [==============================] - 1s 5ms/step - loss: 0.4334 - accuracy: 0.7894 - auc_4: 0.8757 - val_loss: 0.4935 - val_accuracy: 0.7647 - val_auc_4: 0.8392\n",
      "Epoch 18/30\n",
      "222/222 [==============================] - 1s 6ms/step - loss: 0.4302 - accuracy: 0.7910 - auc_4: 0.8772 - val_loss: 0.4967 - val_accuracy: 0.7633 - val_auc_4: 0.8392\n",
      "Epoch 19/30\n",
      "222/222 [==============================] - 1s 6ms/step - loss: 0.4289 - accuracy: 0.7913 - auc_4: 0.8783 - val_loss: 0.4996 - val_accuracy: 0.7623 - val_auc_4: 0.8391\n",
      "Epoch 20/30\n",
      "222/222 [==============================] - 1s 6ms/step - loss: 0.4248 - accuracy: 0.7937 - auc_4: 0.8807 - val_loss: 0.5001 - val_accuracy: 0.7635 - val_auc_4: 0.8388\n",
      "Epoch 21/30\n",
      "222/222 [==============================] - 1s 5ms/step - loss: 0.4206 - accuracy: 0.7967 - auc_4: 0.8835 - val_loss: 0.5068 - val_accuracy: 0.7621 - val_auc_4: 0.8379\n",
      "Epoch 22/30\n",
      "222/222 [==============================] - 1s 5ms/step - loss: 0.4181 - accuracy: 0.7971 - auc_4: 0.8847 - val_loss: 0.5070 - val_accuracy: 0.7626 - val_auc_4: 0.8366\n",
      "Epoch 23/30\n",
      "222/222 [==============================] - 1s 6ms/step - loss: 0.4142 - accuracy: 0.7975 - auc_4: 0.8868 - val_loss: 0.5096 - val_accuracy: 0.7580 - val_auc_4: 0.8356\n",
      "Epoch 24/30\n",
      "222/222 [==============================] - 1s 6ms/step - loss: 0.4121 - accuracy: 0.8004 - auc_4: 0.8884 - val_loss: 0.5091 - val_accuracy: 0.7593 - val_auc_4: 0.8353\n",
      "Epoch 25/30\n",
      "222/222 [==============================] - 1s 6ms/step - loss: 0.4092 - accuracy: 0.8013 - auc_4: 0.8900 - val_loss: 0.5159 - val_accuracy: 0.7599 - val_auc_4: 0.8357\n",
      "Epoch 26/30\n",
      "222/222 [==============================] - 1s 5ms/step - loss: 0.4064 - accuracy: 0.8025 - auc_4: 0.8915 - val_loss: 0.5217 - val_accuracy: 0.7574 - val_auc_4: 0.8323\n",
      "Epoch 27/30\n",
      "222/222 [==============================] - 1s 6ms/step - loss: 0.4042 - accuracy: 0.8043 - auc_4: 0.8926 - val_loss: 0.5190 - val_accuracy: 0.7561 - val_auc_4: 0.8320\n",
      "Epoch 28/30\n",
      "222/222 [==============================] - 1s 6ms/step - loss: 0.4000 - accuracy: 0.8064 - auc_4: 0.8950 - val_loss: 0.5258 - val_accuracy: 0.7584 - val_auc_4: 0.8322\n",
      "Epoch 29/30\n",
      "222/222 [==============================] - 1s 6ms/step - loss: 0.3967 - accuracy: 0.8073 - auc_4: 0.8967 - val_loss: 0.5293 - val_accuracy: 0.7577 - val_auc_4: 0.8323\n",
      "Epoch 30/30\n",
      "222/222 [==============================] - 1s 5ms/step - loss: 0.3968 - accuracy: 0.8081 - auc_4: 0.8970 - val_loss: 0.5296 - val_accuracy: 0.7564 - val_auc_4: 0.8314\n"
     ]
    },
    {
     "name": "stderr",
     "output_type": "stream",
     "text": [
      "2024/12/05 20:39:15 WARNING mlflow.tensorflow: Failed to infer model signature: could not sample data to infer model signature: Cannot log input example or model signature for input with type <class 'pandas.core.frame.DataFrame'>. TensorFlow Keras autologging can only log input examples and model signatures for the following input types: numpy.ndarray, dict[string -> numpy.ndarray], tensorflow.keras.utils.Sequence, and tensorflow.data.Dataset (TensorFlow >= 2.1.0 required)\n",
      "2024/12/05 20:39:15 WARNING mlflow.tensorflow: You are saving a TensorFlow Core model or Keras model without a signature. Inference with mlflow.pyfunc.spark_udf() will not work unless the model's pyfunc representation accepts pandas DataFrames as inference inputs.\n"
     ]
    },
    {
     "name": "stdout",
     "output_type": "stream",
     "text": [
      "INFO:tensorflow:Assets written to: C:\\Users\\jorru\\AppData\\Local\\Temp\\tmppaeb_p2o\\model\\data\\model\\assets\n"
     ]
    },
    {
     "name": "stderr",
     "output_type": "stream",
     "text": [
      "INFO:tensorflow:Assets written to: C:\\Users\\jorru\\AppData\\Local\\Temp\\tmppaeb_p2o\\model\\data\\model\\assets\n",
      "2024/12/05 20:39:24 WARNING mlflow.models.model: Model logged without a signature and input example. Please set `input_example` parameter when logging the model to auto infer the model signature.\n",
      "2024/12/05 20:39:24 WARNING mlflow.utils.autologging_utils: Encountered unexpected error during tensorflow autologging: When an mlflow-artifacts URI was supplied, the tracking URI must be a valid http or https URI, but it was currently set to file:///c:/Users/jorru/OneDrive%20-%20Universidad%20de%20los%20andes/Maestria/Anal%C3%ADtica_computacional/Proyecto_3/mlruns. Perhaps you forgot to set the tracking URI to the running MLflow server. To set the tracking URI, use either of the following methods:\n",
      "1. Set the MLFLOW_TRACKING_URI environment variable to the desired tracking URI. `export MLFLOW_TRACKING_URI=http://localhost:5000`\n",
      "2. Set the tracking URI programmatically by calling `mlflow.set_tracking_uri`. `mlflow.set_tracking_uri('http://localhost:5000')`\n"
     ]
    },
    {
     "name": "stdout",
     "output_type": "stream",
     "text": [
      "554/554 - 1s - loss: 0.5432 - accuracy: 0.7496 - auc_4: 0.8245 - 651ms/epoch - 1ms/step\n"
     ]
    },
    {
     "name": "stderr",
     "output_type": "stream",
     "text": [
      "2024/12/05 20:39:25 WARNING mlflow.tensorflow: Unrecognized dataset type <class 'pandas.core.frame.DataFrame'>. Dataset logging skipped.\n",
      "2024/12/05 20:39:25 WARNING mlflow.tensorflow: Failed to log training dataset information to MLflow Tracking. Reason: 'DataFrame' object has no attribute 'flatten'\n"
     ]
    },
    {
     "name": "stdout",
     "output_type": "stream",
     "text": [
      "MLflow Run completed with run_id e3053448f0e84ce6ae2b119bc8758a39 and experiment_id 0\n",
      "2.15.0\n",
      "----------------------------------------------------------------------------------------------------\n"
     ]
    },
    {
     "name": "stderr",
     "output_type": "stream",
     "text": [
      "2024/12/05 20:39:25 WARNING mlflow.utils.autologging_utils: Encountered unexpected error during autologging: When an mlflow-artifacts URI was supplied, the tracking URI must be a valid http or https URI, but it was currently set to file:///c:/Users/jorru/OneDrive%20-%20Universidad%20de%20los%20andes/Maestria/Anal%C3%ADtica_computacional/Proyecto_3/mlruns. Perhaps you forgot to set the tracking URI to the running MLflow server. To set the tracking URI, use either of the following methods:\n",
      "1. Set the MLFLOW_TRACKING_URI environment variable to the desired tracking URI. `export MLFLOW_TRACKING_URI=http://localhost:5000`\n",
      "2. Set the tracking URI programmatically by calling `mlflow.set_tracking_uri`. `mlflow.set_tracking_uri('http://localhost:5000')`\n"
     ]
    },
    {
     "name": "stdout",
     "output_type": "stream",
     "text": [
      "Epoch 1/30\n",
      "212/222 [===========================>..] - ETA: 0s - loss: 0.5636 - accuracy: 0.7021 - auc_5: 0.7757"
     ]
    },
    {
     "name": "stderr",
     "output_type": "stream",
     "text": [
      "2024/12/05 20:39:27 WARNING mlflow.utils.autologging_utils: Encountered unexpected error during autologging: When an mlflow-artifacts URI was supplied, the tracking URI must be a valid http or https URI, but it was currently set to file:///c:/Users/jorru/OneDrive%20-%20Universidad%20de%20los%20andes/Maestria/Anal%C3%ADtica_computacional/Proyecto_3/mlruns. Perhaps you forgot to set the tracking URI to the running MLflow server. To set the tracking URI, use either of the following methods:\n",
      "1. Set the MLFLOW_TRACKING_URI environment variable to the desired tracking URI. `export MLFLOW_TRACKING_URI=http://localhost:5000`\n",
      "2. Set the tracking URI programmatically by calling `mlflow.set_tracking_uri`. `mlflow.set_tracking_uri('http://localhost:5000')`\n"
     ]
    },
    {
     "name": "stdout",
     "output_type": "stream",
     "text": [
      "222/222 [==============================] - 2s 5ms/step - loss: 0.5615 - accuracy: 0.7041 - auc_5: 0.7777 - val_loss: 0.4884 - val_accuracy: 0.7661 - val_auc_5: 0.8415\n",
      "Epoch 2/30\n",
      "213/222 [===========================>..] - ETA: 0s - loss: 0.4952 - accuracy: 0.7602 - auc_5: 0.8338"
     ]
    },
    {
     "name": "stderr",
     "output_type": "stream",
     "text": [
      "2024/12/05 20:39:28 WARNING mlflow.utils.autologging_utils: Encountered unexpected error during autologging: When an mlflow-artifacts URI was supplied, the tracking URI must be a valid http or https URI, but it was currently set to file:///c:/Users/jorru/OneDrive%20-%20Universidad%20de%20los%20andes/Maestria/Anal%C3%ADtica_computacional/Proyecto_3/mlruns. Perhaps you forgot to set the tracking URI to the running MLflow server. To set the tracking URI, use either of the following methods:\n",
      "1. Set the MLFLOW_TRACKING_URI environment variable to the desired tracking URI. `export MLFLOW_TRACKING_URI=http://localhost:5000`\n",
      "2. Set the tracking URI programmatically by calling `mlflow.set_tracking_uri`. `mlflow.set_tracking_uri('http://localhost:5000')`\n"
     ]
    },
    {
     "name": "stdout",
     "output_type": "stream",
     "text": [
      "222/222 [==============================] - 1s 4ms/step - loss: 0.4956 - accuracy: 0.7599 - auc_5: 0.8335 - val_loss: 0.4782 - val_accuracy: 0.7686 - val_auc_5: 0.8477\n",
      "Epoch 3/30\n",
      "222/222 [==============================] - 1s 4ms/step - loss: 0.4865 - accuracy: 0.7644 - auc_5: 0.8394 - val_loss: 0.4790 - val_accuracy: 0.7701 - val_auc_5: 0.8480\n",
      "Epoch 4/30\n",
      "204/222 [==========================>...] - ETA: 0s - loss: 0.4828 - accuracy: 0.7661 - auc_5: 0.8423"
     ]
    },
    {
     "name": "stderr",
     "output_type": "stream",
     "text": [
      "2024/12/05 20:39:30 WARNING mlflow.utils.autologging_utils: Encountered unexpected error during autologging: When an mlflow-artifacts URI was supplied, the tracking URI must be a valid http or https URI, but it was currently set to file:///c:/Users/jorru/OneDrive%20-%20Universidad%20de%20los%20andes/Maestria/Anal%C3%ADtica_computacional/Proyecto_3/mlruns. Perhaps you forgot to set the tracking URI to the running MLflow server. To set the tracking URI, use either of the following methods:\n",
      "1. Set the MLFLOW_TRACKING_URI environment variable to the desired tracking URI. `export MLFLOW_TRACKING_URI=http://localhost:5000`\n",
      "2. Set the tracking URI programmatically by calling `mlflow.set_tracking_uri`. `mlflow.set_tracking_uri('http://localhost:5000')`\n"
     ]
    },
    {
     "name": "stdout",
     "output_type": "stream",
     "text": [
      "222/222 [==============================] - 1s 4ms/step - loss: 0.4826 - accuracy: 0.7664 - auc_5: 0.8427 - val_loss: 0.4751 - val_accuracy: 0.7704 - val_auc_5: 0.8487\n",
      "Epoch 5/30\n",
      "204/222 [==========================>...] - ETA: 0s - loss: 0.4799 - accuracy: 0.7685 - auc_5: 0.8446"
     ]
    },
    {
     "name": "stderr",
     "output_type": "stream",
     "text": [
      "2024/12/05 20:39:30 WARNING mlflow.utils.autologging_utils: Encountered unexpected error during autologging: When an mlflow-artifacts URI was supplied, the tracking URI must be a valid http or https URI, but it was currently set to file:///c:/Users/jorru/OneDrive%20-%20Universidad%20de%20los%20andes/Maestria/Anal%C3%ADtica_computacional/Proyecto_3/mlruns. Perhaps you forgot to set the tracking URI to the running MLflow server. To set the tracking URI, use either of the following methods:\n",
      "1. Set the MLFLOW_TRACKING_URI environment variable to the desired tracking URI. `export MLFLOW_TRACKING_URI=http://localhost:5000`\n",
      "2. Set the tracking URI programmatically by calling `mlflow.set_tracking_uri`. `mlflow.set_tracking_uri('http://localhost:5000')`\n"
     ]
    },
    {
     "name": "stdout",
     "output_type": "stream",
     "text": [
      "222/222 [==============================] - 1s 4ms/step - loss: 0.4802 - accuracy: 0.7684 - auc_5: 0.8444 - val_loss: 0.4748 - val_accuracy: 0.7709 - val_auc_5: 0.8493\n",
      "Epoch 6/30\n",
      "222/222 [==============================] - 1s 4ms/step - loss: 0.4785 - accuracy: 0.7695 - auc_5: 0.8457 - val_loss: 0.4770 - val_accuracy: 0.7708 - val_auc_5: 0.8488\n",
      "Epoch 7/30\n",
      "222/222 [==============================] - 1s 4ms/step - loss: 0.4755 - accuracy: 0.7699 - auc_5: 0.8481 - val_loss: 0.4750 - val_accuracy: 0.7717 - val_auc_5: 0.8491\n",
      "Epoch 8/30\n",
      "222/222 [==============================] - 1s 4ms/step - loss: 0.4739 - accuracy: 0.7704 - auc_5: 0.8489 - val_loss: 0.4754 - val_accuracy: 0.7713 - val_auc_5: 0.8495\n",
      "Epoch 9/30\n",
      "222/222 [==============================] - 1s 3ms/step - loss: 0.4728 - accuracy: 0.7720 - auc_5: 0.8499 - val_loss: 0.4758 - val_accuracy: 0.7705 - val_auc_5: 0.8491\n",
      "Epoch 10/30\n",
      "222/222 [==============================] - 1s 4ms/step - loss: 0.4706 - accuracy: 0.7724 - auc_5: 0.8515 - val_loss: 0.4766 - val_accuracy: 0.7704 - val_auc_5: 0.8485\n",
      "Epoch 11/30\n",
      "222/222 [==============================] - 1s 3ms/step - loss: 0.4695 - accuracy: 0.7737 - auc_5: 0.8521 - val_loss: 0.4751 - val_accuracy: 0.7705 - val_auc_5: 0.8492\n",
      "Epoch 12/30\n",
      "222/222 [==============================] - 1s 4ms/step - loss: 0.4676 - accuracy: 0.7732 - auc_5: 0.8535 - val_loss: 0.4765 - val_accuracy: 0.7707 - val_auc_5: 0.8487\n",
      "Epoch 13/30\n",
      "222/222 [==============================] - 1s 4ms/step - loss: 0.4667 - accuracy: 0.7757 - auc_5: 0.8538 - val_loss: 0.4773 - val_accuracy: 0.7702 - val_auc_5: 0.8485\n",
      "Epoch 14/30\n",
      "222/222 [==============================] - 1s 4ms/step - loss: 0.4659 - accuracy: 0.7742 - auc_5: 0.8548 - val_loss: 0.4775 - val_accuracy: 0.7709 - val_auc_5: 0.8469\n",
      "Epoch 15/30\n",
      "222/222 [==============================] - 1s 4ms/step - loss: 0.4655 - accuracy: 0.7757 - auc_5: 0.8552 - val_loss: 0.4767 - val_accuracy: 0.7706 - val_auc_5: 0.8485\n",
      "Epoch 16/30\n",
      "222/222 [==============================] - 1s 4ms/step - loss: 0.4630 - accuracy: 0.7770 - auc_5: 0.8566 - val_loss: 0.4787 - val_accuracy: 0.7679 - val_auc_5: 0.8472\n",
      "Epoch 17/30\n",
      "222/222 [==============================] - 1s 4ms/step - loss: 0.4631 - accuracy: 0.7765 - auc_5: 0.8566 - val_loss: 0.4785 - val_accuracy: 0.7694 - val_auc_5: 0.8471\n",
      "Epoch 18/30\n",
      "222/222 [==============================] - 1s 4ms/step - loss: 0.4615 - accuracy: 0.7776 - auc_5: 0.8580 - val_loss: 0.4788 - val_accuracy: 0.7690 - val_auc_5: 0.8474\n",
      "Epoch 19/30\n",
      "222/222 [==============================] - 1s 4ms/step - loss: 0.4593 - accuracy: 0.7784 - auc_5: 0.8592 - val_loss: 0.4801 - val_accuracy: 0.7699 - val_auc_5: 0.8468\n",
      "Epoch 20/30\n",
      "222/222 [==============================] - 1s 3ms/step - loss: 0.4609 - accuracy: 0.7778 - auc_5: 0.8582 - val_loss: 0.4786 - val_accuracy: 0.7709 - val_auc_5: 0.8473\n",
      "Epoch 21/30\n",
      "222/222 [==============================] - 1s 4ms/step - loss: 0.4590 - accuracy: 0.7798 - auc_5: 0.8591 - val_loss: 0.4788 - val_accuracy: 0.7707 - val_auc_5: 0.8475\n",
      "Epoch 22/30\n",
      "222/222 [==============================] - 1s 4ms/step - loss: 0.4577 - accuracy: 0.7794 - auc_5: 0.8602 - val_loss: 0.4806 - val_accuracy: 0.7709 - val_auc_5: 0.8456\n",
      "Epoch 23/30\n",
      "222/222 [==============================] - 1s 4ms/step - loss: 0.4567 - accuracy: 0.7798 - auc_5: 0.8610 - val_loss: 0.4813 - val_accuracy: 0.7689 - val_auc_5: 0.8454\n",
      "Epoch 24/30\n",
      "222/222 [==============================] - 1s 4ms/step - loss: 0.4568 - accuracy: 0.7796 - auc_5: 0.8612 - val_loss: 0.4805 - val_accuracy: 0.7693 - val_auc_5: 0.8459\n",
      "Epoch 25/30\n",
      "222/222 [==============================] - 1s 4ms/step - loss: 0.4557 - accuracy: 0.7811 - auc_5: 0.8620 - val_loss: 0.4819 - val_accuracy: 0.7664 - val_auc_5: 0.8450\n",
      "Epoch 26/30\n",
      "222/222 [==============================] - 1s 4ms/step - loss: 0.4554 - accuracy: 0.7809 - auc_5: 0.8619 - val_loss: 0.4830 - val_accuracy: 0.7678 - val_auc_5: 0.8443\n",
      "Epoch 27/30\n",
      "222/222 [==============================] - 1s 4ms/step - loss: 0.4538 - accuracy: 0.7822 - auc_5: 0.8630 - val_loss: 0.4818 - val_accuracy: 0.7680 - val_auc_5: 0.8455\n",
      "Epoch 28/30\n",
      "222/222 [==============================] - 1s 4ms/step - loss: 0.4528 - accuracy: 0.7819 - auc_5: 0.8635 - val_loss: 0.4839 - val_accuracy: 0.7648 - val_auc_5: 0.8434\n",
      "Epoch 29/30\n",
      "222/222 [==============================] - 1s 4ms/step - loss: 0.4527 - accuracy: 0.7816 - auc_5: 0.8639 - val_loss: 0.4825 - val_accuracy: 0.7676 - val_auc_5: 0.8442\n",
      "Epoch 30/30\n",
      "222/222 [==============================] - 1s 4ms/step - loss: 0.4516 - accuracy: 0.7841 - auc_5: 0.8644 - val_loss: 0.4823 - val_accuracy: 0.7670 - val_auc_5: 0.8446\n"
     ]
    },
    {
     "name": "stderr",
     "output_type": "stream",
     "text": [
      "2024/12/05 20:39:51 WARNING mlflow.tensorflow: Failed to infer model signature: could not sample data to infer model signature: Cannot log input example or model signature for input with type <class 'pandas.core.frame.DataFrame'>. TensorFlow Keras autologging can only log input examples and model signatures for the following input types: numpy.ndarray, dict[string -> numpy.ndarray], tensorflow.keras.utils.Sequence, and tensorflow.data.Dataset (TensorFlow >= 2.1.0 required)\n",
      "2024/12/05 20:39:51 WARNING mlflow.tensorflow: You are saving a TensorFlow Core model or Keras model without a signature. Inference with mlflow.pyfunc.spark_udf() will not work unless the model's pyfunc representation accepts pandas DataFrames as inference inputs.\n"
     ]
    },
    {
     "name": "stdout",
     "output_type": "stream",
     "text": [
      "INFO:tensorflow:Assets written to: C:\\Users\\jorru\\AppData\\Local\\Temp\\tmpq8sax23y\\model\\data\\model\\assets\n"
     ]
    },
    {
     "name": "stderr",
     "output_type": "stream",
     "text": [
      "INFO:tensorflow:Assets written to: C:\\Users\\jorru\\AppData\\Local\\Temp\\tmpq8sax23y\\model\\data\\model\\assets\n",
      "2024/12/05 20:40:00 WARNING mlflow.models.model: Model logged without a signature and input example. Please set `input_example` parameter when logging the model to auto infer the model signature.\n",
      "2024/12/05 20:40:00 WARNING mlflow.utils.autologging_utils: Encountered unexpected error during tensorflow autologging: When an mlflow-artifacts URI was supplied, the tracking URI must be a valid http or https URI, but it was currently set to file:///c:/Users/jorru/OneDrive%20-%20Universidad%20de%20los%20andes/Maestria/Anal%C3%ADtica_computacional/Proyecto_3/mlruns. Perhaps you forgot to set the tracking URI to the running MLflow server. To set the tracking URI, use either of the following methods:\n",
      "1. Set the MLFLOW_TRACKING_URI environment variable to the desired tracking URI. `export MLFLOW_TRACKING_URI=http://localhost:5000`\n",
      "2. Set the tracking URI programmatically by calling `mlflow.set_tracking_uri`. `mlflow.set_tracking_uri('http://localhost:5000')`\n"
     ]
    },
    {
     "name": "stdout",
     "output_type": "stream",
     "text": [
      "554/554 - 1s - loss: 0.4961 - accuracy: 0.7592 - auc_5: 0.8365 - 681ms/epoch - 1ms/step\n"
     ]
    },
    {
     "name": "stderr",
     "output_type": "stream",
     "text": [
      "2024/12/05 20:40:01 WARNING mlflow.tensorflow: Unrecognized dataset type <class 'pandas.core.frame.DataFrame'>. Dataset logging skipped.\n",
      "2024/12/05 20:40:01 WARNING mlflow.tensorflow: Failed to log training dataset information to MLflow Tracking. Reason: 'DataFrame' object has no attribute 'flatten'\n",
      "2024/12/05 20:40:01 WARNING mlflow.utils.autologging_utils: Encountered unexpected error during autologging: When an mlflow-artifacts URI was supplied, the tracking URI must be a valid http or https URI, but it was currently set to file:///c:/Users/jorru/OneDrive%20-%20Universidad%20de%20los%20andes/Maestria/Anal%C3%ADtica_computacional/Proyecto_3/mlruns. Perhaps you forgot to set the tracking URI to the running MLflow server. To set the tracking URI, use either of the following methods:\n",
      "1. Set the MLFLOW_TRACKING_URI environment variable to the desired tracking URI. `export MLFLOW_TRACKING_URI=http://localhost:5000`\n",
      "2. Set the tracking URI programmatically by calling `mlflow.set_tracking_uri`. `mlflow.set_tracking_uri('http://localhost:5000')`\n"
     ]
    },
    {
     "name": "stdout",
     "output_type": "stream",
     "text": [
      "MLflow Run completed with run_id 6532b0abe39a494fbd0c8cc74ac284e4 and experiment_id 0\n",
      "2.15.0\n",
      "----------------------------------------------------------------------------------------------------\n",
      "Epoch 1/30\n",
      "218/222 [============================>.] - ETA: 0s - loss: 0.5397 - accuracy: 0.7253 - auc_6: 0.7980"
     ]
    },
    {
     "name": "stderr",
     "output_type": "stream",
     "text": [
      "2024/12/05 20:40:03 WARNING mlflow.utils.autologging_utils: Encountered unexpected error during autologging: When an mlflow-artifacts URI was supplied, the tracking URI must be a valid http or https URI, but it was currently set to file:///c:/Users/jorru/OneDrive%20-%20Universidad%20de%20los%20andes/Maestria/Anal%C3%ADtica_computacional/Proyecto_3/mlruns. Perhaps you forgot to set the tracking URI to the running MLflow server. To set the tracking URI, use either of the following methods:\n",
      "1. Set the MLFLOW_TRACKING_URI environment variable to the desired tracking URI. `export MLFLOW_TRACKING_URI=http://localhost:5000`\n",
      "2. Set the tracking URI programmatically by calling `mlflow.set_tracking_uri`. `mlflow.set_tracking_uri('http://localhost:5000')`\n"
     ]
    },
    {
     "name": "stdout",
     "output_type": "stream",
     "text": [
      "222/222 [==============================] - 2s 6ms/step - loss: 0.5392 - accuracy: 0.7256 - auc_6: 0.7983 - val_loss: 0.4857 - val_accuracy: 0.7633 - val_auc_6: 0.8441\n",
      "Epoch 2/30\n",
      "220/222 [============================>.] - ETA: 0s - loss: 0.4877 - accuracy: 0.7618 - auc_6: 0.8391"
     ]
    },
    {
     "name": "stderr",
     "output_type": "stream",
     "text": [
      "2024/12/05 20:40:04 WARNING mlflow.utils.autologging_utils: Encountered unexpected error during autologging: When an mlflow-artifacts URI was supplied, the tracking URI must be a valid http or https URI, but it was currently set to file:///c:/Users/jorru/OneDrive%20-%20Universidad%20de%20los%20andes/Maestria/Anal%C3%ADtica_computacional/Proyecto_3/mlruns. Perhaps you forgot to set the tracking URI to the running MLflow server. To set the tracking URI, use either of the following methods:\n",
      "1. Set the MLFLOW_TRACKING_URI environment variable to the desired tracking URI. `export MLFLOW_TRACKING_URI=http://localhost:5000`\n",
      "2. Set the tracking URI programmatically by calling `mlflow.set_tracking_uri`. `mlflow.set_tracking_uri('http://localhost:5000')`\n"
     ]
    },
    {
     "name": "stdout",
     "output_type": "stream",
     "text": [
      "222/222 [==============================] - 1s 5ms/step - loss: 0.4879 - accuracy: 0.7616 - auc_6: 0.8389 - val_loss: 0.4797 - val_accuracy: 0.7700 - val_auc_6: 0.8476\n",
      "Epoch 3/30\n",
      "222/222 [==============================] - 1s 5ms/step - loss: 0.4818 - accuracy: 0.7665 - auc_6: 0.8434 - val_loss: 0.4802 - val_accuracy: 0.7688 - val_auc_6: 0.8483\n",
      "Epoch 4/30\n",
      "213/222 [===========================>..] - ETA: 0s - loss: 0.4778 - accuracy: 0.7682 - auc_6: 0.8459"
     ]
    },
    {
     "name": "stderr",
     "output_type": "stream",
     "text": [
      "2024/12/05 20:40:06 WARNING mlflow.utils.autologging_utils: Encountered unexpected error during autologging: When an mlflow-artifacts URI was supplied, the tracking URI must be a valid http or https URI, but it was currently set to file:///c:/Users/jorru/OneDrive%20-%20Universidad%20de%20los%20andes/Maestria/Anal%C3%ADtica_computacional/Proyecto_3/mlruns. Perhaps you forgot to set the tracking URI to the running MLflow server. To set the tracking URI, use either of the following methods:\n",
      "1. Set the MLFLOW_TRACKING_URI environment variable to the desired tracking URI. `export MLFLOW_TRACKING_URI=http://localhost:5000`\n",
      "2. Set the tracking URI programmatically by calling `mlflow.set_tracking_uri`. `mlflow.set_tracking_uri('http://localhost:5000')`\n"
     ]
    },
    {
     "name": "stdout",
     "output_type": "stream",
     "text": [
      "222/222 [==============================] - 1s 4ms/step - loss: 0.4784 - accuracy: 0.7683 - auc_6: 0.8455 - val_loss: 0.4764 - val_accuracy: 0.7721 - val_auc_6: 0.8486\n",
      "Epoch 5/30\n",
      "214/222 [===========================>..] - ETA: 0s - loss: 0.4754 - accuracy: 0.7704 - auc_6: 0.8477"
     ]
    },
    {
     "name": "stderr",
     "output_type": "stream",
     "text": [
      "2024/12/05 20:40:07 WARNING mlflow.utils.autologging_utils: Encountered unexpected error during autologging: When an mlflow-artifacts URI was supplied, the tracking URI must be a valid http or https URI, but it was currently set to file:///c:/Users/jorru/OneDrive%20-%20Universidad%20de%20los%20andes/Maestria/Anal%C3%ADtica_computacional/Proyecto_3/mlruns. Perhaps you forgot to set the tracking URI to the running MLflow server. To set the tracking URI, use either of the following methods:\n",
      "1. Set the MLFLOW_TRACKING_URI environment variable to the desired tracking URI. `export MLFLOW_TRACKING_URI=http://localhost:5000`\n",
      "2. Set the tracking URI programmatically by calling `mlflow.set_tracking_uri`. `mlflow.set_tracking_uri('http://localhost:5000')`\n"
     ]
    },
    {
     "name": "stdout",
     "output_type": "stream",
     "text": [
      "222/222 [==============================] - 1s 4ms/step - loss: 0.4760 - accuracy: 0.7701 - auc_6: 0.8473 - val_loss: 0.4755 - val_accuracy: 0.7714 - val_auc_6: 0.8487\n",
      "Epoch 6/30\n",
      "222/222 [==============================] - 1s 5ms/step - loss: 0.4726 - accuracy: 0.7716 - auc_6: 0.8497 - val_loss: 0.4758 - val_accuracy: 0.7702 - val_auc_6: 0.8488\n",
      "Epoch 7/30\n",
      "222/222 [==============================] - 1s 5ms/step - loss: 0.4699 - accuracy: 0.7732 - auc_6: 0.8516 - val_loss: 0.4776 - val_accuracy: 0.7707 - val_auc_6: 0.8480\n",
      "Epoch 8/30\n",
      "222/222 [==============================] - 1s 5ms/step - loss: 0.4679 - accuracy: 0.7739 - auc_6: 0.8533 - val_loss: 0.4764 - val_accuracy: 0.7691 - val_auc_6: 0.8480\n",
      "Epoch 9/30\n",
      "222/222 [==============================] - 1s 6ms/step - loss: 0.4650 - accuracy: 0.7757 - auc_6: 0.8550 - val_loss: 0.4770 - val_accuracy: 0.7714 - val_auc_6: 0.8478\n",
      "Epoch 10/30\n",
      "222/222 [==============================] - 1s 6ms/step - loss: 0.4632 - accuracy: 0.7759 - auc_6: 0.8566 - val_loss: 0.4763 - val_accuracy: 0.7714 - val_auc_6: 0.8484\n",
      "Epoch 11/30\n",
      "222/222 [==============================] - 1s 5ms/step - loss: 0.4615 - accuracy: 0.7763 - auc_6: 0.8577 - val_loss: 0.4802 - val_accuracy: 0.7707 - val_auc_6: 0.8473\n",
      "Epoch 12/30\n",
      "222/222 [==============================] - 1s 5ms/step - loss: 0.4601 - accuracy: 0.7780 - auc_6: 0.8588 - val_loss: 0.4789 - val_accuracy: 0.7693 - val_auc_6: 0.8471\n",
      "Epoch 13/30\n",
      "222/222 [==============================] - 1s 5ms/step - loss: 0.4576 - accuracy: 0.7792 - auc_6: 0.8602 - val_loss: 0.4788 - val_accuracy: 0.7688 - val_auc_6: 0.8464\n",
      "Epoch 14/30\n",
      "222/222 [==============================] - 1s 5ms/step - loss: 0.4545 - accuracy: 0.7808 - auc_6: 0.8623 - val_loss: 0.4813 - val_accuracy: 0.7681 - val_auc_6: 0.8458\n",
      "Epoch 15/30\n",
      "222/222 [==============================] - 1s 5ms/step - loss: 0.4522 - accuracy: 0.7822 - auc_6: 0.8639 - val_loss: 0.4819 - val_accuracy: 0.7673 - val_auc_6: 0.8450\n",
      "Epoch 16/30\n",
      "222/222 [==============================] - 1s 5ms/step - loss: 0.4509 - accuracy: 0.7823 - auc_6: 0.8646 - val_loss: 0.4835 - val_accuracy: 0.7676 - val_auc_6: 0.8441\n",
      "Epoch 17/30\n",
      "222/222 [==============================] - 1s 5ms/step - loss: 0.4486 - accuracy: 0.7834 - auc_6: 0.8662 - val_loss: 0.4852 - val_accuracy: 0.7672 - val_auc_6: 0.8447\n",
      "Epoch 18/30\n",
      "222/222 [==============================] - 1s 5ms/step - loss: 0.4468 - accuracy: 0.7838 - auc_6: 0.8676 - val_loss: 0.4881 - val_accuracy: 0.7647 - val_auc_6: 0.8438\n",
      "Epoch 19/30\n",
      "222/222 [==============================] - 1s 5ms/step - loss: 0.4434 - accuracy: 0.7864 - auc_6: 0.8696 - val_loss: 0.4870 - val_accuracy: 0.7645 - val_auc_6: 0.8431\n",
      "Epoch 20/30\n",
      "222/222 [==============================] - 1s 5ms/step - loss: 0.4430 - accuracy: 0.7857 - auc_6: 0.8699 - val_loss: 0.4885 - val_accuracy: 0.7648 - val_auc_6: 0.8424\n",
      "Epoch 21/30\n",
      "222/222 [==============================] - 1s 5ms/step - loss: 0.4401 - accuracy: 0.7879 - auc_6: 0.8717 - val_loss: 0.4903 - val_accuracy: 0.7628 - val_auc_6: 0.8400\n",
      "Epoch 22/30\n",
      "222/222 [==============================] - 1s 5ms/step - loss: 0.4394 - accuracy: 0.7889 - auc_6: 0.8722 - val_loss: 0.4975 - val_accuracy: 0.7629 - val_auc_6: 0.8405\n",
      "Epoch 23/30\n",
      "222/222 [==============================] - 1s 5ms/step - loss: 0.4370 - accuracy: 0.7895 - auc_6: 0.8737 - val_loss: 0.4897 - val_accuracy: 0.7654 - val_auc_6: 0.8405\n",
      "Epoch 24/30\n",
      "222/222 [==============================] - 1s 5ms/step - loss: 0.4358 - accuracy: 0.7899 - auc_6: 0.8741 - val_loss: 0.4949 - val_accuracy: 0.7623 - val_auc_6: 0.8395\n",
      "Epoch 25/30\n",
      "222/222 [==============================] - 1s 5ms/step - loss: 0.4347 - accuracy: 0.7915 - auc_6: 0.8750 - val_loss: 0.4976 - val_accuracy: 0.7630 - val_auc_6: 0.8389\n",
      "Epoch 26/30\n",
      "222/222 [==============================] - 1s 5ms/step - loss: 0.4325 - accuracy: 0.7921 - auc_6: 0.8763 - val_loss: 0.4978 - val_accuracy: 0.7618 - val_auc_6: 0.8381\n",
      "Epoch 27/30\n",
      "222/222 [==============================] - 1s 5ms/step - loss: 0.4320 - accuracy: 0.7918 - auc_6: 0.8770 - val_loss: 0.4945 - val_accuracy: 0.7634 - val_auc_6: 0.8384\n",
      "Epoch 28/30\n",
      "222/222 [==============================] - 1s 5ms/step - loss: 0.4297 - accuracy: 0.7920 - auc_6: 0.8780 - val_loss: 0.4989 - val_accuracy: 0.7619 - val_auc_6: 0.8385\n",
      "Epoch 29/30\n",
      "222/222 [==============================] - 1s 5ms/step - loss: 0.4278 - accuracy: 0.7936 - auc_6: 0.8793 - val_loss: 0.4998 - val_accuracy: 0.7621 - val_auc_6: 0.8372\n",
      "Epoch 30/30\n",
      "222/222 [==============================] - 1s 5ms/step - loss: 0.4253 - accuracy: 0.7970 - auc_6: 0.8807 - val_loss: 0.5024 - val_accuracy: 0.7618 - val_auc_6: 0.8360\n"
     ]
    },
    {
     "name": "stderr",
     "output_type": "stream",
     "text": [
      "2024/12/05 20:40:35 WARNING mlflow.tensorflow: Failed to infer model signature: could not sample data to infer model signature: Cannot log input example or model signature for input with type <class 'pandas.core.frame.DataFrame'>. TensorFlow Keras autologging can only log input examples and model signatures for the following input types: numpy.ndarray, dict[string -> numpy.ndarray], tensorflow.keras.utils.Sequence, and tensorflow.data.Dataset (TensorFlow >= 2.1.0 required)\n",
      "2024/12/05 20:40:35 WARNING mlflow.tensorflow: You are saving a TensorFlow Core model or Keras model without a signature. Inference with mlflow.pyfunc.spark_udf() will not work unless the model's pyfunc representation accepts pandas DataFrames as inference inputs.\n"
     ]
    },
    {
     "name": "stdout",
     "output_type": "stream",
     "text": [
      "INFO:tensorflow:Assets written to: C:\\Users\\jorru\\AppData\\Local\\Temp\\tmp6v_h3b5c\\model\\data\\model\\assets\n"
     ]
    },
    {
     "name": "stderr",
     "output_type": "stream",
     "text": [
      "INFO:tensorflow:Assets written to: C:\\Users\\jorru\\AppData\\Local\\Temp\\tmp6v_h3b5c\\model\\data\\model\\assets\n",
      "2024/12/05 20:40:42 WARNING mlflow.models.model: Model logged without a signature and input example. Please set `input_example` parameter when logging the model to auto infer the model signature.\n",
      "2024/12/05 20:40:42 WARNING mlflow.utils.autologging_utils: Encountered unexpected error during tensorflow autologging: When an mlflow-artifacts URI was supplied, the tracking URI must be a valid http or https URI, but it was currently set to file:///c:/Users/jorru/OneDrive%20-%20Universidad%20de%20los%20andes/Maestria/Anal%C3%ADtica_computacional/Proyecto_3/mlruns. Perhaps you forgot to set the tracking URI to the running MLflow server. To set the tracking URI, use either of the following methods:\n",
      "1. Set the MLFLOW_TRACKING_URI environment variable to the desired tracking URI. `export MLFLOW_TRACKING_URI=http://localhost:5000`\n",
      "2. Set the tracking URI programmatically by calling `mlflow.set_tracking_uri`. `mlflow.set_tracking_uri('http://localhost:5000')`\n"
     ]
    },
    {
     "name": "stdout",
     "output_type": "stream",
     "text": [
      "554/554 - 1s - loss: 0.5167 - accuracy: 0.7530 - auc_6: 0.8281 - 902ms/epoch - 2ms/step\n"
     ]
    },
    {
     "name": "stderr",
     "output_type": "stream",
     "text": [
      "2024/12/05 20:40:44 WARNING mlflow.tensorflow: Unrecognized dataset type <class 'pandas.core.frame.DataFrame'>. Dataset logging skipped.\n",
      "2024/12/05 20:40:44 WARNING mlflow.tensorflow: Failed to log training dataset information to MLflow Tracking. Reason: 'DataFrame' object has no attribute 'flatten'\n",
      "2024/12/05 20:40:44 WARNING mlflow.utils.autologging_utils: Encountered unexpected error during autologging: When an mlflow-artifacts URI was supplied, the tracking URI must be a valid http or https URI, but it was currently set to file:///c:/Users/jorru/OneDrive%20-%20Universidad%20de%20los%20andes/Maestria/Anal%C3%ADtica_computacional/Proyecto_3/mlruns. Perhaps you forgot to set the tracking URI to the running MLflow server. To set the tracking URI, use either of the following methods:\n",
      "1. Set the MLFLOW_TRACKING_URI environment variable to the desired tracking URI. `export MLFLOW_TRACKING_URI=http://localhost:5000`\n",
      "2. Set the tracking URI programmatically by calling `mlflow.set_tracking_uri`. `mlflow.set_tracking_uri('http://localhost:5000')`\n"
     ]
    },
    {
     "name": "stdout",
     "output_type": "stream",
     "text": [
      "MLflow Run completed with run_id 8951c9669c194c878c1888f1f00d9ac9 and experiment_id 0\n",
      "2.15.0\n",
      "----------------------------------------------------------------------------------------------------\n",
      "Epoch 1/30\n",
      "215/222 [============================>.] - ETA: 0s - loss: 0.5181 - accuracy: 0.7411 - auc_7: 0.8163"
     ]
    },
    {
     "name": "stderr",
     "output_type": "stream",
     "text": [
      "2024/12/05 20:40:47 WARNING mlflow.utils.autologging_utils: Encountered unexpected error during autologging: When an mlflow-artifacts URI was supplied, the tracking URI must be a valid http or https URI, but it was currently set to file:///c:/Users/jorru/OneDrive%20-%20Universidad%20de%20los%20andes/Maestria/Anal%C3%ADtica_computacional/Proyecto_3/mlruns. Perhaps you forgot to set the tracking URI to the running MLflow server. To set the tracking URI, use either of the following methods:\n",
      "1. Set the MLFLOW_TRACKING_URI environment variable to the desired tracking URI. `export MLFLOW_TRACKING_URI=http://localhost:5000`\n",
      "2. Set the tracking URI programmatically by calling `mlflow.set_tracking_uri`. `mlflow.set_tracking_uri('http://localhost:5000')`\n"
     ]
    },
    {
     "name": "stdout",
     "output_type": "stream",
     "text": [
      "222/222 [==============================] - 2s 8ms/step - loss: 0.5166 - accuracy: 0.7423 - auc_7: 0.8176 - val_loss: 0.4797 - val_accuracy: 0.7694 - val_auc_7: 0.8456\n",
      "Epoch 2/30\n",
      "220/222 [============================>.] - ETA: 0s - loss: 0.4840 - accuracy: 0.7664 - auc_7: 0.8415"
     ]
    },
    {
     "name": "stderr",
     "output_type": "stream",
     "text": [
      "2024/12/05 20:40:48 WARNING mlflow.utils.autologging_utils: Encountered unexpected error during autologging: When an mlflow-artifacts URI was supplied, the tracking URI must be a valid http or https URI, but it was currently set to file:///c:/Users/jorru/OneDrive%20-%20Universidad%20de%20los%20andes/Maestria/Anal%C3%ADtica_computacional/Proyecto_3/mlruns. Perhaps you forgot to set the tracking URI to the running MLflow server. To set the tracking URI, use either of the following methods:\n",
      "1. Set the MLFLOW_TRACKING_URI environment variable to the desired tracking URI. `export MLFLOW_TRACKING_URI=http://localhost:5000`\n",
      "2. Set the tracking URI programmatically by calling `mlflow.set_tracking_uri`. `mlflow.set_tracking_uri('http://localhost:5000')`\n"
     ]
    },
    {
     "name": "stdout",
     "output_type": "stream",
     "text": [
      "222/222 [==============================] - 1s 7ms/step - loss: 0.4839 - accuracy: 0.7665 - auc_7: 0.8416 - val_loss: 0.4760 - val_accuracy: 0.7711 - val_auc_7: 0.8483\n",
      "Epoch 3/30\n",
      "216/222 [============================>.] - ETA: 0s - loss: 0.4788 - accuracy: 0.7683 - auc_7: 0.8454"
     ]
    },
    {
     "name": "stderr",
     "output_type": "stream",
     "text": [
      "2024/12/05 20:40:50 WARNING mlflow.utils.autologging_utils: Encountered unexpected error during autologging: When an mlflow-artifacts URI was supplied, the tracking URI must be a valid http or https URI, but it was currently set to file:///c:/Users/jorru/OneDrive%20-%20Universidad%20de%20los%20andes/Maestria/Anal%C3%ADtica_computacional/Proyecto_3/mlruns. Perhaps you forgot to set the tracking URI to the running MLflow server. To set the tracking URI, use either of the following methods:\n",
      "1. Set the MLFLOW_TRACKING_URI environment variable to the desired tracking URI. `export MLFLOW_TRACKING_URI=http://localhost:5000`\n",
      "2. Set the tracking URI programmatically by calling `mlflow.set_tracking_uri`. `mlflow.set_tracking_uri('http://localhost:5000')`\n"
     ]
    },
    {
     "name": "stdout",
     "output_type": "stream",
     "text": [
      "222/222 [==============================] - 1s 7ms/step - loss: 0.4784 - accuracy: 0.7686 - auc_7: 0.8457 - val_loss: 0.4737 - val_accuracy: 0.7723 - val_auc_7: 0.8498\n",
      "Epoch 4/30\n",
      "222/222 [==============================] - 2s 7ms/step - loss: 0.4743 - accuracy: 0.7700 - auc_7: 0.8484 - val_loss: 0.4779 - val_accuracy: 0.7715 - val_auc_7: 0.8480\n",
      "Epoch 5/30\n",
      "222/222 [==============================] - 2s 7ms/step - loss: 0.4706 - accuracy: 0.7728 - auc_7: 0.8510 - val_loss: 0.4764 - val_accuracy: 0.7716 - val_auc_7: 0.8495\n",
      "Epoch 6/30\n",
      "222/222 [==============================] - 2s 7ms/step - loss: 0.4664 - accuracy: 0.7738 - auc_7: 0.8538 - val_loss: 0.4773 - val_accuracy: 0.7703 - val_auc_7: 0.8479\n",
      "Epoch 7/30\n",
      "222/222 [==============================] - 2s 8ms/step - loss: 0.4642 - accuracy: 0.7751 - auc_7: 0.8556 - val_loss: 0.4799 - val_accuracy: 0.7676 - val_auc_7: 0.8473\n",
      "Epoch 8/30\n",
      "222/222 [==============================] - 2s 7ms/step - loss: 0.4601 - accuracy: 0.7780 - auc_7: 0.8580 - val_loss: 0.4851 - val_accuracy: 0.7661 - val_auc_7: 0.8451\n",
      "Epoch 9/30\n",
      "222/222 [==============================] - 2s 7ms/step - loss: 0.4558 - accuracy: 0.7800 - auc_7: 0.8612 - val_loss: 0.4802 - val_accuracy: 0.7695 - val_auc_7: 0.8456\n",
      "Epoch 10/30\n",
      "222/222 [==============================] - 1s 7ms/step - loss: 0.4538 - accuracy: 0.7805 - auc_7: 0.8625 - val_loss: 0.4827 - val_accuracy: 0.7688 - val_auc_7: 0.8444\n",
      "Epoch 11/30\n",
      "222/222 [==============================] - 1s 7ms/step - loss: 0.4499 - accuracy: 0.7824 - auc_7: 0.8651 - val_loss: 0.4849 - val_accuracy: 0.7679 - val_auc_7: 0.8433\n",
      "Epoch 12/30\n",
      "222/222 [==============================] - 2s 7ms/step - loss: 0.4461 - accuracy: 0.7847 - auc_7: 0.8675 - val_loss: 0.4871 - val_accuracy: 0.7655 - val_auc_7: 0.8433\n",
      "Epoch 13/30\n",
      "222/222 [==============================] - 2s 7ms/step - loss: 0.4416 - accuracy: 0.7870 - auc_7: 0.8704 - val_loss: 0.4929 - val_accuracy: 0.7661 - val_auc_7: 0.8406\n",
      "Epoch 14/30\n",
      "222/222 [==============================] - 2s 7ms/step - loss: 0.4375 - accuracy: 0.7885 - auc_7: 0.8729 - val_loss: 0.4925 - val_accuracy: 0.7640 - val_auc_7: 0.8390\n",
      "Epoch 15/30\n",
      "222/222 [==============================] - 2s 8ms/step - loss: 0.4335 - accuracy: 0.7909 - auc_7: 0.8757 - val_loss: 0.4958 - val_accuracy: 0.7633 - val_auc_7: 0.8373\n",
      "Epoch 16/30\n",
      "222/222 [==============================] - 2s 7ms/step - loss: 0.4298 - accuracy: 0.7911 - auc_7: 0.8777 - val_loss: 0.4991 - val_accuracy: 0.7647 - val_auc_7: 0.8378\n",
      "Epoch 17/30\n",
      "222/222 [==============================] - 1s 7ms/step - loss: 0.4263 - accuracy: 0.7937 - auc_7: 0.8799 - val_loss: 0.5021 - val_accuracy: 0.7618 - val_auc_7: 0.8363\n",
      "Epoch 18/30\n",
      "222/222 [==============================] - 1s 7ms/step - loss: 0.4199 - accuracy: 0.7969 - auc_7: 0.8837 - val_loss: 0.5107 - val_accuracy: 0.7607 - val_auc_7: 0.8342\n",
      "Epoch 19/30\n",
      "222/222 [==============================] - 2s 7ms/step - loss: 0.4184 - accuracy: 0.7954 - auc_7: 0.8843 - val_loss: 0.5155 - val_accuracy: 0.7594 - val_auc_7: 0.8345\n",
      "Epoch 20/30\n",
      "222/222 [==============================] - 2s 7ms/step - loss: 0.4118 - accuracy: 0.8013 - auc_7: 0.8883 - val_loss: 0.5223 - val_accuracy: 0.7598 - val_auc_7: 0.8320\n",
      "Epoch 21/30\n",
      "222/222 [==============================] - 1s 7ms/step - loss: 0.4073 - accuracy: 0.8036 - auc_7: 0.8911 - val_loss: 0.5256 - val_accuracy: 0.7599 - val_auc_7: 0.8304\n",
      "Epoch 22/30\n",
      "222/222 [==============================] - 1s 7ms/step - loss: 0.4033 - accuracy: 0.8056 - auc_7: 0.8931 - val_loss: 0.5281 - val_accuracy: 0.7623 - val_auc_7: 0.8317\n",
      "Epoch 23/30\n",
      "222/222 [==============================] - 1s 6ms/step - loss: 0.3999 - accuracy: 0.8055 - auc_7: 0.8949 - val_loss: 0.5286 - val_accuracy: 0.7559 - val_auc_7: 0.8291\n",
      "Epoch 24/30\n",
      "222/222 [==============================] - 2s 7ms/step - loss: 0.3970 - accuracy: 0.8088 - auc_7: 0.8968 - val_loss: 0.5350 - val_accuracy: 0.7575 - val_auc_7: 0.8287\n",
      "Epoch 25/30\n",
      "222/222 [==============================] - 2s 7ms/step - loss: 0.3925 - accuracy: 0.8103 - auc_7: 0.8989 - val_loss: 0.5459 - val_accuracy: 0.7547 - val_auc_7: 0.8259\n",
      "Epoch 26/30\n",
      "222/222 [==============================] - 2s 7ms/step - loss: 0.3898 - accuracy: 0.8128 - auc_7: 0.9005 - val_loss: 0.5451 - val_accuracy: 0.7554 - val_auc_7: 0.8269\n",
      "Epoch 27/30\n",
      "222/222 [==============================] - 2s 7ms/step - loss: 0.3867 - accuracy: 0.8149 - auc_7: 0.9023 - val_loss: 0.5450 - val_accuracy: 0.7510 - val_auc_7: 0.8223\n",
      "Epoch 28/30\n",
      "222/222 [==============================] - 1s 7ms/step - loss: 0.3811 - accuracy: 0.8187 - auc_7: 0.9052 - val_loss: 0.5526 - val_accuracy: 0.7527 - val_auc_7: 0.8254\n",
      "Epoch 29/30\n",
      "222/222 [==============================] - 2s 7ms/step - loss: 0.3783 - accuracy: 0.8171 - auc_7: 0.9065 - val_loss: 0.5624 - val_accuracy: 0.7517 - val_auc_7: 0.8232\n",
      "Epoch 30/30\n",
      "222/222 [==============================] - 2s 7ms/step - loss: 0.3759 - accuracy: 0.8213 - auc_7: 0.9081 - val_loss: 0.5602 - val_accuracy: 0.7528 - val_auc_7: 0.8250\n"
     ]
    },
    {
     "name": "stderr",
     "output_type": "stream",
     "text": [
      "2024/12/05 20:41:31 WARNING mlflow.tensorflow: Failed to infer model signature: could not sample data to infer model signature: Cannot log input example or model signature for input with type <class 'pandas.core.frame.DataFrame'>. TensorFlow Keras autologging can only log input examples and model signatures for the following input types: numpy.ndarray, dict[string -> numpy.ndarray], tensorflow.keras.utils.Sequence, and tensorflow.data.Dataset (TensorFlow >= 2.1.0 required)\n",
      "2024/12/05 20:41:31 WARNING mlflow.tensorflow: You are saving a TensorFlow Core model or Keras model without a signature. Inference with mlflow.pyfunc.spark_udf() will not work unless the model's pyfunc representation accepts pandas DataFrames as inference inputs.\n"
     ]
    },
    {
     "name": "stdout",
     "output_type": "stream",
     "text": [
      "INFO:tensorflow:Assets written to: C:\\Users\\jorru\\AppData\\Local\\Temp\\tmp8day7try\\model\\data\\model\\assets\n"
     ]
    },
    {
     "name": "stderr",
     "output_type": "stream",
     "text": [
      "INFO:tensorflow:Assets written to: C:\\Users\\jorru\\AppData\\Local\\Temp\\tmp8day7try\\model\\data\\model\\assets\n",
      "2024/12/05 20:41:37 WARNING mlflow.models.model: Model logged without a signature and input example. Please set `input_example` parameter when logging the model to auto infer the model signature.\n",
      "2024/12/05 20:41:37 WARNING mlflow.utils.autologging_utils: Encountered unexpected error during tensorflow autologging: When an mlflow-artifacts URI was supplied, the tracking URI must be a valid http or https URI, but it was currently set to file:///c:/Users/jorru/OneDrive%20-%20Universidad%20de%20los%20andes/Maestria/Anal%C3%ADtica_computacional/Proyecto_3/mlruns. Perhaps you forgot to set the tracking URI to the running MLflow server. To set the tracking URI, use either of the following methods:\n",
      "1. Set the MLFLOW_TRACKING_URI environment variable to the desired tracking URI. `export MLFLOW_TRACKING_URI=http://localhost:5000`\n",
      "2. Set the tracking URI programmatically by calling `mlflow.set_tracking_uri`. `mlflow.set_tracking_uri('http://localhost:5000')`\n"
     ]
    },
    {
     "name": "stdout",
     "output_type": "stream",
     "text": [
      "554/554 - 1s - loss: 0.5815 - accuracy: 0.7450 - auc_7: 0.8172 - 762ms/epoch - 1ms/step\n",
      "MLflow Run completed with run_id c5fefad65dbf4759b5c299c41bbebfdf and experiment_id 0\n",
      "2.15.0\n"
     ]
    }
   ],
   "source": [
    "# corrida con parámetros diferentes a los por defecto\n",
    "layer_configs = [\n",
    "    {'num_hidden_layers': 2},\n",
    "    {'num_hidden_layers': 3},\n",
    "]\n",
    "neuron_configs = [\n",
    "    {'num_hidden_units': 64},\n",
    "    {'num_hidden_units': 128},\n",
    "    {'num_hidden_units': 256},\n",
    "]\n",
    "for layer in layer_configs:\n",
    "    for neuron in neuron_configs:\n",
    "        # Update args with the current configuration\n",
    "        args = parser.parse_args([\"--batch_size\", '256', \"--epochs\", '30',\"--num_hidden_units\", f\"{neuron['num_hidden_units']}\", \n",
    "                                  \"--num_hidden_layers\", f\"{layer['num_hidden_layers']}\", \"--normalization\", '1'])\n",
    "        (experimentID, runID) = run_mlflow(run_name=f\"Prueba_con_{args.num_hidden_layers}_capas_{args.num_hidden_units}_neuronas\")\n",
    "        print(\"MLflow Run completed with run_id {} and experiment_id {}\".format(runID, experimentID))\n",
    "        print(tf.__version__)"
   ]
  },
  {
   "cell_type": "markdown",
   "metadata": {},
   "source": [
    "#### Iteramos sobre el hiper-parametro de la funcion de activacion, con los parametros de neuronas y capas que nos dio mejor en el anterior modelo"
   ]
  },
  {
   "cell_type": "code",
   "execution_count": 13,
   "metadata": {},
   "outputs": [
    {
     "name": "stderr",
     "output_type": "stream",
     "text": [
      "2024/12/05 20:41:39 WARNING mlflow.tensorflow: Unrecognized dataset type <class 'pandas.core.frame.DataFrame'>. Dataset logging skipped.\n",
      "2024/12/05 20:41:39 WARNING mlflow.tensorflow: Failed to log training dataset information to MLflow Tracking. Reason: 'DataFrame' object has no attribute 'flatten'\n",
      "2024/12/05 20:41:39 WARNING mlflow.utils.autologging_utils: Encountered unexpected error during autologging: When an mlflow-artifacts URI was supplied, the tracking URI must be a valid http or https URI, but it was currently set to file:///c:/Users/jorru/OneDrive%20-%20Universidad%20de%20los%20andes/Maestria/Anal%C3%ADtica_computacional/Proyecto_3/mlruns. Perhaps you forgot to set the tracking URI to the running MLflow server. To set the tracking URI, use either of the following methods:\n",
      "1. Set the MLFLOW_TRACKING_URI environment variable to the desired tracking URI. `export MLFLOW_TRACKING_URI=http://localhost:5000`\n",
      "2. Set the tracking URI programmatically by calling `mlflow.set_tracking_uri`. `mlflow.set_tracking_uri('http://localhost:5000')`\n"
     ]
    },
    {
     "name": "stdout",
     "output_type": "stream",
     "text": [
      "----------------------------------------------------------------------------------------------------\n",
      "Epoch 1/30\n",
      "216/222 [============================>.] - ETA: 0s - loss: 3.0290 - accuracy: 0.7350 - auc_8: 0.8110"
     ]
    },
    {
     "name": "stderr",
     "output_type": "stream",
     "text": [
      "2024/12/05 20:41:42 WARNING mlflow.utils.autologging_utils: Encountered unexpected error during autologging: When an mlflow-artifacts URI was supplied, the tracking URI must be a valid http or https URI, but it was currently set to file:///c:/Users/jorru/OneDrive%20-%20Universidad%20de%20los%20andes/Maestria/Anal%C3%ADtica_computacional/Proyecto_3/mlruns. Perhaps you forgot to set the tracking URI to the running MLflow server. To set the tracking URI, use either of the following methods:\n",
      "1. Set the MLFLOW_TRACKING_URI environment variable to the desired tracking URI. `export MLFLOW_TRACKING_URI=http://localhost:5000`\n",
      "2. Set the tracking URI programmatically by calling `mlflow.set_tracking_uri`. `mlflow.set_tracking_uri('http://localhost:5000')`\n"
     ]
    },
    {
     "name": "stdout",
     "output_type": "stream",
     "text": [
      "222/222 [==============================] - 3s 7ms/step - loss: 2.9802 - accuracy: 0.7349 - auc_8: 0.8112 - val_loss: 1.1945 - val_accuracy: 0.6496 - val_auc_8: 0.8205\n",
      "Epoch 2/30\n",
      "211/222 [===========================>..] - ETA: 0s - loss: 0.7325 - accuracy: 0.7599 - auc_8: 0.8346"
     ]
    },
    {
     "name": "stderr",
     "output_type": "stream",
     "text": [
      "2024/12/05 20:41:43 WARNING mlflow.utils.autologging_utils: Encountered unexpected error during autologging: When an mlflow-artifacts URI was supplied, the tracking URI must be a valid http or https URI, but it was currently set to file:///c:/Users/jorru/OneDrive%20-%20Universidad%20de%20los%20andes/Maestria/Anal%C3%ADtica_computacional/Proyecto_3/mlruns. Perhaps you forgot to set the tracking URI to the running MLflow server. To set the tracking URI, use either of the following methods:\n",
      "1. Set the MLFLOW_TRACKING_URI environment variable to the desired tracking URI. `export MLFLOW_TRACKING_URI=http://localhost:5000`\n",
      "2. Set the tracking URI programmatically by calling `mlflow.set_tracking_uri`. `mlflow.set_tracking_uri('http://localhost:5000')`\n"
     ]
    },
    {
     "name": "stdout",
     "output_type": "stream",
     "text": [
      "222/222 [==============================] - 1s 6ms/step - loss: 0.7248 - accuracy: 0.7603 - auc_8: 0.8347 - val_loss: 0.6892 - val_accuracy: 0.7461 - val_auc_8: 0.8280\n",
      "Epoch 3/30\n",
      "218/222 [============================>.] - ETA: 0s - loss: 0.5355 - accuracy: 0.7639 - auc_8: 0.8372"
     ]
    },
    {
     "name": "stderr",
     "output_type": "stream",
     "text": [
      "2024/12/05 20:41:44 WARNING mlflow.utils.autologging_utils: Encountered unexpected error during autologging: When an mlflow-artifacts URI was supplied, the tracking URI must be a valid http or https URI, but it was currently set to file:///c:/Users/jorru/OneDrive%20-%20Universidad%20de%20los%20andes/Maestria/Anal%C3%ADtica_computacional/Proyecto_3/mlruns. Perhaps you forgot to set the tracking URI to the running MLflow server. To set the tracking URI, use either of the following methods:\n",
      "1. Set the MLFLOW_TRACKING_URI environment variable to the desired tracking URI. `export MLFLOW_TRACKING_URI=http://localhost:5000`\n",
      "2. Set the tracking URI programmatically by calling `mlflow.set_tracking_uri`. `mlflow.set_tracking_uri('http://localhost:5000')`\n"
     ]
    },
    {
     "name": "stdout",
     "output_type": "stream",
     "text": [
      "222/222 [==============================] - 1s 6ms/step - loss: 0.5356 - accuracy: 0.7636 - auc_8: 0.8369 - val_loss: 0.5359 - val_accuracy: 0.7666 - val_auc_8: 0.8439\n",
      "Epoch 4/30\n",
      "213/222 [===========================>..] - ETA: 0s - loss: 0.5149 - accuracy: 0.7631 - auc_8: 0.8376"
     ]
    },
    {
     "name": "stderr",
     "output_type": "stream",
     "text": [
      "2024/12/05 20:41:45 WARNING mlflow.utils.autologging_utils: Encountered unexpected error during autologging: When an mlflow-artifacts URI was supplied, the tracking URI must be a valid http or https URI, but it was currently set to file:///c:/Users/jorru/OneDrive%20-%20Universidad%20de%20los%20andes/Maestria/Anal%C3%ADtica_computacional/Proyecto_3/mlruns. Perhaps you forgot to set the tracking URI to the running MLflow server. To set the tracking URI, use either of the following methods:\n",
      "1. Set the MLFLOW_TRACKING_URI environment variable to the desired tracking URI. `export MLFLOW_TRACKING_URI=http://localhost:5000`\n",
      "2. Set the tracking URI programmatically by calling `mlflow.set_tracking_uri`. `mlflow.set_tracking_uri('http://localhost:5000')`\n"
     ]
    },
    {
     "name": "stdout",
     "output_type": "stream",
     "text": [
      "222/222 [==============================] - 1s 6ms/step - loss: 0.5143 - accuracy: 0.7634 - auc_8: 0.8379 - val_loss: 0.5078 - val_accuracy: 0.7685 - val_auc_8: 0.8444\n",
      "Epoch 5/30\n",
      "222/222 [==============================] - 1s 6ms/step - loss: 0.5088 - accuracy: 0.7648 - auc_8: 0.8371 - val_loss: 0.5151 - val_accuracy: 0.7684 - val_auc_8: 0.8348\n",
      "Epoch 6/30\n",
      "222/222 [==============================] - 1s 6ms/step - loss: 0.5082 - accuracy: 0.7637 - auc_8: 0.8382 - val_loss: 0.5189 - val_accuracy: 0.7666 - val_auc_8: 0.8396\n",
      "Epoch 7/30\n",
      "222/222 [==============================] - 1s 6ms/step - loss: 0.5063 - accuracy: 0.7637 - auc_8: 0.8383 - val_loss: 0.5426 - val_accuracy: 0.7289 - val_auc_8: 0.8429\n",
      "Epoch 8/30\n",
      "222/222 [==============================] - 1s 6ms/step - loss: 0.5055 - accuracy: 0.7641 - auc_8: 0.8386 - val_loss: 0.5134 - val_accuracy: 0.7652 - val_auc_8: 0.8445\n",
      "Epoch 9/30\n",
      "214/222 [===========================>..] - ETA: 0s - loss: 0.5011 - accuracy: 0.7657 - auc_8: 0.8406"
     ]
    },
    {
     "name": "stderr",
     "output_type": "stream",
     "text": [
      "2024/12/05 20:41:52 WARNING mlflow.utils.autologging_utils: Encountered unexpected error during autologging: When an mlflow-artifacts URI was supplied, the tracking URI must be a valid http or https URI, but it was currently set to file:///c:/Users/jorru/OneDrive%20-%20Universidad%20de%20los%20andes/Maestria/Anal%C3%ADtica_computacional/Proyecto_3/mlruns. Perhaps you forgot to set the tracking URI to the running MLflow server. To set the tracking URI, use either of the following methods:\n",
      "1. Set the MLFLOW_TRACKING_URI environment variable to the desired tracking URI. `export MLFLOW_TRACKING_URI=http://localhost:5000`\n",
      "2. Set the tracking URI programmatically by calling `mlflow.set_tracking_uri`. `mlflow.set_tracking_uri('http://localhost:5000')`\n"
     ]
    },
    {
     "name": "stdout",
     "output_type": "stream",
     "text": [
      "222/222 [==============================] - 1s 6ms/step - loss: 0.5019 - accuracy: 0.7652 - auc_8: 0.8401 - val_loss: 0.4975 - val_accuracy: 0.7696 - val_auc_8: 0.8445\n",
      "Epoch 10/30\n",
      "222/222 [==============================] - 1s 6ms/step - loss: 0.4980 - accuracy: 0.7650 - auc_8: 0.8419 - val_loss: 0.5210 - val_accuracy: 0.7657 - val_auc_8: 0.8435\n",
      "Epoch 11/30\n",
      "218/222 [============================>.] - ETA: 0s - loss: 0.4977 - accuracy: 0.7648 - auc_8: 0.8404"
     ]
    },
    {
     "name": "stderr",
     "output_type": "stream",
     "text": [
      "2024/12/05 20:41:54 WARNING mlflow.utils.autologging_utils: Encountered unexpected error during autologging: When an mlflow-artifacts URI was supplied, the tracking URI must be a valid http or https URI, but it was currently set to file:///c:/Users/jorru/OneDrive%20-%20Universidad%20de%20los%20andes/Maestria/Anal%C3%ADtica_computacional/Proyecto_3/mlruns. Perhaps you forgot to set the tracking URI to the running MLflow server. To set the tracking URI, use either of the following methods:\n",
      "1. Set the MLFLOW_TRACKING_URI environment variable to the desired tracking URI. `export MLFLOW_TRACKING_URI=http://localhost:5000`\n",
      "2. Set the tracking URI programmatically by calling `mlflow.set_tracking_uri`. `mlflow.set_tracking_uri('http://localhost:5000')`\n"
     ]
    },
    {
     "name": "stdout",
     "output_type": "stream",
     "text": [
      "222/222 [==============================] - 1s 6ms/step - loss: 0.4975 - accuracy: 0.7651 - auc_8: 0.8405 - val_loss: 0.4943 - val_accuracy: 0.7670 - val_auc_8: 0.8459\n",
      "Epoch 12/30\n",
      "222/222 [==============================] - 1s 6ms/step - loss: 0.4966 - accuracy: 0.7655 - auc_8: 0.8410 - val_loss: 0.4989 - val_accuracy: 0.7699 - val_auc_8: 0.8466\n",
      "Epoch 13/30\n",
      "212/222 [===========================>..] - ETA: 0s - loss: 0.4933 - accuracy: 0.7656 - auc_8: 0.8425"
     ]
    },
    {
     "name": "stderr",
     "output_type": "stream",
     "text": [
      "2024/12/05 20:41:57 WARNING mlflow.utils.autologging_utils: Encountered unexpected error during autologging: When an mlflow-artifacts URI was supplied, the tracking URI must be a valid http or https URI, but it was currently set to file:///c:/Users/jorru/OneDrive%20-%20Universidad%20de%20los%20andes/Maestria/Anal%C3%ADtica_computacional/Proyecto_3/mlruns. Perhaps you forgot to set the tracking URI to the running MLflow server. To set the tracking URI, use either of the following methods:\n",
      "1. Set the MLFLOW_TRACKING_URI environment variable to the desired tracking URI. `export MLFLOW_TRACKING_URI=http://localhost:5000`\n",
      "2. Set the tracking URI programmatically by calling `mlflow.set_tracking_uri`. `mlflow.set_tracking_uri('http://localhost:5000')`\n"
     ]
    },
    {
     "name": "stdout",
     "output_type": "stream",
     "text": [
      "222/222 [==============================] - 1s 6ms/step - loss: 0.4935 - accuracy: 0.7654 - auc_8: 0.8424 - val_loss: 0.4942 - val_accuracy: 0.7667 - val_auc_8: 0.8455\n",
      "Epoch 14/30\n",
      "219/222 [============================>.] - ETA: 0s - loss: 0.4917 - accuracy: 0.7669 - auc_8: 0.8431"
     ]
    },
    {
     "name": "stderr",
     "output_type": "stream",
     "text": [
      "2024/12/05 20:41:58 WARNING mlflow.utils.autologging_utils: Encountered unexpected error during autologging: When an mlflow-artifacts URI was supplied, the tracking URI must be a valid http or https URI, but it was currently set to file:///c:/Users/jorru/OneDrive%20-%20Universidad%20de%20los%20andes/Maestria/Anal%C3%ADtica_computacional/Proyecto_3/mlruns. Perhaps you forgot to set the tracking URI to the running MLflow server. To set the tracking URI, use either of the following methods:\n",
      "1. Set the MLFLOW_TRACKING_URI environment variable to the desired tracking URI. `export MLFLOW_TRACKING_URI=http://localhost:5000`\n",
      "2. Set the tracking URI programmatically by calling `mlflow.set_tracking_uri`. `mlflow.set_tracking_uri('http://localhost:5000')`\n"
     ]
    },
    {
     "name": "stdout",
     "output_type": "stream",
     "text": [
      "222/222 [==============================] - 1s 6ms/step - loss: 0.4923 - accuracy: 0.7664 - auc_8: 0.8428 - val_loss: 0.4917 - val_accuracy: 0.7731 - val_auc_8: 0.8490\n",
      "Epoch 15/30\n",
      "216/222 [============================>.] - ETA: 0s - loss: 0.4906 - accuracy: 0.7666 - auc_8: 0.8436"
     ]
    },
    {
     "name": "stderr",
     "output_type": "stream",
     "text": [
      "2024/12/05 20:42:00 WARNING mlflow.utils.autologging_utils: Encountered unexpected error during autologging: When an mlflow-artifacts URI was supplied, the tracking URI must be a valid http or https URI, but it was currently set to file:///c:/Users/jorru/OneDrive%20-%20Universidad%20de%20los%20andes/Maestria/Anal%C3%ADtica_computacional/Proyecto_3/mlruns. Perhaps you forgot to set the tracking URI to the running MLflow server. To set the tracking URI, use either of the following methods:\n",
      "1. Set the MLFLOW_TRACKING_URI environment variable to the desired tracking URI. `export MLFLOW_TRACKING_URI=http://localhost:5000`\n",
      "2. Set the tracking URI programmatically by calling `mlflow.set_tracking_uri`. `mlflow.set_tracking_uri('http://localhost:5000')`\n"
     ]
    },
    {
     "name": "stdout",
     "output_type": "stream",
     "text": [
      "222/222 [==============================] - 1s 6ms/step - loss: 0.4909 - accuracy: 0.7662 - auc_8: 0.8434 - val_loss: 0.4884 - val_accuracy: 0.7703 - val_auc_8: 0.8476\n",
      "Epoch 16/30\n",
      "222/222 [==============================] - 1s 6ms/step - loss: 0.4905 - accuracy: 0.7675 - auc_8: 0.8435 - val_loss: 0.4930 - val_accuracy: 0.7654 - val_auc_8: 0.8456\n",
      "Epoch 17/30\n",
      "222/222 [==============================] - 1s 6ms/step - loss: 0.4906 - accuracy: 0.7671 - auc_8: 0.8437 - val_loss: 0.4910 - val_accuracy: 0.7722 - val_auc_8: 0.8494\n",
      "Epoch 18/30\n",
      "222/222 [==============================] - 1s 6ms/step - loss: 0.4890 - accuracy: 0.7677 - auc_8: 0.8438 - val_loss: 0.4977 - val_accuracy: 0.7701 - val_auc_8: 0.8477\n",
      "Epoch 19/30\n",
      "222/222 [==============================] - 1s 6ms/step - loss: 0.4893 - accuracy: 0.7659 - auc_8: 0.8436 - val_loss: 0.5091 - val_accuracy: 0.7699 - val_auc_8: 0.8475\n",
      "Epoch 20/30\n",
      "216/222 [============================>.] - ETA: 0s - loss: 0.4889 - accuracy: 0.7675 - auc_8: 0.8444"
     ]
    },
    {
     "name": "stderr",
     "output_type": "stream",
     "text": [
      "2024/12/05 20:42:06 WARNING mlflow.utils.autologging_utils: Encountered unexpected error during autologging: When an mlflow-artifacts URI was supplied, the tracking URI must be a valid http or https URI, but it was currently set to file:///c:/Users/jorru/OneDrive%20-%20Universidad%20de%20los%20andes/Maestria/Anal%C3%ADtica_computacional/Proyecto_3/mlruns. Perhaps you forgot to set the tracking URI to the running MLflow server. To set the tracking URI, use either of the following methods:\n",
      "1. Set the MLFLOW_TRACKING_URI environment variable to the desired tracking URI. `export MLFLOW_TRACKING_URI=http://localhost:5000`\n",
      "2. Set the tracking URI programmatically by calling `mlflow.set_tracking_uri`. `mlflow.set_tracking_uri('http://localhost:5000')`\n"
     ]
    },
    {
     "name": "stdout",
     "output_type": "stream",
     "text": [
      "222/222 [==============================] - 1s 6ms/step - loss: 0.4890 - accuracy: 0.7675 - auc_8: 0.8443 - val_loss: 0.4870 - val_accuracy: 0.7691 - val_auc_8: 0.8470\n",
      "Epoch 21/30\n",
      "222/222 [==============================] - 1s 6ms/step - loss: 0.4885 - accuracy: 0.7668 - auc_8: 0.8445 - val_loss: 0.4949 - val_accuracy: 0.7721 - val_auc_8: 0.8473\n",
      "Epoch 22/30\n",
      "222/222 [==============================] - 1s 6ms/step - loss: 0.4886 - accuracy: 0.7662 - auc_8: 0.8437 - val_loss: 0.5077 - val_accuracy: 0.7573 - val_auc_8: 0.8471\n",
      "Epoch 23/30\n",
      "222/222 [==============================] - 1s 6ms/step - loss: 0.4892 - accuracy: 0.7668 - auc_8: 0.8441 - val_loss: 0.4915 - val_accuracy: 0.7681 - val_auc_8: 0.8483\n",
      "Epoch 24/30\n",
      "222/222 [==============================] - 1s 6ms/step - loss: 0.4891 - accuracy: 0.7675 - auc_8: 0.8438 - val_loss: 0.4882 - val_accuracy: 0.7706 - val_auc_8: 0.8471\n",
      "Epoch 25/30\n",
      "222/222 [==============================] - 1s 6ms/step - loss: 0.4873 - accuracy: 0.7682 - auc_8: 0.8448 - val_loss: 0.4962 - val_accuracy: 0.7697 - val_auc_8: 0.8482\n",
      "Epoch 26/30\n",
      "222/222 [==============================] - 1s 6ms/step - loss: 0.4873 - accuracy: 0.7670 - auc_8: 0.8451 - val_loss: 0.5035 - val_accuracy: 0.7575 - val_auc_8: 0.8452\n",
      "Epoch 27/30\n",
      "212/222 [===========================>..] - ETA: 0s - loss: 0.4878 - accuracy: 0.7687 - auc_8: 0.8446"
     ]
    },
    {
     "name": "stderr",
     "output_type": "stream",
     "text": [
      "2024/12/05 20:42:15 WARNING mlflow.utils.autologging_utils: Encountered unexpected error during autologging: When an mlflow-artifacts URI was supplied, the tracking URI must be a valid http or https URI, but it was currently set to file:///c:/Users/jorru/OneDrive%20-%20Universidad%20de%20los%20andes/Maestria/Anal%C3%ADtica_computacional/Proyecto_3/mlruns. Perhaps you forgot to set the tracking URI to the running MLflow server. To set the tracking URI, use either of the following methods:\n",
      "1. Set the MLFLOW_TRACKING_URI environment variable to the desired tracking URI. `export MLFLOW_TRACKING_URI=http://localhost:5000`\n",
      "2. Set the tracking URI programmatically by calling `mlflow.set_tracking_uri`. `mlflow.set_tracking_uri('http://localhost:5000')`\n"
     ]
    },
    {
     "name": "stdout",
     "output_type": "stream",
     "text": [
      "222/222 [==============================] - 1s 5ms/step - loss: 0.4872 - accuracy: 0.7690 - auc_8: 0.8450 - val_loss: 0.4838 - val_accuracy: 0.7721 - val_auc_8: 0.8486\n",
      "Epoch 28/30\n",
      "222/222 [==============================] - 1s 6ms/step - loss: 0.4867 - accuracy: 0.7675 - auc_8: 0.8451 - val_loss: 0.5007 - val_accuracy: 0.7676 - val_auc_8: 0.8463\n",
      "Epoch 29/30\n",
      "222/222 [==============================] - 1s 6ms/step - loss: 0.4874 - accuracy: 0.7680 - auc_8: 0.8449 - val_loss: 0.4954 - val_accuracy: 0.7644 - val_auc_8: 0.8489\n",
      "Epoch 30/30\n",
      "222/222 [==============================] - 1s 6ms/step - loss: 0.4880 - accuracy: 0.7664 - auc_8: 0.8446 - val_loss: 0.4878 - val_accuracy: 0.7715 - val_auc_8: 0.8480\n"
     ]
    },
    {
     "name": "stderr",
     "output_type": "stream",
     "text": [
      "2024/12/05 20:42:19 WARNING mlflow.tensorflow: Failed to infer model signature: could not sample data to infer model signature: Cannot log input example or model signature for input with type <class 'pandas.core.frame.DataFrame'>. TensorFlow Keras autologging can only log input examples and model signatures for the following input types: numpy.ndarray, dict[string -> numpy.ndarray], tensorflow.keras.utils.Sequence, and tensorflow.data.Dataset (TensorFlow >= 2.1.0 required)\n",
      "2024/12/05 20:42:19 WARNING mlflow.tensorflow: You are saving a TensorFlow Core model or Keras model without a signature. Inference with mlflow.pyfunc.spark_udf() will not work unless the model's pyfunc representation accepts pandas DataFrames as inference inputs.\n"
     ]
    },
    {
     "name": "stdout",
     "output_type": "stream",
     "text": [
      "INFO:tensorflow:Assets written to: C:\\Users\\jorru\\AppData\\Local\\Temp\\tmpb9cd1k0q\\model\\data\\model\\assets\n"
     ]
    },
    {
     "name": "stderr",
     "output_type": "stream",
     "text": [
      "INFO:tensorflow:Assets written to: C:\\Users\\jorru\\AppData\\Local\\Temp\\tmpb9cd1k0q\\model\\data\\model\\assets\n",
      "2024/12/05 20:42:25 WARNING mlflow.models.model: Model logged without a signature and input example. Please set `input_example` parameter when logging the model to auto infer the model signature.\n",
      "2024/12/05 20:42:25 WARNING mlflow.utils.autologging_utils: Encountered unexpected error during tensorflow autologging: When an mlflow-artifacts URI was supplied, the tracking URI must be a valid http or https URI, but it was currently set to file:///c:/Users/jorru/OneDrive%20-%20Universidad%20de%20los%20andes/Maestria/Anal%C3%ADtica_computacional/Proyecto_3/mlruns. Perhaps you forgot to set the tracking URI to the running MLflow server. To set the tracking URI, use either of the following methods:\n",
      "1. Set the MLFLOW_TRACKING_URI environment variable to the desired tracking URI. `export MLFLOW_TRACKING_URI=http://localhost:5000`\n",
      "2. Set the tracking URI programmatically by calling `mlflow.set_tracking_uri`. `mlflow.set_tracking_uri('http://localhost:5000')`\n"
     ]
    },
    {
     "name": "stdout",
     "output_type": "stream",
     "text": [
      "554/554 - 1s - loss: 0.4989 - accuracy: 0.7649 - auc_8: 0.8403 - 865ms/epoch - 2ms/step\n"
     ]
    },
    {
     "name": "stderr",
     "output_type": "stream",
     "text": [
      "2024/12/05 20:42:27 WARNING mlflow.tensorflow: Unrecognized dataset type <class 'pandas.core.frame.DataFrame'>. Dataset logging skipped.\n",
      "2024/12/05 20:42:27 WARNING mlflow.tensorflow: Failed to log training dataset information to MLflow Tracking. Reason: 'DataFrame' object has no attribute 'flatten'\n"
     ]
    },
    {
     "name": "stdout",
     "output_type": "stream",
     "text": [
      "MLflow Run completed with run_id e9f83e8efa8b40f6a5b6573af2451eff and experiment_id 0\n",
      "2.15.0\n",
      "----------------------------------------------------------------------------------------------------\n"
     ]
    },
    {
     "name": "stderr",
     "output_type": "stream",
     "text": [
      "2024/12/05 20:42:27 WARNING mlflow.utils.autologging_utils: Encountered unexpected error during autologging: When an mlflow-artifacts URI was supplied, the tracking URI must be a valid http or https URI, but it was currently set to file:///c:/Users/jorru/OneDrive%20-%20Universidad%20de%20los%20andes/Maestria/Anal%C3%ADtica_computacional/Proyecto_3/mlruns. Perhaps you forgot to set the tracking URI to the running MLflow server. To set the tracking URI, use either of the following methods:\n",
      "1. Set the MLFLOW_TRACKING_URI environment variable to the desired tracking URI. `export MLFLOW_TRACKING_URI=http://localhost:5000`\n",
      "2. Set the tracking URI programmatically by calling `mlflow.set_tracking_uri`. `mlflow.set_tracking_uri('http://localhost:5000')`\n"
     ]
    },
    {
     "name": "stdout",
     "output_type": "stream",
     "text": [
      "Epoch 1/30\n",
      "214/222 [===========================>..] - ETA: 0s - loss: 2.8041 - accuracy: 0.7353 - auc_9: 0.8104"
     ]
    },
    {
     "name": "stderr",
     "output_type": "stream",
     "text": [
      "2024/12/05 20:42:30 WARNING mlflow.utils.autologging_utils: Encountered unexpected error during autologging: When an mlflow-artifacts URI was supplied, the tracking URI must be a valid http or https URI, but it was currently set to file:///c:/Users/jorru/OneDrive%20-%20Universidad%20de%20los%20andes/Maestria/Anal%C3%ADtica_computacional/Proyecto_3/mlruns. Perhaps you forgot to set the tracking URI to the running MLflow server. To set the tracking URI, use either of the following methods:\n",
      "1. Set the MLFLOW_TRACKING_URI environment variable to the desired tracking URI. `export MLFLOW_TRACKING_URI=http://localhost:5000`\n",
      "2. Set the tracking URI programmatically by calling `mlflow.set_tracking_uri`. `mlflow.set_tracking_uri('http://localhost:5000')`\n"
     ]
    },
    {
     "name": "stdout",
     "output_type": "stream",
     "text": [
      "222/222 [==============================] - 3s 7ms/step - loss: 2.7403 - accuracy: 0.7360 - auc_9: 0.8109 - val_loss: 0.9801 - val_accuracy: 0.7543 - val_auc_9: 0.8303\n",
      "Epoch 2/30\n",
      "217/222 [============================>.] - ETA: 0s - loss: 0.6855 - accuracy: 0.7545 - auc_9: 0.8267"
     ]
    },
    {
     "name": "stderr",
     "output_type": "stream",
     "text": [
      "2024/12/05 20:42:32 WARNING mlflow.utils.autologging_utils: Encountered unexpected error during autologging: When an mlflow-artifacts URI was supplied, the tracking URI must be a valid http or https URI, but it was currently set to file:///c:/Users/jorru/OneDrive%20-%20Universidad%20de%20los%20andes/Maestria/Anal%C3%ADtica_computacional/Proyecto_3/mlruns. Perhaps you forgot to set the tracking URI to the running MLflow server. To set the tracking URI, use either of the following methods:\n",
      "1. Set the MLFLOW_TRACKING_URI environment variable to the desired tracking URI. `export MLFLOW_TRACKING_URI=http://localhost:5000`\n",
      "2. Set the tracking URI programmatically by calling `mlflow.set_tracking_uri`. `mlflow.set_tracking_uri('http://localhost:5000')`\n"
     ]
    },
    {
     "name": "stdout",
     "output_type": "stream",
     "text": [
      "222/222 [==============================] - 1s 6ms/step - loss: 0.6834 - accuracy: 0.7544 - auc_9: 0.8266 - val_loss: 0.5946 - val_accuracy: 0.7551 - val_auc_9: 0.8372\n",
      "Epoch 3/30\n",
      "220/222 [============================>.] - ETA: 0s - loss: 0.5385 - accuracy: 0.7585 - auc_9: 0.8316"
     ]
    },
    {
     "name": "stderr",
     "output_type": "stream",
     "text": [
      "2024/12/05 20:42:33 WARNING mlflow.utils.autologging_utils: Encountered unexpected error during autologging: When an mlflow-artifacts URI was supplied, the tracking URI must be a valid http or https URI, but it was currently set to file:///c:/Users/jorru/OneDrive%20-%20Universidad%20de%20los%20andes/Maestria/Anal%C3%ADtica_computacional/Proyecto_3/mlruns. Perhaps you forgot to set the tracking URI to the running MLflow server. To set the tracking URI, use either of the following methods:\n",
      "1. Set the MLFLOW_TRACKING_URI environment variable to the desired tracking URI. `export MLFLOW_TRACKING_URI=http://localhost:5000`\n",
      "2. Set the tracking URI programmatically by calling `mlflow.set_tracking_uri`. `mlflow.set_tracking_uri('http://localhost:5000')`\n"
     ]
    },
    {
     "name": "stdout",
     "output_type": "stream",
     "text": [
      "222/222 [==============================] - 1s 6ms/step - loss: 0.5383 - accuracy: 0.7586 - auc_9: 0.8316 - val_loss: 0.5636 - val_accuracy: 0.7213 - val_auc_9: 0.8356\n",
      "Epoch 4/30\n",
      "219/222 [============================>.] - ETA: 0s - loss: 0.5205 - accuracy: 0.7584 - auc_9: 0.8317"
     ]
    },
    {
     "name": "stderr",
     "output_type": "stream",
     "text": [
      "2024/12/05 20:42:34 WARNING mlflow.utils.autologging_utils: Encountered unexpected error during autologging: When an mlflow-artifacts URI was supplied, the tracking URI must be a valid http or https URI, but it was currently set to file:///c:/Users/jorru/OneDrive%20-%20Universidad%20de%20los%20andes/Maestria/Anal%C3%ADtica_computacional/Proyecto_3/mlruns. Perhaps you forgot to set the tracking URI to the running MLflow server. To set the tracking URI, use either of the following methods:\n",
      "1. Set the MLFLOW_TRACKING_URI environment variable to the desired tracking URI. `export MLFLOW_TRACKING_URI=http://localhost:5000`\n",
      "2. Set the tracking URI programmatically by calling `mlflow.set_tracking_uri`. `mlflow.set_tracking_uri('http://localhost:5000')`\n"
     ]
    },
    {
     "name": "stdout",
     "output_type": "stream",
     "text": [
      "222/222 [==============================] - 1s 6ms/step - loss: 0.5207 - accuracy: 0.7584 - auc_9: 0.8316 - val_loss: 0.5096 - val_accuracy: 0.7653 - val_auc_9: 0.8404\n",
      "Epoch 5/30\n",
      "222/222 [==============================] - 1s 6ms/step - loss: 0.5133 - accuracy: 0.7597 - auc_9: 0.8344 - val_loss: 0.5385 - val_accuracy: 0.7463 - val_auc_9: 0.8261\n",
      "Epoch 6/30\n",
      "222/222 [==============================] - 1s 6ms/step - loss: 0.5138 - accuracy: 0.7599 - auc_9: 0.8341 - val_loss: 0.5326 - val_accuracy: 0.7365 - val_auc_9: 0.8267\n",
      "Epoch 7/30\n",
      "212/222 [===========================>..] - ETA: 0s - loss: 0.5103 - accuracy: 0.7612 - auc_9: 0.8353"
     ]
    },
    {
     "name": "stderr",
     "output_type": "stream",
     "text": [
      "2024/12/05 20:42:38 WARNING mlflow.utils.autologging_utils: Encountered unexpected error during autologging: When an mlflow-artifacts URI was supplied, the tracking URI must be a valid http or https URI, but it was currently set to file:///c:/Users/jorru/OneDrive%20-%20Universidad%20de%20los%20andes/Maestria/Anal%C3%ADtica_computacional/Proyecto_3/mlruns. Perhaps you forgot to set the tracking URI to the running MLflow server. To set the tracking URI, use either of the following methods:\n",
      "1. Set the MLFLOW_TRACKING_URI environment variable to the desired tracking URI. `export MLFLOW_TRACKING_URI=http://localhost:5000`\n",
      "2. Set the tracking URI programmatically by calling `mlflow.set_tracking_uri`. `mlflow.set_tracking_uri('http://localhost:5000')`\n"
     ]
    },
    {
     "name": "stdout",
     "output_type": "stream",
     "text": [
      "222/222 [==============================] - 1s 6ms/step - loss: 0.5099 - accuracy: 0.7607 - auc_9: 0.8354 - val_loss: 0.5065 - val_accuracy: 0.7634 - val_auc_9: 0.8387\n",
      "Epoch 8/30\n",
      "222/222 [==============================] - 1s 6ms/step - loss: 0.5117 - accuracy: 0.7593 - auc_9: 0.8345 - val_loss: 0.5141 - val_accuracy: 0.7574 - val_auc_9: 0.8396\n",
      "Epoch 9/30\n",
      "222/222 [==============================] - 1s 6ms/step - loss: 0.5123 - accuracy: 0.7609 - auc_9: 0.8346 - val_loss: 0.6069 - val_accuracy: 0.6749 - val_auc_9: 0.7713\n",
      "Epoch 10/30\n",
      "222/222 [==============================] - 1s 6ms/step - loss: 0.5183 - accuracy: 0.7611 - auc_9: 0.8353 - val_loss: 0.5623 - val_accuracy: 0.7158 - val_auc_9: 0.7962\n",
      "Epoch 11/30\n",
      "222/222 [==============================] - 1s 6ms/step - loss: 0.5105 - accuracy: 0.7610 - auc_9: 0.8362 - val_loss: 0.5111 - val_accuracy: 0.7599 - val_auc_9: 0.8364\n",
      "Epoch 12/30\n",
      "221/222 [============================>.] - ETA: 0s - loss: 0.5081 - accuracy: 0.7613 - auc_9: 0.8368"
     ]
    },
    {
     "name": "stderr",
     "output_type": "stream",
     "text": [
      "2024/12/05 20:42:44 WARNING mlflow.utils.autologging_utils: Encountered unexpected error during autologging: When an mlflow-artifacts URI was supplied, the tracking URI must be a valid http or https URI, but it was currently set to file:///c:/Users/jorru/OneDrive%20-%20Universidad%20de%20los%20andes/Maestria/Anal%C3%ADtica_computacional/Proyecto_3/mlruns. Perhaps you forgot to set the tracking URI to the running MLflow server. To set the tracking URI, use either of the following methods:\n",
      "1. Set the MLFLOW_TRACKING_URI environment variable to the desired tracking URI. `export MLFLOW_TRACKING_URI=http://localhost:5000`\n",
      "2. Set the tracking URI programmatically by calling `mlflow.set_tracking_uri`. `mlflow.set_tracking_uri('http://localhost:5000')`\n"
     ]
    },
    {
     "name": "stdout",
     "output_type": "stream",
     "text": [
      "222/222 [==============================] - 1s 6ms/step - loss: 0.5082 - accuracy: 0.7613 - auc_9: 0.8368 - val_loss: 0.5039 - val_accuracy: 0.7687 - val_auc_9: 0.8430\n",
      "Epoch 13/30\n",
      "222/222 [==============================] - 1s 6ms/step - loss: 0.5111 - accuracy: 0.7607 - auc_9: 0.8355 - val_loss: 0.5134 - val_accuracy: 0.7590 - val_auc_9: 0.8443\n",
      "Epoch 14/30\n",
      "222/222 [==============================] - 1s 6ms/step - loss: 0.5094 - accuracy: 0.7622 - auc_9: 0.8363 - val_loss: 0.5389 - val_accuracy: 0.7290 - val_auc_9: 0.8108\n",
      "Epoch 15/30\n",
      "222/222 [==============================] - 1s 6ms/step - loss: 0.5077 - accuracy: 0.7615 - auc_9: 0.8365 - val_loss: 0.9717 - val_accuracy: 0.5747 - val_auc_9: 0.6514\n",
      "Epoch 16/30\n",
      "222/222 [==============================] - 1s 6ms/step - loss: 0.5160 - accuracy: 0.7611 - auc_9: 0.8347 - val_loss: 0.5468 - val_accuracy: 0.7496 - val_auc_9: 0.8309\n",
      "Epoch 17/30\n",
      "222/222 [==============================] - 1s 6ms/step - loss: 0.5110 - accuracy: 0.7615 - auc_9: 0.8364 - val_loss: 0.5124 - val_accuracy: 0.7690 - val_auc_9: 0.8439\n",
      "Epoch 18/30\n",
      "222/222 [==============================] - 1s 6ms/step - loss: 0.5075 - accuracy: 0.7620 - auc_9: 0.8378 - val_loss: 0.6040 - val_accuracy: 0.6181 - val_auc_9: 0.7403\n",
      "Epoch 19/30\n",
      "218/222 [============================>.] - ETA: 0s - loss: 0.5096 - accuracy: 0.7635 - auc_9: 0.8367"
     ]
    },
    {
     "name": "stderr",
     "output_type": "stream",
     "text": [
      "2024/12/05 20:42:54 WARNING mlflow.utils.autologging_utils: Encountered unexpected error during autologging: When an mlflow-artifacts URI was supplied, the tracking URI must be a valid http or https URI, but it was currently set to file:///c:/Users/jorru/OneDrive%20-%20Universidad%20de%20los%20andes/Maestria/Anal%C3%ADtica_computacional/Proyecto_3/mlruns. Perhaps you forgot to set the tracking URI to the running MLflow server. To set the tracking URI, use either of the following methods:\n",
      "1. Set the MLFLOW_TRACKING_URI environment variable to the desired tracking URI. `export MLFLOW_TRACKING_URI=http://localhost:5000`\n",
      "2. Set the tracking URI programmatically by calling `mlflow.set_tracking_uri`. `mlflow.set_tracking_uri('http://localhost:5000')`\n"
     ]
    },
    {
     "name": "stdout",
     "output_type": "stream",
     "text": [
      "222/222 [==============================] - 1s 7ms/step - loss: 0.5092 - accuracy: 0.7637 - auc_9: 0.8370 - val_loss: 0.5021 - val_accuracy: 0.7659 - val_auc_9: 0.8447\n",
      "Epoch 20/30\n",
      "222/222 [==============================] - 1s 6ms/step - loss: 0.5040 - accuracy: 0.7618 - auc_9: 0.8381 - val_loss: 0.5210 - val_accuracy: 0.7444 - val_auc_9: 0.8362\n",
      "Epoch 21/30\n",
      "218/222 [============================>.] - ETA: 0s - loss: 0.5028 - accuracy: 0.7632 - auc_9: 0.8389"
     ]
    },
    {
     "name": "stderr",
     "output_type": "stream",
     "text": [
      "2024/12/05 20:42:57 WARNING mlflow.utils.autologging_utils: Encountered unexpected error during autologging: When an mlflow-artifacts URI was supplied, the tracking URI must be a valid http or https URI, but it was currently set to file:///c:/Users/jorru/OneDrive%20-%20Universidad%20de%20los%20andes/Maestria/Anal%C3%ADtica_computacional/Proyecto_3/mlruns. Perhaps you forgot to set the tracking URI to the running MLflow server. To set the tracking URI, use either of the following methods:\n",
      "1. Set the MLFLOW_TRACKING_URI environment variable to the desired tracking URI. `export MLFLOW_TRACKING_URI=http://localhost:5000`\n",
      "2. Set the tracking URI programmatically by calling `mlflow.set_tracking_uri`. `mlflow.set_tracking_uri('http://localhost:5000')`\n"
     ]
    },
    {
     "name": "stdout",
     "output_type": "stream",
     "text": [
      "222/222 [==============================] - 1s 6ms/step - loss: 0.5029 - accuracy: 0.7631 - auc_9: 0.8388 - val_loss: 0.4972 - val_accuracy: 0.7678 - val_auc_9: 0.8447\n",
      "Epoch 22/30\n",
      "222/222 [==============================] - 1s 6ms/step - loss: 0.5027 - accuracy: 0.7631 - auc_9: 0.8388 - val_loss: 0.5242 - val_accuracy: 0.7602 - val_auc_9: 0.8380\n",
      "Epoch 23/30\n",
      "222/222 [==============================] - 1s 6ms/step - loss: 0.5020 - accuracy: 0.7629 - auc_9: 0.8391 - val_loss: 0.4997 - val_accuracy: 0.7680 - val_auc_9: 0.8446\n",
      "Epoch 24/30\n",
      "221/222 [============================>.] - ETA: 0s - loss: 0.4988 - accuracy: 0.7639 - auc_9: 0.8395"
     ]
    },
    {
     "name": "stderr",
     "output_type": "stream",
     "text": [
      "2024/12/05 20:43:01 WARNING mlflow.utils.autologging_utils: Encountered unexpected error during autologging: When an mlflow-artifacts URI was supplied, the tracking URI must be a valid http or https URI, but it was currently set to file:///c:/Users/jorru/OneDrive%20-%20Universidad%20de%20los%20andes/Maestria/Anal%C3%ADtica_computacional/Proyecto_3/mlruns. Perhaps you forgot to set the tracking URI to the running MLflow server. To set the tracking URI, use either of the following methods:\n",
      "1. Set the MLFLOW_TRACKING_URI environment variable to the desired tracking URI. `export MLFLOW_TRACKING_URI=http://localhost:5000`\n",
      "2. Set the tracking URI programmatically by calling `mlflow.set_tracking_uri`. `mlflow.set_tracking_uri('http://localhost:5000')`\n"
     ]
    },
    {
     "name": "stdout",
     "output_type": "stream",
     "text": [
      "222/222 [==============================] - 1s 6ms/step - loss: 0.4987 - accuracy: 0.7640 - auc_9: 0.8397 - val_loss: 0.4935 - val_accuracy: 0.7666 - val_auc_9: 0.8468\n",
      "Epoch 25/30\n",
      "216/222 [============================>.] - ETA: 0s - loss: 0.4995 - accuracy: 0.7628 - auc_9: 0.8397"
     ]
    },
    {
     "name": "stderr",
     "output_type": "stream",
     "text": [
      "2024/12/05 20:43:02 WARNING mlflow.utils.autologging_utils: Encountered unexpected error during autologging: When an mlflow-artifacts URI was supplied, the tracking URI must be a valid http or https URI, but it was currently set to file:///c:/Users/jorru/OneDrive%20-%20Universidad%20de%20los%20andes/Maestria/Anal%C3%ADtica_computacional/Proyecto_3/mlruns. Perhaps you forgot to set the tracking URI to the running MLflow server. To set the tracking URI, use either of the following methods:\n",
      "1. Set the MLFLOW_TRACKING_URI environment variable to the desired tracking URI. `export MLFLOW_TRACKING_URI=http://localhost:5000`\n",
      "2. Set the tracking URI programmatically by calling `mlflow.set_tracking_uri`. `mlflow.set_tracking_uri('http://localhost:5000')`\n"
     ]
    },
    {
     "name": "stdout",
     "output_type": "stream",
     "text": [
      "222/222 [==============================] - 1s 6ms/step - loss: 0.4994 - accuracy: 0.7628 - auc_9: 0.8397 - val_loss: 0.4925 - val_accuracy: 0.7686 - val_auc_9: 0.8453\n",
      "Epoch 26/30\n",
      "222/222 [==============================] - 1s 6ms/step - loss: 0.4965 - accuracy: 0.7646 - auc_9: 0.8401 - val_loss: 0.5918 - val_accuracy: 0.6119 - val_auc_9: 0.8382\n",
      "Epoch 27/30\n",
      "222/222 [==============================] - 1s 6ms/step - loss: 0.4954 - accuracy: 0.7646 - auc_9: 0.8405 - val_loss: 0.5016 - val_accuracy: 0.7688 - val_auc_9: 0.8435\n",
      "Epoch 28/30\n",
      "222/222 [==============================] - 1s 6ms/step - loss: 0.4987 - accuracy: 0.7640 - auc_9: 0.8397 - val_loss: 0.4943 - val_accuracy: 0.7685 - val_auc_9: 0.8469\n",
      "Epoch 29/30\n",
      "222/222 [==============================] - 1s 6ms/step - loss: 0.4945 - accuracy: 0.7651 - auc_9: 0.8404 - val_loss: 0.4992 - val_accuracy: 0.7663 - val_auc_9: 0.8460\n",
      "Epoch 30/30\n",
      "222/222 [==============================] - 1s 6ms/step - loss: 0.4925 - accuracy: 0.7655 - auc_9: 0.8407 - val_loss: 0.5019 - val_accuracy: 0.7572 - val_auc_9: 0.8460\n"
     ]
    },
    {
     "name": "stderr",
     "output_type": "stream",
     "text": [
      "2024/12/05 20:43:09 WARNING mlflow.tensorflow: Failed to infer model signature: could not sample data to infer model signature: Cannot log input example or model signature for input with type <class 'pandas.core.frame.DataFrame'>. TensorFlow Keras autologging can only log input examples and model signatures for the following input types: numpy.ndarray, dict[string -> numpy.ndarray], tensorflow.keras.utils.Sequence, and tensorflow.data.Dataset (TensorFlow >= 2.1.0 required)\n",
      "2024/12/05 20:43:09 WARNING mlflow.tensorflow: You are saving a TensorFlow Core model or Keras model without a signature. Inference with mlflow.pyfunc.spark_udf() will not work unless the model's pyfunc representation accepts pandas DataFrames as inference inputs.\n"
     ]
    },
    {
     "name": "stdout",
     "output_type": "stream",
     "text": [
      "INFO:tensorflow:Assets written to: C:\\Users\\jorru\\AppData\\Local\\Temp\\tmp8uijz9fr\\model\\data\\model\\assets\n"
     ]
    },
    {
     "name": "stderr",
     "output_type": "stream",
     "text": [
      "INFO:tensorflow:Assets written to: C:\\Users\\jorru\\AppData\\Local\\Temp\\tmp8uijz9fr\\model\\data\\model\\assets\n",
      "2024/12/05 20:43:15 WARNING mlflow.models.model: Model logged without a signature and input example. Please set `input_example` parameter when logging the model to auto infer the model signature.\n",
      "2024/12/05 20:43:15 WARNING mlflow.utils.autologging_utils: Encountered unexpected error during tensorflow autologging: When an mlflow-artifacts URI was supplied, the tracking URI must be a valid http or https URI, but it was currently set to file:///c:/Users/jorru/OneDrive%20-%20Universidad%20de%20los%20andes/Maestria/Anal%C3%ADtica_computacional/Proyecto_3/mlruns. Perhaps you forgot to set the tracking URI to the running MLflow server. To set the tracking URI, use either of the following methods:\n",
      "1. Set the MLFLOW_TRACKING_URI environment variable to the desired tracking URI. `export MLFLOW_TRACKING_URI=http://localhost:5000`\n",
      "2. Set the tracking URI programmatically by calling `mlflow.set_tracking_uri`. `mlflow.set_tracking_uri('http://localhost:5000')`\n"
     ]
    },
    {
     "name": "stdout",
     "output_type": "stream",
     "text": [
      "554/554 - 1s - loss: 0.5101 - accuracy: 0.7511 - auc_9: 0.8389 - 980ms/epoch - 2ms/step\n"
     ]
    },
    {
     "name": "stderr",
     "output_type": "stream",
     "text": [
      "2024/12/05 20:43:17 WARNING mlflow.tensorflow: Unrecognized dataset type <class 'pandas.core.frame.DataFrame'>. Dataset logging skipped.\n",
      "2024/12/05 20:43:17 WARNING mlflow.tensorflow: Failed to log training dataset information to MLflow Tracking. Reason: 'DataFrame' object has no attribute 'flatten'\n"
     ]
    },
    {
     "name": "stdout",
     "output_type": "stream",
     "text": [
      "MLflow Run completed with run_id fd743660625946d5a699b64cbc41c337 and experiment_id 0\n",
      "2.15.0\n",
      "----------------------------------------------------------------------------------------------------\n"
     ]
    },
    {
     "name": "stderr",
     "output_type": "stream",
     "text": [
      "2024/12/05 20:43:17 WARNING mlflow.utils.autologging_utils: Encountered unexpected error during autologging: When an mlflow-artifacts URI was supplied, the tracking URI must be a valid http or https URI, but it was currently set to file:///c:/Users/jorru/OneDrive%20-%20Universidad%20de%20los%20andes/Maestria/Anal%C3%ADtica_computacional/Proyecto_3/mlruns. Perhaps you forgot to set the tracking URI to the running MLflow server. To set the tracking URI, use either of the following methods:\n",
      "1. Set the MLFLOW_TRACKING_URI environment variable to the desired tracking URI. `export MLFLOW_TRACKING_URI=http://localhost:5000`\n",
      "2. Set the tracking URI programmatically by calling `mlflow.set_tracking_uri`. `mlflow.set_tracking_uri('http://localhost:5000')`\n"
     ]
    },
    {
     "name": "stdout",
     "output_type": "stream",
     "text": [
      "Epoch 1/30\n",
      "212/222 [===========================>..] - ETA: 0s - loss: 3.0456 - accuracy: 0.7368 - auc_10: 0.8109"
     ]
    },
    {
     "name": "stderr",
     "output_type": "stream",
     "text": [
      "2024/12/05 20:43:20 WARNING mlflow.utils.autologging_utils: Encountered unexpected error during autologging: When an mlflow-artifacts URI was supplied, the tracking URI must be a valid http or https URI, but it was currently set to file:///c:/Users/jorru/OneDrive%20-%20Universidad%20de%20los%20andes/Maestria/Anal%C3%ADtica_computacional/Proyecto_3/mlruns. Perhaps you forgot to set the tracking URI to the running MLflow server. To set the tracking URI, use either of the following methods:\n",
      "1. Set the MLFLOW_TRACKING_URI environment variable to the desired tracking URI. `export MLFLOW_TRACKING_URI=http://localhost:5000`\n",
      "2. Set the tracking URI programmatically by calling `mlflow.set_tracking_uri`. `mlflow.set_tracking_uri('http://localhost:5000')`\n"
     ]
    },
    {
     "name": "stdout",
     "output_type": "stream",
     "text": [
      "222/222 [==============================] - 3s 8ms/step - loss: 2.9597 - accuracy: 0.7372 - auc_10: 0.8117 - val_loss: 1.1975 - val_accuracy: 0.5806 - val_auc_10: 0.8273\n",
      "Epoch 2/30\n",
      "222/222 [==============================] - ETA: 0s - loss: 0.7157 - accuracy: 0.7613 - auc_10: 0.8352"
     ]
    },
    {
     "name": "stderr",
     "output_type": "stream",
     "text": [
      "2024/12/05 20:43:22 WARNING mlflow.utils.autologging_utils: Encountered unexpected error during autologging: When an mlflow-artifacts URI was supplied, the tracking URI must be a valid http or https URI, but it was currently set to file:///c:/Users/jorru/OneDrive%20-%20Universidad%20de%20los%20andes/Maestria/Anal%C3%ADtica_computacional/Proyecto_3/mlruns. Perhaps you forgot to set the tracking URI to the running MLflow server. To set the tracking URI, use either of the following methods:\n",
      "1. Set the MLFLOW_TRACKING_URI environment variable to the desired tracking URI. `export MLFLOW_TRACKING_URI=http://localhost:5000`\n",
      "2. Set the tracking URI programmatically by calling `mlflow.set_tracking_uri`. `mlflow.set_tracking_uri('http://localhost:5000')`\n"
     ]
    },
    {
     "name": "stdout",
     "output_type": "stream",
     "text": [
      "222/222 [==============================] - 2s 8ms/step - loss: 0.7157 - accuracy: 0.7613 - auc_10: 0.8352 - val_loss: 0.6788 - val_accuracy: 0.7116 - val_auc_10: 0.8327\n",
      "Epoch 3/30\n",
      "212/222 [===========================>..] - ETA: 0s - loss: 0.5352 - accuracy: 0.7630 - auc_10: 0.8377"
     ]
    },
    {
     "name": "stderr",
     "output_type": "stream",
     "text": [
      "2024/12/05 20:43:23 WARNING mlflow.utils.autologging_utils: Encountered unexpected error during autologging: When an mlflow-artifacts URI was supplied, the tracking URI must be a valid http or https URI, but it was currently set to file:///c:/Users/jorru/OneDrive%20-%20Universidad%20de%20los%20andes/Maestria/Anal%C3%ADtica_computacional/Proyecto_3/mlruns. Perhaps you forgot to set the tracking URI to the running MLflow server. To set the tracking URI, use either of the following methods:\n",
      "1. Set the MLFLOW_TRACKING_URI environment variable to the desired tracking URI. `export MLFLOW_TRACKING_URI=http://localhost:5000`\n",
      "2. Set the tracking URI programmatically by calling `mlflow.set_tracking_uri`. `mlflow.set_tracking_uri('http://localhost:5000')`\n"
     ]
    },
    {
     "name": "stdout",
     "output_type": "stream",
     "text": [
      "222/222 [==============================] - 2s 7ms/step - loss: 0.5344 - accuracy: 0.7625 - auc_10: 0.8376 - val_loss: 0.5456 - val_accuracy: 0.7523 - val_auc_10: 0.8416\n",
      "Epoch 4/30\n",
      "213/222 [===========================>..] - ETA: 0s - loss: 0.5143 - accuracy: 0.7629 - auc_10: 0.8368"
     ]
    },
    {
     "name": "stderr",
     "output_type": "stream",
     "text": [
      "2024/12/05 20:43:25 WARNING mlflow.utils.autologging_utils: Encountered unexpected error during autologging: When an mlflow-artifacts URI was supplied, the tracking URI must be a valid http or https URI, but it was currently set to file:///c:/Users/jorru/OneDrive%20-%20Universidad%20de%20los%20andes/Maestria/Anal%C3%ADtica_computacional/Proyecto_3/mlruns. Perhaps you forgot to set the tracking URI to the running MLflow server. To set the tracking URI, use either of the following methods:\n",
      "1. Set the MLFLOW_TRACKING_URI environment variable to the desired tracking URI. `export MLFLOW_TRACKING_URI=http://localhost:5000`\n",
      "2. Set the tracking URI programmatically by calling `mlflow.set_tracking_uri`. `mlflow.set_tracking_uri('http://localhost:5000')`\n"
     ]
    },
    {
     "name": "stdout",
     "output_type": "stream",
     "text": [
      "222/222 [==============================] - 2s 7ms/step - loss: 0.5131 - accuracy: 0.7637 - auc_10: 0.8376 - val_loss: 0.5073 - val_accuracy: 0.7659 - val_auc_10: 0.8415\n",
      "Epoch 5/30\n",
      "215/222 [============================>.] - ETA: 0s - loss: 0.5080 - accuracy: 0.7644 - auc_10: 0.8379"
     ]
    },
    {
     "name": "stderr",
     "output_type": "stream",
     "text": [
      "2024/12/05 20:43:27 WARNING mlflow.utils.autologging_utils: Encountered unexpected error during autologging: When an mlflow-artifacts URI was supplied, the tracking URI must be a valid http or https URI, but it was currently set to file:///c:/Users/jorru/OneDrive%20-%20Universidad%20de%20los%20andes/Maestria/Anal%C3%ADtica_computacional/Proyecto_3/mlruns. Perhaps you forgot to set the tracking URI to the running MLflow server. To set the tracking URI, use either of the following methods:\n",
      "1. Set the MLFLOW_TRACKING_URI environment variable to the desired tracking URI. `export MLFLOW_TRACKING_URI=http://localhost:5000`\n",
      "2. Set the tracking URI programmatically by calling `mlflow.set_tracking_uri`. `mlflow.set_tracking_uri('http://localhost:5000')`\n"
     ]
    },
    {
     "name": "stdout",
     "output_type": "stream",
     "text": [
      "222/222 [==============================] - 2s 8ms/step - loss: 0.5075 - accuracy: 0.7645 - auc_10: 0.8382 - val_loss: 0.5060 - val_accuracy: 0.7650 - val_auc_10: 0.8408\n",
      "Epoch 6/30\n",
      "222/222 [==============================] - 2s 7ms/step - loss: 0.5053 - accuracy: 0.7636 - auc_10: 0.8389 - val_loss: 0.5212 - val_accuracy: 0.7678 - val_auc_10: 0.8430\n",
      "Epoch 7/30\n",
      "222/222 [==============================] - ETA: 0s - loss: 0.5029 - accuracy: 0.7640 - auc_10: 0.8399"
     ]
    },
    {
     "name": "stderr",
     "output_type": "stream",
     "text": [
      "2024/12/05 20:43:30 WARNING mlflow.utils.autologging_utils: Encountered unexpected error during autologging: When an mlflow-artifacts URI was supplied, the tracking URI must be a valid http or https URI, but it was currently set to file:///c:/Users/jorru/OneDrive%20-%20Universidad%20de%20los%20andes/Maestria/Anal%C3%ADtica_computacional/Proyecto_3/mlruns. Perhaps you forgot to set the tracking URI to the running MLflow server. To set the tracking URI, use either of the following methods:\n",
      "1. Set the MLFLOW_TRACKING_URI environment variable to the desired tracking URI. `export MLFLOW_TRACKING_URI=http://localhost:5000`\n",
      "2. Set the tracking URI programmatically by calling `mlflow.set_tracking_uri`. `mlflow.set_tracking_uri('http://localhost:5000')`\n"
     ]
    },
    {
     "name": "stdout",
     "output_type": "stream",
     "text": [
      "222/222 [==============================] - 2s 7ms/step - loss: 0.5029 - accuracy: 0.7640 - auc_10: 0.8399 - val_loss: 0.5009 - val_accuracy: 0.7697 - val_auc_10: 0.8446\n",
      "Epoch 8/30\n",
      "222/222 [==============================] - 2s 7ms/step - loss: 0.5019 - accuracy: 0.7637 - auc_10: 0.8395 - val_loss: 0.5027 - val_accuracy: 0.7681 - val_auc_10: 0.8421\n",
      "Epoch 9/30\n",
      "222/222 [==============================] - 2s 7ms/step - loss: 0.5005 - accuracy: 0.7654 - auc_10: 0.8401 - val_loss: 0.5093 - val_accuracy: 0.7676 - val_auc_10: 0.8419\n",
      "Epoch 10/30\n",
      "218/222 [============================>.] - ETA: 0s - loss: 0.4989 - accuracy: 0.7635 - auc_10: 0.8406"
     ]
    },
    {
     "name": "stderr",
     "output_type": "stream",
     "text": [
      "2024/12/05 20:43:35 WARNING mlflow.utils.autologging_utils: Encountered unexpected error during autologging: When an mlflow-artifacts URI was supplied, the tracking URI must be a valid http or https URI, but it was currently set to file:///c:/Users/jorru/OneDrive%20-%20Universidad%20de%20los%20andes/Maestria/Anal%C3%ADtica_computacional/Proyecto_3/mlruns. Perhaps you forgot to set the tracking URI to the running MLflow server. To set the tracking URI, use either of the following methods:\n",
      "1. Set the MLFLOW_TRACKING_URI environment variable to the desired tracking URI. `export MLFLOW_TRACKING_URI=http://localhost:5000`\n",
      "2. Set the tracking URI programmatically by calling `mlflow.set_tracking_uri`. `mlflow.set_tracking_uri('http://localhost:5000')`\n"
     ]
    },
    {
     "name": "stdout",
     "output_type": "stream",
     "text": [
      "222/222 [==============================] - 2s 7ms/step - loss: 0.4991 - accuracy: 0.7636 - auc_10: 0.8405 - val_loss: 0.4952 - val_accuracy: 0.7684 - val_auc_10: 0.8464\n",
      "Epoch 11/30\n",
      "222/222 [==============================] - 2s 7ms/step - loss: 0.4971 - accuracy: 0.7651 - auc_10: 0.8411 - val_loss: 0.4988 - val_accuracy: 0.7697 - val_auc_10: 0.8460\n",
      "Epoch 12/30\n",
      "222/222 [==============================] - 2s 8ms/step - loss: 0.4971 - accuracy: 0.7657 - auc_10: 0.8407 - val_loss: 0.4997 - val_accuracy: 0.7641 - val_auc_10: 0.8435\n",
      "Epoch 13/30\n",
      "216/222 [============================>.] - ETA: 0s - loss: 0.4950 - accuracy: 0.7660 - auc_10: 0.8419"
     ]
    },
    {
     "name": "stderr",
     "output_type": "stream",
     "text": [
      "2024/12/05 20:43:40 WARNING mlflow.utils.autologging_utils: Encountered unexpected error during autologging: When an mlflow-artifacts URI was supplied, the tracking URI must be a valid http or https URI, but it was currently set to file:///c:/Users/jorru/OneDrive%20-%20Universidad%20de%20los%20andes/Maestria/Anal%C3%ADtica_computacional/Proyecto_3/mlruns. Perhaps you forgot to set the tracking URI to the running MLflow server. To set the tracking URI, use either of the following methods:\n",
      "1. Set the MLFLOW_TRACKING_URI environment variable to the desired tracking URI. `export MLFLOW_TRACKING_URI=http://localhost:5000`\n",
      "2. Set the tracking URI programmatically by calling `mlflow.set_tracking_uri`. `mlflow.set_tracking_uri('http://localhost:5000')`\n"
     ]
    },
    {
     "name": "stdout",
     "output_type": "stream",
     "text": [
      "222/222 [==============================] - 2s 8ms/step - loss: 0.4951 - accuracy: 0.7659 - auc_10: 0.8419 - val_loss: 0.4949 - val_accuracy: 0.7618 - val_auc_10: 0.8444\n",
      "Epoch 14/30\n",
      "222/222 [==============================] - ETA: 0s - loss: 0.4938 - accuracy: 0.7658 - auc_10: 0.8424"
     ]
    },
    {
     "name": "stderr",
     "output_type": "stream",
     "text": [
      "2024/12/05 20:43:41 WARNING mlflow.utils.autologging_utils: Encountered unexpected error during autologging: When an mlflow-artifacts URI was supplied, the tracking URI must be a valid http or https URI, but it was currently set to file:///c:/Users/jorru/OneDrive%20-%20Universidad%20de%20los%20andes/Maestria/Anal%C3%ADtica_computacional/Proyecto_3/mlruns. Perhaps you forgot to set the tracking URI to the running MLflow server. To set the tracking URI, use either of the following methods:\n",
      "1. Set the MLFLOW_TRACKING_URI environment variable to the desired tracking URI. `export MLFLOW_TRACKING_URI=http://localhost:5000`\n",
      "2. Set the tracking URI programmatically by calling `mlflow.set_tracking_uri`. `mlflow.set_tracking_uri('http://localhost:5000')`\n"
     ]
    },
    {
     "name": "stdout",
     "output_type": "stream",
     "text": [
      "222/222 [==============================] - 2s 7ms/step - loss: 0.4938 - accuracy: 0.7658 - auc_10: 0.8424 - val_loss: 0.4907 - val_accuracy: 0.7690 - val_auc_10: 0.8479\n",
      "Epoch 15/30\n",
      "222/222 [==============================] - 2s 7ms/step - loss: 0.4937 - accuracy: 0.7655 - auc_10: 0.8426 - val_loss: 0.5021 - val_accuracy: 0.7662 - val_auc_10: 0.8469\n",
      "Epoch 16/30\n",
      "222/222 [==============================] - 2s 7ms/step - loss: 0.4941 - accuracy: 0.7664 - auc_10: 0.8423 - val_loss: 0.5019 - val_accuracy: 0.7676 - val_auc_10: 0.8431\n",
      "Epoch 17/30\n",
      "222/222 [==============================] - 2s 7ms/step - loss: 0.4939 - accuracy: 0.7668 - auc_10: 0.8432 - val_loss: 0.5230 - val_accuracy: 0.7417 - val_auc_10: 0.8438\n",
      "Epoch 18/30\n",
      "222/222 [==============================] - 1s 7ms/step - loss: 0.4948 - accuracy: 0.7659 - auc_10: 0.8429 - val_loss: 0.5773 - val_accuracy: 0.7633 - val_auc_10: 0.8473\n",
      "Epoch 19/30\n",
      "222/222 [==============================] - 2s 7ms/step - loss: 0.4927 - accuracy: 0.7672 - auc_10: 0.8437 - val_loss: 0.4966 - val_accuracy: 0.7684 - val_auc_10: 0.8481\n",
      "Epoch 20/30\n",
      "221/222 [============================>.] - ETA: 0s - loss: 0.4917 - accuracy: 0.7668 - auc_10: 0.8446"
     ]
    },
    {
     "name": "stderr",
     "output_type": "stream",
     "text": [
      "2024/12/05 20:43:51 WARNING mlflow.utils.autologging_utils: Encountered unexpected error during autologging: When an mlflow-artifacts URI was supplied, the tracking URI must be a valid http or https URI, but it was currently set to file:///c:/Users/jorru/OneDrive%20-%20Universidad%20de%20los%20andes/Maestria/Anal%C3%ADtica_computacional/Proyecto_3/mlruns. Perhaps you forgot to set the tracking URI to the running MLflow server. To set the tracking URI, use either of the following methods:\n",
      "1. Set the MLFLOW_TRACKING_URI environment variable to the desired tracking URI. `export MLFLOW_TRACKING_URI=http://localhost:5000`\n",
      "2. Set the tracking URI programmatically by calling `mlflow.set_tracking_uri`. `mlflow.set_tracking_uri('http://localhost:5000')`\n"
     ]
    },
    {
     "name": "stdout",
     "output_type": "stream",
     "text": [
      "222/222 [==============================] - 2s 7ms/step - loss: 0.4917 - accuracy: 0.7668 - auc_10: 0.8446 - val_loss: 0.4901 - val_accuracy: 0.7728 - val_auc_10: 0.8464\n",
      "Epoch 21/30\n",
      "222/222 [==============================] - 2s 7ms/step - loss: 0.4918 - accuracy: 0.7667 - auc_10: 0.8441 - val_loss: 0.4926 - val_accuracy: 0.7710 - val_auc_10: 0.8482\n",
      "Epoch 22/30\n",
      "222/222 [==============================] - 2s 7ms/step - loss: 0.4903 - accuracy: 0.7673 - auc_10: 0.8447 - val_loss: 0.5254 - val_accuracy: 0.7225 - val_auc_10: 0.8416\n",
      "Epoch 23/30\n",
      "222/222 [==============================] - 2s 7ms/step - loss: 0.4914 - accuracy: 0.7680 - auc_10: 0.8442 - val_loss: 0.5076 - val_accuracy: 0.7626 - val_auc_10: 0.8458\n",
      "Epoch 24/30\n",
      "222/222 [==============================] - 2s 7ms/step - loss: 0.4930 - accuracy: 0.7686 - auc_10: 0.8442 - val_loss: 0.4944 - val_accuracy: 0.7652 - val_auc_10: 0.8445\n",
      "Epoch 25/30\n",
      "219/222 [============================>.] - ETA: 0s - loss: 0.4909 - accuracy: 0.7671 - auc_10: 0.8448"
     ]
    },
    {
     "name": "stderr",
     "output_type": "stream",
     "text": [
      "2024/12/05 20:43:59 WARNING mlflow.utils.autologging_utils: Encountered unexpected error during autologging: When an mlflow-artifacts URI was supplied, the tracking URI must be a valid http or https URI, but it was currently set to file:///c:/Users/jorru/OneDrive%20-%20Universidad%20de%20los%20andes/Maestria/Anal%C3%ADtica_computacional/Proyecto_3/mlruns. Perhaps you forgot to set the tracking URI to the running MLflow server. To set the tracking URI, use either of the following methods:\n",
      "1. Set the MLFLOW_TRACKING_URI environment variable to the desired tracking URI. `export MLFLOW_TRACKING_URI=http://localhost:5000`\n",
      "2. Set the tracking URI programmatically by calling `mlflow.set_tracking_uri`. `mlflow.set_tracking_uri('http://localhost:5000')`\n"
     ]
    },
    {
     "name": "stdout",
     "output_type": "stream",
     "text": [
      "222/222 [==============================] - 2s 7ms/step - loss: 0.4911 - accuracy: 0.7670 - auc_10: 0.8446 - val_loss: 0.4869 - val_accuracy: 0.7688 - val_auc_10: 0.8490\n",
      "Epoch 26/30\n",
      "222/222 [==============================] - 2s 7ms/step - loss: 0.4916 - accuracy: 0.7667 - auc_10: 0.8444 - val_loss: 0.4954 - val_accuracy: 0.7656 - val_auc_10: 0.8440\n",
      "Epoch 27/30\n",
      "222/222 [==============================] - 2s 7ms/step - loss: 0.4915 - accuracy: 0.7676 - auc_10: 0.8445 - val_loss: 0.4923 - val_accuracy: 0.7714 - val_auc_10: 0.8469\n",
      "Epoch 28/30\n",
      "222/222 [==============================] - 2s 7ms/step - loss: 0.4895 - accuracy: 0.7675 - auc_10: 0.8450 - val_loss: 0.5293 - val_accuracy: 0.7628 - val_auc_10: 0.8493\n",
      "Epoch 29/30\n",
      "215/222 [============================>.] - ETA: 0s - loss: 0.4909 - accuracy: 0.7669 - auc_10: 0.8447"
     ]
    },
    {
     "name": "stderr",
     "output_type": "stream",
     "text": [
      "2024/12/05 20:44:06 WARNING mlflow.utils.autologging_utils: Encountered unexpected error during autologging: When an mlflow-artifacts URI was supplied, the tracking URI must be a valid http or https URI, but it was currently set to file:///c:/Users/jorru/OneDrive%20-%20Universidad%20de%20los%20andes/Maestria/Anal%C3%ADtica_computacional/Proyecto_3/mlruns. Perhaps you forgot to set the tracking URI to the running MLflow server. To set the tracking URI, use either of the following methods:\n",
      "1. Set the MLFLOW_TRACKING_URI environment variable to the desired tracking URI. `export MLFLOW_TRACKING_URI=http://localhost:5000`\n",
      "2. Set the tracking URI programmatically by calling `mlflow.set_tracking_uri`. `mlflow.set_tracking_uri('http://localhost:5000')`\n"
     ]
    },
    {
     "name": "stdout",
     "output_type": "stream",
     "text": [
      "222/222 [==============================] - 2s 8ms/step - loss: 0.4907 - accuracy: 0.7673 - auc_10: 0.8448 - val_loss: 0.4861 - val_accuracy: 0.7700 - val_auc_10: 0.8485\n",
      "Epoch 30/30\n",
      "222/222 [==============================] - 2s 7ms/step - loss: 0.4900 - accuracy: 0.7681 - auc_10: 0.8452 - val_loss: 0.4903 - val_accuracy: 0.7695 - val_auc_10: 0.8468\n"
     ]
    },
    {
     "name": "stderr",
     "output_type": "stream",
     "text": [
      "2024/12/05 20:44:07 WARNING mlflow.tensorflow: Failed to infer model signature: could not sample data to infer model signature: Cannot log input example or model signature for input with type <class 'pandas.core.frame.DataFrame'>. TensorFlow Keras autologging can only log input examples and model signatures for the following input types: numpy.ndarray, dict[string -> numpy.ndarray], tensorflow.keras.utils.Sequence, and tensorflow.data.Dataset (TensorFlow >= 2.1.0 required)\n",
      "2024/12/05 20:44:07 WARNING mlflow.tensorflow: You are saving a TensorFlow Core model or Keras model without a signature. Inference with mlflow.pyfunc.spark_udf() will not work unless the model's pyfunc representation accepts pandas DataFrames as inference inputs.\n"
     ]
    },
    {
     "name": "stdout",
     "output_type": "stream",
     "text": [
      "INFO:tensorflow:Assets written to: C:\\Users\\jorru\\AppData\\Local\\Temp\\tmp39dqaxxr\\model\\data\\model\\assets\n"
     ]
    },
    {
     "name": "stderr",
     "output_type": "stream",
     "text": [
      "INFO:tensorflow:Assets written to: C:\\Users\\jorru\\AppData\\Local\\Temp\\tmp39dqaxxr\\model\\data\\model\\assets\n",
      "2024/12/05 20:44:13 WARNING mlflow.models.model: Model logged without a signature and input example. Please set `input_example` parameter when logging the model to auto infer the model signature.\n",
      "2024/12/05 20:44:13 WARNING mlflow.utils.autologging_utils: Encountered unexpected error during tensorflow autologging: When an mlflow-artifacts URI was supplied, the tracking URI must be a valid http or https URI, but it was currently set to file:///c:/Users/jorru/OneDrive%20-%20Universidad%20de%20los%20andes/Maestria/Anal%C3%ADtica_computacional/Proyecto_3/mlruns. Perhaps you forgot to set the tracking URI to the running MLflow server. To set the tracking URI, use either of the following methods:\n",
      "1. Set the MLFLOW_TRACKING_URI environment variable to the desired tracking URI. `export MLFLOW_TRACKING_URI=http://localhost:5000`\n",
      "2. Set the tracking URI programmatically by calling `mlflow.set_tracking_uri`. `mlflow.set_tracking_uri('http://localhost:5000')`\n"
     ]
    },
    {
     "name": "stdout",
     "output_type": "stream",
     "text": [
      "554/554 - 1s - loss: 0.4992 - accuracy: 0.7642 - auc_10: 0.8401 - 970ms/epoch - 2ms/step\n",
      "MLflow Run completed with run_id 896a7c48c5bf49b99bb0cfb58fcc042f and experiment_id 0\n",
      "2.15.0\n"
     ]
    }
   ],
   "source": [
    "# corrida con parámetros diferentes a los por defecto\n",
    "activation_configs = [\n",
    "    {'activation': 'relu'},\n",
    "    {'activation': 'tanh'},\n",
    "    {'activation': 'prelu'}\n",
    "]\n",
    "for activ in activation_configs:\n",
    "    # Update args with the current configuration\n",
    "    args = parser.parse_args([\"--batch_size\", '256', \"--epochs\", '30',\"--num_hidden_units\", '256', \"--num_hidden_layers\", '3', \n",
    "                              \"--activation\",f\"{activ['activation']}\"])\n",
    "    (experimentID, runID) = run_mlflow(run_name=f\"Prueba_con_1_capa_y_activacion_{args.activation}\")\n",
    "    print(\"MLflow Run completed with run_id {} and experiment_id {}\".format(runID, experimentID))\n",
    "    print(tf.__version__)"
   ]
  },
  {
   "cell_type": "markdown",
   "metadata": {},
   "source": [
    "### Modelo final"
   ]
  },
  {
   "cell_type": "code",
   "execution_count": 16,
   "metadata": {},
   "outputs": [
    {
     "name": "stderr",
     "output_type": "stream",
     "text": [
      "2024/12/05 20:50:53 WARNING mlflow.tensorflow: Unrecognized dataset type <class 'pandas.core.frame.DataFrame'>. Dataset logging skipped.\n",
      "2024/12/05 20:50:53 WARNING mlflow.tensorflow: Failed to log training dataset information to MLflow Tracking. Reason: 'DataFrame' object has no attribute 'flatten'\n",
      "2024/12/05 20:50:54 WARNING mlflow.utils.autologging_utils: Encountered unexpected error during autologging: When an mlflow-artifacts URI was supplied, the tracking URI must be a valid http or https URI, but it was currently set to file:///c:/Users/jorru/OneDrive%20-%20Universidad%20de%20los%20andes/Maestria/Anal%C3%ADtica_computacional/Proyecto_3/mlruns. Perhaps you forgot to set the tracking URI to the running MLflow server. To set the tracking URI, use either of the following methods:\n",
      "1. Set the MLFLOW_TRACKING_URI environment variable to the desired tracking URI. `export MLFLOW_TRACKING_URI=http://localhost:5000`\n",
      "2. Set the tracking URI programmatically by calling `mlflow.set_tracking_uri`. `mlflow.set_tracking_uri('http://localhost:5000')`\n"
     ]
    },
    {
     "name": "stdout",
     "output_type": "stream",
     "text": [
      "----------------------------------------------------------------------------------------------------\n",
      "Epoch 1/30\n",
      "218/222 [============================>.] - ETA: 0s - loss: 3.0192 - accuracy: 0.7365 - auc_12: 0.8118"
     ]
    },
    {
     "name": "stderr",
     "output_type": "stream",
     "text": [
      "2024/12/05 20:50:56 WARNING mlflow.utils.autologging_utils: Encountered unexpected error during autologging: When an mlflow-artifacts URI was supplied, the tracking URI must be a valid http or https URI, but it was currently set to file:///c:/Users/jorru/OneDrive%20-%20Universidad%20de%20los%20andes/Maestria/Anal%C3%ADtica_computacional/Proyecto_3/mlruns. Perhaps you forgot to set the tracking URI to the running MLflow server. To set the tracking URI, use either of the following methods:\n",
      "1. Set the MLFLOW_TRACKING_URI environment variable to the desired tracking URI. `export MLFLOW_TRACKING_URI=http://localhost:5000`\n",
      "2. Set the tracking URI programmatically by calling `mlflow.set_tracking_uri`. `mlflow.set_tracking_uri('http://localhost:5000')`\n"
     ]
    },
    {
     "name": "stdout",
     "output_type": "stream",
     "text": [
      "222/222 [==============================] - 3s 7ms/step - loss: 2.9879 - accuracy: 0.7370 - auc_12: 0.8123 - val_loss: 1.2116 - val_accuracy: 0.5444 - val_auc_12: 0.8015\n",
      "Epoch 2/30\n",
      "219/222 [============================>.] - ETA: 0s - loss: 0.7354 - accuracy: 0.7589 - auc_12: 0.8340"
     ]
    },
    {
     "name": "stderr",
     "output_type": "stream",
     "text": [
      "2024/12/05 20:50:58 WARNING mlflow.utils.autologging_utils: Encountered unexpected error during autologging: When an mlflow-artifacts URI was supplied, the tracking URI must be a valid http or https URI, but it was currently set to file:///c:/Users/jorru/OneDrive%20-%20Universidad%20de%20los%20andes/Maestria/Anal%C3%ADtica_computacional/Proyecto_3/mlruns. Perhaps you forgot to set the tracking URI to the running MLflow server. To set the tracking URI, use either of the following methods:\n",
      "1. Set the MLFLOW_TRACKING_URI environment variable to the desired tracking URI. `export MLFLOW_TRACKING_URI=http://localhost:5000`\n",
      "2. Set the tracking URI programmatically by calling `mlflow.set_tracking_uri`. `mlflow.set_tracking_uri('http://localhost:5000')`\n"
     ]
    },
    {
     "name": "stdout",
     "output_type": "stream",
     "text": [
      "222/222 [==============================] - 1s 6ms/step - loss: 0.7335 - accuracy: 0.7592 - auc_12: 0.8342 - val_loss: 0.6811 - val_accuracy: 0.7420 - val_auc_12: 0.8327\n",
      "Epoch 3/30\n",
      "217/222 [============================>.] - ETA: 0s - loss: 0.5438 - accuracy: 0.7619 - auc_12: 0.8353"
     ]
    },
    {
     "name": "stderr",
     "output_type": "stream",
     "text": [
      "2024/12/05 20:50:59 WARNING mlflow.utils.autologging_utils: Encountered unexpected error during autologging: When an mlflow-artifacts URI was supplied, the tracking URI must be a valid http or https URI, but it was currently set to file:///c:/Users/jorru/OneDrive%20-%20Universidad%20de%20los%20andes/Maestria/Anal%C3%ADtica_computacional/Proyecto_3/mlruns. Perhaps you forgot to set the tracking URI to the running MLflow server. To set the tracking URI, use either of the following methods:\n",
      "1. Set the MLFLOW_TRACKING_URI environment variable to the desired tracking URI. `export MLFLOW_TRACKING_URI=http://localhost:5000`\n",
      "2. Set the tracking URI programmatically by calling `mlflow.set_tracking_uri`. `mlflow.set_tracking_uri('http://localhost:5000')`\n"
     ]
    },
    {
     "name": "stdout",
     "output_type": "stream",
     "text": [
      "222/222 [==============================] - 1s 6ms/step - loss: 0.5431 - accuracy: 0.7621 - auc_12: 0.8356 - val_loss: 0.5392 - val_accuracy: 0.7624 - val_auc_12: 0.8387\n",
      "Epoch 4/30\n",
      "213/222 [===========================>..] - ETA: 0s - loss: 0.5184 - accuracy: 0.7619 - auc_12: 0.8365"
     ]
    },
    {
     "name": "stderr",
     "output_type": "stream",
     "text": [
      "2024/12/05 20:51:01 WARNING mlflow.utils.autologging_utils: Encountered unexpected error during autologging: When an mlflow-artifacts URI was supplied, the tracking URI must be a valid http or https URI, but it was currently set to file:///c:/Users/jorru/OneDrive%20-%20Universidad%20de%20los%20andes/Maestria/Anal%C3%ADtica_computacional/Proyecto_3/mlruns. Perhaps you forgot to set the tracking URI to the running MLflow server. To set the tracking URI, use either of the following methods:\n",
      "1. Set the MLFLOW_TRACKING_URI environment variable to the desired tracking URI. `export MLFLOW_TRACKING_URI=http://localhost:5000`\n",
      "2. Set the tracking URI programmatically by calling `mlflow.set_tracking_uri`. `mlflow.set_tracking_uri('http://localhost:5000')`\n"
     ]
    },
    {
     "name": "stdout",
     "output_type": "stream",
     "text": [
      "222/222 [==============================] - 1s 6ms/step - loss: 0.5190 - accuracy: 0.7616 - auc_12: 0.8361 - val_loss: 0.5248 - val_accuracy: 0.7403 - val_auc_12: 0.8431\n",
      "Epoch 5/30\n",
      "222/222 [==============================] - 1s 6ms/step - loss: 0.5128 - accuracy: 0.7620 - auc_12: 0.8375 - val_loss: 0.5452 - val_accuracy: 0.7379 - val_auc_12: 0.8392\n",
      "Epoch 6/30\n",
      "221/222 [============================>.] - ETA: 0s - loss: 0.5080 - accuracy: 0.7630 - auc_12: 0.8385"
     ]
    },
    {
     "name": "stderr",
     "output_type": "stream",
     "text": [
      "2024/12/05 20:51:03 WARNING mlflow.utils.autologging_utils: Encountered unexpected error during autologging: When an mlflow-artifacts URI was supplied, the tracking URI must be a valid http or https URI, but it was currently set to file:///c:/Users/jorru/OneDrive%20-%20Universidad%20de%20los%20andes/Maestria/Anal%C3%ADtica_computacional/Proyecto_3/mlruns. Perhaps you forgot to set the tracking URI to the running MLflow server. To set the tracking URI, use either of the following methods:\n",
      "1. Set the MLFLOW_TRACKING_URI environment variable to the desired tracking URI. `export MLFLOW_TRACKING_URI=http://localhost:5000`\n",
      "2. Set the tracking URI programmatically by calling `mlflow.set_tracking_uri`. `mlflow.set_tracking_uri('http://localhost:5000')`\n"
     ]
    },
    {
     "name": "stdout",
     "output_type": "stream",
     "text": [
      "222/222 [==============================] - 1s 6ms/step - loss: 0.5083 - accuracy: 0.7629 - auc_12: 0.8384 - val_loss: 0.5182 - val_accuracy: 0.7602 - val_auc_12: 0.8400\n",
      "Epoch 7/30\n",
      "218/222 [============================>.] - ETA: 0s - loss: 0.5079 - accuracy: 0.7629 - auc_12: 0.8380"
     ]
    },
    {
     "name": "stderr",
     "output_type": "stream",
     "text": [
      "2024/12/05 20:51:04 WARNING mlflow.utils.autologging_utils: Encountered unexpected error during autologging: When an mlflow-artifacts URI was supplied, the tracking URI must be a valid http or https URI, but it was currently set to file:///c:/Users/jorru/OneDrive%20-%20Universidad%20de%20los%20andes/Maestria/Anal%C3%ADtica_computacional/Proyecto_3/mlruns. Perhaps you forgot to set the tracking URI to the running MLflow server. To set the tracking URI, use either of the following methods:\n",
      "1. Set the MLFLOW_TRACKING_URI environment variable to the desired tracking URI. `export MLFLOW_TRACKING_URI=http://localhost:5000`\n",
      "2. Set the tracking URI programmatically by calling `mlflow.set_tracking_uri`. `mlflow.set_tracking_uri('http://localhost:5000')`\n"
     ]
    },
    {
     "name": "stdout",
     "output_type": "stream",
     "text": [
      "222/222 [==============================] - 1s 6ms/step - loss: 0.5080 - accuracy: 0.7630 - auc_12: 0.8380 - val_loss: 0.5105 - val_accuracy: 0.7662 - val_auc_12: 0.8418\n",
      "Epoch 8/30\n",
      "222/222 [==============================] - 1s 6ms/step - loss: 0.5064 - accuracy: 0.7627 - auc_12: 0.8381 - val_loss: 0.5154 - val_accuracy: 0.7563 - val_auc_12: 0.8382\n",
      "Epoch 9/30\n",
      "210/222 [===========================>..] - ETA: 0s - loss: 0.5018 - accuracy: 0.7641 - auc_12: 0.8400"
     ]
    },
    {
     "name": "stderr",
     "output_type": "stream",
     "text": [
      "2024/12/05 20:51:07 WARNING mlflow.utils.autologging_utils: Encountered unexpected error during autologging: When an mlflow-artifacts URI was supplied, the tracking URI must be a valid http or https URI, but it was currently set to file:///c:/Users/jorru/OneDrive%20-%20Universidad%20de%20los%20andes/Maestria/Anal%C3%ADtica_computacional/Proyecto_3/mlruns. Perhaps you forgot to set the tracking URI to the running MLflow server. To set the tracking URI, use either of the following methods:\n",
      "1. Set the MLFLOW_TRACKING_URI environment variable to the desired tracking URI. `export MLFLOW_TRACKING_URI=http://localhost:5000`\n",
      "2. Set the tracking URI programmatically by calling `mlflow.set_tracking_uri`. `mlflow.set_tracking_uri('http://localhost:5000')`\n"
     ]
    },
    {
     "name": "stdout",
     "output_type": "stream",
     "text": [
      "222/222 [==============================] - 1s 6ms/step - loss: 0.5015 - accuracy: 0.7643 - auc_12: 0.8403 - val_loss: 0.5086 - val_accuracy: 0.7662 - val_auc_12: 0.8423\n",
      "Epoch 10/30\n",
      "221/222 [============================>.] - ETA: 0s - loss: 0.5019 - accuracy: 0.7636 - auc_12: 0.8398"
     ]
    },
    {
     "name": "stderr",
     "output_type": "stream",
     "text": [
      "2024/12/05 20:51:08 WARNING mlflow.utils.autologging_utils: Encountered unexpected error during autologging: When an mlflow-artifacts URI was supplied, the tracking URI must be a valid http or https URI, but it was currently set to file:///c:/Users/jorru/OneDrive%20-%20Universidad%20de%20los%20andes/Maestria/Anal%C3%ADtica_computacional/Proyecto_3/mlruns. Perhaps you forgot to set the tracking URI to the running MLflow server. To set the tracking URI, use either of the following methods:\n",
      "1. Set the MLFLOW_TRACKING_URI environment variable to the desired tracking URI. `export MLFLOW_TRACKING_URI=http://localhost:5000`\n",
      "2. Set the tracking URI programmatically by calling `mlflow.set_tracking_uri`. `mlflow.set_tracking_uri('http://localhost:5000')`\n"
     ]
    },
    {
     "name": "stdout",
     "output_type": "stream",
     "text": [
      "222/222 [==============================] - 1s 6ms/step - loss: 0.5019 - accuracy: 0.7635 - auc_12: 0.8398 - val_loss: 0.4964 - val_accuracy: 0.7691 - val_auc_12: 0.8441\n",
      "Epoch 11/30\n",
      "222/222 [==============================] - 1s 6ms/step - loss: 0.4969 - accuracy: 0.7659 - auc_12: 0.8413 - val_loss: 0.5121 - val_accuracy: 0.7611 - val_auc_12: 0.8437\n",
      "Epoch 12/30\n",
      "217/222 [============================>.] - ETA: 0s - loss: 0.4963 - accuracy: 0.7655 - auc_12: 0.8414"
     ]
    },
    {
     "name": "stderr",
     "output_type": "stream",
     "text": [
      "2024/12/05 20:51:11 WARNING mlflow.utils.autologging_utils: Encountered unexpected error during autologging: When an mlflow-artifacts URI was supplied, the tracking URI must be a valid http or https URI, but it was currently set to file:///c:/Users/jorru/OneDrive%20-%20Universidad%20de%20los%20andes/Maestria/Anal%C3%ADtica_computacional/Proyecto_3/mlruns. Perhaps you forgot to set the tracking URI to the running MLflow server. To set the tracking URI, use either of the following methods:\n",
      "1. Set the MLFLOW_TRACKING_URI environment variable to the desired tracking URI. `export MLFLOW_TRACKING_URI=http://localhost:5000`\n",
      "2. Set the tracking URI programmatically by calling `mlflow.set_tracking_uri`. `mlflow.set_tracking_uri('http://localhost:5000')`\n"
     ]
    },
    {
     "name": "stdout",
     "output_type": "stream",
     "text": [
      "222/222 [==============================] - 1s 6ms/step - loss: 0.4961 - accuracy: 0.7656 - auc_12: 0.8415 - val_loss: 0.4929 - val_accuracy: 0.7693 - val_auc_12: 0.8459\n",
      "Epoch 13/30\n",
      "216/222 [============================>.] - ETA: 0s - loss: 0.4960 - accuracy: 0.7651 - auc_12: 0.8407"
     ]
    },
    {
     "name": "stderr",
     "output_type": "stream",
     "text": [
      "2024/12/05 20:51:12 WARNING mlflow.utils.autologging_utils: Encountered unexpected error during autologging: When an mlflow-artifacts URI was supplied, the tracking URI must be a valid http or https URI, but it was currently set to file:///c:/Users/jorru/OneDrive%20-%20Universidad%20de%20los%20andes/Maestria/Anal%C3%ADtica_computacional/Proyecto_3/mlruns. Perhaps you forgot to set the tracking URI to the running MLflow server. To set the tracking URI, use either of the following methods:\n",
      "1. Set the MLFLOW_TRACKING_URI environment variable to the desired tracking URI. `export MLFLOW_TRACKING_URI=http://localhost:5000`\n",
      "2. Set the tracking URI programmatically by calling `mlflow.set_tracking_uri`. `mlflow.set_tracking_uri('http://localhost:5000')`\n"
     ]
    },
    {
     "name": "stdout",
     "output_type": "stream",
     "text": [
      "222/222 [==============================] - 1s 6ms/step - loss: 0.4957 - accuracy: 0.7651 - auc_12: 0.8409 - val_loss: 0.4920 - val_accuracy: 0.7680 - val_auc_12: 0.8473\n",
      "Epoch 14/30\n",
      "222/222 [==============================] - 1s 6ms/step - loss: 0.4925 - accuracy: 0.7664 - auc_12: 0.8424 - val_loss: 0.4925 - val_accuracy: 0.7679 - val_auc_12: 0.8450\n",
      "Epoch 15/30\n",
      "218/222 [============================>.] - ETA: 0s - loss: 0.4931 - accuracy: 0.7656 - auc_12: 0.8423"
     ]
    },
    {
     "name": "stderr",
     "output_type": "stream",
     "text": [
      "2024/12/05 20:51:15 WARNING mlflow.utils.autologging_utils: Encountered unexpected error during autologging: When an mlflow-artifacts URI was supplied, the tracking URI must be a valid http or https URI, but it was currently set to file:///c:/Users/jorru/OneDrive%20-%20Universidad%20de%20los%20andes/Maestria/Anal%C3%ADtica_computacional/Proyecto_3/mlruns. Perhaps you forgot to set the tracking URI to the running MLflow server. To set the tracking URI, use either of the following methods:\n",
      "1. Set the MLFLOW_TRACKING_URI environment variable to the desired tracking URI. `export MLFLOW_TRACKING_URI=http://localhost:5000`\n",
      "2. Set the tracking URI programmatically by calling `mlflow.set_tracking_uri`. `mlflow.set_tracking_uri('http://localhost:5000')`\n"
     ]
    },
    {
     "name": "stdout",
     "output_type": "stream",
     "text": [
      "222/222 [==============================] - 1s 6ms/step - loss: 0.4933 - accuracy: 0.7654 - auc_12: 0.8421 - val_loss: 0.4903 - val_accuracy: 0.7709 - val_auc_12: 0.8476\n",
      "Epoch 16/30\n",
      "222/222 [==============================] - 1s 6ms/step - loss: 0.4901 - accuracy: 0.7666 - auc_12: 0.8434 - val_loss: 0.4913 - val_accuracy: 0.7683 - val_auc_12: 0.8456\n",
      "Epoch 17/30\n",
      "222/222 [==============================] - 1s 6ms/step - loss: 0.4905 - accuracy: 0.7654 - auc_12: 0.8431 - val_loss: 0.4973 - val_accuracy: 0.7618 - val_auc_12: 0.8464\n",
      "Epoch 18/30\n",
      "222/222 [==============================] - 1s 6ms/step - loss: 0.4902 - accuracy: 0.7659 - auc_12: 0.8434 - val_loss: 0.4999 - val_accuracy: 0.7646 - val_auc_12: 0.8473\n",
      "Epoch 19/30\n",
      "222/222 [==============================] - 1s 6ms/step - loss: 0.4904 - accuracy: 0.7668 - auc_12: 0.8427 - val_loss: 0.5023 - val_accuracy: 0.7684 - val_auc_12: 0.8457\n",
      "Epoch 20/30\n",
      "222/222 [==============================] - 1s 6ms/step - loss: 0.4895 - accuracy: 0.7667 - auc_12: 0.8432 - val_loss: 0.4911 - val_accuracy: 0.7674 - val_auc_12: 0.8441\n",
      "Epoch 21/30\n",
      "218/222 [============================>.] - ETA: 0s - loss: 0.4885 - accuracy: 0.7671 - auc_12: 0.8442"
     ]
    },
    {
     "name": "stderr",
     "output_type": "stream",
     "text": [
      "2024/12/05 20:51:23 WARNING mlflow.utils.autologging_utils: Encountered unexpected error during autologging: When an mlflow-artifacts URI was supplied, the tracking URI must be a valid http or https URI, but it was currently set to file:///c:/Users/jorru/OneDrive%20-%20Universidad%20de%20los%20andes/Maestria/Anal%C3%ADtica_computacional/Proyecto_3/mlruns. Perhaps you forgot to set the tracking URI to the running MLflow server. To set the tracking URI, use either of the following methods:\n",
      "1. Set the MLFLOW_TRACKING_URI environment variable to the desired tracking URI. `export MLFLOW_TRACKING_URI=http://localhost:5000`\n",
      "2. Set the tracking URI programmatically by calling `mlflow.set_tracking_uri`. `mlflow.set_tracking_uri('http://localhost:5000')`\n"
     ]
    },
    {
     "name": "stdout",
     "output_type": "stream",
     "text": [
      "222/222 [==============================] - 1s 7ms/step - loss: 0.4883 - accuracy: 0.7675 - auc_12: 0.8443 - val_loss: 0.4858 - val_accuracy: 0.7693 - val_auc_12: 0.8471\n",
      "Epoch 22/30\n",
      "219/222 [============================>.] - ETA: 0s - loss: 0.4879 - accuracy: 0.7668 - auc_12: 0.8445"
     ]
    },
    {
     "name": "stderr",
     "output_type": "stream",
     "text": [
      "2024/12/05 20:51:25 WARNING mlflow.utils.autologging_utils: Encountered unexpected error during autologging: When an mlflow-artifacts URI was supplied, the tracking URI must be a valid http or https URI, but it was currently set to file:///c:/Users/jorru/OneDrive%20-%20Universidad%20de%20los%20andes/Maestria/Anal%C3%ADtica_computacional/Proyecto_3/mlruns. Perhaps you forgot to set the tracking URI to the running MLflow server. To set the tracking URI, use either of the following methods:\n",
      "1. Set the MLFLOW_TRACKING_URI environment variable to the desired tracking URI. `export MLFLOW_TRACKING_URI=http://localhost:5000`\n",
      "2. Set the tracking URI programmatically by calling `mlflow.set_tracking_uri`. `mlflow.set_tracking_uri('http://localhost:5000')`\n"
     ]
    },
    {
     "name": "stdout",
     "output_type": "stream",
     "text": [
      "222/222 [==============================] - 1s 6ms/step - loss: 0.4880 - accuracy: 0.7670 - auc_12: 0.8444 - val_loss: 0.4849 - val_accuracy: 0.7695 - val_auc_12: 0.8484\n",
      "Epoch 23/30\n",
      "222/222 [==============================] - 1s 6ms/step - loss: 0.4882 - accuracy: 0.7667 - auc_12: 0.8446 - val_loss: 0.5156 - val_accuracy: 0.7613 - val_auc_12: 0.8455\n",
      "Epoch 24/30\n",
      "222/222 [==============================] - 1s 6ms/step - loss: 0.4880 - accuracy: 0.7671 - auc_12: 0.8444 - val_loss: 0.4894 - val_accuracy: 0.7694 - val_auc_12: 0.8480\n",
      "Epoch 25/30\n",
      "222/222 [==============================] - 1s 6ms/step - loss: 0.4877 - accuracy: 0.7680 - auc_12: 0.8442 - val_loss: 0.4865 - val_accuracy: 0.7698 - val_auc_12: 0.8488\n",
      "Epoch 26/30\n",
      "213/222 [===========================>..] - ETA: 0s - loss: 0.4863 - accuracy: 0.7674 - auc_12: 0.8452"
     ]
    },
    {
     "name": "stderr",
     "output_type": "stream",
     "text": [
      "2024/12/05 20:51:30 WARNING mlflow.utils.autologging_utils: Encountered unexpected error during autologging: When an mlflow-artifacts URI was supplied, the tracking URI must be a valid http or https URI, but it was currently set to file:///c:/Users/jorru/OneDrive%20-%20Universidad%20de%20los%20andes/Maestria/Anal%C3%ADtica_computacional/Proyecto_3/mlruns. Perhaps you forgot to set the tracking URI to the running MLflow server. To set the tracking URI, use either of the following methods:\n",
      "1. Set the MLFLOW_TRACKING_URI environment variable to the desired tracking URI. `export MLFLOW_TRACKING_URI=http://localhost:5000`\n",
      "2. Set the tracking URI programmatically by calling `mlflow.set_tracking_uri`. `mlflow.set_tracking_uri('http://localhost:5000')`\n"
     ]
    },
    {
     "name": "stdout",
     "output_type": "stream",
     "text": [
      "222/222 [==============================] - 1s 6ms/step - loss: 0.4871 - accuracy: 0.7676 - auc_12: 0.8446 - val_loss: 0.4828 - val_accuracy: 0.7707 - val_auc_12: 0.8493\n",
      "Epoch 27/30\n",
      "222/222 [==============================] - 1s 6ms/step - loss: 0.4865 - accuracy: 0.7684 - auc_12: 0.8450 - val_loss: 0.4947 - val_accuracy: 0.7630 - val_auc_12: 0.8474\n",
      "Epoch 28/30\n",
      "222/222 [==============================] - 1s 6ms/step - loss: 0.4870 - accuracy: 0.7678 - auc_12: 0.8444 - val_loss: 0.4888 - val_accuracy: 0.7703 - val_auc_12: 0.8482\n",
      "Epoch 29/30\n",
      "222/222 [==============================] - 1s 6ms/step - loss: 0.4870 - accuracy: 0.7673 - auc_12: 0.8444 - val_loss: 0.4987 - val_accuracy: 0.7683 - val_auc_12: 0.8483\n",
      "Epoch 30/30\n",
      "222/222 [==============================] - 1s 6ms/step - loss: 0.4866 - accuracy: 0.7678 - auc_12: 0.8448 - val_loss: 0.4858 - val_accuracy: 0.7721 - val_auc_12: 0.8487\n"
     ]
    },
    {
     "name": "stderr",
     "output_type": "stream",
     "text": [
      "2024/12/05 20:51:35 WARNING mlflow.tensorflow: Failed to infer model signature: could not sample data to infer model signature: Cannot log input example or model signature for input with type <class 'pandas.core.frame.DataFrame'>. TensorFlow Keras autologging can only log input examples and model signatures for the following input types: numpy.ndarray, dict[string -> numpy.ndarray], tensorflow.keras.utils.Sequence, and tensorflow.data.Dataset (TensorFlow >= 2.1.0 required)\n",
      "2024/12/05 20:51:35 WARNING mlflow.tensorflow: You are saving a TensorFlow Core model or Keras model without a signature. Inference with mlflow.pyfunc.spark_udf() will not work unless the model's pyfunc representation accepts pandas DataFrames as inference inputs.\n"
     ]
    },
    {
     "name": "stdout",
     "output_type": "stream",
     "text": [
      "INFO:tensorflow:Assets written to: C:\\Users\\jorru\\AppData\\Local\\Temp\\tmp2p6u6ma8\\model\\data\\model\\assets\n"
     ]
    },
    {
     "name": "stderr",
     "output_type": "stream",
     "text": [
      "INFO:tensorflow:Assets written to: C:\\Users\\jorru\\AppData\\Local\\Temp\\tmp2p6u6ma8\\model\\data\\model\\assets\n",
      "2024/12/05 20:51:41 WARNING mlflow.models.model: Model logged without a signature and input example. Please set `input_example` parameter when logging the model to auto infer the model signature.\n",
      "2024/12/05 20:51:41 WARNING mlflow.utils.autologging_utils: Encountered unexpected error during tensorflow autologging: When an mlflow-artifacts URI was supplied, the tracking URI must be a valid http or https URI, but it was currently set to file:///c:/Users/jorru/OneDrive%20-%20Universidad%20de%20los%20andes/Maestria/Anal%C3%ADtica_computacional/Proyecto_3/mlruns. Perhaps you forgot to set the tracking URI to the running MLflow server. To set the tracking URI, use either of the following methods:\n",
      "1. Set the MLFLOW_TRACKING_URI environment variable to the desired tracking URI. `export MLFLOW_TRACKING_URI=http://localhost:5000`\n",
      "2. Set the tracking URI programmatically by calling `mlflow.set_tracking_uri`. `mlflow.set_tracking_uri('http://localhost:5000')`\n"
     ]
    },
    {
     "name": "stdout",
     "output_type": "stream",
     "text": [
      "554/554 - 1s - loss: 0.4939 - accuracy: 0.7630 - auc_12: 0.8415 - 914ms/epoch - 2ms/step\n"
     ]
    }
   ],
   "source": [
    "args = parser.parse_args([\"--batch_size\", '256', \"--epochs\", '30',\"--num_hidden_units\", '256', \"--num_hidden_layers\", '3'])\n",
    "mlflow.start_run(run_name=\"Modelo_final_cat\")\n",
    "run = mlflow.active_run()\n",
    "# MLflow asigna un ID al experimento y a la corrida\n",
    "experimentID = run.info.experiment_id\n",
    "runID = run.info.run_uuid\n",
    "# reistro automáticos de las métricas de keras\n",
    "mlflow.keras.autolog()\n",
    "\n",
    "if args.activation == 'relu':\n",
    "    act_func = tf.nn.relu\n",
    "elif args.activation == 'tanh':\n",
    "    act_func = tf.nn.tanh\n",
    "elif args.activation == 'prelu':\n",
    "    act_func = layers.PReLU()\n",
    "\n",
    "# definimos la capa de entrada\n",
    "input_layer = layers.Input(shape=(148,))  # 148 variables de entrada\n",
    "x = input_layer\n",
    "\n",
    "neurons = [0] * 4\n",
    "# Agregamos capas ocultas a la red\n",
    "for n in range(0, args.num_hidden_layers):\n",
    "    if args.normalization == 0:\n",
    "        if args.same_neurons == 0:\n",
    "            neurons[n] = args.num_hidden_units\n",
    "            # agregamos una capa densa (completamente conectada)\n",
    "            x = layers.Dense(neurons[n], activation=act_func,kernel_regularizer=regularizers.l2(args.regularizers))(x)\n",
    "            # agregamos dropout o normalizacion como método de regularización para aleatoriamente descartar una capa si los gradientes son muy pequeños\n",
    "            # x = layers.Dropout(args.dropout)(x)\n",
    "            x = layers.BatchNormalization()(x)\n",
    "        else: \n",
    "            neurons[n] = args.num_hidden_units/(2 ** (n - 1))\n",
    "            # agregamos una capa densa (completamente conectada)\n",
    "            x = layers.Dense(neurons[n], activation=act_func,kernel_regularizer=regularizers.l2(args.regularizers))(x)\n",
    "            # agregamos dropout o normalizacion como método de regularización para aleatoriamente descartar una capa si los gradientes son muy pequeños\n",
    "            # x = layers.Dropout(args.dropout)(x)\n",
    "            x = layers.BatchNormalization()(x)\n",
    "    else:\n",
    "        if args.same_neurons == 0:\n",
    "            neurons[n] = args.num_hidden_units\n",
    "            # agregamos una capa densa (completamente conectada)\n",
    "            x = layers.Dense(neurons[n], activation=act_func)(x)\n",
    "            # agregamos dropout o normalizacion como método de regularización para aleatoriamente descartar una capa si los gradientes son muy pequeños\n",
    "            x = layers.Dropout(args.dropout)(x)\n",
    "            # x = layers.BatchNormalization()(x)\n",
    "        else: \n",
    "            neurons[n] = args.num_hidden_units/(2 ** (n - 1))\n",
    "            # agregamos una capa densa (completamente conectada)\n",
    "            x = layers.Dense(neurons[n], activation=act_func)(x)\n",
    "            # agregamos dropout o normalizacion como método de regularización para aleatoriamente descartar una capa si los gradientes son muy pequeños\n",
    "            x = layers.Dropout(args.dropout)(x)\n",
    "            # x = layers.BatchNormalization()(x)\n",
    "\n",
    "# capa final con 1 nodo de salida y sin activacion por lo que es de regresion\n",
    "output_layer = layers.Dense(1, activation='sigmoid')(x)\n",
    "\n",
    "# Se arma el modelo:\n",
    "model = keras.Model(input_layer, output_layer)\n",
    "# https://keras.io/optimizers/\n",
    "optimizer = get_optimizer()\n",
    "\n",
    "# compilamos el modelo y definimos la función de pérdida  \n",
    "# otras funciones de pérdida comunes para problemas de clasificación\n",
    "# 1. sparse_categorical_crossentropy\n",
    "# 2. binary_crossentropy\n",
    "model.compile(optimizer=optimizer,\n",
    "                loss='binary_crossentropy',\n",
    "                metrics=['accuracy',keras.metrics.AUC()])\n",
    "\n",
    "# entrenamos el modelo\n",
    "print(\"-\" * 100)\n",
    "model.fit(x_train, y_train, epochs=args.epochs, batch_size=args.batch_size, validation_data=(x_valid, y_valid))\n",
    "\n",
    "# evaluamos el modelo\n",
    "test_loss, test_acurracy, test_auc = model.evaluate(x_test, y_test, verbose=2)\n",
    "\n",
    "# Alistamos algunos parametros\n",
    "hidden_layers = args.num_hidden_layers\n",
    "activation_funtion = args.activation\n",
    "\n",
    "# Metemos los parametros en Mlflow\n",
    "mlflow.log_param('Capas ocultas', hidden_layers)\n",
    "mlflow.log_param('Neuronas', neurons)\n",
    "mlflow.log_param('Funcion de activacion', activation_funtion)\n",
    "\n",
    "# Metemos las metricas de test en Mlflow\n",
    "mlflow.log_metric('test_loss', test_loss)\n",
    "mlflow.log_metric('test_acurracy', test_acurracy)\n",
    "mlflow.log_metric('test_auc', test_auc)\n",
    "\n",
    "mlflow.end_run(status='FINISHED')"
   ]
  },
  {
   "cell_type": "code",
   "execution_count": 15,
   "metadata": {},
   "outputs": [],
   "source": [
    "model.save('modelo_proyecto3_categorico.keras')"
   ]
  },
  {
   "cell_type": "code",
   "execution_count": 19,
   "metadata": {},
   "outputs": [
    {
     "data": {
      "text/plain": [
       "array([0, 1, 1, ..., 0, 1, 0])"
      ]
     },
     "execution_count": 19,
     "metadata": {},
     "output_type": "execute_result"
    }
   ],
   "source": [
    "y_test = y_test.to_numpy()\n",
    "y_test"
   ]
  },
  {
   "cell_type": "markdown",
   "metadata": {},
   "source": [
    "#### Se predice con el modelo"
   ]
  },
  {
   "cell_type": "code",
   "execution_count": 18,
   "metadata": {},
   "outputs": [
    {
     "name": "stdout",
     "output_type": "stream",
     "text": [
      "554/554 [==============================] - 1s 1ms/step\n"
     ]
    },
    {
     "data": {
      "text/plain": [
       "array([0, 1, 1, ..., 0, 1, 0])"
      ]
     },
     "execution_count": 18,
     "metadata": {},
     "output_type": "execute_result"
    }
   ],
   "source": [
    "import numpy as np\n",
    "\n",
    "predicts_percentage = model.predict(x_test)\n",
    "predicts = np.where(predicts_percentage < 0.5, 0, 1)\n",
    "predicts = predicts.flatten()\n",
    "predicts"
   ]
  },
  {
   "cell_type": "markdown",
   "metadata": {},
   "source": [
    "#### Generamos la matriz de confusión y sus variables"
   ]
  },
  {
   "cell_type": "code",
   "execution_count": 20,
   "metadata": {},
   "outputs": [
    {
     "name": "stdout",
     "output_type": "stream",
     "text": [
      "TP = 7304\n",
      "FP = 1858\n",
      "TN = 6221\n",
      "FN = 2342\n"
     ]
    }
   ],
   "source": [
    "condition1 = y_test == 1\n",
    "condition2 = predicts == 1\n",
    "condition3 = y_test == 0\n",
    "condition4 = predicts == 0\n",
    "TP = np.sum((condition1) & (condition2))\n",
    "FP = np.sum((condition3) & (condition2))\n",
    "TN = np.sum((condition3 & condition4))\n",
    "FN = np.sum((condition1 & condition4))\n",
    "print(f'TP = {TP}')\n",
    "print(f'FP = {FP}')\n",
    "print(f'TN = {TN}')\n",
    "print(f'FN = {FN}')"
   ]
  },
  {
   "cell_type": "code",
   "execution_count": 24,
   "metadata": {},
   "outputs": [
    {
     "data": {
      "image/png": "[encoded data removed]",
      "text/plain": [
       "<Figure size 800x600 with 2 Axes>"
      ]
     },
     "metadata": {},
     "output_type": "display_data"
    }
   ],
   "source": [
    "import matplotlib.pyplot as plt\n",
    "import seaborn as sns\n",
    "from sklearn.metrics import confusion_matrix\n",
    "\n",
    "matrix = confusion_matrix(y_test, predicts) #Calcular cada pedazo de la matriz. Calculo los costos.\n",
    "\n",
    "# Paso 3: Graficar la matriz de confusión\n",
    "plt.figure(figsize=(8, 6))\n",
    "sns.heatmap(matrix, annot=True, fmt='d', cmap='Blues', xticklabels=['No', 'Sí'], yticklabels=['No', 'Sí'])\n",
    "plt.xlabel('Predicho')\n",
    "plt.ylabel('Verdadero')\n",
    "plt.title('Matriz de Confusión')\n",
    "plt.show()"
   ]
  },
  {
   "cell_type": "markdown",
   "metadata": {},
   "source": [
    "#### El resto de las metricas dell modedlo final"
   ]
  },
  {
   "cell_type": "code",
   "execution_count": 21,
   "metadata": {},
   "outputs": [
    {
     "name": "stdout",
     "output_type": "stream",
     "text": [
      "Acurracy = 0.763046544428773\n",
      "Positive precision = 0.7972058502510369\n",
      "Negative precision = 0.7264977227607147\n",
      "True positive rate = 0.7572050590918515\n",
      "True negative rate = 0.7700210422081941\n",
      "False positive rate = 0.2299789577918059\n",
      "False negative rate = 0.24279494090814846\n",
      "AUC: 0.8414837718009949\n"
     ]
    }
   ],
   "source": [
    "acurracy = (TP + TN) / (TP + TN + FP + FN)\n",
    "print(f'Acurracy = {acurracy}')\n",
    "precision_p = (TP) / (TP + FP)\n",
    "print(f'Positive precision = {precision_p}')\n",
    "precision_n = (TN) / (TN + FN)\n",
    "print(f'Negative precision = {precision_n}')\n",
    "TPR = (TP) / (TP + FN)\n",
    "TNR = (TN) / (TN + FP)\n",
    "FPR = (FP) / (TN + FP)\n",
    "FNR = (FN) / (TP + FN)\n",
    "print(f'True positive rate = {TPR}')\n",
    "print(f'True negative rate = {TNR}')\n",
    "print(f'False positive rate = {FPR}')\n",
    "print(f'False negative rate = {FNR}')\n",
    "print(f'AUC: {test_auc}')"
   ]
  }
 ],
 "metadata": {
  "kernelspec": {
   "display_name": ".venv",
   "language": "python",
   "name": "python3"
  },
  "language_info": {
   "codemirror_mode": {
    "name": "ipython",
    "version": 3
   },
   "file_extension": ".py",
   "mimetype": "text/x-python",
   "name": "python",
   "nbconvert_exporter": "python",
   "pygments_lexer": "ipython3",
   "version": "3.11.9"
  }
 },
 "nbformat": 4,
 "nbformat_minor": 2
}
