{
 "cells": [
  {
   "cell_type": "markdown",
   "metadata": {},
   "source": [
    "# Modelamiento proyecto 3"
   ]
  },
  {
   "cell_type": "markdown",
   "metadata": {},
   "source": [
    "#### Primero traemos la data ya limpia de duplicados, nulls, outliers y variables que no aportan"
   ]
  },
  {
   "cell_type": "code",
   "execution_count": 1,
   "metadata": {},
   "outputs": [
    {
     "data": {
      "text/html": [
       "<div>\n",
       "<style scoped>\n",
       "    .dataframe tbody tr th:only-of-type {\n",
       "        vertical-align: middle;\n",
       "    }\n",
       "\n",
       "    .dataframe tbody tr th {\n",
       "        vertical-align: top;\n",
       "    }\n",
       "\n",
       "    .dataframe thead th {\n",
       "        text-align: right;\n",
       "    }\n",
       "</style>\n",
       "<table border=\"1\" class=\"dataframe\">\n",
       "  <thead>\n",
       "    <tr style=\"text-align: right;\">\n",
       "      <th></th>\n",
       "      <th>periodo</th>\n",
       "      <th>cole_area_ubicacion</th>\n",
       "      <th>cole_caracter</th>\n",
       "      <th>cole_genero</th>\n",
       "      <th>cole_jornada</th>\n",
       "      <th>cole_mcpio_ubicacion</th>\n",
       "      <th>cole_naturaleza</th>\n",
       "      <th>estu_genero</th>\n",
       "      <th>estu_mcpio_presentacion</th>\n",
       "      <th>estu_mcpio_reside</th>\n",
       "      <th>...</th>\n",
       "      <th>fami_tienecomputador</th>\n",
       "      <th>fami_tieneinternet</th>\n",
       "      <th>fami_tienelavadora</th>\n",
       "      <th>desemp_ingles</th>\n",
       "      <th>punt_ingles</th>\n",
       "      <th>punt_matematicas</th>\n",
       "      <th>punt_sociales_ciudadanas</th>\n",
       "      <th>punt_c_naturales</th>\n",
       "      <th>punt_lectura_critica</th>\n",
       "      <th>punt_global</th>\n",
       "    </tr>\n",
       "  </thead>\n",
       "  <tbody>\n",
       "    <tr>\n",
       "      <th>0</th>\n",
       "      <td>20142</td>\n",
       "      <td>RURAL</td>\n",
       "      <td>TECNICO</td>\n",
       "      <td>MIXTO</td>\n",
       "      <td>MANANA</td>\n",
       "      <td>SAN CAYETANO</td>\n",
       "      <td>OFICIAL</td>\n",
       "      <td>F</td>\n",
       "      <td>CUCUTA</td>\n",
       "      <td>SAN CAYETANO</td>\n",
       "      <td>...</td>\n",
       "      <td>No</td>\n",
       "      <td>No</td>\n",
       "      <td>No</td>\n",
       "      <td>A-</td>\n",
       "      <td>36.0</td>\n",
       "      <td>44.0</td>\n",
       "      <td>51.0</td>\n",
       "      <td>37.0</td>\n",
       "      <td>37.0</td>\n",
       "      <td>209.0</td>\n",
       "    </tr>\n",
       "    <tr>\n",
       "      <th>1</th>\n",
       "      <td>20194</td>\n",
       "      <td>URBANO</td>\n",
       "      <td>TECNICO/ACADEMICO</td>\n",
       "      <td>MIXTO</td>\n",
       "      <td>TARDE</td>\n",
       "      <td>ABREGO</td>\n",
       "      <td>OFICIAL</td>\n",
       "      <td>M</td>\n",
       "      <td>ABREGO</td>\n",
       "      <td>ABREGO</td>\n",
       "      <td>...</td>\n",
       "      <td>No</td>\n",
       "      <td>No</td>\n",
       "      <td>Si</td>\n",
       "      <td>A-</td>\n",
       "      <td>42.0</td>\n",
       "      <td>41.0</td>\n",
       "      <td>39.0</td>\n",
       "      <td>40.0</td>\n",
       "      <td>54.0</td>\n",
       "      <td>217.0</td>\n",
       "    </tr>\n",
       "    <tr>\n",
       "      <th>2</th>\n",
       "      <td>20152</td>\n",
       "      <td>RURAL</td>\n",
       "      <td>ACADEMICO</td>\n",
       "      <td>MIXTO</td>\n",
       "      <td>COMPLETA</td>\n",
       "      <td>PAMPLONITA</td>\n",
       "      <td>OFICIAL</td>\n",
       "      <td>M</td>\n",
       "      <td>PAMPLONA</td>\n",
       "      <td>PAMPLONITA</td>\n",
       "      <td>...</td>\n",
       "      <td>No</td>\n",
       "      <td>No</td>\n",
       "      <td>No</td>\n",
       "      <td>A-</td>\n",
       "      <td>38.0</td>\n",
       "      <td>62.0</td>\n",
       "      <td>45.0</td>\n",
       "      <td>57.0</td>\n",
       "      <td>48.0</td>\n",
       "      <td>259.0</td>\n",
       "    </tr>\n",
       "    <tr>\n",
       "      <th>3</th>\n",
       "      <td>20142</td>\n",
       "      <td>URBANO</td>\n",
       "      <td>TECNICO</td>\n",
       "      <td>MIXTO</td>\n",
       "      <td>COMPLETA</td>\n",
       "      <td>MUTISCUA</td>\n",
       "      <td>OFICIAL</td>\n",
       "      <td>F</td>\n",
       "      <td>PAMPLONA</td>\n",
       "      <td>MUTISCUA</td>\n",
       "      <td>...</td>\n",
       "      <td>No</td>\n",
       "      <td>No</td>\n",
       "      <td>Si</td>\n",
       "      <td>A1</td>\n",
       "      <td>58.0</td>\n",
       "      <td>58.0</td>\n",
       "      <td>56.0</td>\n",
       "      <td>60.0</td>\n",
       "      <td>58.0</td>\n",
       "      <td>290.0</td>\n",
       "    </tr>\n",
       "    <tr>\n",
       "      <th>4</th>\n",
       "      <td>20152</td>\n",
       "      <td>URBANO</td>\n",
       "      <td>TECNICO/ACADEMICO</td>\n",
       "      <td>MIXTO</td>\n",
       "      <td>MANANA</td>\n",
       "      <td>CUCUTA</td>\n",
       "      <td>OFICIAL</td>\n",
       "      <td>M</td>\n",
       "      <td>CUCUTA</td>\n",
       "      <td>CUCUTA</td>\n",
       "      <td>...</td>\n",
       "      <td>No</td>\n",
       "      <td>No</td>\n",
       "      <td>No</td>\n",
       "      <td>A-</td>\n",
       "      <td>41.0</td>\n",
       "      <td>46.0</td>\n",
       "      <td>44.0</td>\n",
       "      <td>46.0</td>\n",
       "      <td>49.0</td>\n",
       "      <td>229.0</td>\n",
       "    </tr>\n",
       "  </tbody>\n",
       "</table>\n",
       "<p>5 rows × 26 columns</p>\n",
       "</div>"
      ],
      "text/plain": [
       "   periodo cole_area_ubicacion      cole_caracter cole_genero cole_jornada  \\\n",
       "0    20142               RURAL            TECNICO       MIXTO       MANANA   \n",
       "1    20194              URBANO  TECNICO/ACADEMICO       MIXTO        TARDE   \n",
       "2    20152               RURAL          ACADEMICO       MIXTO     COMPLETA   \n",
       "3    20142              URBANO            TECNICO       MIXTO     COMPLETA   \n",
       "4    20152              URBANO  TECNICO/ACADEMICO       MIXTO       MANANA   \n",
       "\n",
       "  cole_mcpio_ubicacion cole_naturaleza estu_genero estu_mcpio_presentacion  \\\n",
       "0         SAN CAYETANO         OFICIAL           F                  CUCUTA   \n",
       "1               ABREGO         OFICIAL           M                  ABREGO   \n",
       "2           PAMPLONITA         OFICIAL           M                PAMPLONA   \n",
       "3             MUTISCUA         OFICIAL           F                PAMPLONA   \n",
       "4               CUCUTA         OFICIAL           M                  CUCUTA   \n",
       "\n",
       "  estu_mcpio_reside  ... fami_tienecomputador fami_tieneinternet  \\\n",
       "0      SAN CAYETANO  ...                   No                 No   \n",
       "1            ABREGO  ...                   No                 No   \n",
       "2        PAMPLONITA  ...                   No                 No   \n",
       "3          MUTISCUA  ...                   No                 No   \n",
       "4            CUCUTA  ...                   No                 No   \n",
       "\n",
       "  fami_tienelavadora desemp_ingles punt_ingles punt_matematicas  \\\n",
       "0                 No            A-        36.0             44.0   \n",
       "1                 Si            A-        42.0             41.0   \n",
       "2                 No            A-        38.0             62.0   \n",
       "3                 Si            A1        58.0             58.0   \n",
       "4                 No            A-        41.0             46.0   \n",
       "\n",
       "  punt_sociales_ciudadanas punt_c_naturales punt_lectura_critica punt_global  \n",
       "0                     51.0             37.0                 37.0       209.0  \n",
       "1                     39.0             40.0                 54.0       217.0  \n",
       "2                     45.0             57.0                 48.0       259.0  \n",
       "3                     56.0             60.0                 58.0       290.0  \n",
       "4                     44.0             46.0                 49.0       229.0  \n",
       "\n",
       "[5 rows x 26 columns]"
      ]
     },
     "execution_count": 1,
     "metadata": {},
     "output_type": "execute_result"
    }
   ],
   "source": [
    "import pandas as pd\n",
    "\n",
    "data_completa = pd.read_csv(\"datos_limpios.csv\")\n",
    "data_completa.head()"
   ]
  },
  {
   "cell_type": "code",
   "execution_count": 2,
   "metadata": {},
   "outputs": [
    {
     "data": {
      "text/html": [
       "<div>\n",
       "<style scoped>\n",
       "    .dataframe tbody tr th:only-of-type {\n",
       "        vertical-align: middle;\n",
       "    }\n",
       "\n",
       "    .dataframe tbody tr th {\n",
       "        vertical-align: top;\n",
       "    }\n",
       "\n",
       "    .dataframe thead th {\n",
       "        text-align: right;\n",
       "    }\n",
       "</style>\n",
       "<table border=\"1\" class=\"dataframe\">\n",
       "  <thead>\n",
       "    <tr style=\"text-align: right;\">\n",
       "      <th></th>\n",
       "      <th>count</th>\n",
       "      <th>unique</th>\n",
       "      <th>top</th>\n",
       "      <th>freq</th>\n",
       "    </tr>\n",
       "  </thead>\n",
       "  <tbody>\n",
       "    <tr>\n",
       "      <th>cole_area_ubicacion</th>\n",
       "      <td>88622</td>\n",
       "      <td>2</td>\n",
       "      <td>URBANO</td>\n",
       "      <td>81243</td>\n",
       "    </tr>\n",
       "    <tr>\n",
       "      <th>cole_caracter</th>\n",
       "      <td>88622</td>\n",
       "      <td>4</td>\n",
       "      <td>TECNICO/ACADEMICO</td>\n",
       "      <td>48900</td>\n",
       "    </tr>\n",
       "    <tr>\n",
       "      <th>cole_genero</th>\n",
       "      <td>88622</td>\n",
       "      <td>3</td>\n",
       "      <td>MIXTO</td>\n",
       "      <td>82755</td>\n",
       "    </tr>\n",
       "    <tr>\n",
       "      <th>cole_jornada</th>\n",
       "      <td>88622</td>\n",
       "      <td>6</td>\n",
       "      <td>MANANA</td>\n",
       "      <td>49278</td>\n",
       "    </tr>\n",
       "    <tr>\n",
       "      <th>cole_mcpio_ubicacion</th>\n",
       "      <td>88622</td>\n",
       "      <td>39</td>\n",
       "      <td>CUCUTA</td>\n",
       "      <td>49672</td>\n",
       "    </tr>\n",
       "    <tr>\n",
       "      <th>cole_naturaleza</th>\n",
       "      <td>88622</td>\n",
       "      <td>2</td>\n",
       "      <td>OFICIAL</td>\n",
       "      <td>65877</td>\n",
       "    </tr>\n",
       "    <tr>\n",
       "      <th>estu_genero</th>\n",
       "      <td>88622</td>\n",
       "      <td>2</td>\n",
       "      <td>F</td>\n",
       "      <td>48969</td>\n",
       "    </tr>\n",
       "    <tr>\n",
       "      <th>estu_mcpio_presentacion</th>\n",
       "      <td>88622</td>\n",
       "      <td>14</td>\n",
       "      <td>CUCUTA</td>\n",
       "      <td>53692</td>\n",
       "    </tr>\n",
       "    <tr>\n",
       "      <th>estu_mcpio_reside</th>\n",
       "      <td>88622</td>\n",
       "      <td>40</td>\n",
       "      <td>CUCUTA</td>\n",
       "      <td>49474</td>\n",
       "    </tr>\n",
       "    <tr>\n",
       "      <th>fami_cuartoshogar</th>\n",
       "      <td>88622</td>\n",
       "      <td>7</td>\n",
       "      <td>3</td>\n",
       "      <td>33936</td>\n",
       "    </tr>\n",
       "    <tr>\n",
       "      <th>fami_educacionmadre</th>\n",
       "      <td>88622</td>\n",
       "      <td>12</td>\n",
       "      <td>Secundaria (Bachillerato) completa</td>\n",
       "      <td>22306</td>\n",
       "    </tr>\n",
       "    <tr>\n",
       "      <th>fami_educacionpadre</th>\n",
       "      <td>88622</td>\n",
       "      <td>12</td>\n",
       "      <td>Primaria incompleta</td>\n",
       "      <td>20337</td>\n",
       "    </tr>\n",
       "    <tr>\n",
       "      <th>fami_estratovivienda</th>\n",
       "      <td>88622</td>\n",
       "      <td>7</td>\n",
       "      <td>Estrato 1</td>\n",
       "      <td>38658</td>\n",
       "    </tr>\n",
       "    <tr>\n",
       "      <th>fami_personashogar</th>\n",
       "      <td>88622</td>\n",
       "      <td>5</td>\n",
       "      <td>3 a 4</td>\n",
       "      <td>42360</td>\n",
       "    </tr>\n",
       "    <tr>\n",
       "      <th>fami_tieneautomovil</th>\n",
       "      <td>88622</td>\n",
       "      <td>2</td>\n",
       "      <td>No</td>\n",
       "      <td>68026</td>\n",
       "    </tr>\n",
       "    <tr>\n",
       "      <th>fami_tienecomputador</th>\n",
       "      <td>88622</td>\n",
       "      <td>2</td>\n",
       "      <td>Si</td>\n",
       "      <td>45987</td>\n",
       "    </tr>\n",
       "    <tr>\n",
       "      <th>fami_tieneinternet</th>\n",
       "      <td>88622</td>\n",
       "      <td>2</td>\n",
       "      <td>Si</td>\n",
       "      <td>46741</td>\n",
       "    </tr>\n",
       "    <tr>\n",
       "      <th>fami_tienelavadora</th>\n",
       "      <td>88622</td>\n",
       "      <td>2</td>\n",
       "      <td>Si</td>\n",
       "      <td>57360</td>\n",
       "    </tr>\n",
       "    <tr>\n",
       "      <th>desemp_ingles</th>\n",
       "      <td>88622</td>\n",
       "      <td>5</td>\n",
       "      <td>A-</td>\n",
       "      <td>39598</td>\n",
       "    </tr>\n",
       "  </tbody>\n",
       "</table>\n",
       "</div>"
      ],
      "text/plain": [
       "                         count unique                                 top  \\\n",
       "cole_area_ubicacion      88622      2                              URBANO   \n",
       "cole_caracter            88622      4                   TECNICO/ACADEMICO   \n",
       "cole_genero              88622      3                               MIXTO   \n",
       "cole_jornada             88622      6                              MANANA   \n",
       "cole_mcpio_ubicacion     88622     39                              CUCUTA   \n",
       "cole_naturaleza          88622      2                             OFICIAL   \n",
       "estu_genero              88622      2                                   F   \n",
       "estu_mcpio_presentacion  88622     14                              CUCUTA   \n",
       "estu_mcpio_reside        88622     40                              CUCUTA   \n",
       "fami_cuartoshogar        88622      7                                   3   \n",
       "fami_educacionmadre      88622     12  Secundaria (Bachillerato) completa   \n",
       "fami_educacionpadre      88622     12                 Primaria incompleta   \n",
       "fami_estratovivienda     88622      7                           Estrato 1   \n",
       "fami_personashogar       88622      5                               3 a 4   \n",
       "fami_tieneautomovil      88622      2                                  No   \n",
       "fami_tienecomputador     88622      2                                  Si   \n",
       "fami_tieneinternet       88622      2                                  Si   \n",
       "fami_tienelavadora       88622      2                                  Si   \n",
       "desemp_ingles            88622      5                                  A-   \n",
       "\n",
       "                          freq  \n",
       "cole_area_ubicacion      81243  \n",
       "cole_caracter            48900  \n",
       "cole_genero              82755  \n",
       "cole_jornada             49278  \n",
       "cole_mcpio_ubicacion     49672  \n",
       "cole_naturaleza          65877  \n",
       "estu_genero              48969  \n",
       "estu_mcpio_presentacion  53692  \n",
       "estu_mcpio_reside        49474  \n",
       "fami_cuartoshogar        33936  \n",
       "fami_educacionmadre      22306  \n",
       "fami_educacionpadre      20337  \n",
       "fami_estratovivienda     38658  \n",
       "fami_personashogar       42360  \n",
       "fami_tieneautomovil      68026  \n",
       "fami_tienecomputador     45987  \n",
       "fami_tieneinternet       46741  \n",
       "fami_tienelavadora       57360  \n",
       "desemp_ingles            39598  "
      ]
     },
     "execution_count": 2,
     "metadata": {},
     "output_type": "execute_result"
    }
   ],
   "source": [
    "data_completa.describe(include='object').transpose()"
   ]
  },
  {
   "cell_type": "markdown",
   "metadata": {},
   "source": [
    "#### Generamos nuestras variables dummies, para poder trabajar estos variables categoricas:"
   ]
  },
  {
   "cell_type": "code",
   "execution_count": 3,
   "metadata": {},
   "outputs": [
    {
     "data": {
      "text/html": [
       "<div>\n",
       "<style scoped>\n",
       "    .dataframe tbody tr th:only-of-type {\n",
       "        vertical-align: middle;\n",
       "    }\n",
       "\n",
       "    .dataframe tbody tr th {\n",
       "        vertical-align: top;\n",
       "    }\n",
       "\n",
       "    .dataframe thead th {\n",
       "        text-align: right;\n",
       "    }\n",
       "</style>\n",
       "<table border=\"1\" class=\"dataframe\">\n",
       "  <thead>\n",
       "    <tr style=\"text-align: right;\">\n",
       "      <th></th>\n",
       "      <th>periodo</th>\n",
       "      <th>punt_ingles</th>\n",
       "      <th>punt_matematicas</th>\n",
       "      <th>punt_sociales_ciudadanas</th>\n",
       "      <th>punt_c_naturales</th>\n",
       "      <th>punt_lectura_critica</th>\n",
       "      <th>punt_global</th>\n",
       "      <th>cole_area_ubicacion_URBANO</th>\n",
       "      <th>cole_caracter_NO APLICA</th>\n",
       "      <th>cole_caracter_TECNICO</th>\n",
       "      <th>...</th>\n",
       "      <th>fami_personashogar_7 a 8</th>\n",
       "      <th>fami_personashogar_9 o más</th>\n",
       "      <th>fami_tieneautomovil_Si</th>\n",
       "      <th>fami_tienecomputador_Si</th>\n",
       "      <th>fami_tieneinternet_Si</th>\n",
       "      <th>fami_tienelavadora_Si</th>\n",
       "      <th>desemp_ingles_A1</th>\n",
       "      <th>desemp_ingles_A2</th>\n",
       "      <th>desemp_ingles_B+</th>\n",
       "      <th>desemp_ingles_B1</th>\n",
       "    </tr>\n",
       "  </thead>\n",
       "  <tbody>\n",
       "    <tr>\n",
       "      <th>0</th>\n",
       "      <td>20142</td>\n",
       "      <td>36</td>\n",
       "      <td>44</td>\n",
       "      <td>51</td>\n",
       "      <td>37</td>\n",
       "      <td>37</td>\n",
       "      <td>209</td>\n",
       "      <td>0</td>\n",
       "      <td>0</td>\n",
       "      <td>1</td>\n",
       "      <td>...</td>\n",
       "      <td>0</td>\n",
       "      <td>1</td>\n",
       "      <td>0</td>\n",
       "      <td>0</td>\n",
       "      <td>0</td>\n",
       "      <td>0</td>\n",
       "      <td>0</td>\n",
       "      <td>0</td>\n",
       "      <td>0</td>\n",
       "      <td>0</td>\n",
       "    </tr>\n",
       "    <tr>\n",
       "      <th>1</th>\n",
       "      <td>20194</td>\n",
       "      <td>42</td>\n",
       "      <td>41</td>\n",
       "      <td>39</td>\n",
       "      <td>40</td>\n",
       "      <td>54</td>\n",
       "      <td>217</td>\n",
       "      <td>1</td>\n",
       "      <td>0</td>\n",
       "      <td>0</td>\n",
       "      <td>...</td>\n",
       "      <td>0</td>\n",
       "      <td>0</td>\n",
       "      <td>1</td>\n",
       "      <td>0</td>\n",
       "      <td>0</td>\n",
       "      <td>1</td>\n",
       "      <td>0</td>\n",
       "      <td>0</td>\n",
       "      <td>0</td>\n",
       "      <td>0</td>\n",
       "    </tr>\n",
       "    <tr>\n",
       "      <th>2</th>\n",
       "      <td>20152</td>\n",
       "      <td>38</td>\n",
       "      <td>62</td>\n",
       "      <td>45</td>\n",
       "      <td>57</td>\n",
       "      <td>48</td>\n",
       "      <td>259</td>\n",
       "      <td>0</td>\n",
       "      <td>0</td>\n",
       "      <td>0</td>\n",
       "      <td>...</td>\n",
       "      <td>0</td>\n",
       "      <td>0</td>\n",
       "      <td>0</td>\n",
       "      <td>0</td>\n",
       "      <td>0</td>\n",
       "      <td>0</td>\n",
       "      <td>0</td>\n",
       "      <td>0</td>\n",
       "      <td>0</td>\n",
       "      <td>0</td>\n",
       "    </tr>\n",
       "    <tr>\n",
       "      <th>3</th>\n",
       "      <td>20142</td>\n",
       "      <td>58</td>\n",
       "      <td>58</td>\n",
       "      <td>56</td>\n",
       "      <td>60</td>\n",
       "      <td>58</td>\n",
       "      <td>290</td>\n",
       "      <td>1</td>\n",
       "      <td>0</td>\n",
       "      <td>1</td>\n",
       "      <td>...</td>\n",
       "      <td>0</td>\n",
       "      <td>0</td>\n",
       "      <td>1</td>\n",
       "      <td>0</td>\n",
       "      <td>0</td>\n",
       "      <td>1</td>\n",
       "      <td>1</td>\n",
       "      <td>0</td>\n",
       "      <td>0</td>\n",
       "      <td>0</td>\n",
       "    </tr>\n",
       "    <tr>\n",
       "      <th>4</th>\n",
       "      <td>20152</td>\n",
       "      <td>41</td>\n",
       "      <td>46</td>\n",
       "      <td>44</td>\n",
       "      <td>46</td>\n",
       "      <td>49</td>\n",
       "      <td>229</td>\n",
       "      <td>1</td>\n",
       "      <td>0</td>\n",
       "      <td>0</td>\n",
       "      <td>...</td>\n",
       "      <td>0</td>\n",
       "      <td>1</td>\n",
       "      <td>0</td>\n",
       "      <td>0</td>\n",
       "      <td>0</td>\n",
       "      <td>0</td>\n",
       "      <td>0</td>\n",
       "      <td>0</td>\n",
       "      <td>0</td>\n",
       "      <td>0</td>\n",
       "    </tr>\n",
       "    <tr>\n",
       "      <th>...</th>\n",
       "      <td>...</td>\n",
       "      <td>...</td>\n",
       "      <td>...</td>\n",
       "      <td>...</td>\n",
       "      <td>...</td>\n",
       "      <td>...</td>\n",
       "      <td>...</td>\n",
       "      <td>...</td>\n",
       "      <td>...</td>\n",
       "      <td>...</td>\n",
       "      <td>...</td>\n",
       "      <td>...</td>\n",
       "      <td>...</td>\n",
       "      <td>...</td>\n",
       "      <td>...</td>\n",
       "      <td>...</td>\n",
       "      <td>...</td>\n",
       "      <td>...</td>\n",
       "      <td>...</td>\n",
       "      <td>...</td>\n",
       "      <td>...</td>\n",
       "    </tr>\n",
       "    <tr>\n",
       "      <th>88617</th>\n",
       "      <td>20194</td>\n",
       "      <td>45</td>\n",
       "      <td>43</td>\n",
       "      <td>44</td>\n",
       "      <td>42</td>\n",
       "      <td>47</td>\n",
       "      <td>220</td>\n",
       "      <td>1</td>\n",
       "      <td>0</td>\n",
       "      <td>0</td>\n",
       "      <td>...</td>\n",
       "      <td>0</td>\n",
       "      <td>0</td>\n",
       "      <td>0</td>\n",
       "      <td>0</td>\n",
       "      <td>0</td>\n",
       "      <td>1</td>\n",
       "      <td>0</td>\n",
       "      <td>0</td>\n",
       "      <td>0</td>\n",
       "      <td>0</td>\n",
       "    </tr>\n",
       "    <tr>\n",
       "      <th>88618</th>\n",
       "      <td>20152</td>\n",
       "      <td>60</td>\n",
       "      <td>77</td>\n",
       "      <td>68</td>\n",
       "      <td>77</td>\n",
       "      <td>62</td>\n",
       "      <td>351</td>\n",
       "      <td>1</td>\n",
       "      <td>0</td>\n",
       "      <td>0</td>\n",
       "      <td>...</td>\n",
       "      <td>0</td>\n",
       "      <td>0</td>\n",
       "      <td>1</td>\n",
       "      <td>1</td>\n",
       "      <td>1</td>\n",
       "      <td>1</td>\n",
       "      <td>0</td>\n",
       "      <td>1</td>\n",
       "      <td>0</td>\n",
       "      <td>0</td>\n",
       "    </tr>\n",
       "    <tr>\n",
       "      <th>88619</th>\n",
       "      <td>20152</td>\n",
       "      <td>58</td>\n",
       "      <td>52</td>\n",
       "      <td>53</td>\n",
       "      <td>45</td>\n",
       "      <td>44</td>\n",
       "      <td>246</td>\n",
       "      <td>1</td>\n",
       "      <td>0</td>\n",
       "      <td>0</td>\n",
       "      <td>...</td>\n",
       "      <td>0</td>\n",
       "      <td>0</td>\n",
       "      <td>1</td>\n",
       "      <td>1</td>\n",
       "      <td>1</td>\n",
       "      <td>1</td>\n",
       "      <td>1</td>\n",
       "      <td>0</td>\n",
       "      <td>0</td>\n",
       "      <td>0</td>\n",
       "    </tr>\n",
       "    <tr>\n",
       "      <th>88620</th>\n",
       "      <td>20194</td>\n",
       "      <td>82</td>\n",
       "      <td>82</td>\n",
       "      <td>71</td>\n",
       "      <td>69</td>\n",
       "      <td>71</td>\n",
       "      <td>370</td>\n",
       "      <td>1</td>\n",
       "      <td>0</td>\n",
       "      <td>0</td>\n",
       "      <td>...</td>\n",
       "      <td>1</td>\n",
       "      <td>0</td>\n",
       "      <td>0</td>\n",
       "      <td>1</td>\n",
       "      <td>1</td>\n",
       "      <td>1</td>\n",
       "      <td>0</td>\n",
       "      <td>0</td>\n",
       "      <td>1</td>\n",
       "      <td>0</td>\n",
       "    </tr>\n",
       "    <tr>\n",
       "      <th>88621</th>\n",
       "      <td>20211</td>\n",
       "      <td>44</td>\n",
       "      <td>62</td>\n",
       "      <td>53</td>\n",
       "      <td>58</td>\n",
       "      <td>55</td>\n",
       "      <td>280</td>\n",
       "      <td>1</td>\n",
       "      <td>0</td>\n",
       "      <td>0</td>\n",
       "      <td>...</td>\n",
       "      <td>0</td>\n",
       "      <td>0</td>\n",
       "      <td>0</td>\n",
       "      <td>1</td>\n",
       "      <td>1</td>\n",
       "      <td>1</td>\n",
       "      <td>0</td>\n",
       "      <td>0</td>\n",
       "      <td>0</td>\n",
       "      <td>0</td>\n",
       "    </tr>\n",
       "  </tbody>\n",
       "</table>\n",
       "<p>88622 rows × 156 columns</p>\n",
       "</div>"
      ],
      "text/plain": [
       "       periodo  punt_ingles  punt_matematicas  punt_sociales_ciudadanas  \\\n",
       "0        20142           36                44                        51   \n",
       "1        20194           42                41                        39   \n",
       "2        20152           38                62                        45   \n",
       "3        20142           58                58                        56   \n",
       "4        20152           41                46                        44   \n",
       "...        ...          ...               ...                       ...   \n",
       "88617    20194           45                43                        44   \n",
       "88618    20152           60                77                        68   \n",
       "88619    20152           58                52                        53   \n",
       "88620    20194           82                82                        71   \n",
       "88621    20211           44                62                        53   \n",
       "\n",
       "       punt_c_naturales  punt_lectura_critica  punt_global  \\\n",
       "0                    37                    37          209   \n",
       "1                    40                    54          217   \n",
       "2                    57                    48          259   \n",
       "3                    60                    58          290   \n",
       "4                    46                    49          229   \n",
       "...                 ...                   ...          ...   \n",
       "88617                42                    47          220   \n",
       "88618                77                    62          351   \n",
       "88619                45                    44          246   \n",
       "88620                69                    71          370   \n",
       "88621                58                    55          280   \n",
       "\n",
       "       cole_area_ubicacion_URBANO  cole_caracter_NO APLICA  \\\n",
       "0                               0                        0   \n",
       "1                               1                        0   \n",
       "2                               0                        0   \n",
       "3                               1                        0   \n",
       "4                               1                        0   \n",
       "...                           ...                      ...   \n",
       "88617                           1                        0   \n",
       "88618                           1                        0   \n",
       "88619                           1                        0   \n",
       "88620                           1                        0   \n",
       "88621                           1                        0   \n",
       "\n",
       "       cole_caracter_TECNICO  ...  fami_personashogar_7 a 8  \\\n",
       "0                          1  ...                         0   \n",
       "1                          0  ...                         0   \n",
       "2                          0  ...                         0   \n",
       "3                          1  ...                         0   \n",
       "4                          0  ...                         0   \n",
       "...                      ...  ...                       ...   \n",
       "88617                      0  ...                         0   \n",
       "88618                      0  ...                         0   \n",
       "88619                      0  ...                         0   \n",
       "88620                      0  ...                         1   \n",
       "88621                      0  ...                         0   \n",
       "\n",
       "       fami_personashogar_9 o más  fami_tieneautomovil_Si  \\\n",
       "0                               1                       0   \n",
       "1                               0                       1   \n",
       "2                               0                       0   \n",
       "3                               0                       1   \n",
       "4                               1                       0   \n",
       "...                           ...                     ...   \n",
       "88617                           0                       0   \n",
       "88618                           0                       1   \n",
       "88619                           0                       1   \n",
       "88620                           0                       0   \n",
       "88621                           0                       0   \n",
       "\n",
       "       fami_tienecomputador_Si  fami_tieneinternet_Si  fami_tienelavadora_Si  \\\n",
       "0                            0                      0                      0   \n",
       "1                            0                      0                      1   \n",
       "2                            0                      0                      0   \n",
       "3                            0                      0                      1   \n",
       "4                            0                      0                      0   \n",
       "...                        ...                    ...                    ...   \n",
       "88617                        0                      0                      1   \n",
       "88618                        1                      1                      1   \n",
       "88619                        1                      1                      1   \n",
       "88620                        1                      1                      1   \n",
       "88621                        1                      1                      1   \n",
       "\n",
       "       desemp_ingles_A1  desemp_ingles_A2  desemp_ingles_B+  desemp_ingles_B1  \n",
       "0                     0                 0                 0                 0  \n",
       "1                     0                 0                 0                 0  \n",
       "2                     0                 0                 0                 0  \n",
       "3                     1                 0                 0                 0  \n",
       "4                     0                 0                 0                 0  \n",
       "...                 ...               ...               ...               ...  \n",
       "88617                 0                 0                 0                 0  \n",
       "88618                 0                 1                 0                 0  \n",
       "88619                 1                 0                 0                 0  \n",
       "88620                 0                 0                 1                 0  \n",
       "88621                 0                 0                 0                 0  \n",
       "\n",
       "[88622 rows x 156 columns]"
      ]
     },
     "execution_count": 3,
     "metadata": {},
     "output_type": "execute_result"
    }
   ],
   "source": [
    "data_encoded = pd.get_dummies(data_completa, columns=['cole_area_ubicacion', 'cole_caracter', 'cole_genero', 'cole_jornada', 'cole_mcpio_ubicacion', \n",
    "                                                      'cole_naturaleza', 'estu_genero', 'estu_mcpio_presentacion', 'estu_mcpio_reside',\n",
    "                                                      'fami_cuartoshogar', 'fami_educacionmadre', 'fami_educacionpadre', 'fami_estratovivienda', \n",
    "                                                      'fami_personashogar', 'fami_tieneautomovil', 'fami_tienecomputador', 'fami_tieneinternet', \n",
    "                                                      'fami_tienelavadora', 'desemp_ingles'], drop_first=True)\n",
    "data_encoded = data_encoded.astype(int)\n",
    "data_encoded"
   ]
  },
  {
   "cell_type": "markdown",
   "metadata": {},
   "source": [
    "#### Generamos nuestro set de X y Y, sacamos las otras variables de salida que no usaremos para este modelo y tambien sacamos la variable de entrada periodo al ser una variable de tiempo"
   ]
  },
  {
   "cell_type": "code",
   "execution_count": 4,
   "metadata": {},
   "outputs": [
    {
     "name": "stdout",
     "output_type": "stream",
     "text": [
      "(88622, 149)\n",
      "(88622,)\n"
     ]
    },
    {
     "data": {
      "text/html": [
       "<div>\n",
       "<style scoped>\n",
       "    .dataframe tbody tr th:only-of-type {\n",
       "        vertical-align: middle;\n",
       "    }\n",
       "\n",
       "    .dataframe tbody tr th {\n",
       "        vertical-align: top;\n",
       "    }\n",
       "\n",
       "    .dataframe thead th {\n",
       "        text-align: right;\n",
       "    }\n",
       "</style>\n",
       "<table border=\"1\" class=\"dataframe\">\n",
       "  <thead>\n",
       "    <tr style=\"text-align: right;\">\n",
       "      <th></th>\n",
       "      <th>cole_area_ubicacion_URBANO</th>\n",
       "      <th>cole_caracter_NO APLICA</th>\n",
       "      <th>cole_caracter_TECNICO</th>\n",
       "      <th>cole_caracter_TECNICO/ACADEMICO</th>\n",
       "      <th>cole_genero_MASCULINO</th>\n",
       "      <th>cole_genero_MIXTO</th>\n",
       "      <th>cole_jornada_MANANA</th>\n",
       "      <th>cole_jornada_NOCHE</th>\n",
       "      <th>cole_jornada_SABATINA</th>\n",
       "      <th>cole_jornada_TARDE</th>\n",
       "      <th>...</th>\n",
       "      <th>fami_personashogar_7 a 8</th>\n",
       "      <th>fami_personashogar_9 o más</th>\n",
       "      <th>fami_tieneautomovil_Si</th>\n",
       "      <th>fami_tienecomputador_Si</th>\n",
       "      <th>fami_tieneinternet_Si</th>\n",
       "      <th>fami_tienelavadora_Si</th>\n",
       "      <th>desemp_ingles_A1</th>\n",
       "      <th>desemp_ingles_A2</th>\n",
       "      <th>desemp_ingles_B+</th>\n",
       "      <th>desemp_ingles_B1</th>\n",
       "    </tr>\n",
       "  </thead>\n",
       "  <tbody>\n",
       "    <tr>\n",
       "      <th>0</th>\n",
       "      <td>0</td>\n",
       "      <td>0</td>\n",
       "      <td>1</td>\n",
       "      <td>0</td>\n",
       "      <td>0</td>\n",
       "      <td>1</td>\n",
       "      <td>1</td>\n",
       "      <td>0</td>\n",
       "      <td>0</td>\n",
       "      <td>0</td>\n",
       "      <td>...</td>\n",
       "      <td>0</td>\n",
       "      <td>1</td>\n",
       "      <td>0</td>\n",
       "      <td>0</td>\n",
       "      <td>0</td>\n",
       "      <td>0</td>\n",
       "      <td>0</td>\n",
       "      <td>0</td>\n",
       "      <td>0</td>\n",
       "      <td>0</td>\n",
       "    </tr>\n",
       "    <tr>\n",
       "      <th>1</th>\n",
       "      <td>1</td>\n",
       "      <td>0</td>\n",
       "      <td>0</td>\n",
       "      <td>1</td>\n",
       "      <td>0</td>\n",
       "      <td>1</td>\n",
       "      <td>0</td>\n",
       "      <td>0</td>\n",
       "      <td>0</td>\n",
       "      <td>1</td>\n",
       "      <td>...</td>\n",
       "      <td>0</td>\n",
       "      <td>0</td>\n",
       "      <td>1</td>\n",
       "      <td>0</td>\n",
       "      <td>0</td>\n",
       "      <td>1</td>\n",
       "      <td>0</td>\n",
       "      <td>0</td>\n",
       "      <td>0</td>\n",
       "      <td>0</td>\n",
       "    </tr>\n",
       "    <tr>\n",
       "      <th>2</th>\n",
       "      <td>0</td>\n",
       "      <td>0</td>\n",
       "      <td>0</td>\n",
       "      <td>0</td>\n",
       "      <td>0</td>\n",
       "      <td>1</td>\n",
       "      <td>0</td>\n",
       "      <td>0</td>\n",
       "      <td>0</td>\n",
       "      <td>0</td>\n",
       "      <td>...</td>\n",
       "      <td>0</td>\n",
       "      <td>0</td>\n",
       "      <td>0</td>\n",
       "      <td>0</td>\n",
       "      <td>0</td>\n",
       "      <td>0</td>\n",
       "      <td>0</td>\n",
       "      <td>0</td>\n",
       "      <td>0</td>\n",
       "      <td>0</td>\n",
       "    </tr>\n",
       "    <tr>\n",
       "      <th>3</th>\n",
       "      <td>1</td>\n",
       "      <td>0</td>\n",
       "      <td>1</td>\n",
       "      <td>0</td>\n",
       "      <td>0</td>\n",
       "      <td>1</td>\n",
       "      <td>0</td>\n",
       "      <td>0</td>\n",
       "      <td>0</td>\n",
       "      <td>0</td>\n",
       "      <td>...</td>\n",
       "      <td>0</td>\n",
       "      <td>0</td>\n",
       "      <td>1</td>\n",
       "      <td>0</td>\n",
       "      <td>0</td>\n",
       "      <td>1</td>\n",
       "      <td>1</td>\n",
       "      <td>0</td>\n",
       "      <td>0</td>\n",
       "      <td>0</td>\n",
       "    </tr>\n",
       "    <tr>\n",
       "      <th>4</th>\n",
       "      <td>1</td>\n",
       "      <td>0</td>\n",
       "      <td>0</td>\n",
       "      <td>1</td>\n",
       "      <td>0</td>\n",
       "      <td>1</td>\n",
       "      <td>1</td>\n",
       "      <td>0</td>\n",
       "      <td>0</td>\n",
       "      <td>0</td>\n",
       "      <td>...</td>\n",
       "      <td>0</td>\n",
       "      <td>1</td>\n",
       "      <td>0</td>\n",
       "      <td>0</td>\n",
       "      <td>0</td>\n",
       "      <td>0</td>\n",
       "      <td>0</td>\n",
       "      <td>0</td>\n",
       "      <td>0</td>\n",
       "      <td>0</td>\n",
       "    </tr>\n",
       "    <tr>\n",
       "      <th>...</th>\n",
       "      <td>...</td>\n",
       "      <td>...</td>\n",
       "      <td>...</td>\n",
       "      <td>...</td>\n",
       "      <td>...</td>\n",
       "      <td>...</td>\n",
       "      <td>...</td>\n",
       "      <td>...</td>\n",
       "      <td>...</td>\n",
       "      <td>...</td>\n",
       "      <td>...</td>\n",
       "      <td>...</td>\n",
       "      <td>...</td>\n",
       "      <td>...</td>\n",
       "      <td>...</td>\n",
       "      <td>...</td>\n",
       "      <td>...</td>\n",
       "      <td>...</td>\n",
       "      <td>...</td>\n",
       "      <td>...</td>\n",
       "      <td>...</td>\n",
       "    </tr>\n",
       "    <tr>\n",
       "      <th>88617</th>\n",
       "      <td>1</td>\n",
       "      <td>0</td>\n",
       "      <td>0</td>\n",
       "      <td>1</td>\n",
       "      <td>0</td>\n",
       "      <td>1</td>\n",
       "      <td>1</td>\n",
       "      <td>0</td>\n",
       "      <td>0</td>\n",
       "      <td>0</td>\n",
       "      <td>...</td>\n",
       "      <td>0</td>\n",
       "      <td>0</td>\n",
       "      <td>0</td>\n",
       "      <td>0</td>\n",
       "      <td>0</td>\n",
       "      <td>1</td>\n",
       "      <td>0</td>\n",
       "      <td>0</td>\n",
       "      <td>0</td>\n",
       "      <td>0</td>\n",
       "    </tr>\n",
       "    <tr>\n",
       "      <th>88618</th>\n",
       "      <td>1</td>\n",
       "      <td>0</td>\n",
       "      <td>0</td>\n",
       "      <td>1</td>\n",
       "      <td>0</td>\n",
       "      <td>1</td>\n",
       "      <td>1</td>\n",
       "      <td>0</td>\n",
       "      <td>0</td>\n",
       "      <td>0</td>\n",
       "      <td>...</td>\n",
       "      <td>0</td>\n",
       "      <td>0</td>\n",
       "      <td>1</td>\n",
       "      <td>1</td>\n",
       "      <td>1</td>\n",
       "      <td>1</td>\n",
       "      <td>0</td>\n",
       "      <td>1</td>\n",
       "      <td>0</td>\n",
       "      <td>0</td>\n",
       "    </tr>\n",
       "    <tr>\n",
       "      <th>88619</th>\n",
       "      <td>1</td>\n",
       "      <td>0</td>\n",
       "      <td>0</td>\n",
       "      <td>0</td>\n",
       "      <td>0</td>\n",
       "      <td>1</td>\n",
       "      <td>1</td>\n",
       "      <td>0</td>\n",
       "      <td>0</td>\n",
       "      <td>0</td>\n",
       "      <td>...</td>\n",
       "      <td>0</td>\n",
       "      <td>0</td>\n",
       "      <td>1</td>\n",
       "      <td>1</td>\n",
       "      <td>1</td>\n",
       "      <td>1</td>\n",
       "      <td>1</td>\n",
       "      <td>0</td>\n",
       "      <td>0</td>\n",
       "      <td>0</td>\n",
       "    </tr>\n",
       "    <tr>\n",
       "      <th>88620</th>\n",
       "      <td>1</td>\n",
       "      <td>0</td>\n",
       "      <td>0</td>\n",
       "      <td>1</td>\n",
       "      <td>0</td>\n",
       "      <td>1</td>\n",
       "      <td>0</td>\n",
       "      <td>0</td>\n",
       "      <td>0</td>\n",
       "      <td>1</td>\n",
       "      <td>...</td>\n",
       "      <td>1</td>\n",
       "      <td>0</td>\n",
       "      <td>0</td>\n",
       "      <td>1</td>\n",
       "      <td>1</td>\n",
       "      <td>1</td>\n",
       "      <td>0</td>\n",
       "      <td>0</td>\n",
       "      <td>1</td>\n",
       "      <td>0</td>\n",
       "    </tr>\n",
       "    <tr>\n",
       "      <th>88621</th>\n",
       "      <td>1</td>\n",
       "      <td>0</td>\n",
       "      <td>0</td>\n",
       "      <td>0</td>\n",
       "      <td>0</td>\n",
       "      <td>1</td>\n",
       "      <td>0</td>\n",
       "      <td>0</td>\n",
       "      <td>0</td>\n",
       "      <td>1</td>\n",
       "      <td>...</td>\n",
       "      <td>0</td>\n",
       "      <td>0</td>\n",
       "      <td>0</td>\n",
       "      <td>1</td>\n",
       "      <td>1</td>\n",
       "      <td>1</td>\n",
       "      <td>0</td>\n",
       "      <td>0</td>\n",
       "      <td>0</td>\n",
       "      <td>0</td>\n",
       "    </tr>\n",
       "  </tbody>\n",
       "</table>\n",
       "<p>88622 rows × 149 columns</p>\n",
       "</div>"
      ],
      "text/plain": [
       "       cole_area_ubicacion_URBANO  cole_caracter_NO APLICA  \\\n",
       "0                               0                        0   \n",
       "1                               1                        0   \n",
       "2                               0                        0   \n",
       "3                               1                        0   \n",
       "4                               1                        0   \n",
       "...                           ...                      ...   \n",
       "88617                           1                        0   \n",
       "88618                           1                        0   \n",
       "88619                           1                        0   \n",
       "88620                           1                        0   \n",
       "88621                           1                        0   \n",
       "\n",
       "       cole_caracter_TECNICO  cole_caracter_TECNICO/ACADEMICO  \\\n",
       "0                          1                                0   \n",
       "1                          0                                1   \n",
       "2                          0                                0   \n",
       "3                          1                                0   \n",
       "4                          0                                1   \n",
       "...                      ...                              ...   \n",
       "88617                      0                                1   \n",
       "88618                      0                                1   \n",
       "88619                      0                                0   \n",
       "88620                      0                                1   \n",
       "88621                      0                                0   \n",
       "\n",
       "       cole_genero_MASCULINO  cole_genero_MIXTO  cole_jornada_MANANA  \\\n",
       "0                          0                  1                    1   \n",
       "1                          0                  1                    0   \n",
       "2                          0                  1                    0   \n",
       "3                          0                  1                    0   \n",
       "4                          0                  1                    1   \n",
       "...                      ...                ...                  ...   \n",
       "88617                      0                  1                    1   \n",
       "88618                      0                  1                    1   \n",
       "88619                      0                  1                    1   \n",
       "88620                      0                  1                    0   \n",
       "88621                      0                  1                    0   \n",
       "\n",
       "       cole_jornada_NOCHE  cole_jornada_SABATINA  cole_jornada_TARDE  ...  \\\n",
       "0                       0                      0                   0  ...   \n",
       "1                       0                      0                   1  ...   \n",
       "2                       0                      0                   0  ...   \n",
       "3                       0                      0                   0  ...   \n",
       "4                       0                      0                   0  ...   \n",
       "...                   ...                    ...                 ...  ...   \n",
       "88617                   0                      0                   0  ...   \n",
       "88618                   0                      0                   0  ...   \n",
       "88619                   0                      0                   0  ...   \n",
       "88620                   0                      0                   1  ...   \n",
       "88621                   0                      0                   1  ...   \n",
       "\n",
       "       fami_personashogar_7 a 8  fami_personashogar_9 o más  \\\n",
       "0                             0                           1   \n",
       "1                             0                           0   \n",
       "2                             0                           0   \n",
       "3                             0                           0   \n",
       "4                             0                           1   \n",
       "...                         ...                         ...   \n",
       "88617                         0                           0   \n",
       "88618                         0                           0   \n",
       "88619                         0                           0   \n",
       "88620                         1                           0   \n",
       "88621                         0                           0   \n",
       "\n",
       "       fami_tieneautomovil_Si  fami_tienecomputador_Si  fami_tieneinternet_Si  \\\n",
       "0                           0                        0                      0   \n",
       "1                           1                        0                      0   \n",
       "2                           0                        0                      0   \n",
       "3                           1                        0                      0   \n",
       "4                           0                        0                      0   \n",
       "...                       ...                      ...                    ...   \n",
       "88617                       0                        0                      0   \n",
       "88618                       1                        1                      1   \n",
       "88619                       1                        1                      1   \n",
       "88620                       0                        1                      1   \n",
       "88621                       0                        1                      1   \n",
       "\n",
       "       fami_tienelavadora_Si  desemp_ingles_A1  desemp_ingles_A2  \\\n",
       "0                          0                 0                 0   \n",
       "1                          1                 0                 0   \n",
       "2                          0                 0                 0   \n",
       "3                          1                 1                 0   \n",
       "4                          0                 0                 0   \n",
       "...                      ...               ...               ...   \n",
       "88617                      1                 0                 0   \n",
       "88618                      1                 0                 1   \n",
       "88619                      1                 1                 0   \n",
       "88620                      1                 0                 0   \n",
       "88621                      1                 0                 0   \n",
       "\n",
       "       desemp_ingles_B+  desemp_ingles_B1  \n",
       "0                     0                 0  \n",
       "1                     0                 0  \n",
       "2                     0                 0  \n",
       "3                     0                 0  \n",
       "4                     0                 0  \n",
       "...                 ...               ...  \n",
       "88617                 0                 0  \n",
       "88618                 0                 0  \n",
       "88619                 0                 0  \n",
       "88620                 1                 0  \n",
       "88621                 0                 0  \n",
       "\n",
       "[88622 rows x 149 columns]"
      ]
     },
     "execution_count": 4,
     "metadata": {},
     "output_type": "execute_result"
    }
   ],
   "source": [
    "data_x = data_encoded.drop(['periodo', 'punt_ingles', 'punt_matematicas', 'punt_sociales_ciudadanas', 'punt_c_naturales', 'punt_lectura_critica',\n",
    "                            'punt_global'], axis=1)\n",
    "data_y = data_encoded['punt_global']\n",
    "\n",
    "print(data_x.shape)\n",
    "print(data_y.shape)\n",
    "data_x"
   ]
  },
  {
   "cell_type": "markdown",
   "metadata": {},
   "source": [
    "#### Generamos nuestro set de train, validation y test"
   ]
  },
  {
   "cell_type": "code",
   "execution_count": 5,
   "metadata": {},
   "outputs": [
    {
     "name": "stdout",
     "output_type": "stream",
     "text": [
      "(56717, 149)\n",
      "(14180, 149)\n",
      "(17725, 149)\n"
     ]
    }
   ],
   "source": [
    "import sklearn\n",
    "from sklearn.model_selection import train_test_split\n",
    "\n",
    "x_train_full, x_test, y_train_full, y_test = train_test_split(\n",
    "    data_x, data_y, test_size=0.2, random_state=42) #Dividir el conjunto de datos en entrenamiento y valaidacion, 80% entrenamiento, 20% validacion\n",
    "\n",
    "x_train, x_valid, y_train, y_valid = train_test_split(\n",
    "    x_train_full, y_train_full, test_size=0.2, random_state=42) #Dividir el conjunto en  entrenamiento\n",
    "\n",
    "print(x_train.shape)\n",
    "print(x_valid.shape)\n",
    "print(x_test.shape)"
   ]
  },
  {
   "cell_type": "markdown",
   "metadata": {},
   "source": [
    "#### Creamos un parser donde guardamos los hiperparametros con los que vamos a configurar nuestros distintos modelos"
   ]
  },
  {
   "cell_type": "code",
   "execution_count": 6,
   "metadata": {},
   "outputs": [],
   "source": [
    "# Usaremos argparse para pasarle argumentos a las funciones de entrenamiento\n",
    "import argparse\n",
    "\n",
    "parser = argparse.ArgumentParser(description='Entrenamiento de una red feed-forward para el problema de clasificación con datos MNIST en TensorFlow/Keras')\n",
    "parser.add_argument('--batch_size', '-b', type=int, default=32)\n",
    "parser.add_argument('--epochs', '-e', type=int, default=40)\n",
    "parser.add_argument('--learning_rate', '-l', type=float, default=0.001)\n",
    "parser.add_argument('--num_hidden_units', '-n', type=int, default=128)\n",
    "parser.add_argument('--num_hidden_layers', '-N', type=int, default=2)\n",
    "parser.add_argument('--dropout', '-d', type=float, default=0.20)\n",
    "parser.add_argument('--activation', '-a', type=str, default='relu')\n",
    "\n",
    "args = parser.parse_args([])"
   ]
  },
  {
   "cell_type": "markdown",
   "metadata": {},
   "source": [
    "#### Generamos una funcion con la cual llamamos un optimizador"
   ]
  },
  {
   "cell_type": "code",
   "execution_count": 7,
   "metadata": {},
   "outputs": [
    {
     "name": "stdout",
     "output_type": "stream",
     "text": [
      "WARNING:tensorflow:From c:\\Users\\jorru\\OneDrive - Universidad de los andes\\Maestria\\Analítica_computacional\\Proyecto_3\\.venv\\Lib\\site-packages\\keras\\src\\losses.py:2976: The name tf.losses.sparse_softmax_cross_entropy is deprecated. Please use tf.compat.v1.losses.sparse_softmax_cross_entropy instead.\n",
      "\n"
     ]
    }
   ],
   "source": [
    "import mlflow \n",
    "import mlflow.keras\n",
    "import keras\n",
    "import tensorflow as tf\n",
    "import tensorflow.keras as tk\n",
    "from keras import models\n",
    "from keras import layers\n",
    "\n",
    "def get_optimizer():\n",
    "    \"\"\"\n",
    "    :return: Keras optimizer\n",
    "    \"\"\"\n",
    "    optimizer=tf.keras.optimizers.Adam(learning_rate=args.learning_rate)\n",
    "    return optimizer"
   ]
  },
  {
   "cell_type": "markdown",
   "metadata": {},
   "source": [
    "#### Generamos una funcion la cual corre Mflow, inicializa el modelo y lo corre con base a los parametros de \"args\""
   ]
  },
  {
   "cell_type": "code",
   "execution_count": 10,
   "metadata": {},
   "outputs": [],
   "source": [
    "# Esta función define una corrida del modelo, con entrenamiento y \n",
    "# registro en MLflow\n",
    "def run_mlflow(run_name=\"proyecto_3_regresion_model\"):\n",
    "    # Iniciamos una corrida de MLflow\n",
    "    mlflow.start_run(run_name=run_name)\n",
    "    run = mlflow.active_run()\n",
    "    # MLflow asigna un ID al experimento y a la corrida\n",
    "    experimentID = run.info.experiment_id\n",
    "    runID = run.info.run_uuid\n",
    "    # reistro automáticos de las métricas de keras\n",
    "    mlflow.keras.autolog()\n",
    "    \n",
    "    if args.activation == 'relu':\n",
    "        act_func = tf.nn.relu\n",
    "    elif args.activation == 'tanh':\n",
    "        act_func = tf.nn.tanh\n",
    "    elif args.activation == 'prelu':\n",
    "        act_func = layers.PReLU()\n",
    "\n",
    "    # definimos la capa de entrada\n",
    "    input_layer = layers.Input(shape=(149,))  # 149 variables de entrada\n",
    "    x = input_layer\n",
    "\n",
    "    # Agregamos capas ocultas a la red\n",
    "    for n in range(0, args.num_hidden_layers):\n",
    "        div = 2 ** (n - 1)\n",
    "        # agregamos una capa densa (completamente conectada)\n",
    "        x = layers.Dense(args.num_hidden_units/div, activation=act_func)(x)\n",
    "        # agregamos dropout o normalizacion como método de regularización para aleatoriamente descartar una capa si los gradientes son muy pequeños\n",
    "        x = layers.Dropout(args.dropout)(x)\n",
    "        # x = layers.BatchNormalization()(x)\n",
    "\n",
    "    # capa final con 1 nodo de salida y sin activacion por lo que es de regresion\n",
    "    output_layer = layers.Dense(1)(x)\n",
    "    \n",
    "    # Se arma el modelo:\n",
    "    model = keras.Model(input_layer, output_layer)\n",
    "    # https://keras.io/optimizers/\n",
    "    optimizer = get_optimizer()\n",
    "\n",
    "    # compilamos el modelo y definimos la función de pérdida  \n",
    "    # otras funciones de pérdida comunes para problemas de clasificación\n",
    "    # 1. sparse_categorical_crossentropy\n",
    "    # 2. binary_crossentropy\n",
    "    model.compile(optimizer=optimizer,\n",
    "                 loss='mean_absolute_error',\n",
    "                 metrics=['mse'])\n",
    "\n",
    "    # entrenamos el modelo\n",
    "    print(\"-\" * 100)\n",
    "    model.fit(x_train, y_train, epochs=args.epochs, batch_size=args.batch_size, validation_data=(x_valid, y_valid))\n",
    "\n",
    "    # evaluamos el modelo\n",
    "    test_loss, test_mse = model.evaluate(x_test, y_test, verbose=2)\n",
    "    # Metemos las metricas de test en Mlflow\n",
    "    mlflow.log_metric('test_loss', test_loss)\n",
    "    mlflow.log_metric('test_mse', test_mse)\n",
    "\n",
    "    mlflow.end_run(status='FINISHED')\n",
    "    return (experimentID, runID)"
   ]
  },
  {
   "cell_type": "markdown",
   "metadata": {},
   "source": [
    "#### Hacemos una primer corrida (entrenada) de modelo con las parametros base"
   ]
  },
  {
   "cell_type": "code",
   "execution_count": null,
   "metadata": {},
   "outputs": [],
   "source": [
    "args = parser.parse_args([\"--batch_size\", '256', '--epochs', '30'])\n",
    "\n",
    "(experimentID, runID) = run_mlflow(run_name=\"Prueba_modelo_base\")\n",
    "print(\"MLflow Run completed with run_id {} and experiment_id {}\".format(runID, experimentID))\n",
    "print(tf.__version__)"
   ]
  },
  {
   "cell_type": "markdown",
   "metadata": {},
   "source": [
    "#### Iteramos sobre los hiper-parametros de: capas y neuronas"
   ]
  },
  {
   "cell_type": "code",
   "execution_count": null,
   "metadata": {},
   "outputs": [],
   "source": [
    "# corrida con parámetros diferentes a los por defecto\n",
    "layer_configs = [\n",
    "    {'num_hidden_layers': 1},\n",
    "    {'num_hidden_layers': 2},\n",
    "    {'num_hidden_layers': 3},\n",
    "    {'num_hidden_layers': 4},\n",
    "]\n",
    "neuron_configs = [\n",
    "    {'num_hidden_units': 32},\n",
    "    {'num_hidden_units': 64},\n",
    "    {'num_hidden_units': 128},\n",
    "    {'num_hidden_units': 256},\n",
    "]\n",
    "for layer in layer_configs:\n",
    "    for neuron in neuron_configs:\n",
    "        # Update args with the current configuration\n",
    "        args = parser.parse_args([\"--batch_size\", '256', \"--epochs\", '30',\"--num_hidden_units\", f\"{neuron['num_hidden_units']}\", \"--num_hidden_layers\", f\"{layer['num_hidden_layers']}\"])\n",
    "        (experimentID, runID) = run_mlflow(run_name=f\"Prueba_con_{args.num_hidden_layers}_capas_{args.num_hidden_units}_neuronas\")\n",
    "        print(\"MLflow Run completed with run_id {} and experiment_id {}\".format(runID, experimentID))\n",
    "        print(tf.__version__)"
   ]
  },
  {
   "cell_type": "markdown",
   "metadata": {},
   "source": [
    "#### Iteramos sobre el hiper-parametro de la funcion de activacion, con los parametros de neuronas y capas que nos dio mejor en el anterior modelo"
   ]
  },
  {
   "cell_type": "code",
   "execution_count": null,
   "metadata": {},
   "outputs": [],
   "source": [
    "# corrida con parámetros diferentes a los por defecto\n",
    "activation_configs = [\n",
    "    {'activation': 'relu'},\n",
    "    {'activation': 'tanh'},\n",
    "    {'activation': 'prelu'}\n",
    "]\n",
    "for activ in activation_configs:\n",
    "    # Update args with the current configuration\n",
    "    args = parser.parse_args([\"--batch_size\", '256', \"--epochs\", '30',\"--num_hidden_units\", '256', \"--num_hidden_layers\", '1', \"--activation\",f\"{activ['activation']}\"])\n",
    "    (experimentID, runID) = run_mlflow(run_name=f\"Prueba_con_1_capa_y_activacion_{args.activation}\")\n",
    "    print(\"MLflow Run completed with run_id {} and experiment_id {}\".format(runID, experimentID))\n",
    "    print(tf.__version__)"
   ]
  },
  {
   "cell_type": "code",
   "execution_count": 9,
   "metadata": {},
   "outputs": [
    {
     "name": "stdout",
     "output_type": "stream",
     "text": [
      "WARNING:tensorflow:From c:\\Users\\jorru\\OneDrive - Universidad de los andes\\Maestria\\Analítica_computacional\\Proyecto_3\\.venv\\Lib\\site-packages\\keras\\src\\backend.py:1398: The name tf.executing_eagerly_outside_functions is deprecated. Please use tf.compat.v1.executing_eagerly_outside_functions instead.\n",
      "\n"
     ]
    },
    {
     "name": "stderr",
     "output_type": "stream",
     "text": [
      "2024/11/30 04:35:45 WARNING mlflow.tensorflow: Unrecognized dataset type <class 'pandas.core.frame.DataFrame'>. Dataset logging skipped.\n",
      "2024/11/30 04:35:45 WARNING mlflow.tensorflow: Failed to log training dataset information to MLflow Tracking. Reason: 'DataFrame' object has no attribute 'flatten'\n",
      "2024/11/30 04:35:45 WARNING mlflow.utils.autologging_utils: Encountered unexpected error during autologging: When an mlflow-artifacts URI was supplied, the tracking URI must be a valid http or https URI, but it was currently set to file:///c:/Users/jorru/OneDrive%20-%20Universidad%20de%20los%20andes/Maestria/Anal%C3%ADtica_computacional/Proyecto_3/mlruns. Perhaps you forgot to set the tracking URI to the running MLflow server. To set the tracking URI, use either of the following methods:\n",
      "1. Set the MLFLOW_TRACKING_URI environment variable to the desired tracking URI. `export MLFLOW_TRACKING_URI=http://localhost:5000`\n",
      "2. Set the tracking URI programmatically by calling `mlflow.set_tracking_uri`. `mlflow.set_tracking_uri('http://localhost:5000')`\n"
     ]
    },
    {
     "name": "stdout",
     "output_type": "stream",
     "text": [
      "----------------------------------------------------------------------------------------------------\n",
      "Epoch 1/30\n",
      "WARNING:tensorflow:From c:\\Users\\jorru\\OneDrive - Universidad de los andes\\Maestria\\Analítica_computacional\\Proyecto_3\\.venv\\Lib\\site-packages\\keras\\src\\utils\\tf_utils.py:492: The name tf.ragged.RaggedTensorValue is deprecated. Please use tf.compat.v1.ragged.RaggedTensorValue instead.\n",
      "\n",
      "WARNING:tensorflow:From c:\\Users\\jorru\\OneDrive - Universidad de los andes\\Maestria\\Analítica_computacional\\Proyecto_3\\.venv\\Lib\\site-packages\\keras\\src\\engine\\base_layer_utils.py:384: The name tf.executing_eagerly_outside_functions is deprecated. Please use tf.compat.v1.executing_eagerly_outside_functions instead.\n",
      "\n",
      "221/222 [============================>.] - ETA: 0s - loss: 66.8587 - mse: 10326.4082"
     ]
    },
    {
     "name": "stderr",
     "output_type": "stream",
     "text": [
      "2024/11/30 04:35:46 WARNING mlflow.utils.autologging_utils: Encountered unexpected error during autologging: When an mlflow-artifacts URI was supplied, the tracking URI must be a valid http or https URI, but it was currently set to file:///c:/Users/jorru/OneDrive%20-%20Universidad%20de%20los%20andes/Maestria/Anal%C3%ADtica_computacional/Proyecto_3/mlruns. Perhaps you forgot to set the tracking URI to the running MLflow server. To set the tracking URI, use either of the following methods:\n",
      "1. Set the MLFLOW_TRACKING_URI environment variable to the desired tracking URI. `export MLFLOW_TRACKING_URI=http://localhost:5000`\n",
      "2. Set the tracking URI programmatically by calling `mlflow.set_tracking_uri`. `mlflow.set_tracking_uri('http://localhost:5000')`\n"
     ]
    },
    {
     "name": "stdout",
     "output_type": "stream",
     "text": [
      "222/222 [==============================] - 2s 5ms/step - loss: 66.7732 - mse: 10304.6562 - val_loss: 29.5550 - val_mse: 1371.0138\n",
      "Epoch 2/30\n",
      "219/222 [============================>.] - ETA: 0s - loss: 28.8076 - mse: 1306.0336"
     ]
    },
    {
     "name": "stderr",
     "output_type": "stream",
     "text": [
      "2024/11/30 04:35:47 WARNING mlflow.utils.autologging_utils: Encountered unexpected error during autologging: When an mlflow-artifacts URI was supplied, the tracking URI must be a valid http or https URI, but it was currently set to file:///c:/Users/jorru/OneDrive%20-%20Universidad%20de%20los%20andes/Maestria/Anal%C3%ADtica_computacional/Proyecto_3/mlruns. Perhaps you forgot to set the tracking URI to the running MLflow server. To set the tracking URI, use either of the following methods:\n",
      "1. Set the MLFLOW_TRACKING_URI environment variable to the desired tracking URI. `export MLFLOW_TRACKING_URI=http://localhost:5000`\n",
      "2. Set the tracking URI programmatically by calling `mlflow.set_tracking_uri`. `mlflow.set_tracking_uri('http://localhost:5000')`\n"
     ]
    },
    {
     "name": "stdout",
     "output_type": "stream",
     "text": [
      "222/222 [==============================] - 1s 5ms/step - loss: 28.8126 - mse: 1306.6354 - val_loss: 26.3697 - val_mse: 1083.1445\n",
      "Epoch 3/30\n",
      "219/222 [============================>.] - ETA: 0s - loss: 27.7742 - mse: 1208.1604"
     ]
    },
    {
     "name": "stderr",
     "output_type": "stream",
     "text": [
      "2024/11/30 04:35:48 WARNING mlflow.utils.autologging_utils: Encountered unexpected error during autologging: When an mlflow-artifacts URI was supplied, the tracking URI must be a valid http or https URI, but it was currently set to file:///c:/Users/jorru/OneDrive%20-%20Universidad%20de%20los%20andes/Maestria/Anal%C3%ADtica_computacional/Proyecto_3/mlruns. Perhaps you forgot to set the tracking URI to the running MLflow server. To set the tracking URI, use either of the following methods:\n",
      "1. Set the MLFLOW_TRACKING_URI environment variable to the desired tracking URI. `export MLFLOW_TRACKING_URI=http://localhost:5000`\n",
      "2. Set the tracking URI programmatically by calling `mlflow.set_tracking_uri`. `mlflow.set_tracking_uri('http://localhost:5000')`\n"
     ]
    },
    {
     "name": "stdout",
     "output_type": "stream",
     "text": [
      "222/222 [==============================] - 1s 4ms/step - loss: 27.7763 - mse: 1207.7968 - val_loss: 25.9659 - val_mse: 1048.1995\n",
      "Epoch 4/30\n",
      "220/222 [============================>.] - ETA: 0s - loss: 27.3946 - mse: 1176.5457"
     ]
    },
    {
     "name": "stderr",
     "output_type": "stream",
     "text": [
      "2024/11/30 04:35:49 WARNING mlflow.utils.autologging_utils: Encountered unexpected error during autologging: When an mlflow-artifacts URI was supplied, the tracking URI must be a valid http or https URI, but it was currently set to file:///c:/Users/jorru/OneDrive%20-%20Universidad%20de%20los%20andes/Maestria/Anal%C3%ADtica_computacional/Proyecto_3/mlruns. Perhaps you forgot to set the tracking URI to the running MLflow server. To set the tracking URI, use either of the following methods:\n",
      "1. Set the MLFLOW_TRACKING_URI environment variable to the desired tracking URI. `export MLFLOW_TRACKING_URI=http://localhost:5000`\n",
      "2. Set the tracking URI programmatically by calling `mlflow.set_tracking_uri`. `mlflow.set_tracking_uri('http://localhost:5000')`\n"
     ]
    },
    {
     "name": "stdout",
     "output_type": "stream",
     "text": [
      "222/222 [==============================] - 1s 4ms/step - loss: 27.3854 - mse: 1175.7706 - val_loss: 25.8649 - val_mse: 1040.9111\n",
      "Epoch 5/30\n",
      "218/222 [============================>.] - ETA: 0s - loss: 27.2745 - mse: 1164.2922"
     ]
    },
    {
     "name": "stderr",
     "output_type": "stream",
     "text": [
      "2024/11/30 04:35:50 WARNING mlflow.utils.autologging_utils: Encountered unexpected error during autologging: When an mlflow-artifacts URI was supplied, the tracking URI must be a valid http or https URI, but it was currently set to file:///c:/Users/jorru/OneDrive%20-%20Universidad%20de%20los%20andes/Maestria/Anal%C3%ADtica_computacional/Proyecto_3/mlruns. Perhaps you forgot to set the tracking URI to the running MLflow server. To set the tracking URI, use either of the following methods:\n",
      "1. Set the MLFLOW_TRACKING_URI environment variable to the desired tracking URI. `export MLFLOW_TRACKING_URI=http://localhost:5000`\n",
      "2. Set the tracking URI programmatically by calling `mlflow.set_tracking_uri`. `mlflow.set_tracking_uri('http://localhost:5000')`\n"
     ]
    },
    {
     "name": "stdout",
     "output_type": "stream",
     "text": [
      "222/222 [==============================] - 1s 4ms/step - loss: 27.2707 - mse: 1163.9567 - val_loss: 25.5476 - val_mse: 1013.3038\n",
      "Epoch 6/30\n",
      "209/222 [===========================>..] - ETA: 0s - loss: 27.1842 - mse: 1159.3711"
     ]
    },
    {
     "name": "stderr",
     "output_type": "stream",
     "text": [
      "2024/11/30 04:35:51 WARNING mlflow.utils.autologging_utils: Encountered unexpected error during autologging: When an mlflow-artifacts URI was supplied, the tracking URI must be a valid http or https URI, but it was currently set to file:///c:/Users/jorru/OneDrive%20-%20Universidad%20de%20los%20andes/Maestria/Anal%C3%ADtica_computacional/Proyecto_3/mlruns. Perhaps you forgot to set the tracking URI to the running MLflow server. To set the tracking URI, use either of the following methods:\n",
      "1. Set the MLFLOW_TRACKING_URI environment variable to the desired tracking URI. `export MLFLOW_TRACKING_URI=http://localhost:5000`\n",
      "2. Set the tracking URI programmatically by calling `mlflow.set_tracking_uri`. `mlflow.set_tracking_uri('http://localhost:5000')`\n"
     ]
    },
    {
     "name": "stdout",
     "output_type": "stream",
     "text": [
      "222/222 [==============================] - 1s 4ms/step - loss: 27.1731 - mse: 1157.7371 - val_loss: 25.4010 - val_mse: 999.2905\n",
      "Epoch 7/30\n",
      "209/222 [===========================>..] - ETA: 0s - loss: 27.0508 - mse: 1144.1069"
     ]
    },
    {
     "name": "stderr",
     "output_type": "stream",
     "text": [
      "2024/11/30 04:35:52 WARNING mlflow.utils.autologging_utils: Encountered unexpected error during autologging: When an mlflow-artifacts URI was supplied, the tracking URI must be a valid http or https URI, but it was currently set to file:///c:/Users/jorru/OneDrive%20-%20Universidad%20de%20los%20andes/Maestria/Anal%C3%ADtica_computacional/Proyecto_3/mlruns. Perhaps you forgot to set the tracking URI to the running MLflow server. To set the tracking URI, use either of the following methods:\n",
      "1. Set the MLFLOW_TRACKING_URI environment variable to the desired tracking URI. `export MLFLOW_TRACKING_URI=http://localhost:5000`\n",
      "2. Set the tracking URI programmatically by calling `mlflow.set_tracking_uri`. `mlflow.set_tracking_uri('http://localhost:5000')`\n"
     ]
    },
    {
     "name": "stdout",
     "output_type": "stream",
     "text": [
      "222/222 [==============================] - 1s 4ms/step - loss: 27.0669 - mse: 1145.1840 - val_loss: 25.3560 - val_mse: 998.1452\n",
      "Epoch 8/30\n",
      "208/222 [===========================>..] - ETA: 0s - loss: 26.9784 - mse: 1136.4293"
     ]
    },
    {
     "name": "stderr",
     "output_type": "stream",
     "text": [
      "2024/11/30 04:35:53 WARNING mlflow.utils.autologging_utils: Encountered unexpected error during autologging: When an mlflow-artifacts URI was supplied, the tracking URI must be a valid http or https URI, but it was currently set to file:///c:/Users/jorru/OneDrive%20-%20Universidad%20de%20los%20andes/Maestria/Anal%C3%ADtica_computacional/Proyecto_3/mlruns. Perhaps you forgot to set the tracking URI to the running MLflow server. To set the tracking URI, use either of the following methods:\n",
      "1. Set the MLFLOW_TRACKING_URI environment variable to the desired tracking URI. `export MLFLOW_TRACKING_URI=http://localhost:5000`\n",
      "2. Set the tracking URI programmatically by calling `mlflow.set_tracking_uri`. `mlflow.set_tracking_uri('http://localhost:5000')`\n"
     ]
    },
    {
     "name": "stdout",
     "output_type": "stream",
     "text": [
      "222/222 [==============================] - 1s 4ms/step - loss: 26.9990 - mse: 1138.3751 - val_loss: 25.2514 - val_mse: 986.3828\n",
      "Epoch 9/30\n",
      "219/222 [============================>.] - ETA: 0s - loss: 26.9927 - mse: 1142.0344"
     ]
    },
    {
     "name": "stderr",
     "output_type": "stream",
     "text": [
      "2024/11/30 04:35:54 WARNING mlflow.utils.autologging_utils: Encountered unexpected error during autologging: When an mlflow-artifacts URI was supplied, the tracking URI must be a valid http or https URI, but it was currently set to file:///c:/Users/jorru/OneDrive%20-%20Universidad%20de%20los%20andes/Maestria/Anal%C3%ADtica_computacional/Proyecto_3/mlruns. Perhaps you forgot to set the tracking URI to the running MLflow server. To set the tracking URI, use either of the following methods:\n",
      "1. Set the MLFLOW_TRACKING_URI environment variable to the desired tracking URI. `export MLFLOW_TRACKING_URI=http://localhost:5000`\n",
      "2. Set the tracking URI programmatically by calling `mlflow.set_tracking_uri`. `mlflow.set_tracking_uri('http://localhost:5000')`\n"
     ]
    },
    {
     "name": "stdout",
     "output_type": "stream",
     "text": [
      "222/222 [==============================] - 1s 4ms/step - loss: 26.9882 - mse: 1141.5431 - val_loss: 25.2193 - val_mse: 984.8876\n",
      "Epoch 10/30\n",
      "221/222 [============================>.] - ETA: 0s - loss: 26.7273 - mse: 1120.6453"
     ]
    },
    {
     "name": "stderr",
     "output_type": "stream",
     "text": [
      "2024/11/30 04:35:55 WARNING mlflow.utils.autologging_utils: Encountered unexpected error during autologging: When an mlflow-artifacts URI was supplied, the tracking URI must be a valid http or https URI, but it was currently set to file:///c:/Users/jorru/OneDrive%20-%20Universidad%20de%20los%20andes/Maestria/Anal%C3%ADtica_computacional/Proyecto_3/mlruns. Perhaps you forgot to set the tracking URI to the running MLflow server. To set the tracking URI, use either of the following methods:\n",
      "1. Set the MLFLOW_TRACKING_URI environment variable to the desired tracking URI. `export MLFLOW_TRACKING_URI=http://localhost:5000`\n",
      "2. Set the tracking URI programmatically by calling `mlflow.set_tracking_uri`. `mlflow.set_tracking_uri('http://localhost:5000')`\n"
     ]
    },
    {
     "name": "stdout",
     "output_type": "stream",
     "text": [
      "222/222 [==============================] - 1s 4ms/step - loss: 26.7270 - mse: 1120.6670 - val_loss: 25.0743 - val_mse: 975.1306\n",
      "Epoch 11/30\n",
      "222/222 [==============================] - 1s 4ms/step - loss: 26.8096 - mse: 1125.5298 - val_loss: 25.1880 - val_mse: 983.3839\n",
      "Epoch 12/30\n",
      "222/222 [==============================] - 3s 13ms/step - loss: 26.7335 - mse: 1119.1899 - val_loss: 25.0858 - val_mse: 974.4319\n",
      "Epoch 13/30\n",
      "219/222 [============================>.] - ETA: 0s - loss: 26.7004 - mse: 1115.4907"
     ]
    },
    {
     "name": "stderr",
     "output_type": "stream",
     "text": [
      "2024/11/30 04:36:03 WARNING mlflow.utils.autologging_utils: Encountered unexpected error during autologging: When an mlflow-artifacts URI was supplied, the tracking URI must be a valid http or https URI, but it was currently set to file:///c:/Users/jorru/OneDrive%20-%20Universidad%20de%20los%20andes/Maestria/Anal%C3%ADtica_computacional/Proyecto_3/mlruns. Perhaps you forgot to set the tracking URI to the running MLflow server. To set the tracking URI, use either of the following methods:\n",
      "1. Set the MLFLOW_TRACKING_URI environment variable to the desired tracking URI. `export MLFLOW_TRACKING_URI=http://localhost:5000`\n",
      "2. Set the tracking URI programmatically by calling `mlflow.set_tracking_uri`. `mlflow.set_tracking_uri('http://localhost:5000')`\n"
     ]
    },
    {
     "name": "stdout",
     "output_type": "stream",
     "text": [
      "222/222 [==============================] - 4s 17ms/step - loss: 26.7237 - mse: 1117.0590 - val_loss: 25.0405 - val_mse: 972.0445\n",
      "Epoch 14/30\n",
      "222/222 [==============================] - ETA: 0s - loss: 26.7801 - mse: 1122.5161"
     ]
    },
    {
     "name": "stderr",
     "output_type": "stream",
     "text": [
      "2024/11/30 04:36:07 WARNING mlflow.utils.autologging_utils: Encountered unexpected error during autologging: When an mlflow-artifacts URI was supplied, the tracking URI must be a valid http or https URI, but it was currently set to file:///c:/Users/jorru/OneDrive%20-%20Universidad%20de%20los%20andes/Maestria/Anal%C3%ADtica_computacional/Proyecto_3/mlruns. Perhaps you forgot to set the tracking URI to the running MLflow server. To set the tracking URI, use either of the following methods:\n",
      "1. Set the MLFLOW_TRACKING_URI environment variable to the desired tracking URI. `export MLFLOW_TRACKING_URI=http://localhost:5000`\n",
      "2. Set the tracking URI programmatically by calling `mlflow.set_tracking_uri`. `mlflow.set_tracking_uri('http://localhost:5000')`\n"
     ]
    },
    {
     "name": "stdout",
     "output_type": "stream",
     "text": [
      "222/222 [==============================] - 4s 17ms/step - loss: 26.7801 - mse: 1122.5161 - val_loss: 25.0306 - val_mse: 967.5192\n",
      "Epoch 15/30\n",
      "220/222 [============================>.] - ETA: 0s - loss: 26.6245 - mse: 1108.4943"
     ]
    },
    {
     "name": "stderr",
     "output_type": "stream",
     "text": [
      "2024/11/30 04:36:11 WARNING mlflow.utils.autologging_utils: Encountered unexpected error during autologging: When an mlflow-artifacts URI was supplied, the tracking URI must be a valid http or https URI, but it was currently set to file:///c:/Users/jorru/OneDrive%20-%20Universidad%20de%20los%20andes/Maestria/Anal%C3%ADtica_computacional/Proyecto_3/mlruns. Perhaps you forgot to set the tracking URI to the running MLflow server. To set the tracking URI, use either of the following methods:\n",
      "1. Set the MLFLOW_TRACKING_URI environment variable to the desired tracking URI. `export MLFLOW_TRACKING_URI=http://localhost:5000`\n",
      "2. Set the tracking URI programmatically by calling `mlflow.set_tracking_uri`. `mlflow.set_tracking_uri('http://localhost:5000')`\n"
     ]
    },
    {
     "name": "stdout",
     "output_type": "stream",
     "text": [
      "222/222 [==============================] - 4s 18ms/step - loss: 26.6113 - mse: 1107.5620 - val_loss: 25.0010 - val_mse: 968.2692\n",
      "Epoch 16/30\n",
      "219/222 [============================>.] - ETA: 0s - loss: 26.6941 - mse: 1114.6782"
     ]
    },
    {
     "name": "stderr",
     "output_type": "stream",
     "text": [
      "2024/11/30 04:36:15 WARNING mlflow.utils.autologging_utils: Encountered unexpected error during autologging: When an mlflow-artifacts URI was supplied, the tracking URI must be a valid http or https URI, but it was currently set to file:///c:/Users/jorru/OneDrive%20-%20Universidad%20de%20los%20andes/Maestria/Anal%C3%ADtica_computacional/Proyecto_3/mlruns. Perhaps you forgot to set the tracking URI to the running MLflow server. To set the tracking URI, use either of the following methods:\n",
      "1. Set the MLFLOW_TRACKING_URI environment variable to the desired tracking URI. `export MLFLOW_TRACKING_URI=http://localhost:5000`\n",
      "2. Set the tracking URI programmatically by calling `mlflow.set_tracking_uri`. `mlflow.set_tracking_uri('http://localhost:5000')`\n"
     ]
    },
    {
     "name": "stdout",
     "output_type": "stream",
     "text": [
      "222/222 [==============================] - 4s 18ms/step - loss: 26.6927 - mse: 1114.4486 - val_loss: 24.9538 - val_mse: 965.3420\n",
      "Epoch 17/30\n",
      "222/222 [==============================] - 4s 18ms/step - loss: 26.6565 - mse: 1110.0525 - val_loss: 24.9878 - val_mse: 967.7009\n",
      "Epoch 18/30\n",
      "221/222 [============================>.] - ETA: 0s - loss: 26.5847 - mse: 1107.9658"
     ]
    },
    {
     "name": "stderr",
     "output_type": "stream",
     "text": [
      "2024/11/30 04:36:23 WARNING mlflow.utils.autologging_utils: Encountered unexpected error during autologging: When an mlflow-artifacts URI was supplied, the tracking URI must be a valid http or https URI, but it was currently set to file:///c:/Users/jorru/OneDrive%20-%20Universidad%20de%20los%20andes/Maestria/Anal%C3%ADtica_computacional/Proyecto_3/mlruns. Perhaps you forgot to set the tracking URI to the running MLflow server. To set the tracking URI, use either of the following methods:\n",
      "1. Set the MLFLOW_TRACKING_URI environment variable to the desired tracking URI. `export MLFLOW_TRACKING_URI=http://localhost:5000`\n",
      "2. Set the tracking URI programmatically by calling `mlflow.set_tracking_uri`. `mlflow.set_tracking_uri('http://localhost:5000')`\n"
     ]
    },
    {
     "name": "stdout",
     "output_type": "stream",
     "text": [
      "222/222 [==============================] - 4s 17ms/step - loss: 26.5835 - mse: 1107.8682 - val_loss: 24.9421 - val_mse: 962.6009\n",
      "Epoch 19/30\n",
      "222/222 [==============================] - 4s 17ms/step - loss: 26.5883 - mse: 1107.0417 - val_loss: 24.9515 - val_mse: 963.8094\n",
      "Epoch 20/30\n",
      "219/222 [============================>.] - ETA: 0s - loss: 26.4884 - mse: 1098.8853"
     ]
    },
    {
     "name": "stderr",
     "output_type": "stream",
     "text": [
      "2024/11/30 04:36:30 WARNING mlflow.utils.autologging_utils: Encountered unexpected error during autologging: When an mlflow-artifacts URI was supplied, the tracking URI must be a valid http or https URI, but it was currently set to file:///c:/Users/jorru/OneDrive%20-%20Universidad%20de%20los%20andes/Maestria/Anal%C3%ADtica_computacional/Proyecto_3/mlruns. Perhaps you forgot to set the tracking URI to the running MLflow server. To set the tracking URI, use either of the following methods:\n",
      "1. Set the MLFLOW_TRACKING_URI environment variable to the desired tracking URI. `export MLFLOW_TRACKING_URI=http://localhost:5000`\n",
      "2. Set the tracking URI programmatically by calling `mlflow.set_tracking_uri`. `mlflow.set_tracking_uri('http://localhost:5000')`\n"
     ]
    },
    {
     "name": "stdout",
     "output_type": "stream",
     "text": [
      "222/222 [==============================] - 4s 18ms/step - loss: 26.4923 - mse: 1099.4678 - val_loss: 24.8830 - val_mse: 959.2493\n",
      "Epoch 21/30\n",
      "221/222 [============================>.] - ETA: 0s - loss: 26.5641 - mse: 1104.9574"
     ]
    },
    {
     "name": "stderr",
     "output_type": "stream",
     "text": [
      "2024/11/30 04:36:34 WARNING mlflow.utils.autologging_utils: Encountered unexpected error during autologging: When an mlflow-artifacts URI was supplied, the tracking URI must be a valid http or https URI, but it was currently set to file:///c:/Users/jorru/OneDrive%20-%20Universidad%20de%20los%20andes/Maestria/Anal%C3%ADtica_computacional/Proyecto_3/mlruns. Perhaps you forgot to set the tracking URI to the running MLflow server. To set the tracking URI, use either of the following methods:\n",
      "1. Set the MLFLOW_TRACKING_URI environment variable to the desired tracking URI. `export MLFLOW_TRACKING_URI=http://localhost:5000`\n",
      "2. Set the tracking URI programmatically by calling `mlflow.set_tracking_uri`. `mlflow.set_tracking_uri('http://localhost:5000')`\n"
     ]
    },
    {
     "name": "stdout",
     "output_type": "stream",
     "text": [
      "222/222 [==============================] - 4s 18ms/step - loss: 26.5663 - mse: 1105.0775 - val_loss: 24.8741 - val_mse: 958.4370\n",
      "Epoch 22/30\n",
      "220/222 [============================>.] - ETA: 0s - loss: 26.4113 - mse: 1095.4985"
     ]
    },
    {
     "name": "stderr",
     "output_type": "stream",
     "text": [
      "2024/11/30 04:36:38 WARNING mlflow.utils.autologging_utils: Encountered unexpected error during autologging: When an mlflow-artifacts URI was supplied, the tracking URI must be a valid http or https URI, but it was currently set to file:///c:/Users/jorru/OneDrive%20-%20Universidad%20de%20los%20andes/Maestria/Anal%C3%ADtica_computacional/Proyecto_3/mlruns. Perhaps you forgot to set the tracking URI to the running MLflow server. To set the tracking URI, use either of the following methods:\n",
      "1. Set the MLFLOW_TRACKING_URI environment variable to the desired tracking URI. `export MLFLOW_TRACKING_URI=http://localhost:5000`\n",
      "2. Set the tracking URI programmatically by calling `mlflow.set_tracking_uri`. `mlflow.set_tracking_uri('http://localhost:5000')`\n"
     ]
    },
    {
     "name": "stdout",
     "output_type": "stream",
     "text": [
      "222/222 [==============================] - 4s 17ms/step - loss: 26.4113 - mse: 1095.6761 - val_loss: 24.8492 - val_mse: 957.0568\n",
      "Epoch 23/30\n",
      "222/222 [==============================] - 4s 17ms/step - loss: 26.3980 - mse: 1095.0889 - val_loss: 24.9772 - val_mse: 964.5862\n",
      "Epoch 24/30\n",
      "222/222 [==============================] - 4s 17ms/step - loss: 26.3995 - mse: 1095.0436 - val_loss: 25.1481 - val_mse: 979.9634\n",
      "Epoch 25/30\n",
      "220/222 [============================>.] - ETA: 0s - loss: 26.4059 - mse: 1096.1547"
     ]
    },
    {
     "name": "stderr",
     "output_type": "stream",
     "text": [
      "2024/11/30 04:36:49 WARNING mlflow.utils.autologging_utils: Encountered unexpected error during autologging: When an mlflow-artifacts URI was supplied, the tracking URI must be a valid http or https URI, but it was currently set to file:///c:/Users/jorru/OneDrive%20-%20Universidad%20de%20los%20andes/Maestria/Anal%C3%ADtica_computacional/Proyecto_3/mlruns. Perhaps you forgot to set the tracking URI to the running MLflow server. To set the tracking URI, use either of the following methods:\n",
      "1. Set the MLFLOW_TRACKING_URI environment variable to the desired tracking URI. `export MLFLOW_TRACKING_URI=http://localhost:5000`\n",
      "2. Set the tracking URI programmatically by calling `mlflow.set_tracking_uri`. `mlflow.set_tracking_uri('http://localhost:5000')`\n"
     ]
    },
    {
     "name": "stdout",
     "output_type": "stream",
     "text": [
      "222/222 [==============================] - 4s 17ms/step - loss: 26.4196 - mse: 1097.0051 - val_loss: 24.8131 - val_mse: 952.4517\n",
      "Epoch 26/30\n",
      "222/222 [==============================] - 4s 17ms/step - loss: 26.4381 - mse: 1096.8896 - val_loss: 24.8576 - val_mse: 955.8404\n",
      "Epoch 27/30\n",
      "219/222 [============================>.] - ETA: 0s - loss: 26.4285 - mse: 1092.3976"
     ]
    },
    {
     "name": "stderr",
     "output_type": "stream",
     "text": [
      "2024/11/30 04:36:57 WARNING mlflow.utils.autologging_utils: Encountered unexpected error during autologging: When an mlflow-artifacts URI was supplied, the tracking URI must be a valid http or https URI, but it was currently set to file:///c:/Users/jorru/OneDrive%20-%20Universidad%20de%20los%20andes/Maestria/Anal%C3%ADtica_computacional/Proyecto_3/mlruns. Perhaps you forgot to set the tracking URI to the running MLflow server. To set the tracking URI, use either of the following methods:\n",
      "1. Set the MLFLOW_TRACKING_URI environment variable to the desired tracking URI. `export MLFLOW_TRACKING_URI=http://localhost:5000`\n",
      "2. Set the tracking URI programmatically by calling `mlflow.set_tracking_uri`. `mlflow.set_tracking_uri('http://localhost:5000')`\n"
     ]
    },
    {
     "name": "stdout",
     "output_type": "stream",
     "text": [
      "222/222 [==============================] - 4s 18ms/step - loss: 26.4225 - mse: 1091.8048 - val_loss: 24.8057 - val_mse: 951.3159\n",
      "Epoch 28/30\n",
      "220/222 [============================>.] - ETA: 0s - loss: 26.3866 - mse: 1091.3540"
     ]
    },
    {
     "name": "stderr",
     "output_type": "stream",
     "text": [
      "2024/11/30 04:37:01 WARNING mlflow.utils.autologging_utils: Encountered unexpected error during autologging: When an mlflow-artifacts URI was supplied, the tracking URI must be a valid http or https URI, but it was currently set to file:///c:/Users/jorru/OneDrive%20-%20Universidad%20de%20los%20andes/Maestria/Anal%C3%ADtica_computacional/Proyecto_3/mlruns. Perhaps you forgot to set the tracking URI to the running MLflow server. To set the tracking URI, use either of the following methods:\n",
      "1. Set the MLFLOW_TRACKING_URI environment variable to the desired tracking URI. `export MLFLOW_TRACKING_URI=http://localhost:5000`\n",
      "2. Set the tracking URI programmatically by calling `mlflow.set_tracking_uri`. `mlflow.set_tracking_uri('http://localhost:5000')`\n"
     ]
    },
    {
     "name": "stdout",
     "output_type": "stream",
     "text": [
      "222/222 [==============================] - 4s 17ms/step - loss: 26.3876 - mse: 1091.9479 - val_loss: 24.7954 - val_mse: 952.9584\n",
      "Epoch 29/30\n",
      "222/222 [==============================] - 3s 15ms/step - loss: 26.4252 - mse: 1094.4861 - val_loss: 24.8632 - val_mse: 959.2885\n",
      "Epoch 30/30\n",
      "222/222 [==============================] - 4s 19ms/step - loss: 26.3488 - mse: 1089.7773 - val_loss: 24.8731 - val_mse: 957.6595\n"
     ]
    },
    {
     "name": "stderr",
     "output_type": "stream",
     "text": [
      "2024/11/30 04:37:09 WARNING mlflow.tensorflow: Failed to infer model signature: could not sample data to infer model signature: Cannot log input example or model signature for input with type <class 'pandas.core.frame.DataFrame'>. TensorFlow Keras autologging can only log input examples and model signatures for the following input types: numpy.ndarray, dict[string -> numpy.ndarray], tensorflow.keras.utils.Sequence, and tensorflow.data.Dataset (TensorFlow >= 2.1.0 required)\n",
      "2024/11/30 04:37:09 WARNING mlflow.tensorflow: You are saving a TensorFlow Core model or Keras model without a signature. Inference with mlflow.pyfunc.spark_udf() will not work unless the model's pyfunc representation accepts pandas DataFrames as inference inputs.\n"
     ]
    },
    {
     "name": "stdout",
     "output_type": "stream",
     "text": [
      "INFO:tensorflow:Assets written to: C:\\Users\\jorru\\AppData\\Local\\Temp\\tmpoo1gv2z3\\model\\data\\model\\assets\n"
     ]
    },
    {
     "name": "stderr",
     "output_type": "stream",
     "text": [
      "INFO:tensorflow:Assets written to: C:\\Users\\jorru\\AppData\\Local\\Temp\\tmpoo1gv2z3\\model\\data\\model\\assets\n",
      "2024/11/30 04:37:15 WARNING mlflow.models.model: Model logged without a signature and input example. Please set `input_example` parameter when logging the model to auto infer the model signature.\n",
      "2024/11/30 04:37:15 WARNING mlflow.utils.autologging_utils: Encountered unexpected error during tensorflow autologging: When an mlflow-artifacts URI was supplied, the tracking URI must be a valid http or https URI, but it was currently set to file:///c:/Users/jorru/OneDrive%20-%20Universidad%20de%20los%20andes/Maestria/Anal%C3%ADtica_computacional/Proyecto_3/mlruns. Perhaps you forgot to set the tracking URI to the running MLflow server. To set the tracking URI, use either of the following methods:\n",
      "1. Set the MLFLOW_TRACKING_URI environment variable to the desired tracking URI. `export MLFLOW_TRACKING_URI=http://localhost:5000`\n",
      "2. Set the tracking URI programmatically by calling `mlflow.set_tracking_uri`. `mlflow.set_tracking_uri('http://localhost:5000')`\n"
     ]
    },
    {
     "name": "stdout",
     "output_type": "stream",
     "text": [
      "554/554 - 0s - loss: 24.9245 - mse: 970.4424 - 411ms/epoch - 742us/step\n"
     ]
    },
    {
     "name": "stderr",
     "output_type": "stream",
     "text": [
      "2024/11/30 04:37:17 WARNING mlflow.tensorflow: Unrecognized dataset type <class 'pandas.core.frame.DataFrame'>. Dataset logging skipped.\n",
      "2024/11/30 04:37:17 WARNING mlflow.tensorflow: Failed to log training dataset information to MLflow Tracking. Reason: 'DataFrame' object has no attribute 'flatten'\n",
      "2024/11/30 04:37:17 WARNING mlflow.utils.autologging_utils: Encountered unexpected error during autologging: When an mlflow-artifacts URI was supplied, the tracking URI must be a valid http or https URI, but it was currently set to file:///c:/Users/jorru/OneDrive%20-%20Universidad%20de%20los%20andes/Maestria/Anal%C3%ADtica_computacional/Proyecto_3/mlruns. Perhaps you forgot to set the tracking URI to the running MLflow server. To set the tracking URI, use either of the following methods:\n",
      "1. Set the MLFLOW_TRACKING_URI environment variable to the desired tracking URI. `export MLFLOW_TRACKING_URI=http://localhost:5000`\n",
      "2. Set the tracking URI programmatically by calling `mlflow.set_tracking_uri`. `mlflow.set_tracking_uri('http://localhost:5000')`\n"
     ]
    },
    {
     "name": "stdout",
     "output_type": "stream",
     "text": [
      "MLflow Run completed with run_id 784a16f9515c4be8a541aa7f10f9da10 and experiment_id 0\n",
      "2.15.0\n",
      "----------------------------------------------------------------------------------------------------\n",
      "Epoch 1/30\n",
      "220/222 [============================>.] - ETA: 0s - loss: 173.3666 - mse: 33725.6836"
     ]
    },
    {
     "name": "stderr",
     "output_type": "stream",
     "text": [
      "2024/11/30 04:37:18 WARNING mlflow.utils.autologging_utils: Encountered unexpected error during autologging: When an mlflow-artifacts URI was supplied, the tracking URI must be a valid http or https URI, but it was currently set to file:///c:/Users/jorru/OneDrive%20-%20Universidad%20de%20los%20andes/Maestria/Anal%C3%ADtica_computacional/Proyecto_3/mlruns. Perhaps you forgot to set the tracking URI to the running MLflow server. To set the tracking URI, use either of the following methods:\n",
      "1. Set the MLFLOW_TRACKING_URI environment variable to the desired tracking URI. `export MLFLOW_TRACKING_URI=http://localhost:5000`\n",
      "2. Set the tracking URI programmatically by calling `mlflow.set_tracking_uri`. `mlflow.set_tracking_uri('http://localhost:5000')`\n"
     ]
    },
    {
     "name": "stdout",
     "output_type": "stream",
     "text": [
      "222/222 [==============================] - 2s 5ms/step - loss: 172.9556 - mse: 33596.2695 - val_loss: 110.5892 - val_mse: 14500.4736\n",
      "Epoch 2/30\n",
      "221/222 [============================>.] - ETA: 0s - loss: 65.8767 - mse: 6554.6870"
     ]
    },
    {
     "name": "stderr",
     "output_type": "stream",
     "text": [
      "2024/11/30 04:37:19 WARNING mlflow.utils.autologging_utils: Encountered unexpected error during autologging: When an mlflow-artifacts URI was supplied, the tracking URI must be a valid http or https URI, but it was currently set to file:///c:/Users/jorru/OneDrive%20-%20Universidad%20de%20los%20andes/Maestria/Anal%C3%ADtica_computacional/Proyecto_3/mlruns. Perhaps you forgot to set the tracking URI to the running MLflow server. To set the tracking URI, use either of the following methods:\n",
      "1. Set the MLFLOW_TRACKING_URI environment variable to the desired tracking URI. `export MLFLOW_TRACKING_URI=http://localhost:5000`\n",
      "2. Set the tracking URI programmatically by calling `mlflow.set_tracking_uri`. `mlflow.set_tracking_uri('http://localhost:5000')`\n"
     ]
    },
    {
     "name": "stdout",
     "output_type": "stream",
     "text": [
      "222/222 [==============================] - 1s 5ms/step - loss: 65.8044 - mse: 6544.0117 - val_loss: 40.9745 - val_mse: 2709.3618\n",
      "Epoch 3/30\n",
      "216/222 [============================>.] - ETA: 0s - loss: 39.0720 - mse: 2408.5125"
     ]
    },
    {
     "name": "stderr",
     "output_type": "stream",
     "text": [
      "2024/11/30 04:37:20 WARNING mlflow.utils.autologging_utils: Encountered unexpected error during autologging: When an mlflow-artifacts URI was supplied, the tracking URI must be a valid http or https URI, but it was currently set to file:///c:/Users/jorru/OneDrive%20-%20Universidad%20de%20los%20andes/Maestria/Anal%C3%ADtica_computacional/Proyecto_3/mlruns. Perhaps you forgot to set the tracking URI to the running MLflow server. To set the tracking URI, use either of the following methods:\n",
      "1. Set the MLFLOW_TRACKING_URI environment variable to the desired tracking URI. `export MLFLOW_TRACKING_URI=http://localhost:5000`\n",
      "2. Set the tracking URI programmatically by calling `mlflow.set_tracking_uri`. `mlflow.set_tracking_uri('http://localhost:5000')`\n"
     ]
    },
    {
     "name": "stdout",
     "output_type": "stream",
     "text": [
      "222/222 [==============================] - 1s 5ms/step - loss: 39.0430 - mse: 2404.6875 - val_loss: 38.4906 - val_mse: 2292.6787\n",
      "Epoch 4/30\n",
      "215/222 [============================>.] - ETA: 0s - loss: 36.0011 - mse: 2067.0225"
     ]
    },
    {
     "name": "stderr",
     "output_type": "stream",
     "text": [
      "2024/11/30 04:37:21 WARNING mlflow.utils.autologging_utils: Encountered unexpected error during autologging: When an mlflow-artifacts URI was supplied, the tracking URI must be a valid http or https URI, but it was currently set to file:///c:/Users/jorru/OneDrive%20-%20Universidad%20de%20los%20andes/Maestria/Anal%C3%ADtica_computacional/Proyecto_3/mlruns. Perhaps you forgot to set the tracking URI to the running MLflow server. To set the tracking URI, use either of the following methods:\n",
      "1. Set the MLFLOW_TRACKING_URI environment variable to the desired tracking URI. `export MLFLOW_TRACKING_URI=http://localhost:5000`\n",
      "2. Set the tracking URI programmatically by calling `mlflow.set_tracking_uri`. `mlflow.set_tracking_uri('http://localhost:5000')`\n"
     ]
    },
    {
     "name": "stdout",
     "output_type": "stream",
     "text": [
      "222/222 [==============================] - 1s 5ms/step - loss: 35.8491 - mse: 2051.3701 - val_loss: 30.3714 - val_mse: 1489.4927\n",
      "Epoch 5/30\n",
      "214/222 [===========================>..] - ETA: 0s - loss: 28.7666 - mse: 1324.6445"
     ]
    },
    {
     "name": "stderr",
     "output_type": "stream",
     "text": [
      "2024/11/30 04:37:23 WARNING mlflow.utils.autologging_utils: Encountered unexpected error during autologging: When an mlflow-artifacts URI was supplied, the tracking URI must be a valid http or https URI, but it was currently set to file:///c:/Users/jorru/OneDrive%20-%20Universidad%20de%20los%20andes/Maestria/Anal%C3%ADtica_computacional/Proyecto_3/mlruns. Perhaps you forgot to set the tracking URI to the running MLflow server. To set the tracking URI, use either of the following methods:\n",
      "1. Set the MLFLOW_TRACKING_URI environment variable to the desired tracking URI. `export MLFLOW_TRACKING_URI=http://localhost:5000`\n",
      "2. Set the tracking URI programmatically by calling `mlflow.set_tracking_uri`. `mlflow.set_tracking_uri('http://localhost:5000')`\n"
     ]
    },
    {
     "name": "stdout",
     "output_type": "stream",
     "text": [
      "222/222 [==============================] - 1s 5ms/step - loss: 28.7174 - mse: 1319.5829 - val_loss: 26.8470 - val_mse: 1128.4009\n",
      "Epoch 6/30\n",
      "214/222 [===========================>..] - ETA: 0s - loss: 26.8162 - mse: 1133.7025"
     ]
    },
    {
     "name": "stderr",
     "output_type": "stream",
     "text": [
      "2024/11/30 04:37:24 WARNING mlflow.utils.autologging_utils: Encountered unexpected error during autologging: When an mlflow-artifacts URI was supplied, the tracking URI must be a valid http or https URI, but it was currently set to file:///c:/Users/jorru/OneDrive%20-%20Universidad%20de%20los%20andes/Maestria/Anal%C3%ADtica_computacional/Proyecto_3/mlruns. Perhaps you forgot to set the tracking URI to the running MLflow server. To set the tracking URI, use either of the following methods:\n",
      "1. Set the MLFLOW_TRACKING_URI environment variable to the desired tracking URI. `export MLFLOW_TRACKING_URI=http://localhost:5000`\n",
      "2. Set the tracking URI programmatically by calling `mlflow.set_tracking_uri`. `mlflow.set_tracking_uri('http://localhost:5000')`\n"
     ]
    },
    {
     "name": "stdout",
     "output_type": "stream",
     "text": [
      "222/222 [==============================] - 1s 5ms/step - loss: 26.7755 - mse: 1130.3901 - val_loss: 25.8641 - val_mse: 1037.5414\n",
      "Epoch 7/30\n",
      "216/222 [============================>.] - ETA: 0s - loss: 26.2837 - mse: 1079.6440"
     ]
    },
    {
     "name": "stderr",
     "output_type": "stream",
     "text": [
      "2024/11/30 04:37:25 WARNING mlflow.utils.autologging_utils: Encountered unexpected error during autologging: When an mlflow-artifacts URI was supplied, the tracking URI must be a valid http or https URI, but it was currently set to file:///c:/Users/jorru/OneDrive%20-%20Universidad%20de%20los%20andes/Maestria/Anal%C3%ADtica_computacional/Proyecto_3/mlruns. Perhaps you forgot to set the tracking URI to the running MLflow server. To set the tracking URI, use either of the following methods:\n",
      "1. Set the MLFLOW_TRACKING_URI environment variable to the desired tracking URI. `export MLFLOW_TRACKING_URI=http://localhost:5000`\n",
      "2. Set the tracking URI programmatically by calling `mlflow.set_tracking_uri`. `mlflow.set_tracking_uri('http://localhost:5000')`\n"
     ]
    },
    {
     "name": "stdout",
     "output_type": "stream",
     "text": [
      "222/222 [==============================] - 1s 5ms/step - loss: 26.2673 - mse: 1078.8893 - val_loss: 25.4168 - val_mse: 1001.5851\n",
      "Epoch 8/30\n",
      "209/222 [===========================>..] - ETA: 0s - loss: 25.8736 - mse: 1050.6713"
     ]
    },
    {
     "name": "stderr",
     "output_type": "stream",
     "text": [
      "2024/11/30 04:37:26 WARNING mlflow.utils.autologging_utils: Encountered unexpected error during autologging: When an mlflow-artifacts URI was supplied, the tracking URI must be a valid http or https URI, but it was currently set to file:///c:/Users/jorru/OneDrive%20-%20Universidad%20de%20los%20andes/Maestria/Anal%C3%ADtica_computacional/Proyecto_3/mlruns. Perhaps you forgot to set the tracking URI to the running MLflow server. To set the tracking URI, use either of the following methods:\n",
      "1. Set the MLFLOW_TRACKING_URI environment variable to the desired tracking URI. `export MLFLOW_TRACKING_URI=http://localhost:5000`\n",
      "2. Set the tracking URI programmatically by calling `mlflow.set_tracking_uri`. `mlflow.set_tracking_uri('http://localhost:5000')`\n"
     ]
    },
    {
     "name": "stdout",
     "output_type": "stream",
     "text": [
      "222/222 [==============================] - 1s 5ms/step - loss: 25.9104 - mse: 1053.8270 - val_loss: 25.1700 - val_mse: 985.1512\n",
      "Epoch 9/30\n",
      "214/222 [===========================>..] - ETA: 0s - loss: 25.8008 - mse: 1042.2899"
     ]
    },
    {
     "name": "stderr",
     "output_type": "stream",
     "text": [
      "2024/11/30 04:37:27 WARNING mlflow.utils.autologging_utils: Encountered unexpected error during autologging: When an mlflow-artifacts URI was supplied, the tracking URI must be a valid http or https URI, but it was currently set to file:///c:/Users/jorru/OneDrive%20-%20Universidad%20de%20los%20andes/Maestria/Anal%C3%ADtica_computacional/Proyecto_3/mlruns. Perhaps you forgot to set the tracking URI to the running MLflow server. To set the tracking URI, use either of the following methods:\n",
      "1. Set the MLFLOW_TRACKING_URI environment variable to the desired tracking URI. `export MLFLOW_TRACKING_URI=http://localhost:5000`\n",
      "2. Set the tracking URI programmatically by calling `mlflow.set_tracking_uri`. `mlflow.set_tracking_uri('http://localhost:5000')`\n"
     ]
    },
    {
     "name": "stdout",
     "output_type": "stream",
     "text": [
      "222/222 [==============================] - 1s 5ms/step - loss: 25.8043 - mse: 1042.3158 - val_loss: 25.0874 - val_mse: 976.8235\n",
      "Epoch 10/30\n",
      "221/222 [============================>.] - ETA: 0s - loss: 25.6905 - mse: 1034.3073"
     ]
    },
    {
     "name": "stderr",
     "output_type": "stream",
     "text": [
      "2024/11/30 04:37:28 WARNING mlflow.utils.autologging_utils: Encountered unexpected error during autologging: When an mlflow-artifacts URI was supplied, the tracking URI must be a valid http or https URI, but it was currently set to file:///c:/Users/jorru/OneDrive%20-%20Universidad%20de%20los%20andes/Maestria/Anal%C3%ADtica_computacional/Proyecto_3/mlruns. Perhaps you forgot to set the tracking URI to the running MLflow server. To set the tracking URI, use either of the following methods:\n",
      "1. Set the MLFLOW_TRACKING_URI environment variable to the desired tracking URI. `export MLFLOW_TRACKING_URI=http://localhost:5000`\n",
      "2. Set the tracking URI programmatically by calling `mlflow.set_tracking_uri`. `mlflow.set_tracking_uri('http://localhost:5000')`\n"
     ]
    },
    {
     "name": "stdout",
     "output_type": "stream",
     "text": [
      "222/222 [==============================] - 1s 5ms/step - loss: 25.6890 - mse: 1034.1937 - val_loss: 24.9893 - val_mse: 967.8669\n",
      "Epoch 11/30\n",
      "222/222 [==============================] - 1s 5ms/step - loss: 25.6321 - mse: 1030.6989 - val_loss: 25.0639 - val_mse: 976.0666\n",
      "Epoch 12/30\n",
      "213/222 [===========================>..] - ETA: 0s - loss: 25.6228 - mse: 1029.9977"
     ]
    },
    {
     "name": "stderr",
     "output_type": "stream",
     "text": [
      "2024/11/30 04:37:30 WARNING mlflow.utils.autologging_utils: Encountered unexpected error during autologging: When an mlflow-artifacts URI was supplied, the tracking URI must be a valid http or https URI, but it was currently set to file:///c:/Users/jorru/OneDrive%20-%20Universidad%20de%20los%20andes/Maestria/Anal%C3%ADtica_computacional/Proyecto_3/mlruns. Perhaps you forgot to set the tracking URI to the running MLflow server. To set the tracking URI, use either of the following methods:\n",
      "1. Set the MLFLOW_TRACKING_URI environment variable to the desired tracking URI. `export MLFLOW_TRACKING_URI=http://localhost:5000`\n",
      "2. Set the tracking URI programmatically by calling `mlflow.set_tracking_uri`. `mlflow.set_tracking_uri('http://localhost:5000')`\n"
     ]
    },
    {
     "name": "stdout",
     "output_type": "stream",
     "text": [
      "222/222 [==============================] - 1s 4ms/step - loss: 25.6128 - mse: 1029.6158 - val_loss: 24.9034 - val_mse: 962.1709\n",
      "Epoch 13/30\n",
      "222/222 [==============================] - 1s 5ms/step - loss: 25.5935 - mse: 1028.9918 - val_loss: 24.9224 - val_mse: 961.3332\n",
      "Epoch 14/30\n",
      "216/222 [============================>.] - ETA: 0s - loss: 25.5543 - mse: 1024.4600"
     ]
    },
    {
     "name": "stderr",
     "output_type": "stream",
     "text": [
      "2024/11/30 04:37:32 WARNING mlflow.utils.autologging_utils: Encountered unexpected error during autologging: When an mlflow-artifacts URI was supplied, the tracking URI must be a valid http or https URI, but it was currently set to file:///c:/Users/jorru/OneDrive%20-%20Universidad%20de%20los%20andes/Maestria/Anal%C3%ADtica_computacional/Proyecto_3/mlruns. Perhaps you forgot to set the tracking URI to the running MLflow server. To set the tracking URI, use either of the following methods:\n",
      "1. Set the MLFLOW_TRACKING_URI environment variable to the desired tracking URI. `export MLFLOW_TRACKING_URI=http://localhost:5000`\n",
      "2. Set the tracking URI programmatically by calling `mlflow.set_tracking_uri`. `mlflow.set_tracking_uri('http://localhost:5000')`\n"
     ]
    },
    {
     "name": "stdout",
     "output_type": "stream",
     "text": [
      "222/222 [==============================] - 1s 5ms/step - loss: 25.5404 - mse: 1023.6046 - val_loss: 24.8515 - val_mse: 958.4738\n",
      "Epoch 15/30\n",
      "222/222 [==============================] - 1s 5ms/step - loss: 25.5004 - mse: 1022.1099 - val_loss: 24.8882 - val_mse: 958.3327\n",
      "Epoch 16/30\n",
      "222/222 [==============================] - 1s 5ms/step - loss: 25.5082 - mse: 1021.4944 - val_loss: 24.8633 - val_mse: 957.6257\n",
      "Epoch 17/30\n",
      "207/222 [==========================>...] - ETA: 0s - loss: 25.4535 - mse: 1016.9865"
     ]
    },
    {
     "name": "stderr",
     "output_type": "stream",
     "text": [
      "2024/11/30 04:37:35 WARNING mlflow.utils.autologging_utils: Encountered unexpected error during autologging: When an mlflow-artifacts URI was supplied, the tracking URI must be a valid http or https URI, but it was currently set to file:///c:/Users/jorru/OneDrive%20-%20Universidad%20de%20los%20andes/Maestria/Anal%C3%ADtica_computacional/Proyecto_3/mlruns. Perhaps you forgot to set the tracking URI to the running MLflow server. To set the tracking URI, use either of the following methods:\n",
      "1. Set the MLFLOW_TRACKING_URI environment variable to the desired tracking URI. `export MLFLOW_TRACKING_URI=http://localhost:5000`\n",
      "2. Set the tracking URI programmatically by calling `mlflow.set_tracking_uri`. `mlflow.set_tracking_uri('http://localhost:5000')`\n"
     ]
    },
    {
     "name": "stdout",
     "output_type": "stream",
     "text": [
      "222/222 [==============================] - 1s 5ms/step - loss: 25.4665 - mse: 1017.8004 - val_loss: 24.8399 - val_mse: 954.8767\n",
      "Epoch 18/30\n",
      "222/222 [==============================] - 1s 4ms/step - loss: 25.4900 - mse: 1024.5244 - val_loss: 24.8665 - val_mse: 955.2310\n",
      "Epoch 19/30\n",
      "216/222 [============================>.] - ETA: 0s - loss: 25.4865 - mse: 1020.2472"
     ]
    },
    {
     "name": "stderr",
     "output_type": "stream",
     "text": [
      "2024/11/30 04:37:37 WARNING mlflow.utils.autologging_utils: Encountered unexpected error during autologging: When an mlflow-artifacts URI was supplied, the tracking URI must be a valid http or https URI, but it was currently set to file:///c:/Users/jorru/OneDrive%20-%20Universidad%20de%20los%20andes/Maestria/Anal%C3%ADtica_computacional/Proyecto_3/mlruns. Perhaps you forgot to set the tracking URI to the running MLflow server. To set the tracking URI, use either of the following methods:\n",
      "1. Set the MLFLOW_TRACKING_URI environment variable to the desired tracking URI. `export MLFLOW_TRACKING_URI=http://localhost:5000`\n",
      "2. Set the tracking URI programmatically by calling `mlflow.set_tracking_uri`. `mlflow.set_tracking_uri('http://localhost:5000')`\n"
     ]
    },
    {
     "name": "stdout",
     "output_type": "stream",
     "text": [
      "222/222 [==============================] - 1s 5ms/step - loss: 25.4693 - mse: 1018.6974 - val_loss: 24.8266 - val_mse: 954.1519\n",
      "Epoch 20/30\n",
      "216/222 [============================>.] - ETA: 0s - loss: 25.3881 - mse: 1015.5739"
     ]
    },
    {
     "name": "stderr",
     "output_type": "stream",
     "text": [
      "2024/11/30 04:37:38 WARNING mlflow.utils.autologging_utils: Encountered unexpected error during autologging: When an mlflow-artifacts URI was supplied, the tracking URI must be a valid http or https URI, but it was currently set to file:///c:/Users/jorru/OneDrive%20-%20Universidad%20de%20los%20andes/Maestria/Anal%C3%ADtica_computacional/Proyecto_3/mlruns. Perhaps you forgot to set the tracking URI to the running MLflow server. To set the tracking URI, use either of the following methods:\n",
      "1. Set the MLFLOW_TRACKING_URI environment variable to the desired tracking URI. `export MLFLOW_TRACKING_URI=http://localhost:5000`\n",
      "2. Set the tracking URI programmatically by calling `mlflow.set_tracking_uri`. `mlflow.set_tracking_uri('http://localhost:5000')`\n"
     ]
    },
    {
     "name": "stdout",
     "output_type": "stream",
     "text": [
      "222/222 [==============================] - 1s 5ms/step - loss: 25.3909 - mse: 1015.3680 - val_loss: 24.8015 - val_mse: 955.5451\n",
      "Epoch 21/30\n",
      "222/222 [==============================] - 3s 13ms/step - loss: 25.2926 - mse: 1005.9776 - val_loss: 24.8663 - val_mse: 956.6674\n",
      "Epoch 22/30\n",
      "220/222 [============================>.] - ETA: 0s - loss: 25.3049 - mse: 1009.3810"
     ]
    },
    {
     "name": "stderr",
     "output_type": "stream",
     "text": [
      "2024/11/30 04:37:45 WARNING mlflow.utils.autologging_utils: Encountered unexpected error during autologging: When an mlflow-artifacts URI was supplied, the tracking URI must be a valid http or https URI, but it was currently set to file:///c:/Users/jorru/OneDrive%20-%20Universidad%20de%20los%20andes/Maestria/Anal%C3%ADtica_computacional/Proyecto_3/mlruns. Perhaps you forgot to set the tracking URI to the running MLflow server. To set the tracking URI, use either of the following methods:\n",
      "1. Set the MLFLOW_TRACKING_URI environment variable to the desired tracking URI. `export MLFLOW_TRACKING_URI=http://localhost:5000`\n",
      "2. Set the tracking URI programmatically by calling `mlflow.set_tracking_uri`. `mlflow.set_tracking_uri('http://localhost:5000')`\n"
     ]
    },
    {
     "name": "stdout",
     "output_type": "stream",
     "text": [
      "222/222 [==============================] - 4s 19ms/step - loss: 25.3053 - mse: 1009.6776 - val_loss: 24.7658 - val_mse: 951.5588\n",
      "Epoch 23/30\n",
      "221/222 [============================>.] - ETA: 0s - loss: 25.3020 - mse: 1008.8298"
     ]
    },
    {
     "name": "stderr",
     "output_type": "stream",
     "text": [
      "2024/11/30 04:37:49 WARNING mlflow.utils.autologging_utils: Encountered unexpected error during autologging: When an mlflow-artifacts URI was supplied, the tracking URI must be a valid http or https URI, but it was currently set to file:///c:/Users/jorru/OneDrive%20-%20Universidad%20de%20los%20andes/Maestria/Anal%C3%ADtica_computacional/Proyecto_3/mlruns. Perhaps you forgot to set the tracking URI to the running MLflow server. To set the tracking URI, use either of the following methods:\n",
      "1. Set the MLFLOW_TRACKING_URI environment variable to the desired tracking URI. `export MLFLOW_TRACKING_URI=http://localhost:5000`\n",
      "2. Set the tracking URI programmatically by calling `mlflow.set_tracking_uri`. `mlflow.set_tracking_uri('http://localhost:5000')`\n"
     ]
    },
    {
     "name": "stdout",
     "output_type": "stream",
     "text": [
      "222/222 [==============================] - 4s 19ms/step - loss: 25.3015 - mse: 1008.9803 - val_loss: 24.7621 - val_mse: 950.1923\n",
      "Epoch 24/30\n",
      "219/222 [============================>.] - ETA: 0s - loss: 25.3148 - mse: 1007.5255"
     ]
    },
    {
     "name": "stderr",
     "output_type": "stream",
     "text": [
      "2024/11/30 04:37:54 WARNING mlflow.utils.autologging_utils: Encountered unexpected error during autologging: When an mlflow-artifacts URI was supplied, the tracking URI must be a valid http or https URI, but it was currently set to file:///c:/Users/jorru/OneDrive%20-%20Universidad%20de%20los%20andes/Maestria/Anal%C3%ADtica_computacional/Proyecto_3/mlruns. Perhaps you forgot to set the tracking URI to the running MLflow server. To set the tracking URI, use either of the following methods:\n",
      "1. Set the MLFLOW_TRACKING_URI environment variable to the desired tracking URI. `export MLFLOW_TRACKING_URI=http://localhost:5000`\n",
      "2. Set the tracking URI programmatically by calling `mlflow.set_tracking_uri`. `mlflow.set_tracking_uri('http://localhost:5000')`\n"
     ]
    },
    {
     "name": "stdout",
     "output_type": "stream",
     "text": [
      "222/222 [==============================] - 4s 19ms/step - loss: 25.3000 - mse: 1006.7037 - val_loss: 24.7358 - val_mse: 950.7861\n",
      "Epoch 25/30\n",
      "222/222 [==============================] - 4s 19ms/step - loss: 25.2155 - mse: 1002.0196 - val_loss: 24.8052 - val_mse: 952.6100\n",
      "Epoch 26/30\n",
      "222/222 [==============================] - 4s 18ms/step - loss: 25.2105 - mse: 1004.0262 - val_loss: 24.7795 - val_mse: 949.2712\n",
      "Epoch 27/30\n",
      "222/222 [==============================] - 4s 18ms/step - loss: 25.1764 - mse: 999.1842 - val_loss: 24.8066 - val_mse: 950.4822\n",
      "Epoch 28/30\n",
      "222/222 [==============================] - 4s 19ms/step - loss: 25.2214 - mse: 1005.3894 - val_loss: 24.8114 - val_mse: 952.9436\n",
      "Epoch 29/30\n",
      "222/222 [==============================] - 5s 23ms/step - loss: 25.1529 - mse: 1000.9372 - val_loss: 24.8566 - val_mse: 957.9976\n",
      "Epoch 30/30\n",
      "222/222 [==============================] - 3s 12ms/step - loss: 25.1759 - mse: 999.9061 - val_loss: 24.7496 - val_mse: 950.3644\n"
     ]
    },
    {
     "name": "stderr",
     "output_type": "stream",
     "text": [
      "2024/11/30 04:38:18 WARNING mlflow.tensorflow: Failed to infer model signature: could not sample data to infer model signature: Cannot log input example or model signature for input with type <class 'pandas.core.frame.DataFrame'>. TensorFlow Keras autologging can only log input examples and model signatures for the following input types: numpy.ndarray, dict[string -> numpy.ndarray], tensorflow.keras.utils.Sequence, and tensorflow.data.Dataset (TensorFlow >= 2.1.0 required)\n",
      "2024/11/30 04:38:18 WARNING mlflow.tensorflow: You are saving a TensorFlow Core model or Keras model without a signature. Inference with mlflow.pyfunc.spark_udf() will not work unless the model's pyfunc representation accepts pandas DataFrames as inference inputs.\n"
     ]
    },
    {
     "name": "stdout",
     "output_type": "stream",
     "text": [
      "INFO:tensorflow:Assets written to: C:\\Users\\jorru\\AppData\\Local\\Temp\\tmpm1ukq9_h\\model\\data\\model\\assets\n"
     ]
    },
    {
     "name": "stderr",
     "output_type": "stream",
     "text": [
      "INFO:tensorflow:Assets written to: C:\\Users\\jorru\\AppData\\Local\\Temp\\tmpm1ukq9_h\\model\\data\\model\\assets\n",
      "2024/11/30 04:38:23 WARNING mlflow.models.model: Model logged without a signature and input example. Please set `input_example` parameter when logging the model to auto infer the model signature.\n",
      "2024/11/30 04:38:23 WARNING mlflow.utils.autologging_utils: Encountered unexpected error during tensorflow autologging: When an mlflow-artifacts URI was supplied, the tracking URI must be a valid http or https URI, but it was currently set to file:///c:/Users/jorru/OneDrive%20-%20Universidad%20de%20los%20andes/Maestria/Anal%C3%ADtica_computacional/Proyecto_3/mlruns. Perhaps you forgot to set the tracking URI to the running MLflow server. To set the tracking URI, use either of the following methods:\n",
      "1. Set the MLFLOW_TRACKING_URI environment variable to the desired tracking URI. `export MLFLOW_TRACKING_URI=http://localhost:5000`\n",
      "2. Set the tracking URI programmatically by calling `mlflow.set_tracking_uri`. `mlflow.set_tracking_uri('http://localhost:5000')`\n"
     ]
    },
    {
     "name": "stdout",
     "output_type": "stream",
     "text": [
      "554/554 - 0s - loss: 24.8418 - mse: 966.7477 - 393ms/epoch - 710us/step\n"
     ]
    },
    {
     "name": "stderr",
     "output_type": "stream",
     "text": [
      "2024/11/30 04:38:24 WARNING mlflow.tensorflow: Unrecognized dataset type <class 'pandas.core.frame.DataFrame'>. Dataset logging skipped.\n",
      "2024/11/30 04:38:24 WARNING mlflow.tensorflow: Failed to log training dataset information to MLflow Tracking. Reason: 'DataFrame' object has no attribute 'flatten'\n",
      "2024/11/30 04:38:24 WARNING mlflow.utils.autologging_utils: Encountered unexpected error during autologging: When an mlflow-artifacts URI was supplied, the tracking URI must be a valid http or https URI, but it was currently set to file:///c:/Users/jorru/OneDrive%20-%20Universidad%20de%20los%20andes/Maestria/Anal%C3%ADtica_computacional/Proyecto_3/mlruns. Perhaps you forgot to set the tracking URI to the running MLflow server. To set the tracking URI, use either of the following methods:\n",
      "1. Set the MLFLOW_TRACKING_URI environment variable to the desired tracking URI. `export MLFLOW_TRACKING_URI=http://localhost:5000`\n",
      "2. Set the tracking URI programmatically by calling `mlflow.set_tracking_uri`. `mlflow.set_tracking_uri('http://localhost:5000')`\n"
     ]
    },
    {
     "name": "stdout",
     "output_type": "stream",
     "text": [
      "MLflow Run completed with run_id 6cdc2a1c58ab4d429a9f3c16363bcb58 and experiment_id 0\n",
      "2.15.0\n",
      "----------------------------------------------------------------------------------------------------\n",
      "Epoch 1/30\n",
      "221/222 [============================>.] - ETA: 0s - loss: 66.5351 - mse: 10226.6064"
     ]
    },
    {
     "name": "stderr",
     "output_type": "stream",
     "text": [
      "2024/11/30 04:38:26 WARNING mlflow.utils.autologging_utils: Encountered unexpected error during autologging: When an mlflow-artifacts URI was supplied, the tracking URI must be a valid http or https URI, but it was currently set to file:///c:/Users/jorru/OneDrive%20-%20Universidad%20de%20los%20andes/Maestria/Anal%C3%ADtica_computacional/Proyecto_3/mlruns. Perhaps you forgot to set the tracking URI to the running MLflow server. To set the tracking URI, use either of the following methods:\n",
      "1. Set the MLFLOW_TRACKING_URI environment variable to the desired tracking URI. `export MLFLOW_TRACKING_URI=http://localhost:5000`\n",
      "2. Set the tracking URI programmatically by calling `mlflow.set_tracking_uri`. `mlflow.set_tracking_uri('http://localhost:5000')`\n"
     ]
    },
    {
     "name": "stdout",
     "output_type": "stream",
     "text": [
      "222/222 [==============================] - 2s 5ms/step - loss: 66.4490 - mse: 10205.0205 - val_loss: 29.5355 - val_mse: 1371.6117\n",
      "Epoch 2/30\n",
      "215/222 [============================>.] - ETA: 0s - loss: 28.8562 - mse: 1307.3855"
     ]
    },
    {
     "name": "stderr",
     "output_type": "stream",
     "text": [
      "2024/11/30 04:38:27 WARNING mlflow.utils.autologging_utils: Encountered unexpected error during autologging: When an mlflow-artifacts URI was supplied, the tracking URI must be a valid http or https URI, but it was currently set to file:///c:/Users/jorru/OneDrive%20-%20Universidad%20de%20los%20andes/Maestria/Anal%C3%ADtica_computacional/Proyecto_3/mlruns. Perhaps you forgot to set the tracking URI to the running MLflow server. To set the tracking URI, use either of the following methods:\n",
      "1. Set the MLFLOW_TRACKING_URI environment variable to the desired tracking URI. `export MLFLOW_TRACKING_URI=http://localhost:5000`\n",
      "2. Set the tracking URI programmatically by calling `mlflow.set_tracking_uri`. `mlflow.set_tracking_uri('http://localhost:5000')`\n"
     ]
    },
    {
     "name": "stdout",
     "output_type": "stream",
     "text": [
      "222/222 [==============================] - 1s 5ms/step - loss: 28.8348 - mse: 1306.0022 - val_loss: 26.4679 - val_mse: 1092.3917\n",
      "Epoch 3/30\n",
      "216/222 [============================>.] - ETA: 0s - loss: 27.7374 - mse: 1210.9417"
     ]
    },
    {
     "name": "stderr",
     "output_type": "stream",
     "text": [
      "2024/11/30 04:38:28 WARNING mlflow.utils.autologging_utils: Encountered unexpected error during autologging: When an mlflow-artifacts URI was supplied, the tracking URI must be a valid http or https URI, but it was currently set to file:///c:/Users/jorru/OneDrive%20-%20Universidad%20de%20los%20andes/Maestria/Anal%C3%ADtica_computacional/Proyecto_3/mlruns. Perhaps you forgot to set the tracking URI to the running MLflow server. To set the tracking URI, use either of the following methods:\n",
      "1. Set the MLFLOW_TRACKING_URI environment variable to the desired tracking URI. `export MLFLOW_TRACKING_URI=http://localhost:5000`\n",
      "2. Set the tracking URI programmatically by calling `mlflow.set_tracking_uri`. `mlflow.set_tracking_uri('http://localhost:5000')`\n"
     ]
    },
    {
     "name": "stdout",
     "output_type": "stream",
     "text": [
      "222/222 [==============================] - 1s 5ms/step - loss: 27.7321 - mse: 1210.3290 - val_loss: 25.9926 - val_mse: 1052.0212\n",
      "Epoch 4/30\n",
      "215/222 [============================>.] - ETA: 0s - loss: 27.3765 - mse: 1175.0974"
     ]
    },
    {
     "name": "stderr",
     "output_type": "stream",
     "text": [
      "2024/11/30 04:38:29 WARNING mlflow.utils.autologging_utils: Encountered unexpected error during autologging: When an mlflow-artifacts URI was supplied, the tracking URI must be a valid http or https URI, but it was currently set to file:///c:/Users/jorru/OneDrive%20-%20Universidad%20de%20los%20andes/Maestria/Anal%C3%ADtica_computacional/Proyecto_3/mlruns. Perhaps you forgot to set the tracking URI to the running MLflow server. To set the tracking URI, use either of the following methods:\n",
      "1. Set the MLFLOW_TRACKING_URI environment variable to the desired tracking URI. `export MLFLOW_TRACKING_URI=http://localhost:5000`\n",
      "2. Set the tracking URI programmatically by calling `mlflow.set_tracking_uri`. `mlflow.set_tracking_uri('http://localhost:5000')`\n"
     ]
    },
    {
     "name": "stdout",
     "output_type": "stream",
     "text": [
      "222/222 [==============================] - 1s 5ms/step - loss: 27.3832 - mse: 1175.8231 - val_loss: 25.7298 - val_mse: 1030.2440\n",
      "Epoch 5/30\n",
      "213/222 [===========================>..] - ETA: 0s - loss: 27.2275 - mse: 1163.9523"
     ]
    },
    {
     "name": "stderr",
     "output_type": "stream",
     "text": [
      "2024/11/30 04:38:30 WARNING mlflow.utils.autologging_utils: Encountered unexpected error during autologging: When an mlflow-artifacts URI was supplied, the tracking URI must be a valid http or https URI, but it was currently set to file:///c:/Users/jorru/OneDrive%20-%20Universidad%20de%20los%20andes/Maestria/Anal%C3%ADtica_computacional/Proyecto_3/mlruns. Perhaps you forgot to set the tracking URI to the running MLflow server. To set the tracking URI, use either of the following methods:\n",
      "1. Set the MLFLOW_TRACKING_URI environment variable to the desired tracking URI. `export MLFLOW_TRACKING_URI=http://localhost:5000`\n",
      "2. Set the tracking URI programmatically by calling `mlflow.set_tracking_uri`. `mlflow.set_tracking_uri('http://localhost:5000')`\n"
     ]
    },
    {
     "name": "stdout",
     "output_type": "stream",
     "text": [
      "222/222 [==============================] - 1s 5ms/step - loss: 27.1992 - mse: 1161.1359 - val_loss: 25.7133 - val_mse: 1026.8079\n",
      "Epoch 6/30\n",
      "222/222 [==============================] - 1s 5ms/step - loss: 27.1004 - mse: 1147.7417 - val_loss: 25.8119 - val_mse: 1034.5771\n",
      "Epoch 7/30\n",
      "218/222 [============================>.] - ETA: 0s - loss: 26.8803 - mse: 1132.4456"
     ]
    },
    {
     "name": "stderr",
     "output_type": "stream",
     "text": [
      "2024/11/30 04:38:32 WARNING mlflow.utils.autologging_utils: Encountered unexpected error during autologging: When an mlflow-artifacts URI was supplied, the tracking URI must be a valid http or https URI, but it was currently set to file:///c:/Users/jorru/OneDrive%20-%20Universidad%20de%20los%20andes/Maestria/Anal%C3%ADtica_computacional/Proyecto_3/mlruns. Perhaps you forgot to set the tracking URI to the running MLflow server. To set the tracking URI, use either of the following methods:\n",
      "1. Set the MLFLOW_TRACKING_URI environment variable to the desired tracking URI. `export MLFLOW_TRACKING_URI=http://localhost:5000`\n",
      "2. Set the tracking URI programmatically by calling `mlflow.set_tracking_uri`. `mlflow.set_tracking_uri('http://localhost:5000')`\n"
     ]
    },
    {
     "name": "stdout",
     "output_type": "stream",
     "text": [
      "222/222 [==============================] - 1s 5ms/step - loss: 26.8760 - mse: 1132.0856 - val_loss: 25.4192 - val_mse: 999.2070\n",
      "Epoch 8/30\n",
      "222/222 [==============================] - ETA: 0s - loss: 26.6822 - mse: 1115.6826"
     ]
    },
    {
     "name": "stderr",
     "output_type": "stream",
     "text": [
      "2024/11/30 04:38:33 WARNING mlflow.utils.autologging_utils: Encountered unexpected error during autologging: When an mlflow-artifacts URI was supplied, the tracking URI must be a valid http or https URI, but it was currently set to file:///c:/Users/jorru/OneDrive%20-%20Universidad%20de%20los%20andes/Maestria/Anal%C3%ADtica_computacional/Proyecto_3/mlruns. Perhaps you forgot to set the tracking URI to the running MLflow server. To set the tracking URI, use either of the following methods:\n",
      "1. Set the MLFLOW_TRACKING_URI environment variable to the desired tracking URI. `export MLFLOW_TRACKING_URI=http://localhost:5000`\n",
      "2. Set the tracking URI programmatically by calling `mlflow.set_tracking_uri`. `mlflow.set_tracking_uri('http://localhost:5000')`\n"
     ]
    },
    {
     "name": "stdout",
     "output_type": "stream",
     "text": [
      "222/222 [==============================] - 1s 5ms/step - loss: 26.6822 - mse: 1115.6826 - val_loss: 25.3843 - val_mse: 998.4111\n",
      "Epoch 9/30\n",
      "222/222 [==============================] - 1s 5ms/step - loss: 26.7784 - mse: 1122.8290 - val_loss: 25.4510 - val_mse: 1002.8337\n",
      "Epoch 10/30\n",
      "222/222 [==============================] - 1s 5ms/step - loss: 26.5034 - mse: 1100.7053 - val_loss: 25.4663 - val_mse: 1002.4430\n",
      "Epoch 11/30\n",
      "213/222 [===========================>..] - ETA: 0s - loss: 26.4966 - mse: 1099.9084"
     ]
    },
    {
     "name": "stderr",
     "output_type": "stream",
     "text": [
      "2024/11/30 04:38:36 WARNING mlflow.utils.autologging_utils: Encountered unexpected error during autologging: When an mlflow-artifacts URI was supplied, the tracking URI must be a valid http or https URI, but it was currently set to file:///c:/Users/jorru/OneDrive%20-%20Universidad%20de%20los%20andes/Maestria/Anal%C3%ADtica_computacional/Proyecto_3/mlruns. Perhaps you forgot to set the tracking URI to the running MLflow server. To set the tracking URI, use either of the following methods:\n",
      "1. Set the MLFLOW_TRACKING_URI environment variable to the desired tracking URI. `export MLFLOW_TRACKING_URI=http://localhost:5000`\n",
      "2. Set the tracking URI programmatically by calling `mlflow.set_tracking_uri`. `mlflow.set_tracking_uri('http://localhost:5000')`\n"
     ]
    },
    {
     "name": "stdout",
     "output_type": "stream",
     "text": [
      "222/222 [==============================] - 1s 5ms/step - loss: 26.4896 - mse: 1099.0841 - val_loss: 25.3267 - val_mse: 991.8098\n",
      "Epoch 12/30\n",
      "212/222 [===========================>..] - ETA: 0s - loss: 26.4348 - mse: 1094.2791"
     ]
    },
    {
     "name": "stderr",
     "output_type": "stream",
     "text": [
      "2024/11/30 04:38:37 WARNING mlflow.utils.autologging_utils: Encountered unexpected error during autologging: When an mlflow-artifacts URI was supplied, the tracking URI must be a valid http or https URI, but it was currently set to file:///c:/Users/jorru/OneDrive%20-%20Universidad%20de%20los%20andes/Maestria/Anal%C3%ADtica_computacional/Proyecto_3/mlruns. Perhaps you forgot to set the tracking URI to the running MLflow server. To set the tracking URI, use either of the following methods:\n",
      "1. Set the MLFLOW_TRACKING_URI environment variable to the desired tracking URI. `export MLFLOW_TRACKING_URI=http://localhost:5000`\n",
      "2. Set the tracking URI programmatically by calling `mlflow.set_tracking_uri`. `mlflow.set_tracking_uri('http://localhost:5000')`\n"
     ]
    },
    {
     "name": "stdout",
     "output_type": "stream",
     "text": [
      "222/222 [==============================] - 1s 5ms/step - loss: 26.4117 - mse: 1092.6788 - val_loss: 25.1440 - val_mse: 979.1478\n",
      "Epoch 13/30\n",
      "215/222 [============================>.] - ETA: 0s - loss: 26.3834 - mse: 1090.7910"
     ]
    },
    {
     "name": "stderr",
     "output_type": "stream",
     "text": [
      "2024/11/30 04:38:38 WARNING mlflow.utils.autologging_utils: Encountered unexpected error during autologging: When an mlflow-artifacts URI was supplied, the tracking URI must be a valid http or https URI, but it was currently set to file:///c:/Users/jorru/OneDrive%20-%20Universidad%20de%20los%20andes/Maestria/Anal%C3%ADtica_computacional/Proyecto_3/mlruns. Perhaps you forgot to set the tracking URI to the running MLflow server. To set the tracking URI, use either of the following methods:\n",
      "1. Set the MLFLOW_TRACKING_URI environment variable to the desired tracking URI. `export MLFLOW_TRACKING_URI=http://localhost:5000`\n",
      "2. Set the tracking URI programmatically by calling `mlflow.set_tracking_uri`. `mlflow.set_tracking_uri('http://localhost:5000')`\n"
     ]
    },
    {
     "name": "stdout",
     "output_type": "stream",
     "text": [
      "222/222 [==============================] - 1s 5ms/step - loss: 26.3779 - mse: 1090.5704 - val_loss: 25.0562 - val_mse: 974.3942\n",
      "Epoch 14/30\n",
      "220/222 [============================>.] - ETA: 0s - loss: 26.3289 - mse: 1087.7987"
     ]
    },
    {
     "name": "stderr",
     "output_type": "stream",
     "text": [
      "2024/11/30 04:38:39 WARNING mlflow.utils.autologging_utils: Encountered unexpected error during autologging: When an mlflow-artifacts URI was supplied, the tracking URI must be a valid http or https URI, but it was currently set to file:///c:/Users/jorru/OneDrive%20-%20Universidad%20de%20los%20andes/Maestria/Anal%C3%ADtica_computacional/Proyecto_3/mlruns. Perhaps you forgot to set the tracking URI to the running MLflow server. To set the tracking URI, use either of the following methods:\n",
      "1. Set the MLFLOW_TRACKING_URI environment variable to the desired tracking URI. `export MLFLOW_TRACKING_URI=http://localhost:5000`\n",
      "2. Set the tracking URI programmatically by calling `mlflow.set_tracking_uri`. `mlflow.set_tracking_uri('http://localhost:5000')`\n"
     ]
    },
    {
     "name": "stdout",
     "output_type": "stream",
     "text": [
      "222/222 [==============================] - 1s 5ms/step - loss: 26.3242 - mse: 1087.0978 - val_loss: 25.0287 - val_mse: 969.5157\n",
      "Epoch 15/30\n",
      "221/222 [============================>.] - ETA: 0s - loss: 26.3916 - mse: 1089.6344"
     ]
    },
    {
     "name": "stderr",
     "output_type": "stream",
     "text": [
      "2024/11/30 04:38:40 WARNING mlflow.utils.autologging_utils: Encountered unexpected error during autologging: When an mlflow-artifacts URI was supplied, the tracking URI must be a valid http or https URI, but it was currently set to file:///c:/Users/jorru/OneDrive%20-%20Universidad%20de%20los%20andes/Maestria/Anal%C3%ADtica_computacional/Proyecto_3/mlruns. Perhaps you forgot to set the tracking URI to the running MLflow server. To set the tracking URI, use either of the following methods:\n",
      "1. Set the MLFLOW_TRACKING_URI environment variable to the desired tracking URI. `export MLFLOW_TRACKING_URI=http://localhost:5000`\n",
      "2. Set the tracking URI programmatically by calling `mlflow.set_tracking_uri`. `mlflow.set_tracking_uri('http://localhost:5000')`\n"
     ]
    },
    {
     "name": "stdout",
     "output_type": "stream",
     "text": [
      "222/222 [==============================] - 1s 5ms/step - loss: 26.3852 - mse: 1089.2435 - val_loss: 24.9320 - val_mse: 963.8316\n",
      "Epoch 16/30\n",
      "222/222 [==============================] - 1s 5ms/step - loss: 26.3156 - mse: 1085.8188 - val_loss: 25.2738 - val_mse: 989.7556\n",
      "Epoch 17/30\n",
      "222/222 [==============================] - 1s 5ms/step - loss: 26.1979 - mse: 1073.7773 - val_loss: 25.0478 - val_mse: 972.2281\n",
      "Epoch 18/30\n",
      "217/222 [============================>.] - ETA: 0s - loss: 26.2013 - mse: 1075.0597"
     ]
    },
    {
     "name": "stderr",
     "output_type": "stream",
     "text": [
      "2024/11/30 04:38:43 WARNING mlflow.utils.autologging_utils: Encountered unexpected error during autologging: When an mlflow-artifacts URI was supplied, the tracking URI must be a valid http or https URI, but it was currently set to file:///c:/Users/jorru/OneDrive%20-%20Universidad%20de%20los%20andes/Maestria/Anal%C3%ADtica_computacional/Proyecto_3/mlruns. Perhaps you forgot to set the tracking URI to the running MLflow server. To set the tracking URI, use either of the following methods:\n",
      "1. Set the MLFLOW_TRACKING_URI environment variable to the desired tracking URI. `export MLFLOW_TRACKING_URI=http://localhost:5000`\n",
      "2. Set the tracking URI programmatically by calling `mlflow.set_tracking_uri`. `mlflow.set_tracking_uri('http://localhost:5000')`\n"
     ]
    },
    {
     "name": "stdout",
     "output_type": "stream",
     "text": [
      "222/222 [==============================] - 1s 5ms/step - loss: 26.2164 - mse: 1076.0212 - val_loss: 24.9210 - val_mse: 961.3622\n",
      "Epoch 19/30\n",
      "222/222 [==============================] - 1s 5ms/step - loss: 26.2218 - mse: 1075.4893 - val_loss: 24.9430 - val_mse: 964.6074\n",
      "Epoch 20/30\n",
      "208/222 [===========================>..] - ETA: 0s - loss: 26.1903 - mse: 1076.0587"
     ]
    },
    {
     "name": "stderr",
     "output_type": "stream",
     "text": [
      "2024/11/30 04:38:45 WARNING mlflow.utils.autologging_utils: Encountered unexpected error during autologging: When an mlflow-artifacts URI was supplied, the tracking URI must be a valid http or https URI, but it was currently set to file:///c:/Users/jorru/OneDrive%20-%20Universidad%20de%20los%20andes/Maestria/Anal%C3%ADtica_computacional/Proyecto_3/mlruns. Perhaps you forgot to set the tracking URI to the running MLflow server. To set the tracking URI, use either of the following methods:\n",
      "1. Set the MLFLOW_TRACKING_URI environment variable to the desired tracking URI. `export MLFLOW_TRACKING_URI=http://localhost:5000`\n",
      "2. Set the tracking URI programmatically by calling `mlflow.set_tracking_uri`. `mlflow.set_tracking_uri('http://localhost:5000')`\n"
     ]
    },
    {
     "name": "stdout",
     "output_type": "stream",
     "text": [
      "222/222 [==============================] - 1s 5ms/step - loss: 26.1534 - mse: 1073.4333 - val_loss: 24.8707 - val_mse: 959.6355\n",
      "Epoch 21/30\n",
      "222/222 [==============================] - 1s 5ms/step - loss: 26.2445 - mse: 1080.0579 - val_loss: 25.1198 - val_mse: 977.5187\n",
      "Epoch 22/30\n",
      "211/222 [===========================>..] - ETA: 0s - loss: 26.0790 - mse: 1067.8590"
     ]
    },
    {
     "name": "stderr",
     "output_type": "stream",
     "text": [
      "2024/11/30 04:38:48 WARNING mlflow.utils.autologging_utils: Encountered unexpected error during autologging: When an mlflow-artifacts URI was supplied, the tracking URI must be a valid http or https URI, but it was currently set to file:///c:/Users/jorru/OneDrive%20-%20Universidad%20de%20los%20andes/Maestria/Anal%C3%ADtica_computacional/Proyecto_3/mlruns. Perhaps you forgot to set the tracking URI to the running MLflow server. To set the tracking URI, use either of the following methods:\n",
      "1. Set the MLFLOW_TRACKING_URI environment variable to the desired tracking URI. `export MLFLOW_TRACKING_URI=http://localhost:5000`\n",
      "2. Set the tracking URI programmatically by calling `mlflow.set_tracking_uri`. `mlflow.set_tracking_uri('http://localhost:5000')`\n"
     ]
    },
    {
     "name": "stdout",
     "output_type": "stream",
     "text": [
      "222/222 [==============================] - 1s 5ms/step - loss: 26.0594 - mse: 1066.8191 - val_loss: 24.7993 - val_mse: 952.9597\n",
      "Epoch 23/30\n",
      "222/222 [==============================] - 1s 5ms/step - loss: 26.1142 - mse: 1069.3947 - val_loss: 24.8802 - val_mse: 960.4467\n",
      "Epoch 24/30\n",
      "222/222 [==============================] - 1s 4ms/step - loss: 26.1330 - mse: 1069.6714 - val_loss: 24.9013 - val_mse: 959.5309\n",
      "Epoch 25/30\n",
      "222/222 [==============================] - 1s 5ms/step - loss: 26.0230 - mse: 1060.8175 - val_loss: 24.9697 - val_mse: 966.1093\n",
      "Epoch 26/30\n",
      "222/222 [==============================] - 1s 5ms/step - loss: 26.0426 - mse: 1064.1577 - val_loss: 25.0572 - val_mse: 975.3604\n",
      "Epoch 27/30\n",
      "222/222 [==============================] - 1s 5ms/step - loss: 26.0352 - mse: 1066.1998 - val_loss: 24.9123 - val_mse: 961.1496\n",
      "Epoch 28/30\n",
      "222/222 [==============================] - 1s 5ms/step - loss: 26.0393 - mse: 1065.8237 - val_loss: 24.9586 - val_mse: 964.2266\n",
      "Epoch 29/30\n",
      "222/222 [==============================] - 1s 5ms/step - loss: 26.0719 - mse: 1063.7430 - val_loss: 24.8813 - val_mse: 958.6884\n",
      "Epoch 30/30\n",
      "222/222 [==============================] - 1s 5ms/step - loss: 25.9590 - mse: 1055.1307 - val_loss: 24.8087 - val_mse: 954.6668\n"
     ]
    },
    {
     "name": "stderr",
     "output_type": "stream",
     "text": [
      "2024/11/30 04:38:56 WARNING mlflow.tensorflow: Failed to infer model signature: could not sample data to infer model signature: Cannot log input example or model signature for input with type <class 'pandas.core.frame.DataFrame'>. TensorFlow Keras autologging can only log input examples and model signatures for the following input types: numpy.ndarray, dict[string -> numpy.ndarray], tensorflow.keras.utils.Sequence, and tensorflow.data.Dataset (TensorFlow >= 2.1.0 required)\n",
      "2024/11/30 04:38:56 WARNING mlflow.tensorflow: You are saving a TensorFlow Core model or Keras model without a signature. Inference with mlflow.pyfunc.spark_udf() will not work unless the model's pyfunc representation accepts pandas DataFrames as inference inputs.\n"
     ]
    },
    {
     "name": "stdout",
     "output_type": "stream",
     "text": [
      "INFO:tensorflow:Assets written to: C:\\Users\\jorru\\AppData\\Local\\Temp\\tmp6s3c2wf3\\model\\data\\model\\assets\n"
     ]
    },
    {
     "name": "stderr",
     "output_type": "stream",
     "text": [
      "INFO:tensorflow:Assets written to: C:\\Users\\jorru\\AppData\\Local\\Temp\\tmp6s3c2wf3\\model\\data\\model\\assets\n",
      "2024/11/30 04:39:01 WARNING mlflow.models.model: Model logged without a signature and input example. Please set `input_example` parameter when logging the model to auto infer the model signature.\n",
      "2024/11/30 04:39:01 WARNING mlflow.utils.autologging_utils: Encountered unexpected error during tensorflow autologging: When an mlflow-artifacts URI was supplied, the tracking URI must be a valid http or https URI, but it was currently set to file:///c:/Users/jorru/OneDrive%20-%20Universidad%20de%20los%20andes/Maestria/Anal%C3%ADtica_computacional/Proyecto_3/mlruns. Perhaps you forgot to set the tracking URI to the running MLflow server. To set the tracking URI, use either of the following methods:\n",
      "1. Set the MLFLOW_TRACKING_URI environment variable to the desired tracking URI. `export MLFLOW_TRACKING_URI=http://localhost:5000`\n",
      "2. Set the tracking URI programmatically by calling `mlflow.set_tracking_uri`. `mlflow.set_tracking_uri('http://localhost:5000')`\n"
     ]
    },
    {
     "name": "stdout",
     "output_type": "stream",
     "text": [
      "554/554 - 0s - loss: 24.8533 - mse: 967.5598 - 409ms/epoch - 738us/step\n",
      "MLflow Run completed with run_id 780a61fbded84ae3ba40d74d86057a46 and experiment_id 0\n",
      "2.15.0\n"
     ]
    }
   ],
   "source": [
    "# corrida con parámetros diferentes a los por defecto\n",
    "activation_configs = [\n",
    "    {'activation': 'relu'},\n",
    "    {'activation': 'tanh'},\n",
    "    {'activation': 'prelu'}\n",
    "]\n",
    "for activ in activation_configs:\n",
    "    # Update args with the current configuration\n",
    "    args = parser.parse_args([\"--batch_size\", '256', \"--epochs\", '30',\"--num_hidden_units\", '256', \"--num_hidden_layers\", '1', \"--activation\",f\"{activ['activation']}\"])\n",
    "    (experimentID, runID) = run_mlflow(run_name=f\"Prueba_con_2_capa_y_activacion_{args.activation}\")\n",
    "    print(\"MLflow Run completed with run_id {} and experiment_id {}\".format(runID, experimentID))\n",
    "    print(tf.__version__)"
   ]
  },
  {
   "cell_type": "code",
   "execution_count": 12,
   "metadata": {},
   "outputs": [
    {
     "name": "stderr",
     "output_type": "stream",
     "text": [
      "2024/11/30 04:47:27 WARNING mlflow.tensorflow: Unrecognized dataset type <class 'pandas.core.frame.DataFrame'>. Dataset logging skipped.\n",
      "2024/11/30 04:47:27 WARNING mlflow.tensorflow: Failed to log training dataset information to MLflow Tracking. Reason: 'DataFrame' object has no attribute 'flatten'\n",
      "2024/11/30 04:47:27 WARNING mlflow.utils.autologging_utils: Encountered unexpected error during autologging: When an mlflow-artifacts URI was supplied, the tracking URI must be a valid http or https URI, but it was currently set to file:///c:/Users/jorru/OneDrive%20-%20Universidad%20de%20los%20andes/Maestria/Anal%C3%ADtica_computacional/Proyecto_3/mlruns. Perhaps you forgot to set the tracking URI to the running MLflow server. To set the tracking URI, use either of the following methods:\n",
      "1. Set the MLFLOW_TRACKING_URI environment variable to the desired tracking URI. `export MLFLOW_TRACKING_URI=http://localhost:5000`\n",
      "2. Set the tracking URI programmatically by calling `mlflow.set_tracking_uri`. `mlflow.set_tracking_uri('http://localhost:5000')`\n"
     ]
    },
    {
     "name": "stdout",
     "output_type": "stream",
     "text": [
      "----------------------------------------------------------------------------------------------------\n",
      "Epoch 1/30\n",
      "  1/222 [..............................] - ETA: 1:04 - loss: 262.9822 - mse: 71244.7500WARNING:tensorflow:Callback method `on_train_batch_end` is slow compared to the batch time (batch time: 0.0027s vs `on_train_batch_end` time: 0.0044s). Check your callbacks.\n"
     ]
    },
    {
     "name": "stderr",
     "output_type": "stream",
     "text": [
      "WARNING:tensorflow:Callback method `on_train_batch_end` is slow compared to the batch time (batch time: 0.0027s vs `on_train_batch_end` time: 0.0044s). Check your callbacks.\n"
     ]
    },
    {
     "name": "stdout",
     "output_type": "stream",
     "text": [
      "221/222 [============================>.] - ETA: 0s - loss: 176.9238 - mse: 35876.2227"
     ]
    },
    {
     "name": "stderr",
     "output_type": "stream",
     "text": [
      "2024/11/30 04:47:28 WARNING mlflow.utils.autologging_utils: Encountered unexpected error during autologging: When an mlflow-artifacts URI was supplied, the tracking URI must be a valid http or https URI, but it was currently set to file:///c:/Users/jorru/OneDrive%20-%20Universidad%20de%20los%20andes/Maestria/Anal%C3%ADtica_computacional/Proyecto_3/mlruns. Perhaps you forgot to set the tracking URI to the running MLflow server. To set the tracking URI, use either of the following methods:\n",
      "1. Set the MLFLOW_TRACKING_URI environment variable to the desired tracking URI. `export MLFLOW_TRACKING_URI=http://localhost:5000`\n",
      "2. Set the tracking URI programmatically by calling `mlflow.set_tracking_uri`. `mlflow.set_tracking_uri('http://localhost:5000')`\n"
     ]
    },
    {
     "name": "stdout",
     "output_type": "stream",
     "text": [
      "222/222 [==============================] - 1s 4ms/step - loss: 176.7266 - mse: 35816.8164 - val_loss: 95.9632 - val_mse: 11409.7236\n",
      "Epoch 2/30\n",
      "218/222 [============================>.] - ETA: 0s - loss: 55.2331 - mse: 4830.8613"
     ]
    },
    {
     "name": "stderr",
     "output_type": "stream",
     "text": [
      "2024/11/30 04:47:29 WARNING mlflow.utils.autologging_utils: Encountered unexpected error during autologging: When an mlflow-artifacts URI was supplied, the tracking URI must be a valid http or https URI, but it was currently set to file:///c:/Users/jorru/OneDrive%20-%20Universidad%20de%20los%20andes/Maestria/Anal%C3%ADtica_computacional/Proyecto_3/mlruns. Perhaps you forgot to set the tracking URI to the running MLflow server. To set the tracking URI, use either of the following methods:\n",
      "1. Set the MLFLOW_TRACKING_URI environment variable to the desired tracking URI. `export MLFLOW_TRACKING_URI=http://localhost:5000`\n",
      "2. Set the tracking URI programmatically by calling `mlflow.set_tracking_uri`. `mlflow.set_tracking_uri('http://localhost:5000')`\n"
     ]
    },
    {
     "name": "stdout",
     "output_type": "stream",
     "text": [
      "222/222 [==============================] - 1s 3ms/step - loss: 54.9623 - mse: 4790.8169 - val_loss: 38.6191 - val_mse: 2369.1929\n",
      "Epoch 3/30\n",
      "218/222 [============================>.] - ETA: 0s - loss: 37.9503 - mse: 2259.0398"
     ]
    },
    {
     "name": "stderr",
     "output_type": "stream",
     "text": [
      "2024/11/30 04:47:29 WARNING mlflow.utils.autologging_utils: Encountered unexpected error during autologging: When an mlflow-artifacts URI was supplied, the tracking URI must be a valid http or https URI, but it was currently set to file:///c:/Users/jorru/OneDrive%20-%20Universidad%20de%20los%20andes/Maestria/Anal%C3%ADtica_computacional/Proyecto_3/mlruns. Perhaps you forgot to set the tracking URI to the running MLflow server. To set the tracking URI, use either of the following methods:\n",
      "1. Set the MLFLOW_TRACKING_URI environment variable to the desired tracking URI. `export MLFLOW_TRACKING_URI=http://localhost:5000`\n",
      "2. Set the tracking URI programmatically by calling `mlflow.set_tracking_uri`. `mlflow.set_tracking_uri('http://localhost:5000')`\n"
     ]
    },
    {
     "name": "stdout",
     "output_type": "stream",
     "text": [
      "222/222 [==============================] - 1s 3ms/step - loss: 37.9438 - mse: 2258.2727 - val_loss: 37.4406 - val_mse: 2183.3860\n",
      "Epoch 4/30\n",
      "204/222 [==========================>...] - ETA: 0s - loss: 36.2839 - mse: 2078.2688"
     ]
    },
    {
     "name": "stderr",
     "output_type": "stream",
     "text": [
      "2024/11/30 04:47:30 WARNING mlflow.utils.autologging_utils: Encountered unexpected error during autologging: When an mlflow-artifacts URI was supplied, the tracking URI must be a valid http or https URI, but it was currently set to file:///c:/Users/jorru/OneDrive%20-%20Universidad%20de%20los%20andes/Maestria/Anal%C3%ADtica_computacional/Proyecto_3/mlruns. Perhaps you forgot to set the tracking URI to the running MLflow server. To set the tracking URI, use either of the following methods:\n",
      "1. Set the MLFLOW_TRACKING_URI environment variable to the desired tracking URI. `export MLFLOW_TRACKING_URI=http://localhost:5000`\n",
      "2. Set the tracking URI programmatically by calling `mlflow.set_tracking_uri`. `mlflow.set_tracking_uri('http://localhost:5000')`\n"
     ]
    },
    {
     "name": "stdout",
     "output_type": "stream",
     "text": [
      "222/222 [==============================] - 1s 3ms/step - loss: 36.1240 - mse: 2062.3835 - val_loss: 33.7755 - val_mse: 1819.3776\n",
      "Epoch 5/30\n",
      "219/222 [============================>.] - ETA: 0s - loss: 31.1681 - mse: 1556.0265"
     ]
    },
    {
     "name": "stderr",
     "output_type": "stream",
     "text": [
      "2024/11/30 04:47:31 WARNING mlflow.utils.autologging_utils: Encountered unexpected error during autologging: When an mlflow-artifacts URI was supplied, the tracking URI must be a valid http or https URI, but it was currently set to file:///c:/Users/jorru/OneDrive%20-%20Universidad%20de%20los%20andes/Maestria/Anal%C3%ADtica_computacional/Proyecto_3/mlruns. Perhaps you forgot to set the tracking URI to the running MLflow server. To set the tracking URI, use either of the following methods:\n",
      "1. Set the MLFLOW_TRACKING_URI environment variable to the desired tracking URI. `export MLFLOW_TRACKING_URI=http://localhost:5000`\n",
      "2. Set the tracking URI programmatically by calling `mlflow.set_tracking_uri`. `mlflow.set_tracking_uri('http://localhost:5000')`\n"
     ]
    },
    {
     "name": "stdout",
     "output_type": "stream",
     "text": [
      "222/222 [==============================] - 1s 3ms/step - loss: 31.1467 - mse: 1553.1343 - val_loss: 28.6371 - val_mse: 1296.4775\n",
      "Epoch 6/30\n",
      "213/222 [===========================>..] - ETA: 0s - loss: 27.7768 - mse: 1218.9639"
     ]
    },
    {
     "name": "stderr",
     "output_type": "stream",
     "text": [
      "2024/11/30 04:47:31 WARNING mlflow.utils.autologging_utils: Encountered unexpected error during autologging: When an mlflow-artifacts URI was supplied, the tracking URI must be a valid http or https URI, but it was currently set to file:///c:/Users/jorru/OneDrive%20-%20Universidad%20de%20los%20andes/Maestria/Anal%C3%ADtica_computacional/Proyecto_3/mlruns. Perhaps you forgot to set the tracking URI to the running MLflow server. To set the tracking URI, use either of the following methods:\n",
      "1. Set the MLFLOW_TRACKING_URI environment variable to the desired tracking URI. `export MLFLOW_TRACKING_URI=http://localhost:5000`\n",
      "2. Set the tracking URI programmatically by calling `mlflow.set_tracking_uri`. `mlflow.set_tracking_uri('http://localhost:5000')`\n"
     ]
    },
    {
     "name": "stdout",
     "output_type": "stream",
     "text": [
      "222/222 [==============================] - 1s 3ms/step - loss: 27.7405 - mse: 1215.2668 - val_loss: 26.5246 - val_mse: 1096.1968\n",
      "Epoch 7/30\n",
      "221/222 [============================>.] - ETA: 0s - loss: 26.5758 - mse: 1106.6001"
     ]
    },
    {
     "name": "stderr",
     "output_type": "stream",
     "text": [
      "2024/11/30 04:47:32 WARNING mlflow.utils.autologging_utils: Encountered unexpected error during autologging: When an mlflow-artifacts URI was supplied, the tracking URI must be a valid http or https URI, but it was currently set to file:///c:/Users/jorru/OneDrive%20-%20Universidad%20de%20los%20andes/Maestria/Anal%C3%ADtica_computacional/Proyecto_3/mlruns. Perhaps you forgot to set the tracking URI to the running MLflow server. To set the tracking URI, use either of the following methods:\n",
      "1. Set the MLFLOW_TRACKING_URI environment variable to the desired tracking URI. `export MLFLOW_TRACKING_URI=http://localhost:5000`\n",
      "2. Set the tracking URI programmatically by calling `mlflow.set_tracking_uri`. `mlflow.set_tracking_uri('http://localhost:5000')`\n"
     ]
    },
    {
     "name": "stdout",
     "output_type": "stream",
     "text": [
      "222/222 [==============================] - 1s 3ms/step - loss: 26.5691 - mse: 1106.0612 - val_loss: 25.7689 - val_mse: 1030.9034\n",
      "Epoch 8/30\n",
      "221/222 [============================>.] - ETA: 0s - loss: 25.9949 - mse: 1060.8508"
     ]
    },
    {
     "name": "stderr",
     "output_type": "stream",
     "text": [
      "2024/11/30 04:47:33 WARNING mlflow.utils.autologging_utils: Encountered unexpected error during autologging: When an mlflow-artifacts URI was supplied, the tracking URI must be a valid http or https URI, but it was currently set to file:///c:/Users/jorru/OneDrive%20-%20Universidad%20de%20los%20andes/Maestria/Anal%C3%ADtica_computacional/Proyecto_3/mlruns. Perhaps you forgot to set the tracking URI to the running MLflow server. To set the tracking URI, use either of the following methods:\n",
      "1. Set the MLFLOW_TRACKING_URI environment variable to the desired tracking URI. `export MLFLOW_TRACKING_URI=http://localhost:5000`\n",
      "2. Set the tracking URI programmatically by calling `mlflow.set_tracking_uri`. `mlflow.set_tracking_uri('http://localhost:5000')`\n"
     ]
    },
    {
     "name": "stdout",
     "output_type": "stream",
     "text": [
      "222/222 [==============================] - 1s 3ms/step - loss: 25.9922 - mse: 1060.6039 - val_loss: 25.3773 - val_mse: 996.8870\n",
      "Epoch 9/30\n",
      "221/222 [============================>.] - ETA: 0s - loss: 25.7130 - mse: 1035.7747"
     ]
    },
    {
     "name": "stderr",
     "output_type": "stream",
     "text": [
      "2024/11/30 04:47:34 WARNING mlflow.utils.autologging_utils: Encountered unexpected error during autologging: When an mlflow-artifacts URI was supplied, the tracking URI must be a valid http or https URI, but it was currently set to file:///c:/Users/jorru/OneDrive%20-%20Universidad%20de%20los%20andes/Maestria/Anal%C3%ADtica_computacional/Proyecto_3/mlruns. Perhaps you forgot to set the tracking URI to the running MLflow server. To set the tracking URI, use either of the following methods:\n",
      "1. Set the MLFLOW_TRACKING_URI environment variable to the desired tracking URI. `export MLFLOW_TRACKING_URI=http://localhost:5000`\n",
      "2. Set the tracking URI programmatically by calling `mlflow.set_tracking_uri`. `mlflow.set_tracking_uri('http://localhost:5000')`\n"
     ]
    },
    {
     "name": "stdout",
     "output_type": "stream",
     "text": [
      "222/222 [==============================] - 1s 3ms/step - loss: 25.7169 - mse: 1036.0948 - val_loss: 25.1434 - val_mse: 978.8878\n",
      "Epoch 10/30\n",
      "213/222 [===========================>..] - ETA: 0s - loss: 25.6085 - mse: 1026.7739"
     ]
    },
    {
     "name": "stderr",
     "output_type": "stream",
     "text": [
      "2024/11/30 04:47:34 WARNING mlflow.utils.autologging_utils: Encountered unexpected error during autologging: When an mlflow-artifacts URI was supplied, the tracking URI must be a valid http or https URI, but it was currently set to file:///c:/Users/jorru/OneDrive%20-%20Universidad%20de%20los%20andes/Maestria/Anal%C3%ADtica_computacional/Proyecto_3/mlruns. Perhaps you forgot to set the tracking URI to the running MLflow server. To set the tracking URI, use either of the following methods:\n",
      "1. Set the MLFLOW_TRACKING_URI environment variable to the desired tracking URI. `export MLFLOW_TRACKING_URI=http://localhost:5000`\n",
      "2. Set the tracking URI programmatically by calling `mlflow.set_tracking_uri`. `mlflow.set_tracking_uri('http://localhost:5000')`\n"
     ]
    },
    {
     "name": "stdout",
     "output_type": "stream",
     "text": [
      "222/222 [==============================] - 1s 3ms/step - loss: 25.6013 - mse: 1025.5806 - val_loss: 25.0541 - val_mse: 970.6914\n",
      "Epoch 11/30\n",
      "218/222 [============================>.] - ETA: 0s - loss: 25.5014 - mse: 1020.0222"
     ]
    },
    {
     "name": "stderr",
     "output_type": "stream",
     "text": [
      "2024/11/30 04:47:35 WARNING mlflow.utils.autologging_utils: Encountered unexpected error during autologging: When an mlflow-artifacts URI was supplied, the tracking URI must be a valid http or https URI, but it was currently set to file:///c:/Users/jorru/OneDrive%20-%20Universidad%20de%20los%20andes/Maestria/Anal%C3%ADtica_computacional/Proyecto_3/mlruns. Perhaps you forgot to set the tracking URI to the running MLflow server. To set the tracking URI, use either of the following methods:\n",
      "1. Set the MLFLOW_TRACKING_URI environment variable to the desired tracking URI. `export MLFLOW_TRACKING_URI=http://localhost:5000`\n",
      "2. Set the tracking URI programmatically by calling `mlflow.set_tracking_uri`. `mlflow.set_tracking_uri('http://localhost:5000')`\n"
     ]
    },
    {
     "name": "stdout",
     "output_type": "stream",
     "text": [
      "222/222 [==============================] - 1s 3ms/step - loss: 25.5035 - mse: 1020.5591 - val_loss: 25.0084 - val_mse: 967.9935\n",
      "Epoch 12/30\n",
      "211/222 [===========================>..] - ETA: 0s - loss: 25.5112 - mse: 1019.7609"
     ]
    },
    {
     "name": "stderr",
     "output_type": "stream",
     "text": [
      "2024/11/30 04:47:36 WARNING mlflow.utils.autologging_utils: Encountered unexpected error during autologging: When an mlflow-artifacts URI was supplied, the tracking URI must be a valid http or https URI, but it was currently set to file:///c:/Users/jorru/OneDrive%20-%20Universidad%20de%20los%20andes/Maestria/Anal%C3%ADtica_computacional/Proyecto_3/mlruns. Perhaps you forgot to set the tracking URI to the running MLflow server. To set the tracking URI, use either of the following methods:\n",
      "1. Set the MLFLOW_TRACKING_URI environment variable to the desired tracking URI. `export MLFLOW_TRACKING_URI=http://localhost:5000`\n",
      "2. Set the tracking URI programmatically by calling `mlflow.set_tracking_uri`. `mlflow.set_tracking_uri('http://localhost:5000')`\n"
     ]
    },
    {
     "name": "stdout",
     "output_type": "stream",
     "text": [
      "222/222 [==============================] - 1s 3ms/step - loss: 25.5308 - mse: 1021.0979 - val_loss: 24.9728 - val_mse: 966.2297\n",
      "Epoch 13/30\n",
      "202/222 [==========================>...] - ETA: 0s - loss: 25.5047 - mse: 1020.3361"
     ]
    },
    {
     "name": "stderr",
     "output_type": "stream",
     "text": [
      "2024/11/30 04:47:37 WARNING mlflow.utils.autologging_utils: Encountered unexpected error during autologging: When an mlflow-artifacts URI was supplied, the tracking URI must be a valid http or https URI, but it was currently set to file:///c:/Users/jorru/OneDrive%20-%20Universidad%20de%20los%20andes/Maestria/Anal%C3%ADtica_computacional/Proyecto_3/mlruns. Perhaps you forgot to set the tracking URI to the running MLflow server. To set the tracking URI, use either of the following methods:\n",
      "1. Set the MLFLOW_TRACKING_URI environment variable to the desired tracking URI. `export MLFLOW_TRACKING_URI=http://localhost:5000`\n",
      "2. Set the tracking URI programmatically by calling `mlflow.set_tracking_uri`. `mlflow.set_tracking_uri('http://localhost:5000')`\n"
     ]
    },
    {
     "name": "stdout",
     "output_type": "stream",
     "text": [
      "222/222 [==============================] - 1s 3ms/step - loss: 25.5104 - mse: 1020.7883 - val_loss: 24.9381 - val_mse: 962.6959\n",
      "Epoch 14/30\n",
      "209/222 [===========================>..] - ETA: 0s - loss: 25.4613 - mse: 1015.9641"
     ]
    },
    {
     "name": "stderr",
     "output_type": "stream",
     "text": [
      "2024/11/30 04:47:37 WARNING mlflow.utils.autologging_utils: Encountered unexpected error during autologging: When an mlflow-artifacts URI was supplied, the tracking URI must be a valid http or https URI, but it was currently set to file:///c:/Users/jorru/OneDrive%20-%20Universidad%20de%20los%20andes/Maestria/Anal%C3%ADtica_computacional/Proyecto_3/mlruns. Perhaps you forgot to set the tracking URI to the running MLflow server. To set the tracking URI, use either of the following methods:\n",
      "1. Set the MLFLOW_TRACKING_URI environment variable to the desired tracking URI. `export MLFLOW_TRACKING_URI=http://localhost:5000`\n",
      "2. Set the tracking URI programmatically by calling `mlflow.set_tracking_uri`. `mlflow.set_tracking_uri('http://localhost:5000')`\n"
     ]
    },
    {
     "name": "stdout",
     "output_type": "stream",
     "text": [
      "222/222 [==============================] - 1s 3ms/step - loss: 25.4146 - mse: 1012.6677 - val_loss: 24.9115 - val_mse: 961.0958\n",
      "Epoch 15/30\n",
      "204/222 [==========================>...] - ETA: 0s - loss: 25.4261 - mse: 1014.7642"
     ]
    },
    {
     "name": "stderr",
     "output_type": "stream",
     "text": [
      "2024/11/30 04:47:38 WARNING mlflow.utils.autologging_utils: Encountered unexpected error during autologging: When an mlflow-artifacts URI was supplied, the tracking URI must be a valid http or https URI, but it was currently set to file:///c:/Users/jorru/OneDrive%20-%20Universidad%20de%20los%20andes/Maestria/Anal%C3%ADtica_computacional/Proyecto_3/mlruns. Perhaps you forgot to set the tracking URI to the running MLflow server. To set the tracking URI, use either of the following methods:\n",
      "1. Set the MLFLOW_TRACKING_URI environment variable to the desired tracking URI. `export MLFLOW_TRACKING_URI=http://localhost:5000`\n",
      "2. Set the tracking URI programmatically by calling `mlflow.set_tracking_uri`. `mlflow.set_tracking_uri('http://localhost:5000')`\n"
     ]
    },
    {
     "name": "stdout",
     "output_type": "stream",
     "text": [
      "222/222 [==============================] - 1s 3ms/step - loss: 25.4049 - mse: 1012.8091 - val_loss: 24.8856 - val_mse: 958.4370\n",
      "Epoch 16/30\n",
      "199/222 [=========================>....] - ETA: 0s - loss: 25.3616 - mse: 1008.5302"
     ]
    },
    {
     "name": "stderr",
     "output_type": "stream",
     "text": [
      "2024/11/30 04:47:39 WARNING mlflow.utils.autologging_utils: Encountered unexpected error during autologging: When an mlflow-artifacts URI was supplied, the tracking URI must be a valid http or https URI, but it was currently set to file:///c:/Users/jorru/OneDrive%20-%20Universidad%20de%20los%20andes/Maestria/Anal%C3%ADtica_computacional/Proyecto_3/mlruns. Perhaps you forgot to set the tracking URI to the running MLflow server. To set the tracking URI, use either of the following methods:\n",
      "1. Set the MLFLOW_TRACKING_URI environment variable to the desired tracking URI. `export MLFLOW_TRACKING_URI=http://localhost:5000`\n",
      "2. Set the tracking URI programmatically by calling `mlflow.set_tracking_uri`. `mlflow.set_tracking_uri('http://localhost:5000')`\n"
     ]
    },
    {
     "name": "stdout",
     "output_type": "stream",
     "text": [
      "222/222 [==============================] - 1s 3ms/step - loss: 25.3452 - mse: 1008.2087 - val_loss: 24.8404 - val_mse: 955.4808\n",
      "Epoch 17/30\n",
      "215/222 [============================>.] - ETA: 0s - loss: 25.3896 - mse: 1007.9157"
     ]
    },
    {
     "name": "stderr",
     "output_type": "stream",
     "text": [
      "2024/11/30 04:47:39 WARNING mlflow.utils.autologging_utils: Encountered unexpected error during autologging: When an mlflow-artifacts URI was supplied, the tracking URI must be a valid http or https URI, but it was currently set to file:///c:/Users/jorru/OneDrive%20-%20Universidad%20de%20los%20andes/Maestria/Anal%C3%ADtica_computacional/Proyecto_3/mlruns. Perhaps you forgot to set the tracking URI to the running MLflow server. To set the tracking URI, use either of the following methods:\n",
      "1. Set the MLFLOW_TRACKING_URI environment variable to the desired tracking URI. `export MLFLOW_TRACKING_URI=http://localhost:5000`\n",
      "2. Set the tracking URI programmatically by calling `mlflow.set_tracking_uri`. `mlflow.set_tracking_uri('http://localhost:5000')`\n"
     ]
    },
    {
     "name": "stdout",
     "output_type": "stream",
     "text": [
      "222/222 [==============================] - 1s 3ms/step - loss: 25.3839 - mse: 1007.6395 - val_loss: 24.8396 - val_mse: 955.1321\n",
      "Epoch 18/30\n",
      "207/222 [==========================>...] - ETA: 0s - loss: 25.2695 - mse: 1001.8813"
     ]
    },
    {
     "name": "stderr",
     "output_type": "stream",
     "text": [
      "2024/11/30 04:47:40 WARNING mlflow.utils.autologging_utils: Encountered unexpected error during autologging: When an mlflow-artifacts URI was supplied, the tracking URI must be a valid http or https URI, but it was currently set to file:///c:/Users/jorru/OneDrive%20-%20Universidad%20de%20los%20andes/Maestria/Anal%C3%ADtica_computacional/Proyecto_3/mlruns. Perhaps you forgot to set the tracking URI to the running MLflow server. To set the tracking URI, use either of the following methods:\n",
      "1. Set the MLFLOW_TRACKING_URI environment variable to the desired tracking URI. `export MLFLOW_TRACKING_URI=http://localhost:5000`\n",
      "2. Set the tracking URI programmatically by calling `mlflow.set_tracking_uri`. `mlflow.set_tracking_uri('http://localhost:5000')`\n"
     ]
    },
    {
     "name": "stdout",
     "output_type": "stream",
     "text": [
      "222/222 [==============================] - 1s 3ms/step - loss: 25.2602 - mse: 1001.8959 - val_loss: 24.8039 - val_mse: 953.5638\n",
      "Epoch 19/30\n",
      "222/222 [==============================] - 1s 3ms/step - loss: 25.2057 - mse: 999.5214 - val_loss: 24.8102 - val_mse: 952.0298\n",
      "Epoch 20/30\n",
      "213/222 [===========================>..] - ETA: 0s - loss: 25.2310 - mse: 1000.1235"
     ]
    },
    {
     "name": "stderr",
     "output_type": "stream",
     "text": [
      "2024/11/30 04:47:41 WARNING mlflow.utils.autologging_utils: Encountered unexpected error during autologging: When an mlflow-artifacts URI was supplied, the tracking URI must be a valid http or https URI, but it was currently set to file:///c:/Users/jorru/OneDrive%20-%20Universidad%20de%20los%20andes/Maestria/Anal%C3%ADtica_computacional/Proyecto_3/mlruns. Perhaps you forgot to set the tracking URI to the running MLflow server. To set the tracking URI, use either of the following methods:\n",
      "1. Set the MLFLOW_TRACKING_URI environment variable to the desired tracking URI. `export MLFLOW_TRACKING_URI=http://localhost:5000`\n",
      "2. Set the tracking URI programmatically by calling `mlflow.set_tracking_uri`. `mlflow.set_tracking_uri('http://localhost:5000')`\n"
     ]
    },
    {
     "name": "stdout",
     "output_type": "stream",
     "text": [
      "222/222 [==============================] - 1s 3ms/step - loss: 25.2121 - mse: 998.9330 - val_loss: 24.7810 - val_mse: 950.5750\n",
      "Epoch 21/30\n",
      "222/222 [==============================] - 1s 3ms/step - loss: 25.2513 - mse: 1001.1712 - val_loss: 24.7990 - val_mse: 952.4615\n",
      "Epoch 22/30\n",
      "216/222 [============================>.] - ETA: 0s - loss: 25.1718 - mse: 996.7796"
     ]
    },
    {
     "name": "stderr",
     "output_type": "stream",
     "text": [
      "2024/11/30 04:47:43 WARNING mlflow.utils.autologging_utils: Encountered unexpected error during autologging: When an mlflow-artifacts URI was supplied, the tracking URI must be a valid http or https URI, but it was currently set to file:///c:/Users/jorru/OneDrive%20-%20Universidad%20de%20los%20andes/Maestria/Anal%C3%ADtica_computacional/Proyecto_3/mlruns. Perhaps you forgot to set the tracking URI to the running MLflow server. To set the tracking URI, use either of the following methods:\n",
      "1. Set the MLFLOW_TRACKING_URI environment variable to the desired tracking URI. `export MLFLOW_TRACKING_URI=http://localhost:5000`\n",
      "2. Set the tracking URI programmatically by calling `mlflow.set_tracking_uri`. `mlflow.set_tracking_uri('http://localhost:5000')`\n"
     ]
    },
    {
     "name": "stdout",
     "output_type": "stream",
     "text": [
      "222/222 [==============================] - 1s 3ms/step - loss: 25.1689 - mse: 996.7689 - val_loss: 24.7617 - val_mse: 950.6005\n",
      "Epoch 23/30\n",
      "222/222 [==============================] - 1s 3ms/step - loss: 25.1853 - mse: 997.5806 - val_loss: 24.7823 - val_mse: 950.8243\n",
      "Epoch 24/30\n",
      "210/222 [===========================>..] - ETA: 0s - loss: 25.1136 - mse: 993.8781"
     ]
    },
    {
     "name": "stderr",
     "output_type": "stream",
     "text": [
      "2024/11/30 04:47:44 WARNING mlflow.utils.autologging_utils: Encountered unexpected error during autologging: When an mlflow-artifacts URI was supplied, the tracking URI must be a valid http or https URI, but it was currently set to file:///c:/Users/jorru/OneDrive%20-%20Universidad%20de%20los%20andes/Maestria/Anal%C3%ADtica_computacional/Proyecto_3/mlruns. Perhaps you forgot to set the tracking URI to the running MLflow server. To set the tracking URI, use either of the following methods:\n",
      "1. Set the MLFLOW_TRACKING_URI environment variable to the desired tracking URI. `export MLFLOW_TRACKING_URI=http://localhost:5000`\n",
      "2. Set the tracking URI programmatically by calling `mlflow.set_tracking_uri`. `mlflow.set_tracking_uri('http://localhost:5000')`\n"
     ]
    },
    {
     "name": "stdout",
     "output_type": "stream",
     "text": [
      "222/222 [==============================] - 1s 3ms/step - loss: 25.1514 - mse: 996.5959 - val_loss: 24.7409 - val_mse: 948.1716\n",
      "Epoch 25/30\n",
      "222/222 [==============================] - 1s 3ms/step - loss: 25.0950 - mse: 991.4219 - val_loss: 24.7545 - val_mse: 949.2863\n",
      "Epoch 26/30\n",
      "218/222 [============================>.] - ETA: 0s - loss: 25.1063 - mse: 992.7939"
     ]
    },
    {
     "name": "stderr",
     "output_type": "stream",
     "text": [
      "2024/11/30 04:47:46 WARNING mlflow.utils.autologging_utils: Encountered unexpected error during autologging: When an mlflow-artifacts URI was supplied, the tracking URI must be a valid http or https URI, but it was currently set to file:///c:/Users/jorru/OneDrive%20-%20Universidad%20de%20los%20andes/Maestria/Anal%C3%ADtica_computacional/Proyecto_3/mlruns. Perhaps you forgot to set the tracking URI to the running MLflow server. To set the tracking URI, use either of the following methods:\n",
      "1. Set the MLFLOW_TRACKING_URI environment variable to the desired tracking URI. `export MLFLOW_TRACKING_URI=http://localhost:5000`\n",
      "2. Set the tracking URI programmatically by calling `mlflow.set_tracking_uri`. `mlflow.set_tracking_uri('http://localhost:5000')`\n"
     ]
    },
    {
     "name": "stdout",
     "output_type": "stream",
     "text": [
      "222/222 [==============================] - 1s 3ms/step - loss: 25.1074 - mse: 992.9183 - val_loss: 24.7304 - val_mse: 947.2381\n",
      "Epoch 27/30\n",
      "222/222 [==============================] - 1s 3ms/step - loss: 25.0658 - mse: 989.8163 - val_loss: 24.7615 - val_mse: 949.2187\n",
      "Epoch 28/30\n",
      "222/222 [==============================] - 1s 3ms/step - loss: 25.0269 - mse: 986.0824 - val_loss: 24.7305 - val_mse: 947.8599\n",
      "Epoch 29/30\n",
      "222/222 [==============================] - 1s 3ms/step - loss: 25.0288 - mse: 987.6697 - val_loss: 24.7670 - val_mse: 949.7557\n",
      "Epoch 30/30\n",
      "222/222 [==============================] - 1s 3ms/step - loss: 25.0043 - mse: 986.9449 - val_loss: 24.7343 - val_mse: 947.4244\n"
     ]
    },
    {
     "name": "stderr",
     "output_type": "stream",
     "text": [
      "2024/11/30 04:47:49 WARNING mlflow.tensorflow: Failed to infer model signature: could not sample data to infer model signature: Cannot log input example or model signature for input with type <class 'pandas.core.frame.DataFrame'>. TensorFlow Keras autologging can only log input examples and model signatures for the following input types: numpy.ndarray, dict[string -> numpy.ndarray], tensorflow.keras.utils.Sequence, and tensorflow.data.Dataset (TensorFlow >= 2.1.0 required)\n",
      "2024/11/30 04:47:49 WARNING mlflow.tensorflow: You are saving a TensorFlow Core model or Keras model without a signature. Inference with mlflow.pyfunc.spark_udf() will not work unless the model's pyfunc representation accepts pandas DataFrames as inference inputs.\n"
     ]
    },
    {
     "name": "stdout",
     "output_type": "stream",
     "text": [
      "INFO:tensorflow:Assets written to: C:\\Users\\jorru\\AppData\\Local\\Temp\\tmp67tu89gu\\model\\data\\model\\assets\n"
     ]
    },
    {
     "name": "stderr",
     "output_type": "stream",
     "text": [
      "INFO:tensorflow:Assets written to: C:\\Users\\jorru\\AppData\\Local\\Temp\\tmp67tu89gu\\model\\data\\model\\assets\n",
      "2024/11/30 04:47:53 WARNING mlflow.models.model: Model logged without a signature and input example. Please set `input_example` parameter when logging the model to auto infer the model signature.\n",
      "2024/11/30 04:47:53 WARNING mlflow.utils.autologging_utils: Encountered unexpected error during tensorflow autologging: When an mlflow-artifacts URI was supplied, the tracking URI must be a valid http or https URI, but it was currently set to file:///c:/Users/jorru/OneDrive%20-%20Universidad%20de%20los%20andes/Maestria/Anal%C3%ADtica_computacional/Proyecto_3/mlruns. Perhaps you forgot to set the tracking URI to the running MLflow server. To set the tracking URI, use either of the following methods:\n",
      "1. Set the MLFLOW_TRACKING_URI environment variable to the desired tracking URI. `export MLFLOW_TRACKING_URI=http://localhost:5000`\n",
      "2. Set the tracking URI programmatically by calling `mlflow.set_tracking_uri`. `mlflow.set_tracking_uri('http://localhost:5000')`\n"
     ]
    },
    {
     "name": "stdout",
     "output_type": "stream",
     "text": [
      "554/554 - 0s - loss: 24.7832 - mse: 961.9980 - 390ms/epoch - 703us/step\n",
      "MLflow Run completed with run_id 21a77e6641b4422c901e9f502052e480 and experiment_id 0\n",
      "2.15.0\n"
     ]
    }
   ],
   "source": [
    "args = parser.parse_args([\"--batch_size\", '256', \"--epochs\", '30',\"--num_hidden_units\", '256', \"--num_hidden_layers\", '1', \"--activation\",'tanh'])\n",
    "# Iniciamos una corrida de MLflow\n",
    "mlflow.start_run(run_name=\"corrida_final\")\n",
    "run = mlflow.active_run()\n",
    "# MLflow asigna un ID al experimento y a la corrida\n",
    "experimentID = run.info.experiment_id\n",
    "runID = run.info.run_uuid\n",
    "# reistro automáticos de las métricas de keras\n",
    "mlflow.keras.autolog()\n",
    "\n",
    "if args.activation == 'relu':\n",
    "    act_func = tf.nn.relu\n",
    "elif args.activation == 'tanh':\n",
    "    act_func = tf.nn.tanh\n",
    "elif args.activation == 'prelu':\n",
    "    act_func = layers.PReLU()\n",
    "\n",
    "# definimos la capa de entrada\n",
    "input_layer = layers.Input(shape=(149,))  # 149 variables de entrada\n",
    "x = input_layer\n",
    "\n",
    "# Agregamos capas ocultas a la red\n",
    "for n in range(0, args.num_hidden_layers):\n",
    "    div = 2 ** (n - 1)\n",
    "    # agregamos una capa densa (completamente conectada)\n",
    "    x = layers.Dense(args.num_hidden_units/div, activation=act_func)(x)\n",
    "    # agregamos dropout o normalizacion como método de regularización para aleatoriamente descartar una capa si los gradientes son muy pequeños\n",
    "    x = layers.Dropout(args.dropout)(x)\n",
    "    # x = layers.BatchNormalization()(x)\n",
    "\n",
    "# capa final con 1 nodo de salida y sin activacion por lo que es de regresion\n",
    "output_layer = layers.Dense(1)(x)\n",
    "\n",
    "# Se arma el modelo:\n",
    "model = keras.Model(input_layer, output_layer)\n",
    "# https://keras.io/optimizers/\n",
    "optimizer = get_optimizer()\n",
    "\n",
    "# compilamos el modelo y definimos la función de pérdida  \n",
    "# otras funciones de pérdida comunes para problemas de clasificación\n",
    "# 1. sparse_categorical_crossentropy\n",
    "# 2. binary_crossentropy\n",
    "model.compile(optimizer=optimizer,\n",
    "                loss='mean_absolute_error',\n",
    "                metrics=['mse'])\n",
    "\n",
    "# entrenamos el modelo\n",
    "print(\"-\" * 100)\n",
    "model.fit(x_train, y_train, epochs=args.epochs, batch_size=args.batch_size, validation_data=(x_valid, y_valid))\n",
    "\n",
    "# evaluamos el modelo\n",
    "test_loss, test_mse = model.evaluate(x_test, y_test, verbose=2)\n",
    "# Metemos las metricas de test en Mlflow\n",
    "mlflow.log_metric('test_loss', test_loss)\n",
    "mlflow.log_metric('test_mse', test_mse)\n",
    "\n",
    "mlflow.end_run(status='FINISHED')\n",
    "print(\"MLflow Run completed with run_id {} and experiment_id {}\".format(runID, experimentID))\n",
    "print(tf.__version__)"
   ]
  },
  {
   "cell_type": "code",
   "execution_count": 14,
   "metadata": {},
   "outputs": [],
   "source": [
    "model.save('modelo_proyecto3.keras')"
   ]
  }
 ],
 "metadata": {
  "kernelspec": {
   "display_name": ".venv",
   "language": "python",
   "name": "python3"
  },
  "language_info": {
   "codemirror_mode": {
    "name": "ipython",
    "version": 3
   },
   "file_extension": ".py",
   "mimetype": "text/x-python",
   "name": "python",
   "nbconvert_exporter": "python",
   "pygments_lexer": "ipython3",
   "version": "3.11.9"
  }
 },
 "nbformat": 4,
 "nbformat_minor": 2
}
